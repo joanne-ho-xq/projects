{
 "cells": [
  {
   "cell_type": "markdown",
   "id": "74decfd5-faf8-4c52-af8a-1c62b71d0461",
   "metadata": {},
   "source": [
    "<img src=\"http://imgur.com/1ZcRyrc.png\" style=\"float: left; margin: 20px; height: 55px\">\n",
    "\n",
    "# Project 2: Singapore Housing Data and Kaggle Challenge"
   ]
  },
  {
   "cell_type": "markdown",
   "id": "1c2a5e68-f231-46fa-abf7-4c86dddf4fca",
   "metadata": {},
   "source": [
    "### Contents:\n",
    "- [Background](#Background)\n",
    "- [Data Dictionary](#Data-Dictionary)\n",
    "- [Loading of Libraries](#Loading-of-Libraries) \n",
    "- [Baseline Model](#Baseline-Model)\n",
    "  - [Data Import and Cleaning](#Data-Import-and-Cleaning)\n",
    "  - [Data Preprocessing](#Data-Preprocessing)\n",
    "  - [Modelling](#Modelling)\n",
    "- [Making Predictions](#Making-Predictions)\n",
    "- [Kaggle Data Preparation](#Kaggle-Data-Preparation)"
   ]
  },
  {
   "cell_type": "markdown",
   "id": "71d9339c-147d-4b23-a0a7-a4f29357992c",
   "metadata": {},
   "source": [
    "## Background"
   ]
  },
  {
   "cell_type": "markdown",
   "id": "dfd1f4bd-5642-4847-87eb-b850665f00ce",
   "metadata": {},
   "source": [
    "The [Housing & Development Board (HDB)](https://www.hdb.gov.sg/about-us) is Singapore's public housing authority. It plans and develops Singapore's housing estates; building homes and transforming towns to create a quality living environment for all. It provides various commercial, recreational, and social amenities in the towns for the residents’ convenience.\n",
    "\n",
    "Today, more than 1 million flats have been completed in 23 towns and 3 estates across the island. HDB flats spell home for 80% of Singapore's resident population, of which about 90% own their home.\n",
    "\n",
    "According to the [Singapore Government Agency Website](https://www.gov.sg/article/evolution-of-public-housing-in-singapore), to meet the population's needs, Singapore's public housing plans have evolved over the years, with various sales modes, grants and priority schemes introduced.\n",
    "\n",
    "To ensure affordable public housing for Singaporeans as well as a stable property market, September 2022 saw the latest set of [cooling measures](https://www.straitstimes.com/business/property/stricter-borrowing-criteria-for-property-buyers-15-month-wait-for-private-property-owners-moving-to-hdb-flats) introduced."
   ]
  },
  {
   "cell_type": "markdown",
   "id": "c8d61443-258e-4eab-b63d-4cb02d4f9b71",
   "metadata": {},
   "source": [
    "### Datasets\n",
    "\n",
    "There are 3 datasets included in the [`datasets`](../datasets/) folder for this Kaggle challenge project. These correponds to the Kaggle train dataset, test dataset and submission format.\n",
    "\n",
    "* [`train.csv`](../datasets/train.csv): this data contains all of the training data for the model\n",
    "* [`test.csv`](../datasets/test.csv): this data contains the test data for the model\n",
    "* [`sample_sub_reg.csv`](../datasets/sample_sub_reg.csv): an example of a correctly formatted submission for the Kaggle challenge"
   ]
  },
  {
   "cell_type": "markdown",
   "id": "24b3acfd-74da-4db9-802f-5b93144146a0",
   "metadata": {},
   "source": [
    "### Data Dictionary\n",
    "\n",
    "|Feature|Type|Description|\n",
    "|:---|:---|:---| \n",
    "|resale_price|float|the property's sale price in Singapore dollars. This is the target variable that you're trying to predict for this challenge.|\n",
    "|Tranc_YearMonth|string|year and month of the resale transaction, e.g. 2015-02|\n",
    "|town|string|HDB township where the flat is located, e.g. BUKIT MERAH|\n",
    "|flat_type|string|type of the resale flat unit, e.g. 3 ROOM|\n",
    "|block|string|block number of the resale flat, e.g. 454|\n",
    "|street_name|string|street name where the resale flat resides, e.g. TAMPINES ST 42|\n",
    "|storey_range|string|floor level (range) of the resale flat unit, e.g. 07 TO 09|\n",
    "|floor_area_sqm|float|floor area of the resale flat unit in square metres|\n",
    "|flat_model|string|HDB model of the resale flat, e.g. Multi Generation|\n",
    "|lease_commence_date|integer|commencement year of the flat unit's 99-year lease|\n",
    "|Tranc_Year|integer|year of resale transaction|\n",
    "|Tranc_Month|integer|month of resale transaction|\n",
    "|mid_storey|integer|median value of storey_range|\n",
    "|lower|integer|lower value of storey_range|\n",
    "|upper|integer|upper value of storey_range|\n",
    "|mid|integer|middle value of storey_range|\n",
    "|full_flat_type|string|combination of flat_type and flat_model|\n",
    "|address|string|combination of block and street_name|\n",
    "|floor_area_sqft|float|floor area of the resale flat unit in square feet|\n",
    "|hdb_age|integer|number of years from lease_commence_date to present year|\n",
    "|max_floor_lvl|integer|highest floor of the resale flat|\n",
    "|year_completed|integer|year which construction was completed for resale flat|\n",
    "|residential|boolean|boolean value if resale flat has residential units in the same block|\n",
    "|commercial|boolean|boolean value if resale flat has commercial units in the same block|\n",
    "|market_hawker|boolean|boolean value if resale flat has a market or hawker centre in the same block|\n",
    "|multistorey_carpark|boolean|boolean value if resale flat has a multistorey carpark in the same block|\n",
    "|precinct_pavilion|boolean|boolean value if resale flat has a pavilion in the same block|\n",
    "|total_dwelling_units|integer|total number of residential dwelling units in the resale flat|\n",
    "|1room_sold|integer|number of 1-room residential units in the resale flat|\n",
    "|2room_sold|integer|number of 2-room residential units in the resale flat|\n",
    "|3room_sold|integer|number of 3-room residential units in the resale flat|\n",
    "|4room_sold|integer|number of 4-room residential units in the resale flat|\n",
    "|5room_sold|integer|number of 5-room residential units in the resale flat|\n",
    "|exec_sold|integer|number of executive type residential units in the resale flat block|\n",
    "|multigen_sold|integer|number of multi-generational type residential units in the resale flat block|\n",
    "|studio_apartment_sold|integer|number of studio apartment type residential units in the resale flat block|\n",
    "|1room_rental|integer|number of 1-room rental residential units in the resale flat block|\n",
    "|2room_rental|integer|number of 2-room rental residential units in the resale flat block|\n",
    "|3room_rental|integer|number of 3-room rental residential units in the resale flat block|\n",
    "|other_room_rental|integer|number of \"other\" type rental residential units in the resale flat block|\n",
    "|postal|integer|postal code of the resale flat block|\n",
    "|Latitude|float|Latitude based on postal code|\n",
    "|Longitude|float|Longitude based on postal code|\n",
    "|planning_area|string|Government planning area that the flat is located|\n",
    "|Mall_Nearest_Distance|float|distance (in metres) to the nearest mall|\n",
    "|Mall_Within_500m|float|number of malls within 500 metres|\n",
    "|Mall_Within_1km|float|number of malls within 1 kilometre|\n",
    "|Mall_Within_2km|float|number of malls within 2 kilometres|\n",
    "|Hawker_Nearest_Distance|float|distance (in metres) to the nearest hawker centre|\n",
    "|Hawker_Within_500m|float|number of hawker centres within 500 metres|\n",
    "|Hawker_Within_1km|float|number of hawker centres within 1 kilometre|\n",
    "|Hawker_Within_2km|float|number of hawker centres within 2 kilometres|\n",
    "|hawker_food_stalls|integer|number of hawker food stalls in the nearest hawker centre|\n",
    "|hawker_market_stalls|integer|number of hawker and market stalls in the nearest hawker centre|\n",
    "|mrt_nearest_distance|float|distance (in metres) to the nearest MRT station|\n",
    "|mrt_name|string|name of the nearest MRT station|\n",
    "|bus_interchange|boolean|boolean value if the nearest MRT station is also a bus interchange|\n",
    "|mrt_interchange|boolean|boolean value if the nearest MRT station is a train interchange station|\n",
    "|mrt_latitude|float|latitude (in decimal degrees) of the the nearest MRT station|\n",
    "|mrt_longitude|float|longitude (in decimal degrees) of the nearest MRT station|\n",
    "|bus_stop_nearest_distance|float|distance (in metres) to the nearest bus stop|\n",
    "|bus_stop_name|string|name of the nearest bus stop|\n",
    "|bus_stop_latitude|float|latitude (in decimal degrees) of the the nearest bus stop|\n",
    "|bus_stop_longitude|float|longitude (in decimal degrees) of the nearest bus stop|\n",
    "|pri_sch_nearest_distance|float|distance (in metres) to the nearest primary school|\n",
    "|pri_sch_name|string|name of the nearest primary school|\n",
    "|vacancy|integer|number of vacancies in the nearest primary school|\n",
    "|pri_sch_affiliation|boolean|boolean value if the nearest primary school has a secondary - school affiliation|\n",
    "|pri_sch_latitude|float|latitude (in decimal degrees) of the the nearest primary school|\n",
    "|pri_sch_longitude|float|longitude (in decimal degrees) of the nearest primary school|\n",
    "|sec_sch_nearest_dist|float|distance (in metres) to the nearest secondary school|\n",
    "|sec_sch_name|string|name of the nearest secondary school|\n",
    "|cutoff_point|integer|PSLE cutoff point of the nearest secondary school|\n",
    "|affiliation|boolean|boolean value if the nearest secondary school has an primary school affiliation|\n",
    "|sec_sch_latitude|float|latitude (in decimal degrees) of the the nearest secondary school|\n",
    "|sec_sch_longitude|float|longitude (in decimal degrees) of the nearest secondary school|"
   ]
  },
  {
   "cell_type": "markdown",
   "id": "612b6170-cf8f-4b4b-835a-2844fe190972",
   "metadata": {},
   "source": [
    "## Problem Statement"
   ]
  },
  {
   "cell_type": "markdown",
   "id": "a42f1823-cf5d-422d-b52c-a7c94e99c11a",
   "metadata": {},
   "source": [
    "In land-scarce Singapore, housing not only provides a roof over people’s heads but also works out to be one of the largest assets families hold over their lifetimes. However, choosing a property which has a high-yield potential is no easy feat.\n",
    "\n",
    "We are a team of data scientists working for a property investment company seeking to help meet the higher aspirations of rising middle to upper-middle class Singaporeans who might otherwise be outpriced in the private property market. We are tasked to build a housing price prediction model to help prospective homeowners find a home which aim to flip public housing for monetary gain."
   ]
  },
  {
   "cell_type": "markdown",
   "id": "a1bd0406-4100-4779-ac7d-4f89c307511c",
   "metadata": {},
   "source": [
    "## Loading of Libraries"
   ]
  },
  {
   "cell_type": "code",
   "execution_count": 1,
   "id": "b3a4b65b-6d29-432e-9047-f523469aac91",
   "metadata": {},
   "outputs": [],
   "source": [
    "# Load libraries\n",
    "import pandas as pd\n",
    "import numpy as np\n",
    "import matplotlib.pyplot as plt\n",
    "import seaborn as sns\n",
    "from scipy import stats\n",
    "from sklearn.linear_model import LinearRegression, RidgeCV, LassoCV, ElasticNetCV\n",
    "from sklearn import metrics\n",
    "from sklearn.model_selection import train_test_split, cross_val_score\n",
    "import statsmodels.api as sm\n",
    "from sklearn.preprocessing import StandardScaler, OneHotEncoder"
   ]
  },
  {
   "cell_type": "markdown",
   "id": "5f789b61-0ba7-4e52-9a79-98d9ec8af2f0",
   "metadata": {},
   "source": [
    "# Baseline Model\n",
    "## Data Import and Cleaning\n",
    "- Load dataset\n",
    "- Check for missing values and datatype\n",
    "- Rename columns when necessary\n",
    "- Drop unnecessary columns"
   ]
  },
  {
   "cell_type": "markdown",
   "id": "1f0b4fd5-e2f4-4588-8b3f-47bb3388e654",
   "metadata": {},
   "source": [
    "#### Load Data"
   ]
  },
  {
   "cell_type": "code",
   "execution_count": 2,
   "id": "25b22218-6fc4-4459-910b-aff9985fbd7b",
   "metadata": {},
   "outputs": [
    {
     "name": "stderr",
     "output_type": "stream",
     "text": [
      "/var/folders/w4/cdf3yttj10d7ynthq7lkp5fh0000gn/T/ipykernel_52332/2126435666.py:2: DtypeWarning: Columns (41) have mixed types. Specify dtype option on import or set low_memory=False.\n",
      "  housing = pd.read_csv('../datasets/train.csv')\n"
     ]
    },
    {
     "name": "stdout",
     "output_type": "stream",
     "text": [
      "(150634, 77)\n"
     ]
    },
    {
     "data": {
      "text/html": [
       "<div>\n",
       "<style scoped>\n",
       "    .dataframe tbody tr th:only-of-type {\n",
       "        vertical-align: middle;\n",
       "    }\n",
       "\n",
       "    .dataframe tbody tr th {\n",
       "        vertical-align: top;\n",
       "    }\n",
       "\n",
       "    .dataframe thead th {\n",
       "        text-align: right;\n",
       "    }\n",
       "</style>\n",
       "<table border=\"1\" class=\"dataframe\">\n",
       "  <thead>\n",
       "    <tr style=\"text-align: right;\">\n",
       "      <th></th>\n",
       "      <th>id</th>\n",
       "      <th>Tranc_YearMonth</th>\n",
       "      <th>town</th>\n",
       "      <th>flat_type</th>\n",
       "      <th>block</th>\n",
       "      <th>street_name</th>\n",
       "      <th>storey_range</th>\n",
       "      <th>floor_area_sqm</th>\n",
       "      <th>flat_model</th>\n",
       "      <th>lease_commence_date</th>\n",
       "      <th>...</th>\n",
       "      <th>vacancy</th>\n",
       "      <th>pri_sch_affiliation</th>\n",
       "      <th>pri_sch_latitude</th>\n",
       "      <th>pri_sch_longitude</th>\n",
       "      <th>sec_sch_nearest_dist</th>\n",
       "      <th>sec_sch_name</th>\n",
       "      <th>cutoff_point</th>\n",
       "      <th>affiliation</th>\n",
       "      <th>sec_sch_latitude</th>\n",
       "      <th>sec_sch_longitude</th>\n",
       "    </tr>\n",
       "  </thead>\n",
       "  <tbody>\n",
       "    <tr>\n",
       "      <th>0</th>\n",
       "      <td>88471</td>\n",
       "      <td>2016-05</td>\n",
       "      <td>KALLANG/WHAMPOA</td>\n",
       "      <td>4 ROOM</td>\n",
       "      <td>3B</td>\n",
       "      <td>UPP BOON KENG RD</td>\n",
       "      <td>10 TO 12</td>\n",
       "      <td>90.0</td>\n",
       "      <td>Model A</td>\n",
       "      <td>2006</td>\n",
       "      <td>...</td>\n",
       "      <td>78</td>\n",
       "      <td>1</td>\n",
       "      <td>1.317659</td>\n",
       "      <td>103.882504</td>\n",
       "      <td>1138.633422</td>\n",
       "      <td>Geylang Methodist School</td>\n",
       "      <td>224</td>\n",
       "      <td>0</td>\n",
       "      <td>1.317659</td>\n",
       "      <td>103.882504</td>\n",
       "    </tr>\n",
       "    <tr>\n",
       "      <th>1</th>\n",
       "      <td>122598</td>\n",
       "      <td>2012-07</td>\n",
       "      <td>BISHAN</td>\n",
       "      <td>5 ROOM</td>\n",
       "      <td>153</td>\n",
       "      <td>BISHAN ST 13</td>\n",
       "      <td>07 TO 09</td>\n",
       "      <td>130.0</td>\n",
       "      <td>Improved</td>\n",
       "      <td>1987</td>\n",
       "      <td>...</td>\n",
       "      <td>45</td>\n",
       "      <td>1</td>\n",
       "      <td>1.349783</td>\n",
       "      <td>103.854529</td>\n",
       "      <td>447.894399</td>\n",
       "      <td>Kuo Chuan Presbyterian Secondary School</td>\n",
       "      <td>232</td>\n",
       "      <td>0</td>\n",
       "      <td>1.350110</td>\n",
       "      <td>103.854892</td>\n",
       "    </tr>\n",
       "    <tr>\n",
       "      <th>2</th>\n",
       "      <td>170897</td>\n",
       "      <td>2013-07</td>\n",
       "      <td>BUKIT BATOK</td>\n",
       "      <td>EXECUTIVE</td>\n",
       "      <td>289B</td>\n",
       "      <td>BT BATOK ST 25</td>\n",
       "      <td>13 TO 15</td>\n",
       "      <td>144.0</td>\n",
       "      <td>Apartment</td>\n",
       "      <td>1997</td>\n",
       "      <td>...</td>\n",
       "      <td>39</td>\n",
       "      <td>0</td>\n",
       "      <td>1.345245</td>\n",
       "      <td>103.756265</td>\n",
       "      <td>180.074558</td>\n",
       "      <td>Yusof Ishak Secondary School</td>\n",
       "      <td>188</td>\n",
       "      <td>0</td>\n",
       "      <td>1.342334</td>\n",
       "      <td>103.760013</td>\n",
       "    </tr>\n",
       "    <tr>\n",
       "      <th>3</th>\n",
       "      <td>86070</td>\n",
       "      <td>2012-04</td>\n",
       "      <td>BISHAN</td>\n",
       "      <td>4 ROOM</td>\n",
       "      <td>232</td>\n",
       "      <td>BISHAN ST 22</td>\n",
       "      <td>01 TO 05</td>\n",
       "      <td>103.0</td>\n",
       "      <td>Model A</td>\n",
       "      <td>1992</td>\n",
       "      <td>...</td>\n",
       "      <td>20</td>\n",
       "      <td>1</td>\n",
       "      <td>1.354789</td>\n",
       "      <td>103.844934</td>\n",
       "      <td>389.515528</td>\n",
       "      <td>Catholic High School</td>\n",
       "      <td>253</td>\n",
       "      <td>1</td>\n",
       "      <td>1.354789</td>\n",
       "      <td>103.844934</td>\n",
       "    </tr>\n",
       "    <tr>\n",
       "      <th>4</th>\n",
       "      <td>153632</td>\n",
       "      <td>2017-12</td>\n",
       "      <td>YISHUN</td>\n",
       "      <td>4 ROOM</td>\n",
       "      <td>876</td>\n",
       "      <td>YISHUN ST 81</td>\n",
       "      <td>01 TO 03</td>\n",
       "      <td>83.0</td>\n",
       "      <td>Simplified</td>\n",
       "      <td>1987</td>\n",
       "      <td>...</td>\n",
       "      <td>74</td>\n",
       "      <td>0</td>\n",
       "      <td>1.416280</td>\n",
       "      <td>103.838798</td>\n",
       "      <td>312.025435</td>\n",
       "      <td>Orchid Park Secondary School</td>\n",
       "      <td>208</td>\n",
       "      <td>0</td>\n",
       "      <td>1.414888</td>\n",
       "      <td>103.838335</td>\n",
       "    </tr>\n",
       "  </tbody>\n",
       "</table>\n",
       "<p>5 rows × 77 columns</p>\n",
       "</div>"
      ],
      "text/plain": [
       "       id Tranc_YearMonth             town  flat_type block       street_name  \\\n",
       "0   88471         2016-05  KALLANG/WHAMPOA     4 ROOM    3B  UPP BOON KENG RD   \n",
       "1  122598         2012-07           BISHAN     5 ROOM   153      BISHAN ST 13   \n",
       "2  170897         2013-07      BUKIT BATOK  EXECUTIVE  289B    BT BATOK ST 25   \n",
       "3   86070         2012-04           BISHAN     4 ROOM   232      BISHAN ST 22   \n",
       "4  153632         2017-12           YISHUN     4 ROOM   876      YISHUN ST 81   \n",
       "\n",
       "  storey_range  floor_area_sqm  flat_model  lease_commence_date  ...  vacancy  \\\n",
       "0     10 TO 12            90.0     Model A                 2006  ...       78   \n",
       "1     07 TO 09           130.0    Improved                 1987  ...       45   \n",
       "2     13 TO 15           144.0   Apartment                 1997  ...       39   \n",
       "3     01 TO 05           103.0     Model A                 1992  ...       20   \n",
       "4     01 TO 03            83.0  Simplified                 1987  ...       74   \n",
       "\n",
       "   pri_sch_affiliation  pri_sch_latitude  pri_sch_longitude  \\\n",
       "0                    1          1.317659         103.882504   \n",
       "1                    1          1.349783         103.854529   \n",
       "2                    0          1.345245         103.756265   \n",
       "3                    1          1.354789         103.844934   \n",
       "4                    0          1.416280         103.838798   \n",
       "\n",
       "   sec_sch_nearest_dist                             sec_sch_name  \\\n",
       "0           1138.633422                 Geylang Methodist School   \n",
       "1            447.894399  Kuo Chuan Presbyterian Secondary School   \n",
       "2            180.074558             Yusof Ishak Secondary School   \n",
       "3            389.515528                     Catholic High School   \n",
       "4            312.025435             Orchid Park Secondary School   \n",
       "\n",
       "   cutoff_point affiliation sec_sch_latitude  sec_sch_longitude  \n",
       "0           224           0         1.317659         103.882504  \n",
       "1           232           0         1.350110         103.854892  \n",
       "2           188           0         1.342334         103.760013  \n",
       "3           253           1         1.354789         103.844934  \n",
       "4           208           0         1.414888         103.838335  \n",
       "\n",
       "[5 rows x 77 columns]"
      ]
     },
     "execution_count": 2,
     "metadata": {},
     "output_type": "execute_result"
    }
   ],
   "source": [
    "# Load data\n",
    "housing = pd.read_csv('../datasets/train.csv')\n",
    "print(housing.shape)\n",
    "housing.head()"
   ]
  },
  {
   "cell_type": "markdown",
   "id": "59cd9482-9ccf-482c-b0e0-72cd4be83820",
   "metadata": {},
   "source": [
    "#### Check for missing values and datatype"
   ]
  },
  {
   "cell_type": "code",
   "execution_count": 3,
   "id": "dda3e26a-16b1-4af6-addd-e493a1b00ce2",
   "metadata": {
    "scrolled": true,
    "tags": []
   },
   "outputs": [
    {
     "name": "stdout",
     "output_type": "stream",
     "text": [
      "<class 'pandas.core.frame.DataFrame'>\n",
      "RangeIndex: 150634 entries, 0 to 150633\n",
      "Data columns (total 77 columns):\n",
      " #   Column                     Non-Null Count   Dtype  \n",
      "---  ------                     --------------   -----  \n",
      " 0   id                         150634 non-null  int64  \n",
      " 1   Tranc_YearMonth            150634 non-null  object \n",
      " 2   town                       150634 non-null  object \n",
      " 3   flat_type                  150634 non-null  object \n",
      " 4   block                      150634 non-null  object \n",
      " 5   street_name                150634 non-null  object \n",
      " 6   storey_range               150634 non-null  object \n",
      " 7   floor_area_sqm             150634 non-null  float64\n",
      " 8   flat_model                 150634 non-null  object \n",
      " 9   lease_commence_date        150634 non-null  int64  \n",
      " 10  resale_price               150634 non-null  float64\n",
      " 11  Tranc_Year                 150634 non-null  int64  \n",
      " 12  Tranc_Month                150634 non-null  int64  \n",
      " 13  mid_storey                 150634 non-null  int64  \n",
      " 14  lower                      150634 non-null  int64  \n",
      " 15  upper                      150634 non-null  int64  \n",
      " 16  mid                        150634 non-null  int64  \n",
      " 17  full_flat_type             150634 non-null  object \n",
      " 18  address                    150634 non-null  object \n",
      " 19  floor_area_sqft            150634 non-null  float64\n",
      " 20  hdb_age                    150634 non-null  int64  \n",
      " 21  max_floor_lvl              150634 non-null  int64  \n",
      " 22  year_completed             150634 non-null  int64  \n",
      " 23  residential                150634 non-null  object \n",
      " 24  commercial                 150634 non-null  object \n",
      " 25  market_hawker              150634 non-null  object \n",
      " 26  multistorey_carpark        150634 non-null  object \n",
      " 27  precinct_pavilion          150634 non-null  object \n",
      " 28  total_dwelling_units       150634 non-null  int64  \n",
      " 29  1room_sold                 150634 non-null  int64  \n",
      " 30  2room_sold                 150634 non-null  int64  \n",
      " 31  3room_sold                 150634 non-null  int64  \n",
      " 32  4room_sold                 150634 non-null  int64  \n",
      " 33  5room_sold                 150634 non-null  int64  \n",
      " 34  exec_sold                  150634 non-null  int64  \n",
      " 35  multigen_sold              150634 non-null  int64  \n",
      " 36  studio_apartment_sold      150634 non-null  int64  \n",
      " 37  1room_rental               150634 non-null  int64  \n",
      " 38  2room_rental               150634 non-null  int64  \n",
      " 39  3room_rental               150634 non-null  int64  \n",
      " 40  other_room_rental          150634 non-null  int64  \n",
      " 41  postal                     150634 non-null  object \n",
      " 42  Latitude                   150634 non-null  float64\n",
      " 43  Longitude                  150634 non-null  float64\n",
      " 44  planning_area              150634 non-null  object \n",
      " 45  Mall_Nearest_Distance      149805 non-null  float64\n",
      " 46  Mall_Within_500m           57845 non-null   float64\n",
      " 47  Mall_Within_1km            125208 non-null  float64\n",
      " 48  Mall_Within_2km            148694 non-null  float64\n",
      " 49  Hawker_Nearest_Distance    150634 non-null  float64\n",
      " 50  Hawker_Within_500m         53244 non-null   float64\n",
      " 51  Hawker_Within_1km          89766 non-null   float64\n",
      " 52  Hawker_Within_2km          121432 non-null  float64\n",
      " 53  hawker_food_stalls         150634 non-null  int64  \n",
      " 54  hawker_market_stalls       150634 non-null  int64  \n",
      " 55  mrt_nearest_distance       150634 non-null  float64\n",
      " 56  mrt_name                   150634 non-null  object \n",
      " 57  bus_interchange            150634 non-null  int64  \n",
      " 58  mrt_interchange            150634 non-null  int64  \n",
      " 59  mrt_latitude               150634 non-null  float64\n",
      " 60  mrt_longitude              150634 non-null  float64\n",
      " 61  bus_stop_nearest_distance  150634 non-null  float64\n",
      " 62  bus_stop_name              150634 non-null  object \n",
      " 63  bus_stop_latitude          150634 non-null  float64\n",
      " 64  bus_stop_longitude         150634 non-null  float64\n",
      " 65  pri_sch_nearest_distance   150634 non-null  float64\n",
      " 66  pri_sch_name               150634 non-null  object \n",
      " 67  vacancy                    150634 non-null  int64  \n",
      " 68  pri_sch_affiliation        150634 non-null  int64  \n",
      " 69  pri_sch_latitude           150634 non-null  float64\n",
      " 70  pri_sch_longitude          150634 non-null  float64\n",
      " 71  sec_sch_nearest_dist       150634 non-null  float64\n",
      " 72  sec_sch_name               150634 non-null  object \n",
      " 73  cutoff_point               150634 non-null  int64  \n",
      " 74  affiliation                150634 non-null  int64  \n",
      " 75  sec_sch_latitude           150634 non-null  float64\n",
      " 76  sec_sch_longitude          150634 non-null  float64\n",
      "dtypes: float64(25), int64(32), object(20)\n",
      "memory usage: 88.5+ MB\n"
     ]
    }
   ],
   "source": [
    "housing.info()"
   ]
  },
  {
   "cell_type": "markdown",
   "id": "3b27a9d8-9e38-43db-8ee2-e7f077dd3138",
   "metadata": {},
   "source": [
    "There are missing values in `Mall_Nearest_Distance`, `Mall_Within_500m`, `Mall_Within_1km`, `Mall_Within_2km`, `Hawker_Within_500m`, `Hawker_Within_1km`, `Hawker_Within_2km` columns"
   ]
  },
  {
   "cell_type": "code",
   "execution_count": 4,
   "id": "ca233583-9770-41ef-8282-293850ed6079",
   "metadata": {},
   "outputs": [
    {
     "data": {
      "text/plain": [
       "array(['Y'], dtype=object)"
      ]
     },
     "execution_count": 4,
     "metadata": {},
     "output_type": "execute_result"
    }
   ],
   "source": [
    "# Columns were checked for unique values before deciding on which datatype to change, which col to rename and drop\n",
    "# for e.g.\n",
    "housing['residential'].unique()"
   ]
  },
  {
   "cell_type": "code",
   "execution_count": 5,
   "id": "289e0096-770f-43c4-9b30-8c2af8ffa726",
   "metadata": {
    "scrolled": true,
    "tags": []
   },
   "outputs": [
    {
     "name": "stdout",
     "output_type": "stream",
     "text": [
      "<class 'pandas.core.frame.DataFrame'>\n",
      "RangeIndex: 150634 entries, 0 to 150633\n",
      "Data columns (total 77 columns):\n",
      " #   Column                     Non-Null Count   Dtype         \n",
      "---  ------                     --------------   -----         \n",
      " 0   id                         150634 non-null  int64         \n",
      " 1   Tranc_YearMonth            150634 non-null  datetime64[ns]\n",
      " 2   town                       150634 non-null  object        \n",
      " 3   flat_type                  150634 non-null  object        \n",
      " 4   block                      150634 non-null  object        \n",
      " 5   street_name                150634 non-null  object        \n",
      " 6   storey_range               150634 non-null  object        \n",
      " 7   floor_area_sqm             150634 non-null  float64       \n",
      " 8   flat_model                 150634 non-null  object        \n",
      " 9   lease_commence_date        150634 non-null  int64         \n",
      " 10  resale_price               150634 non-null  float64       \n",
      " 11  Tranc_Year                 150634 non-null  int64         \n",
      " 12  Tranc_Month                150634 non-null  int64         \n",
      " 13  mid_storey                 150634 non-null  int64         \n",
      " 14  lower                      150634 non-null  int64         \n",
      " 15  upper                      150634 non-null  int64         \n",
      " 16  mid                        150634 non-null  int64         \n",
      " 17  full_flat_type             150634 non-null  object        \n",
      " 18  address                    150634 non-null  object        \n",
      " 19  floor_area_sqft            150634 non-null  float64       \n",
      " 20  hdb_age                    150634 non-null  int64         \n",
      " 21  max_floor_lvl              150634 non-null  int64         \n",
      " 22  year_completed             150634 non-null  int64         \n",
      " 23  residential                150634 non-null  bool          \n",
      " 24  commercial                 150634 non-null  bool          \n",
      " 25  market_hawker              150634 non-null  bool          \n",
      " 26  multistorey_carpark        150634 non-null  bool          \n",
      " 27  precinct_pavilion          150634 non-null  bool          \n",
      " 28  total_dwelling_units       150634 non-null  int64         \n",
      " 29  1room_sold                 150634 non-null  int64         \n",
      " 30  2room_sold                 150634 non-null  int64         \n",
      " 31  3room_sold                 150634 non-null  int64         \n",
      " 32  4room_sold                 150634 non-null  int64         \n",
      " 33  5room_sold                 150634 non-null  int64         \n",
      " 34  exec_sold                  150634 non-null  int64         \n",
      " 35  multigen_sold              150634 non-null  int64         \n",
      " 36  studio_apartment_sold      150634 non-null  int64         \n",
      " 37  1room_rental               150634 non-null  int64         \n",
      " 38  2room_rental               150634 non-null  int64         \n",
      " 39  3room_rental               150634 non-null  int64         \n",
      " 40  other_room_rental          150634 non-null  int64         \n",
      " 41  postal                     150634 non-null  object        \n",
      " 42  Latitude                   150634 non-null  float64       \n",
      " 43  Longitude                  150634 non-null  float64       \n",
      " 44  planning_area              150634 non-null  object        \n",
      " 45  Mall_Nearest_Distance      149805 non-null  float64       \n",
      " 46  Mall_Within_500m           57845 non-null   float64       \n",
      " 47  Mall_Within_1km            125208 non-null  float64       \n",
      " 48  Mall_Within_2km            148694 non-null  float64       \n",
      " 49  Hawker_Nearest_Distance    150634 non-null  float64       \n",
      " 50  Hawker_Within_500m         53244 non-null   float64       \n",
      " 51  Hawker_Within_1km          89766 non-null   float64       \n",
      " 52  Hawker_Within_2km          121432 non-null  float64       \n",
      " 53  hawker_food_stalls         150634 non-null  int64         \n",
      " 54  hawker_market_stalls       150634 non-null  int64         \n",
      " 55  mrt_nearest_distance       150634 non-null  float64       \n",
      " 56  mrt_name                   150634 non-null  object        \n",
      " 57  bus_interchange            150634 non-null  bool          \n",
      " 58  mrt_interchange            150634 non-null  bool          \n",
      " 59  mrt_latitude               150634 non-null  float64       \n",
      " 60  mrt_longitude              150634 non-null  float64       \n",
      " 61  bus_stop_nearest_distance  150634 non-null  float64       \n",
      " 62  bus_stop_name              150634 non-null  object        \n",
      " 63  bus_stop_latitude          150634 non-null  float64       \n",
      " 64  bus_stop_longitude         150634 non-null  float64       \n",
      " 65  pri_sch_nearest_distance   150634 non-null  float64       \n",
      " 66  pri_sch_name               150634 non-null  object        \n",
      " 67  vacancy                    150634 non-null  int64         \n",
      " 68  pri_sch_affiliation        150634 non-null  bool          \n",
      " 69  pri_sch_latitude           150634 non-null  float64       \n",
      " 70  pri_sch_longitude          150634 non-null  float64       \n",
      " 71  sec_sch_nearest_dist       150634 non-null  float64       \n",
      " 72  sec_sch_name               150634 non-null  object        \n",
      " 73  cutoff_point               150634 non-null  int64         \n",
      " 74  affiliation                150634 non-null  bool          \n",
      " 75  sec_sch_latitude           150634 non-null  float64       \n",
      " 76  sec_sch_longitude          150634 non-null  float64       \n",
      "dtypes: bool(9), datetime64[ns](1), float64(25), int64(28), object(14)\n",
      "memory usage: 79.4+ MB\n"
     ]
    }
   ],
   "source": [
    "# Change datatype to reflect columns correctly\n",
    "housing['Tranc_YearMonth'] = pd.to_datetime(housing['Tranc_YearMonth'])\n",
    "housing['residential'] = housing['residential'].map({'Y': True, 'N': False})\n",
    "housing['commercial'] = housing['commercial'].map({'Y': True, 'N': False})\n",
    "housing['market_hawker'] = housing['market_hawker'].map({'Y': True, 'N': False})\n",
    "housing['multistorey_carpark'] = housing['multistorey_carpark'].map({'Y': True, 'N': False})\n",
    "housing['precinct_pavilion'] = housing['precinct_pavilion'].map({'Y': True, 'N': False})\n",
    "housing['bus_interchange'] = housing['bus_interchange'].map({1: True, 0: False})\n",
    "housing['mrt_interchange'] = housing['mrt_interchange'].map({1: True, 0: False})\n",
    "housing['pri_sch_affiliation'] = housing['pri_sch_affiliation'].map({1: True, 0: False})\n",
    "housing['affiliation'] = housing['affiliation'].map({1: True, 0: False})\n",
    "housing.info()"
   ]
  },
  {
   "cell_type": "markdown",
   "id": "1957c7c1-cfa9-4fd7-a676-7fea027628ea",
   "metadata": {},
   "source": [
    "Datatypes are reflected correctly, except `postal` which will be dropped so need not be corrected."
   ]
  },
  {
   "cell_type": "markdown",
   "id": "53f82b01-64ab-466c-8289-ea0d3706bd65",
   "metadata": {},
   "source": [
    "#### Rename columns when necessary"
   ]
  },
  {
   "cell_type": "code",
   "execution_count": 6,
   "id": "9ada56b6-5c5f-4b4d-9b52-54271d62f57d",
   "metadata": {},
   "outputs": [
    {
     "data": {
      "text/html": [
       "<div>\n",
       "<style scoped>\n",
       "    .dataframe tbody tr th:only-of-type {\n",
       "        vertical-align: middle;\n",
       "    }\n",
       "\n",
       "    .dataframe tbody tr th {\n",
       "        vertical-align: top;\n",
       "    }\n",
       "\n",
       "    .dataframe thead th {\n",
       "        text-align: right;\n",
       "    }\n",
       "</style>\n",
       "<table border=\"1\" class=\"dataframe\">\n",
       "  <thead>\n",
       "    <tr style=\"text-align: right;\">\n",
       "      <th></th>\n",
       "      <th>id</th>\n",
       "      <th>tranc_year_month</th>\n",
       "      <th>town</th>\n",
       "      <th>flat_type</th>\n",
       "      <th>block</th>\n",
       "      <th>street_name</th>\n",
       "      <th>storey_range</th>\n",
       "      <th>floor_area_sqm</th>\n",
       "      <th>flat_model</th>\n",
       "      <th>lease_commence_year</th>\n",
       "      <th>...</th>\n",
       "      <th>vacancy</th>\n",
       "      <th>pri_sch_affiliation</th>\n",
       "      <th>pri_sch_latitude</th>\n",
       "      <th>pri_sch_longitude</th>\n",
       "      <th>sec_sch_nearest_dist</th>\n",
       "      <th>sec_sch_name</th>\n",
       "      <th>cutoff_point</th>\n",
       "      <th>affiliation</th>\n",
       "      <th>sec_sch_latitude</th>\n",
       "      <th>sec_sch_longitude</th>\n",
       "    </tr>\n",
       "  </thead>\n",
       "  <tbody>\n",
       "    <tr>\n",
       "      <th>0</th>\n",
       "      <td>88471</td>\n",
       "      <td>2016-05-01</td>\n",
       "      <td>KALLANG/WHAMPOA</td>\n",
       "      <td>4 ROOM</td>\n",
       "      <td>3B</td>\n",
       "      <td>UPP BOON KENG RD</td>\n",
       "      <td>10 TO 12</td>\n",
       "      <td>90.0</td>\n",
       "      <td>Model A</td>\n",
       "      <td>2006</td>\n",
       "      <td>...</td>\n",
       "      <td>78</td>\n",
       "      <td>True</td>\n",
       "      <td>1.317659</td>\n",
       "      <td>103.882504</td>\n",
       "      <td>1138.633422</td>\n",
       "      <td>Geylang Methodist School</td>\n",
       "      <td>224</td>\n",
       "      <td>False</td>\n",
       "      <td>1.317659</td>\n",
       "      <td>103.882504</td>\n",
       "    </tr>\n",
       "    <tr>\n",
       "      <th>1</th>\n",
       "      <td>122598</td>\n",
       "      <td>2012-07-01</td>\n",
       "      <td>BISHAN</td>\n",
       "      <td>5 ROOM</td>\n",
       "      <td>153</td>\n",
       "      <td>BISHAN ST 13</td>\n",
       "      <td>07 TO 09</td>\n",
       "      <td>130.0</td>\n",
       "      <td>Improved</td>\n",
       "      <td>1987</td>\n",
       "      <td>...</td>\n",
       "      <td>45</td>\n",
       "      <td>True</td>\n",
       "      <td>1.349783</td>\n",
       "      <td>103.854529</td>\n",
       "      <td>447.894399</td>\n",
       "      <td>Kuo Chuan Presbyterian Secondary School</td>\n",
       "      <td>232</td>\n",
       "      <td>False</td>\n",
       "      <td>1.350110</td>\n",
       "      <td>103.854892</td>\n",
       "    </tr>\n",
       "  </tbody>\n",
       "</table>\n",
       "<p>2 rows × 77 columns</p>\n",
       "</div>"
      ],
      "text/plain": [
       "       id tranc_year_month             town flat_type block       street_name  \\\n",
       "0   88471       2016-05-01  KALLANG/WHAMPOA    4 ROOM    3B  UPP BOON KENG RD   \n",
       "1  122598       2012-07-01           BISHAN    5 ROOM   153      BISHAN ST 13   \n",
       "\n",
       "  storey_range  floor_area_sqm flat_model  lease_commence_year  ...  vacancy  \\\n",
       "0     10 TO 12            90.0    Model A                 2006  ...       78   \n",
       "1     07 TO 09           130.0   Improved                 1987  ...       45   \n",
       "\n",
       "   pri_sch_affiliation  pri_sch_latitude  pri_sch_longitude  \\\n",
       "0                 True          1.317659         103.882504   \n",
       "1                 True          1.349783         103.854529   \n",
       "\n",
       "   sec_sch_nearest_dist                             sec_sch_name  \\\n",
       "0           1138.633422                 Geylang Methodist School   \n",
       "1            447.894399  Kuo Chuan Presbyterian Secondary School   \n",
       "\n",
       "   cutoff_point affiliation sec_sch_latitude  sec_sch_longitude  \n",
       "0           224       False         1.317659         103.882504  \n",
       "1           232       False         1.350110         103.854892  \n",
       "\n",
       "[2 rows x 77 columns]"
      ]
     },
     "execution_count": 6,
     "metadata": {},
     "output_type": "execute_result"
    }
   ],
   "source": [
    "# Rename columns\n",
    "housing.rename(columns={\"Tranc_YearMonth\": \"tranc_year_month\", \n",
    "                        \"lease_commence_date\": \"lease_commence_year\", \n",
    "                        \"Tranc_Year\": \"tranc_year\",\n",
    "                        \"Tranc_Month\": \"tranc_month\",\n",
    "                        \"lower\": \"lower_storey_range\",\n",
    "                        \"upper\": \"upper_storey_range\",\n",
    "                        \"mid\": \"mid_storey_range\",\n",
    "                        \"1room_sold\": \"1room_res\",\n",
    "                        \"2room_sold\": \"2room_res\",\n",
    "                        \"3room_sold\": \"3room_res\",\n",
    "                        \"4room_sold\": \"4room_res\",\n",
    "                        \"5room_sold\": \"5room_res\",\n",
    "                        \"exec_sold\": \"exec_res\",\n",
    "                        \"multigen_sold\": \"multigen_res\",\n",
    "                        \"studio_apartment_sold\": \"studio_res\",\n",
    "                        \"Latitude\": \"latitude\",\n",
    "                        \"Longitude\": \"longitude\",\n",
    "                        \"Mall_Nearest_Distance\": \"mall_nearest_distance\",\n",
    "                        \"Mall_Within_500m\": \"mall_500m\",\n",
    "                        \"Mall_Within_1km\": \"mall_1km\",\n",
    "                        \"Mall_Within_2km\": \"mall_2km\",\n",
    "                        \"Hawker_Nearest_Distance\": \"hawker_nearest_distance\",\n",
    "                        \"Hawker_Within_500m\": \"hawker_500m\",\n",
    "                        \"Hawker_Within_1km\": \"hawker_1km\",\n",
    "                        \"Hawker_Within_2km\": \"hawker_2km\",\n",
    "                        \"hawker_food_stalls\": \"hawker_stalls\",\n",
    "                        \"bus_interchange\": \"mrt_bus_interchange\"\n",
    "                        }, inplace=True)\n",
    "housing.head(2)"
   ]
  },
  {
   "cell_type": "markdown",
   "id": "8b41c096-062f-41ba-8893-43080794b05a",
   "metadata": {},
   "source": [
    "#### Check for missing values and datatype"
   ]
  },
  {
   "cell_type": "code",
   "execution_count": 7,
   "id": "9f1af15d-fc2f-4e9c-a2f4-f6c85c770c84",
   "metadata": {},
   "outputs": [
    {
     "data": {
      "text/html": [
       "<div>\n",
       "<style scoped>\n",
       "    .dataframe tbody tr th:only-of-type {\n",
       "        vertical-align: middle;\n",
       "    }\n",
       "\n",
       "    .dataframe tbody tr th {\n",
       "        vertical-align: top;\n",
       "    }\n",
       "\n",
       "    .dataframe thead th {\n",
       "        text-align: right;\n",
       "    }\n",
       "</style>\n",
       "<table border=\"1\" class=\"dataframe\">\n",
       "  <thead>\n",
       "    <tr style=\"text-align: right;\">\n",
       "      <th></th>\n",
       "      <th>mall_nearest_distance</th>\n",
       "      <th>mall_500m</th>\n",
       "      <th>mall_1km</th>\n",
       "      <th>mall_2km</th>\n",
       "    </tr>\n",
       "  </thead>\n",
       "  <tbody>\n",
       "    <tr>\n",
       "      <th>0</th>\n",
       "      <td>1094.090418</td>\n",
       "      <td>NaN</td>\n",
       "      <td>NaN</td>\n",
       "      <td>7.0</td>\n",
       "    </tr>\n",
       "    <tr>\n",
       "      <th>1</th>\n",
       "      <td>866.941448</td>\n",
       "      <td>NaN</td>\n",
       "      <td>1.0</td>\n",
       "      <td>3.0</td>\n",
       "    </tr>\n",
       "    <tr>\n",
       "      <th>2</th>\n",
       "      <td>1459.579948</td>\n",
       "      <td>NaN</td>\n",
       "      <td>NaN</td>\n",
       "      <td>4.0</td>\n",
       "    </tr>\n",
       "    <tr>\n",
       "      <th>3</th>\n",
       "      <td>950.175199</td>\n",
       "      <td>NaN</td>\n",
       "      <td>1.0</td>\n",
       "      <td>4.0</td>\n",
       "    </tr>\n",
       "    <tr>\n",
       "      <th>4</th>\n",
       "      <td>729.771895</td>\n",
       "      <td>NaN</td>\n",
       "      <td>1.0</td>\n",
       "      <td>2.0</td>\n",
       "    </tr>\n",
       "    <tr>\n",
       "      <th>5</th>\n",
       "      <td>684.004001</td>\n",
       "      <td>NaN</td>\n",
       "      <td>3.0</td>\n",
       "      <td>6.0</td>\n",
       "    </tr>\n",
       "  </tbody>\n",
       "</table>\n",
       "</div>"
      ],
      "text/plain": [
       "   mall_nearest_distance  mall_500m  mall_1km  mall_2km\n",
       "0            1094.090418        NaN       NaN       7.0\n",
       "1             866.941448        NaN       1.0       3.0\n",
       "2            1459.579948        NaN       NaN       4.0\n",
       "3             950.175199        NaN       1.0       4.0\n",
       "4             729.771895        NaN       1.0       2.0\n",
       "5             684.004001        NaN       3.0       6.0"
      ]
     },
     "execution_count": 7,
     "metadata": {},
     "output_type": "execute_result"
    }
   ],
   "source": [
    "# Look at values for malls\n",
    "housing.loc[:5, ['mall_nearest_distance', 'mall_500m', 'mall_1km', 'mall_2km']]"
   ]
  },
  {
   "cell_type": "code",
   "execution_count": 8,
   "id": "e6217392-7c55-4bfc-8695-1555bed6237f",
   "metadata": {},
   "outputs": [
    {
     "data": {
      "text/plain": [
       "array([1094.090418 ,  866.9414477, 1459.579948 , ...,  362.8644234,\n",
       "       1034.645191 , 1699.150022 ])"
      ]
     },
     "execution_count": 8,
     "metadata": {},
     "output_type": "execute_result"
    }
   ],
   "source": [
    "# Look at the different values in `mall_nearest_distance`\n",
    "housing['mall_nearest_distance'].unique()"
   ]
  },
  {
   "cell_type": "code",
   "execution_count": 9,
   "id": "a26b8245-5faa-4520-9570-8300c06632b3",
   "metadata": {},
   "outputs": [
    {
     "data": {
      "text/plain": [
       "75       NaN\n",
       "321      NaN\n",
       "478      NaN\n",
       "643      NaN\n",
       "691      NaN\n",
       "          ..\n",
       "150296   NaN\n",
       "150388   NaN\n",
       "150394   NaN\n",
       "150479   NaN\n",
       "150625   NaN\n",
       "Name: mall_nearest_distance, Length: 829, dtype: float64"
      ]
     },
     "execution_count": 9,
     "metadata": {},
     "output_type": "execute_result"
    }
   ],
   "source": [
    "# Check for null values in `mall_nearest_distance`\n",
    "housing.loc[housing['mall_nearest_distance'].isna(), 'mall_nearest_distance']"
   ]
  },
  {
   "cell_type": "code",
   "execution_count": 10,
   "id": "99d68ba2-75f8-47f5-a14f-bfc7f8fbe86e",
   "metadata": {},
   "outputs": [
    {
     "data": {
      "text/plain": [
       "0.005503405605640161"
      ]
     },
     "execution_count": 10,
     "metadata": {},
     "output_type": "execute_result"
    }
   ],
   "source": [
    "# Find the percentage of rows with null values\n",
    "829/150634"
   ]
  },
  {
   "cell_type": "markdown",
   "id": "3c2e1670-0aa8-4aac-8ed6-18d6434ea3b5",
   "metadata": {},
   "source": [
    "Since the number of rows with null values in `mall_nearest_distance` is less than 1%, the rows can be dropped. For the purpose of the Kaggle submission, the column will be dropped instead."
   ]
  },
  {
   "cell_type": "code",
   "execution_count": 11,
   "id": "c55eb08c-1b4d-44c7-a24c-536fc30c4dd1",
   "metadata": {},
   "outputs": [
    {
     "data": {
      "text/plain": [
       "array([nan,  1.,  3.,  4.,  2.,  5.,  6.])"
      ]
     },
     "execution_count": 11,
     "metadata": {},
     "output_type": "execute_result"
    }
   ],
   "source": [
    "# Look at the different values in `mall_500m`\n",
    "housing['mall_500m'].unique()"
   ]
  },
  {
   "cell_type": "code",
   "execution_count": 12,
   "id": "02ba188f-074c-4a78-b6a5-92dda1bfd89d",
   "metadata": {},
   "outputs": [
    {
     "data": {
      "text/plain": [
       "array([nan,  1.,  3.,  2.,  5.,  4., 11.,  6., 10.,  7., 15., 14.,  8.,\n",
       "        9., 12., 13.])"
      ]
     },
     "execution_count": 12,
     "metadata": {},
     "output_type": "execute_result"
    }
   ],
   "source": [
    "# Look at the different values in `mall_1km`\n",
    "housing['mall_1km'].unique()"
   ]
  },
  {
   "cell_type": "code",
   "execution_count": 13,
   "id": "ffcebabf-e399-4e91-aedd-2e51665cb3a4",
   "metadata": {},
   "outputs": [
    {
     "data": {
      "text/plain": [
       "array([ 7.,  3.,  4.,  2.,  6.,  8.,  1.,  5., 27., 10.,  9., 30., 20.,\n",
       "       nan, 24., 11., 12., 14., 21., 43., 26., 28., 13., 22., 25., 29.,\n",
       "       33., 31., 17., 18., 23., 38., 34., 16., 32., 42., 37., 19., 39.,\n",
       "       40., 15., 35.])"
      ]
     },
     "execution_count": 13,
     "metadata": {},
     "output_type": "execute_result"
    }
   ],
   "source": [
    "# Look at the different values in `mall_2km`\n",
    "housing['mall_2km'].unique()"
   ]
  },
  {
   "cell_type": "code",
   "execution_count": 14,
   "id": "064ade39-04d7-492d-9ffe-1a09179a7efa",
   "metadata": {},
   "outputs": [],
   "source": [
    "# Replace null values in 'mall_500m', 'mall_1km', 'mall_2km' with 0\n",
    "housing['mall_500m'] = housing['mall_500m'].fillna(0)\n",
    "housing['mall_1km'] = housing['mall_1km'].fillna(0)\n",
    "housing['mall_2km'] = housing['mall_2km'].fillna(0)"
   ]
  },
  {
   "cell_type": "code",
   "execution_count": 15,
   "id": "0ad4aa2e-a46e-43f2-810f-d06acc155ba8",
   "metadata": {},
   "outputs": [
    {
     "data": {
      "text/html": [
       "<div>\n",
       "<style scoped>\n",
       "    .dataframe tbody tr th:only-of-type {\n",
       "        vertical-align: middle;\n",
       "    }\n",
       "\n",
       "    .dataframe tbody tr th {\n",
       "        vertical-align: top;\n",
       "    }\n",
       "\n",
       "    .dataframe thead th {\n",
       "        text-align: right;\n",
       "    }\n",
       "</style>\n",
       "<table border=\"1\" class=\"dataframe\">\n",
       "  <thead>\n",
       "    <tr style=\"text-align: right;\">\n",
       "      <th></th>\n",
       "      <th>hawker_nearest_distance</th>\n",
       "      <th>hawker_500m</th>\n",
       "      <th>hawker_1km</th>\n",
       "      <th>hawker_2km</th>\n",
       "    </tr>\n",
       "  </thead>\n",
       "  <tbody>\n",
       "    <tr>\n",
       "      <th>0</th>\n",
       "      <td>154.753357</td>\n",
       "      <td>1.0</td>\n",
       "      <td>3.0</td>\n",
       "      <td>13.0</td>\n",
       "    </tr>\n",
       "    <tr>\n",
       "      <th>1</th>\n",
       "      <td>640.151925</td>\n",
       "      <td>NaN</td>\n",
       "      <td>1.0</td>\n",
       "      <td>7.0</td>\n",
       "    </tr>\n",
       "    <tr>\n",
       "      <th>2</th>\n",
       "      <td>1762.082341</td>\n",
       "      <td>NaN</td>\n",
       "      <td>NaN</td>\n",
       "      <td>1.0</td>\n",
       "    </tr>\n",
       "    <tr>\n",
       "      <th>3</th>\n",
       "      <td>726.215262</td>\n",
       "      <td>NaN</td>\n",
       "      <td>1.0</td>\n",
       "      <td>9.0</td>\n",
       "    </tr>\n",
       "    <tr>\n",
       "      <th>4</th>\n",
       "      <td>1540.151439</td>\n",
       "      <td>NaN</td>\n",
       "      <td>NaN</td>\n",
       "      <td>1.0</td>\n",
       "    </tr>\n",
       "    <tr>\n",
       "      <th>5</th>\n",
       "      <td>148.418247</td>\n",
       "      <td>2.0</td>\n",
       "      <td>5.0</td>\n",
       "      <td>11.0</td>\n",
       "    </tr>\n",
       "  </tbody>\n",
       "</table>\n",
       "</div>"
      ],
      "text/plain": [
       "   hawker_nearest_distance  hawker_500m  hawker_1km  hawker_2km\n",
       "0               154.753357          1.0         3.0        13.0\n",
       "1               640.151925          NaN         1.0         7.0\n",
       "2              1762.082341          NaN         NaN         1.0\n",
       "3               726.215262          NaN         1.0         9.0\n",
       "4              1540.151439          NaN         NaN         1.0\n",
       "5               148.418247          2.0         5.0        11.0"
      ]
     },
     "execution_count": 15,
     "metadata": {},
     "output_type": "execute_result"
    }
   ],
   "source": [
    "# Look at values for hawker\n",
    "housing.loc[:5, ['hawker_nearest_distance', 'hawker_500m', 'hawker_1km', 'hawker_2km']]"
   ]
  },
  {
   "cell_type": "code",
   "execution_count": 16,
   "id": "9071e3b3-9869-4f6f-9b4c-d99333da31f4",
   "metadata": {},
   "outputs": [],
   "source": [
    "# Replace null values in 'hawker_500m', 'hawker_1km', 'hawker_2km' with 0\n",
    "housing['hawker_500m'] = housing['hawker_500m'].fillna(0)\n",
    "housing['hawker_1km'] = housing['hawker_1km'].fillna(0)\n",
    "housing['hawker_2km'] = housing['hawker_2km'].fillna(0)"
   ]
  },
  {
   "cell_type": "code",
   "execution_count": 17,
   "id": "6329322d-8ca1-4230-99d8-c5df18594e8b",
   "metadata": {
    "scrolled": true,
    "tags": []
   },
   "outputs": [
    {
     "name": "stdout",
     "output_type": "stream",
     "text": [
      "<class 'pandas.core.frame.DataFrame'>\n",
      "RangeIndex: 150634 entries, 0 to 150633\n",
      "Data columns (total 77 columns):\n",
      " #   Column                     Non-Null Count   Dtype         \n",
      "---  ------                     --------------   -----         \n",
      " 0   id                         150634 non-null  int64         \n",
      " 1   tranc_year_month           150634 non-null  datetime64[ns]\n",
      " 2   town                       150634 non-null  object        \n",
      " 3   flat_type                  150634 non-null  object        \n",
      " 4   block                      150634 non-null  object        \n",
      " 5   street_name                150634 non-null  object        \n",
      " 6   storey_range               150634 non-null  object        \n",
      " 7   floor_area_sqm             150634 non-null  float64       \n",
      " 8   flat_model                 150634 non-null  object        \n",
      " 9   lease_commence_year        150634 non-null  object        \n",
      " 10  resale_price               150634 non-null  float64       \n",
      " 11  tranc_year                 150634 non-null  object        \n",
      " 12  tranc_month                150634 non-null  object        \n",
      " 13  mid_storey                 150634 non-null  int64         \n",
      " 14  lower_storey_range         150634 non-null  int64         \n",
      " 15  upper_storey_range         150634 non-null  int64         \n",
      " 16  mid_storey_range           150634 non-null  int64         \n",
      " 17  full_flat_type             150634 non-null  object        \n",
      " 18  address                    150634 non-null  object        \n",
      " 19  floor_area_sqft            150634 non-null  float64       \n",
      " 20  hdb_age                    150634 non-null  int64         \n",
      " 21  max_floor_lvl              150634 non-null  int64         \n",
      " 22  year_completed             150634 non-null  int64         \n",
      " 23  residential                150634 non-null  bool          \n",
      " 24  commercial                 150634 non-null  bool          \n",
      " 25  market_hawker              150634 non-null  bool          \n",
      " 26  multistorey_carpark        150634 non-null  bool          \n",
      " 27  precinct_pavilion          150634 non-null  bool          \n",
      " 28  total_dwelling_units       150634 non-null  int64         \n",
      " 29  1room_res                  150634 non-null  int64         \n",
      " 30  2room_res                  150634 non-null  int64         \n",
      " 31  3room_res                  150634 non-null  int64         \n",
      " 32  4room_res                  150634 non-null  int64         \n",
      " 33  5room_res                  150634 non-null  int64         \n",
      " 34  exec_res                   150634 non-null  int64         \n",
      " 35  multigen_res               150634 non-null  int64         \n",
      " 36  studio_res                 150634 non-null  int64         \n",
      " 37  1room_rental               150634 non-null  int64         \n",
      " 38  2room_rental               150634 non-null  int64         \n",
      " 39  3room_rental               150634 non-null  int64         \n",
      " 40  other_room_rental          150634 non-null  int64         \n",
      " 41  postal                     150634 non-null  object        \n",
      " 42  latitude                   150634 non-null  float64       \n",
      " 43  longitude                  150634 non-null  float64       \n",
      " 44  planning_area              150634 non-null  object        \n",
      " 45  mall_nearest_distance      149805 non-null  float64       \n",
      " 46  mall_500m                  150634 non-null  int64         \n",
      " 47  mall_1km                   150634 non-null  int64         \n",
      " 48  mall_2km                   150634 non-null  int64         \n",
      " 49  hawker_nearest_distance    150634 non-null  float64       \n",
      " 50  hawker_500m                150634 non-null  int64         \n",
      " 51  hawker_1km                 150634 non-null  int64         \n",
      " 52  hawker_2km                 150634 non-null  int64         \n",
      " 53  hawker_stalls              150634 non-null  int64         \n",
      " 54  hawker_market_stalls       150634 non-null  int64         \n",
      " 55  mrt_nearest_distance       150634 non-null  float64       \n",
      " 56  mrt_name                   150634 non-null  object        \n",
      " 57  mrt_bus_interchange        150634 non-null  bool          \n",
      " 58  mrt_interchange            150634 non-null  bool          \n",
      " 59  mrt_latitude               150634 non-null  float64       \n",
      " 60  mrt_longitude              150634 non-null  float64       \n",
      " 61  bus_stop_nearest_distance  150634 non-null  float64       \n",
      " 62  bus_stop_name              150634 non-null  object        \n",
      " 63  bus_stop_latitude          150634 non-null  float64       \n",
      " 64  bus_stop_longitude         150634 non-null  float64       \n",
      " 65  pri_sch_nearest_distance   150634 non-null  float64       \n",
      " 66  pri_sch_name               150634 non-null  object        \n",
      " 67  vacancy                    150634 non-null  int64         \n",
      " 68  pri_sch_affiliation        150634 non-null  bool          \n",
      " 69  pri_sch_latitude           150634 non-null  float64       \n",
      " 70  pri_sch_longitude          150634 non-null  float64       \n",
      " 71  sec_sch_nearest_dist       150634 non-null  float64       \n",
      " 72  sec_sch_name               150634 non-null  object        \n",
      " 73  cutoff_point               150634 non-null  int64         \n",
      " 74  affiliation                150634 non-null  bool          \n",
      " 75  sec_sch_latitude           150634 non-null  float64       \n",
      " 76  sec_sch_longitude          150634 non-null  float64       \n",
      "dtypes: bool(9), datetime64[ns](1), float64(19), int64(31), object(17)\n",
      "memory usage: 79.4+ MB\n"
     ]
    }
   ],
   "source": [
    "# Change datatype to reflect columns correctly\n",
    "# Datatypes to do with time are changed to string datatypes so that they can be one hot encoded later\n",
    "housing = housing.astype({'mall_500m':'int', 'mall_1km':'int', 'mall_2km':'int', 'hawker_500m':'int', 'hawker_1km':'int', 'hawker_2km':'int', 'lease_commence_year':'object', 'tranc_year':'object', 'tranc_month':'object'})\n",
    "housing.info()"
   ]
  },
  {
   "cell_type": "markdown",
   "id": "8a15345f-edbe-4e6e-a032-0c491ff53464",
   "metadata": {},
   "source": [
    "#### Find duplicated columns"
   ]
  },
  {
   "cell_type": "code",
   "execution_count": 18,
   "id": "e899f691-dffe-4822-ad11-3b8ac9bd594e",
   "metadata": {},
   "outputs": [],
   "source": [
    "def getDuplicateColumns(df):\n",
    "    '''\n",
    "    Get a list of duplicate columns.\n",
    "    It will iterate over all the columns in dataframe and find the columns whose contents are duplicate.\n",
    "    :param df: Dataframe object\n",
    "    :return: List of columns whose contents are duplicates.\n",
    "    '''\n",
    "    duplicateColumnNames = set()\n",
    "    # Iterate over all the columns in dataframe\n",
    "    for x in range(df.shape[1]):\n",
    "        # Select column at xth index.\n",
    "        col = df.iloc[:, x]\n",
    "        # Iterate over all the columns in DataFrame from (x+1)th index till end\n",
    "        for y in range(x + 1, df.shape[1]):\n",
    "            # Select column at yth index.\n",
    "            otherCol = df.iloc[:, y]\n",
    "            # Check if two columns at x 7 y index are equal\n",
    "            if col.equals(otherCol):\n",
    "                duplicateColumnNames.add(df.columns.values[y])\n",
    "    return list(duplicateColumnNames)\n",
    "    duplicateColumnNames = getDuplicateColumns(dfObj)\n",
    "    print('Duplicate Columns are as follows')\n",
    "    for col in duplicateColumnNames:\n",
    "        print('Column name : ', col)"
   ]
  },
  {
   "cell_type": "code",
   "execution_count": 19,
   "id": "22bce3a2-2be4-4e83-85a3-1a15709329cc",
   "metadata": {},
   "outputs": [
    {
     "data": {
      "text/plain": [
       "['mid_storey_range']"
      ]
     },
     "execution_count": 19,
     "metadata": {},
     "output_type": "execute_result"
    }
   ],
   "source": [
    "getDuplicateColumns(housing)"
   ]
  },
  {
   "cell_type": "markdown",
   "id": "5cb847c1-d22f-4bf0-91df-ac058037d67d",
   "metadata": {},
   "source": [
    "#### Drop unnecessary columns"
   ]
  },
  {
   "cell_type": "code",
   "execution_count": 20,
   "id": "80432287-7238-4746-b13a-36bef2253824",
   "metadata": {},
   "outputs": [
    {
     "data": {
      "text/plain": [
       "array([11,  8, 14,  3,  2, 29, 20,  5, 17, 23, 18, 35, 26, 13, 38, 32, 44,\n",
       "       41, 50, 47, 28, 33])"
      ]
     },
     "execution_count": 20,
     "metadata": {},
     "output_type": "execute_result"
    }
   ],
   "source": [
    "# Check for unnecessary columns\n",
    "# Look at the different values in `mid_storey`\n",
    "housing['mid_storey'].unique()"
   ]
  },
  {
   "cell_type": "code",
   "execution_count": 21,
   "id": "4953b5a6-96b1-4486-a7bc-76914089bafa",
   "metadata": {},
   "outputs": [
    {
     "data": {
      "text/plain": [
       "array([11,  8, 14,  3,  2, 29, 20,  5, 17, 23, 18, 35, 26, 13, 38, 32, 44,\n",
       "       41, 50, 47, 28, 33])"
      ]
     },
     "execution_count": 21,
     "metadata": {},
     "output_type": "execute_result"
    }
   ],
   "source": [
    "# Look at the different values in `mid_storey_range`\n",
    "housing['mid_storey_range'].unique()"
   ]
  },
  {
   "cell_type": "markdown",
   "id": "06eb88db-5d8e-4fcb-8c10-a0c1f9716dde",
   "metadata": {},
   "source": [
    "`mid_storey` and `mid_storey_range` cols have the same values, so `mid_storey` can be dropped"
   ]
  },
  {
   "cell_type": "code",
   "execution_count": 22,
   "id": "379d7766-6382-47c2-b20a-9d7a15418f97",
   "metadata": {},
   "outputs": [
    {
     "data": {
      "text/plain": [
       "array([ True])"
      ]
     },
     "execution_count": 22,
     "metadata": {},
     "output_type": "execute_result"
    }
   ],
   "source": [
    "# Look at the different values in `residential`\n",
    "housing['residential'].unique()"
   ]
  },
  {
   "cell_type": "markdown",
   "id": "f89f0f3d-0636-466e-b5ef-2f0690ca63da",
   "metadata": {},
   "source": [
    "All the values in `residential` col are True, so the col can be dropped"
   ]
  },
  {
   "cell_type": "code",
   "execution_count": 23,
   "id": "56a826f4-83eb-465d-9e28-9c639d7782fa",
   "metadata": {},
   "outputs": [
    {
     "data": {
      "text/plain": [
       "array(['Kallang', 'Bishan', 'Bukit Batok', 'Yishun', 'Geylang', 'Hougang',\n",
       "       'Bedok', 'Sengkang', 'Tampines', 'Serangoon', 'Bukit Merah',\n",
       "       'Bukit Panjang', 'Woodlands', 'Jurong West', 'Toa Payoh',\n",
       "       'Choa Chu Kang', 'Sembawang', 'Novena', 'Ang Mo Kio', 'Pasir Ris',\n",
       "       'Clementi', 'Punggol', 'Jurong East', 'Rochor', 'Queenstown',\n",
       "       'Bukit Timah', 'Outram', 'Tanglin', 'Marine Parade',\n",
       "       'Western Water Catchment', 'Downtown Core', 'Changi'], dtype=object)"
      ]
     },
     "execution_count": 23,
     "metadata": {},
     "output_type": "execute_result"
    }
   ],
   "source": [
    "# Look at the different values in `planning_area`\n",
    "housing['planning_area'].unique()"
   ]
  },
  {
   "cell_type": "code",
   "execution_count": 24,
   "id": "5916e1ba",
   "metadata": {},
   "outputs": [
    {
     "data": {
      "text/plain": [
       "array(['KALLANG/WHAMPOA', 'BISHAN', 'BUKIT BATOK', 'YISHUN', 'GEYLANG',\n",
       "       'HOUGANG', 'BEDOK', 'SENGKANG', 'TAMPINES', 'SERANGOON',\n",
       "       'BUKIT MERAH', 'BUKIT PANJANG', 'WOODLANDS', 'JURONG WEST',\n",
       "       'TOA PAYOH', 'CHOA CHU KANG', 'SEMBAWANG', 'ANG MO KIO',\n",
       "       'PASIR RIS', 'CLEMENTI', 'PUNGGOL', 'JURONG EAST', 'CENTRAL AREA',\n",
       "       'QUEENSTOWN', 'BUKIT TIMAH', 'MARINE PARADE'], dtype=object)"
      ]
     },
     "execution_count": 24,
     "metadata": {},
     "output_type": "execute_result"
    }
   ],
   "source": [
    "# Look at the different values in `town`\n",
    "housing['town'].unique()"
   ]
  },
  {
   "cell_type": "markdown",
   "id": "d658b813-d1bb-4417-ba2c-407826073857",
   "metadata": {},
   "source": [
    "`planning_area` and `town` are mostly overlapping and `planning_area` is more specific than `town` so `town` can be dropped"
   ]
  },
  {
   "cell_type": "markdown",
   "id": "3aad7421-6d09-4442-989f-673bdae3728e",
   "metadata": {},
   "source": [
    "`postal` is made up of sector code which overlaps with `planning_area` and `town` so it can be dropped"
   ]
  },
  {
   "cell_type": "code",
   "execution_count": 25,
   "id": "63b2e7ea-ecb3-41c4-bfe1-f8602725c38c",
   "metadata": {},
   "outputs": [
    {
     "data": {
      "text/html": [
       "<div>\n",
       "<style scoped>\n",
       "    .dataframe tbody tr th:only-of-type {\n",
       "        vertical-align: middle;\n",
       "    }\n",
       "\n",
       "    .dataframe tbody tr th {\n",
       "        vertical-align: top;\n",
       "    }\n",
       "\n",
       "    .dataframe thead th {\n",
       "        text-align: right;\n",
       "    }\n",
       "</style>\n",
       "<table border=\"1\" class=\"dataframe\">\n",
       "  <thead>\n",
       "    <tr style=\"text-align: right;\">\n",
       "      <th></th>\n",
       "      <th>flat_type</th>\n",
       "      <th>storey_range</th>\n",
       "      <th>floor_area_sqm</th>\n",
       "      <th>flat_model</th>\n",
       "      <th>lease_commence_year</th>\n",
       "      <th>resale_price</th>\n",
       "      <th>tranc_year</th>\n",
       "      <th>tranc_month</th>\n",
       "      <th>lower_storey_range</th>\n",
       "      <th>upper_storey_range</th>\n",
       "      <th>...</th>\n",
       "      <th>vacancy</th>\n",
       "      <th>pri_sch_affiliation</th>\n",
       "      <th>pri_sch_latitude</th>\n",
       "      <th>pri_sch_longitude</th>\n",
       "      <th>sec_sch_nearest_dist</th>\n",
       "      <th>sec_sch_name</th>\n",
       "      <th>cutoff_point</th>\n",
       "      <th>affiliation</th>\n",
       "      <th>sec_sch_latitude</th>\n",
       "      <th>sec_sch_longitude</th>\n",
       "    </tr>\n",
       "  </thead>\n",
       "  <tbody>\n",
       "    <tr>\n",
       "      <th>0</th>\n",
       "      <td>4 ROOM</td>\n",
       "      <td>10 TO 12</td>\n",
       "      <td>90.0</td>\n",
       "      <td>Model A</td>\n",
       "      <td>2006</td>\n",
       "      <td>680000.0</td>\n",
       "      <td>2016</td>\n",
       "      <td>5</td>\n",
       "      <td>10</td>\n",
       "      <td>12</td>\n",
       "      <td>...</td>\n",
       "      <td>78</td>\n",
       "      <td>True</td>\n",
       "      <td>1.317659</td>\n",
       "      <td>103.882504</td>\n",
       "      <td>1138.633422</td>\n",
       "      <td>Geylang Methodist School</td>\n",
       "      <td>224</td>\n",
       "      <td>False</td>\n",
       "      <td>1.317659</td>\n",
       "      <td>103.882504</td>\n",
       "    </tr>\n",
       "    <tr>\n",
       "      <th>1</th>\n",
       "      <td>5 ROOM</td>\n",
       "      <td>07 TO 09</td>\n",
       "      <td>130.0</td>\n",
       "      <td>Improved</td>\n",
       "      <td>1987</td>\n",
       "      <td>665000.0</td>\n",
       "      <td>2012</td>\n",
       "      <td>7</td>\n",
       "      <td>7</td>\n",
       "      <td>9</td>\n",
       "      <td>...</td>\n",
       "      <td>45</td>\n",
       "      <td>True</td>\n",
       "      <td>1.349783</td>\n",
       "      <td>103.854529</td>\n",
       "      <td>447.894399</td>\n",
       "      <td>Kuo Chuan Presbyterian Secondary School</td>\n",
       "      <td>232</td>\n",
       "      <td>False</td>\n",
       "      <td>1.350110</td>\n",
       "      <td>103.854892</td>\n",
       "    </tr>\n",
       "  </tbody>\n",
       "</table>\n",
       "<p>2 rows × 65 columns</p>\n",
       "</div>"
      ],
      "text/plain": [
       "  flat_type storey_range  floor_area_sqm flat_model lease_commence_year  \\\n",
       "0    4 ROOM     10 TO 12            90.0    Model A                2006   \n",
       "1    5 ROOM     07 TO 09           130.0   Improved                1987   \n",
       "\n",
       "   resale_price tranc_year tranc_month  lower_storey_range  \\\n",
       "0      680000.0       2016           5                  10   \n",
       "1      665000.0       2012           7                   7   \n",
       "\n",
       "   upper_storey_range  ...  vacancy  pri_sch_affiliation  pri_sch_latitude  \\\n",
       "0                  12  ...       78                 True          1.317659   \n",
       "1                   9  ...       45                 True          1.349783   \n",
       "\n",
       "   pri_sch_longitude  sec_sch_nearest_dist  \\\n",
       "0         103.882504           1138.633422   \n",
       "1         103.854529            447.894399   \n",
       "\n",
       "                              sec_sch_name  cutoff_point  affiliation  \\\n",
       "0                 Geylang Methodist School           224        False   \n",
       "1  Kuo Chuan Presbyterian Secondary School           232        False   \n",
       "\n",
       "   sec_sch_latitude  sec_sch_longitude  \n",
       "0          1.317659         103.882504  \n",
       "1          1.350110         103.854892  \n",
       "\n",
       "[2 rows x 65 columns]"
      ]
     },
     "execution_count": 25,
     "metadata": {},
     "output_type": "execute_result"
    }
   ],
   "source": [
    "# Drop unnecessary columns\n",
    "housing.drop(['id', 'tranc_year_month', 'block', 'street_name', 'address', 'full_flat_type', 'mid_storey', 'residential', 'town', 'bus_stop_name', 'postal', 'mall_nearest_distance'], axis=1, inplace=True)\n",
    "housing.head(2)"
   ]
  },
  {
   "cell_type": "markdown",
   "id": "7de2b45e-0a3f-4e12-a24e-3318f0883722",
   "metadata": {},
   "source": [
    "## Data Preprocessing\n",
    "- Train/test split data\n",
    "- One-hot encoding to columns with categorical data\n",
    "- Scale data"
   ]
  },
  {
   "cell_type": "code",
   "execution_count": 26,
   "id": "1fa92571-cfe1-4b0d-95ba-aa1a077f5072",
   "metadata": {
    "scrolled": true,
    "tags": []
   },
   "outputs": [
    {
     "name": "stdout",
     "output_type": "stream",
     "text": [
      "<class 'pandas.core.frame.DataFrame'>\n",
      "RangeIndex: 150634 entries, 0 to 150633\n",
      "Data columns (total 65 columns):\n",
      " #   Column                     Non-Null Count   Dtype  \n",
      "---  ------                     --------------   -----  \n",
      " 0   flat_type                  150634 non-null  object \n",
      " 1   storey_range               150634 non-null  object \n",
      " 2   floor_area_sqm             150634 non-null  float64\n",
      " 3   flat_model                 150634 non-null  object \n",
      " 4   lease_commence_year        150634 non-null  object \n",
      " 5   resale_price               150634 non-null  float64\n",
      " 6   tranc_year                 150634 non-null  object \n",
      " 7   tranc_month                150634 non-null  object \n",
      " 8   lower_storey_range         150634 non-null  int64  \n",
      " 9   upper_storey_range         150634 non-null  int64  \n",
      " 10  mid_storey_range           150634 non-null  int64  \n",
      " 11  floor_area_sqft            150634 non-null  float64\n",
      " 12  hdb_age                    150634 non-null  int64  \n",
      " 13  max_floor_lvl              150634 non-null  int64  \n",
      " 14  year_completed             150634 non-null  int64  \n",
      " 15  commercial                 150634 non-null  bool   \n",
      " 16  market_hawker              150634 non-null  bool   \n",
      " 17  multistorey_carpark        150634 non-null  bool   \n",
      " 18  precinct_pavilion          150634 non-null  bool   \n",
      " 19  total_dwelling_units       150634 non-null  int64  \n",
      " 20  1room_res                  150634 non-null  int64  \n",
      " 21  2room_res                  150634 non-null  int64  \n",
      " 22  3room_res                  150634 non-null  int64  \n",
      " 23  4room_res                  150634 non-null  int64  \n",
      " 24  5room_res                  150634 non-null  int64  \n",
      " 25  exec_res                   150634 non-null  int64  \n",
      " 26  multigen_res               150634 non-null  int64  \n",
      " 27  studio_res                 150634 non-null  int64  \n",
      " 28  1room_rental               150634 non-null  int64  \n",
      " 29  2room_rental               150634 non-null  int64  \n",
      " 30  3room_rental               150634 non-null  int64  \n",
      " 31  other_room_rental          150634 non-null  int64  \n",
      " 32  latitude                   150634 non-null  float64\n",
      " 33  longitude                  150634 non-null  float64\n",
      " 34  planning_area              150634 non-null  object \n",
      " 35  mall_500m                  150634 non-null  int64  \n",
      " 36  mall_1km                   150634 non-null  int64  \n",
      " 37  mall_2km                   150634 non-null  int64  \n",
      " 38  hawker_nearest_distance    150634 non-null  float64\n",
      " 39  hawker_500m                150634 non-null  int64  \n",
      " 40  hawker_1km                 150634 non-null  int64  \n",
      " 41  hawker_2km                 150634 non-null  int64  \n",
      " 42  hawker_stalls              150634 non-null  int64  \n",
      " 43  hawker_market_stalls       150634 non-null  int64  \n",
      " 44  mrt_nearest_distance       150634 non-null  float64\n",
      " 45  mrt_name                   150634 non-null  object \n",
      " 46  mrt_bus_interchange        150634 non-null  bool   \n",
      " 47  mrt_interchange            150634 non-null  bool   \n",
      " 48  mrt_latitude               150634 non-null  float64\n",
      " 49  mrt_longitude              150634 non-null  float64\n",
      " 50  bus_stop_nearest_distance  150634 non-null  float64\n",
      " 51  bus_stop_latitude          150634 non-null  float64\n",
      " 52  bus_stop_longitude         150634 non-null  float64\n",
      " 53  pri_sch_nearest_distance   150634 non-null  float64\n",
      " 54  pri_sch_name               150634 non-null  object \n",
      " 55  vacancy                    150634 non-null  int64  \n",
      " 56  pri_sch_affiliation        150634 non-null  bool   \n",
      " 57  pri_sch_latitude           150634 non-null  float64\n",
      " 58  pri_sch_longitude          150634 non-null  float64\n",
      " 59  sec_sch_nearest_dist       150634 non-null  float64\n",
      " 60  sec_sch_name               150634 non-null  object \n",
      " 61  cutoff_point               150634 non-null  int64  \n",
      " 62  affiliation                150634 non-null  bool   \n",
      " 63  sec_sch_latitude           150634 non-null  float64\n",
      " 64  sec_sch_longitude          150634 non-null  float64\n",
      "dtypes: bool(8), float64(18), int64(29), object(10)\n",
      "memory usage: 66.7+ MB\n"
     ]
    }
   ],
   "source": [
    "housing.info()"
   ]
  },
  {
   "cell_type": "markdown",
   "id": "a8af222b-1300-434d-a4ba-9df2acf766cb",
   "metadata": {},
   "source": [
    "#### Train/test split data"
   ]
  },
  {
   "cell_type": "markdown",
   "id": "66219c55-85fe-4419-ac7a-2fa40bebd0c4",
   "metadata": {},
   "source": [
    "Assemble predictor variables (X) and our target (y) "
   ]
  },
  {
   "cell_type": "code",
   "execution_count": 27,
   "id": "948d6c94-6164-4022-8947-1551a8d88007",
   "metadata": {},
   "outputs": [
    {
     "data": {
      "text/html": [
       "<div>\n",
       "<style scoped>\n",
       "    .dataframe tbody tr th:only-of-type {\n",
       "        vertical-align: middle;\n",
       "    }\n",
       "\n",
       "    .dataframe tbody tr th {\n",
       "        vertical-align: top;\n",
       "    }\n",
       "\n",
       "    .dataframe thead th {\n",
       "        text-align: right;\n",
       "    }\n",
       "</style>\n",
       "<table border=\"1\" class=\"dataframe\">\n",
       "  <thead>\n",
       "    <tr style=\"text-align: right;\">\n",
       "      <th></th>\n",
       "      <th>flat_type</th>\n",
       "      <th>storey_range</th>\n",
       "      <th>floor_area_sqm</th>\n",
       "      <th>flat_model</th>\n",
       "      <th>lease_commence_year</th>\n",
       "      <th>tranc_year</th>\n",
       "      <th>tranc_month</th>\n",
       "      <th>lower_storey_range</th>\n",
       "      <th>upper_storey_range</th>\n",
       "      <th>mid_storey_range</th>\n",
       "      <th>...</th>\n",
       "      <th>vacancy</th>\n",
       "      <th>pri_sch_affiliation</th>\n",
       "      <th>pri_sch_latitude</th>\n",
       "      <th>pri_sch_longitude</th>\n",
       "      <th>sec_sch_nearest_dist</th>\n",
       "      <th>sec_sch_name</th>\n",
       "      <th>cutoff_point</th>\n",
       "      <th>affiliation</th>\n",
       "      <th>sec_sch_latitude</th>\n",
       "      <th>sec_sch_longitude</th>\n",
       "    </tr>\n",
       "  </thead>\n",
       "  <tbody>\n",
       "    <tr>\n",
       "      <th>0</th>\n",
       "      <td>4 ROOM</td>\n",
       "      <td>10 TO 12</td>\n",
       "      <td>90.0</td>\n",
       "      <td>Model A</td>\n",
       "      <td>2006</td>\n",
       "      <td>2016</td>\n",
       "      <td>5</td>\n",
       "      <td>10</td>\n",
       "      <td>12</td>\n",
       "      <td>11</td>\n",
       "      <td>...</td>\n",
       "      <td>78</td>\n",
       "      <td>True</td>\n",
       "      <td>1.317659</td>\n",
       "      <td>103.882504</td>\n",
       "      <td>1138.633422</td>\n",
       "      <td>Geylang Methodist School</td>\n",
       "      <td>224</td>\n",
       "      <td>False</td>\n",
       "      <td>1.317659</td>\n",
       "      <td>103.882504</td>\n",
       "    </tr>\n",
       "    <tr>\n",
       "      <th>1</th>\n",
       "      <td>5 ROOM</td>\n",
       "      <td>07 TO 09</td>\n",
       "      <td>130.0</td>\n",
       "      <td>Improved</td>\n",
       "      <td>1987</td>\n",
       "      <td>2012</td>\n",
       "      <td>7</td>\n",
       "      <td>7</td>\n",
       "      <td>9</td>\n",
       "      <td>8</td>\n",
       "      <td>...</td>\n",
       "      <td>45</td>\n",
       "      <td>True</td>\n",
       "      <td>1.349783</td>\n",
       "      <td>103.854529</td>\n",
       "      <td>447.894399</td>\n",
       "      <td>Kuo Chuan Presbyterian Secondary School</td>\n",
       "      <td>232</td>\n",
       "      <td>False</td>\n",
       "      <td>1.350110</td>\n",
       "      <td>103.854892</td>\n",
       "    </tr>\n",
       "  </tbody>\n",
       "</table>\n",
       "<p>2 rows × 64 columns</p>\n",
       "</div>"
      ],
      "text/plain": [
       "  flat_type storey_range  floor_area_sqm flat_model lease_commence_year  \\\n",
       "0    4 ROOM     10 TO 12            90.0    Model A                2006   \n",
       "1    5 ROOM     07 TO 09           130.0   Improved                1987   \n",
       "\n",
       "  tranc_year tranc_month  lower_storey_range  upper_storey_range  \\\n",
       "0       2016           5                  10                  12   \n",
       "1       2012           7                   7                   9   \n",
       "\n",
       "   mid_storey_range  ...  vacancy  pri_sch_affiliation  pri_sch_latitude  \\\n",
       "0                11  ...       78                 True          1.317659   \n",
       "1                 8  ...       45                 True          1.349783   \n",
       "\n",
       "   pri_sch_longitude  sec_sch_nearest_dist  \\\n",
       "0         103.882504           1138.633422   \n",
       "1         103.854529            447.894399   \n",
       "\n",
       "                              sec_sch_name  cutoff_point  affiliation  \\\n",
       "0                 Geylang Methodist School           224        False   \n",
       "1  Kuo Chuan Presbyterian Secondary School           232        False   \n",
       "\n",
       "   sec_sch_latitude  sec_sch_longitude  \n",
       "0          1.317659         103.882504  \n",
       "1          1.350110         103.854892  \n",
       "\n",
       "[2 rows x 64 columns]"
      ]
     },
     "execution_count": 27,
     "metadata": {},
     "output_type": "execute_result"
    }
   ],
   "source": [
    "# Preparing data for train/test split\n",
    "X = housing.drop(['resale_price'], axis=1)\n",
    "y = housing['resale_price']\n",
    "X.head(2)"
   ]
  },
  {
   "cell_type": "code",
   "execution_count": 28,
   "id": "00823e09-8ed7-4233-b7d0-9cc5205992a4",
   "metadata": {},
   "outputs": [
    {
     "name": "stdout",
     "output_type": "stream",
     "text": [
      "150634\n"
     ]
    },
    {
     "data": {
      "text/plain": [
       "0    680000.0\n",
       "1    665000.0\n",
       "Name: resale_price, dtype: float64"
      ]
     },
     "execution_count": 28,
     "metadata": {},
     "output_type": "execute_result"
    }
   ],
   "source": [
    "print(len(y))\n",
    "y.iloc[:2]"
   ]
  },
  {
   "cell_type": "code",
   "execution_count": 29,
   "id": "cac6046e-002e-4e2b-861e-2b860b97ca34",
   "metadata": {},
   "outputs": [
    {
     "name": "stdout",
     "output_type": "stream",
     "text": [
      "112975 37659\n"
     ]
    }
   ],
   "source": [
    "# Perform a split of X and y.\n",
    "X_train, X_test, y_train, y_test = train_test_split(X, y, random_state=123)\n",
    "print(len(X_train), len(X_test))"
   ]
  },
  {
   "cell_type": "markdown",
   "id": "0ebe0358-6e99-48c8-aa20-e9aa82aaa72d",
   "metadata": {},
   "source": [
    "#### Separate predictor variables based on datatypes"
   ]
  },
  {
   "cell_type": "code",
   "execution_count": 30,
   "id": "8e0c2c00-5e1b-4add-80e3-8b947df168cb",
   "metadata": {},
   "outputs": [],
   "source": [
    "X_train_cont = X_train.select_dtypes(include=['int64', 'float64'])\n",
    "X_train_cat = X_train.select_dtypes(include=['object', 'bool'])\n",
    "X_test_cont = X_test.select_dtypes(include=['int64', 'float64'])\n",
    "X_test_cat = X_test.select_dtypes(include=['object', 'bool'])"
   ]
  },
  {
   "cell_type": "code",
   "execution_count": 31,
   "id": "063a49f8-dcdd-441c-86ef-88053bc5ef43",
   "metadata": {},
   "outputs": [
    {
     "data": {
      "text/plain": [
       "(112975, 46)"
      ]
     },
     "execution_count": 31,
     "metadata": {},
     "output_type": "execute_result"
    }
   ],
   "source": [
    "X_train_cont.shape"
   ]
  },
  {
   "cell_type": "code",
   "execution_count": 32,
   "id": "12893185-efb9-4eb2-8a9b-01e323ef1e11",
   "metadata": {},
   "outputs": [
    {
     "data": {
      "text/plain": [
       "(112975, 18)"
      ]
     },
     "execution_count": 32,
     "metadata": {},
     "output_type": "execute_result"
    }
   ],
   "source": [
    "X_train_cat.shape"
   ]
  },
  {
   "cell_type": "markdown",
   "id": "46fbb4cb-9e20-4613-9ef9-32108654a6ec",
   "metadata": {},
   "source": [
    "#### Scale continuous data"
   ]
  },
  {
   "cell_type": "code",
   "execution_count": 33,
   "id": "c8786e03-f69f-4b85-a054-6a8c499a7d66",
   "metadata": {},
   "outputs": [],
   "source": [
    "ss = StandardScaler()\n",
    "X_train_cont = ss.fit_transform(X_train_cont)\n",
    "X_test_cont = ss.transform(X_test_cont)"
   ]
  },
  {
   "cell_type": "markdown",
   "id": "7f06aeb3-9429-4106-99b7-5ac01ab58f0f",
   "metadata": {},
   "source": [
    "#### One-hot encoding categorical data"
   ]
  },
  {
   "cell_type": "code",
   "execution_count": 34,
   "id": "e44aac94-0b6f-4a8b-98b5-bf846fe62458",
   "metadata": {},
   "outputs": [],
   "source": [
    "enc = OneHotEncoder(drop='first')\n",
    "X_train_cat = enc.fit_transform(X_train_cat).toarray()\n",
    "X_test_cat = enc.transform(X_test_cat).toarray()"
   ]
  },
  {
   "cell_type": "markdown",
   "id": "0cca0790-e77b-404a-b6ac-6dc34f322e6c",
   "metadata": {},
   "source": [
    "#### Merge predictor variables back"
   ]
  },
  {
   "cell_type": "code",
   "execution_count": 35,
   "id": "e332e7c0-f409-4eca-84e1-13d470678469",
   "metadata": {},
   "outputs": [],
   "source": [
    "X_train_cont = pd.DataFrame(X_train_cont, columns = ss.get_feature_names_out())\n",
    "X_test_cont = pd.DataFrame(X_test_cont, columns = ss.get_feature_names_out())\n",
    "X_train_cat = pd.DataFrame(X_train_cat, columns = enc.get_feature_names_out())\n",
    "X_test_cat = pd.DataFrame(X_test_cat, columns = enc.get_feature_names_out())"
   ]
  },
  {
   "cell_type": "code",
   "execution_count": 36,
   "id": "7f5e2791-23d0-4953-b9d7-811b6a14ebbd",
   "metadata": {},
   "outputs": [],
   "source": [
    "X_train = X_train_cont.join(X_train_cat)\n",
    "X_test = X_test_cont.join(X_test_cat)"
   ]
  },
  {
   "cell_type": "code",
   "execution_count": 37,
   "id": "c73a3de0-976f-4301-bac6-2cb54d58bc8c",
   "metadata": {},
   "outputs": [
    {
     "data": {
      "text/plain": [
       "(112975, 609)"
      ]
     },
     "execution_count": 37,
     "metadata": {},
     "output_type": "execute_result"
    }
   ],
   "source": [
    "X_train.shape"
   ]
  },
  {
   "cell_type": "code",
   "execution_count": 38,
   "id": "4a449afd-3ce0-40b4-993b-e07e51246741",
   "metadata": {},
   "outputs": [
    {
     "data": {
      "text/plain": [
       "(37659, 609)"
      ]
     },
     "execution_count": 38,
     "metadata": {},
     "output_type": "execute_result"
    }
   ],
   "source": [
    "X_test.shape"
   ]
  },
  {
   "cell_type": "markdown",
   "id": "1df44f74-4c2e-4309-94a8-b772e3a443f4",
   "metadata": {},
   "source": [
    "## Modelling\n",
    "- Fit linear regression\n",
    "- Establish baseline score"
   ]
  },
  {
   "cell_type": "markdown",
   "id": "072f8da3-d96f-453d-a538-776ae8061169",
   "metadata": {},
   "source": [
    "Instantiate and fit the model"
   ]
  },
  {
   "cell_type": "code",
   "execution_count": 39,
   "id": "225858fb-07be-484e-b90e-c252b9f8b1a7",
   "metadata": {},
   "outputs": [
    {
     "data": {
      "text/html": [
       "<style>#sk-container-id-1 {color: black;background-color: white;}#sk-container-id-1 pre{padding: 0;}#sk-container-id-1 div.sk-toggleable {background-color: white;}#sk-container-id-1 label.sk-toggleable__label {cursor: pointer;display: block;width: 100%;margin-bottom: 0;padding: 0.3em;box-sizing: border-box;text-align: center;}#sk-container-id-1 label.sk-toggleable__label-arrow:before {content: \"▸\";float: left;margin-right: 0.25em;color: #696969;}#sk-container-id-1 label.sk-toggleable__label-arrow:hover:before {color: black;}#sk-container-id-1 div.sk-estimator:hover label.sk-toggleable__label-arrow:before {color: black;}#sk-container-id-1 div.sk-toggleable__content {max-height: 0;max-width: 0;overflow: hidden;text-align: left;background-color: #f0f8ff;}#sk-container-id-1 div.sk-toggleable__content pre {margin: 0.2em;color: black;border-radius: 0.25em;background-color: #f0f8ff;}#sk-container-id-1 input.sk-toggleable__control:checked~div.sk-toggleable__content {max-height: 200px;max-width: 100%;overflow: auto;}#sk-container-id-1 input.sk-toggleable__control:checked~label.sk-toggleable__label-arrow:before {content: \"▾\";}#sk-container-id-1 div.sk-estimator input.sk-toggleable__control:checked~label.sk-toggleable__label {background-color: #d4ebff;}#sk-container-id-1 div.sk-label input.sk-toggleable__control:checked~label.sk-toggleable__label {background-color: #d4ebff;}#sk-container-id-1 input.sk-hidden--visually {border: 0;clip: rect(1px 1px 1px 1px);clip: rect(1px, 1px, 1px, 1px);height: 1px;margin: -1px;overflow: hidden;padding: 0;position: absolute;width: 1px;}#sk-container-id-1 div.sk-estimator {font-family: monospace;background-color: #f0f8ff;border: 1px dotted black;border-radius: 0.25em;box-sizing: border-box;margin-bottom: 0.5em;}#sk-container-id-1 div.sk-estimator:hover {background-color: #d4ebff;}#sk-container-id-1 div.sk-parallel-item::after {content: \"\";width: 100%;border-bottom: 1px solid gray;flex-grow: 1;}#sk-container-id-1 div.sk-label:hover label.sk-toggleable__label {background-color: #d4ebff;}#sk-container-id-1 div.sk-serial::before {content: \"\";position: absolute;border-left: 1px solid gray;box-sizing: border-box;top: 0;bottom: 0;left: 50%;z-index: 0;}#sk-container-id-1 div.sk-serial {display: flex;flex-direction: column;align-items: center;background-color: white;padding-right: 0.2em;padding-left: 0.2em;position: relative;}#sk-container-id-1 div.sk-item {position: relative;z-index: 1;}#sk-container-id-1 div.sk-parallel {display: flex;align-items: stretch;justify-content: center;background-color: white;position: relative;}#sk-container-id-1 div.sk-item::before, #sk-container-id-1 div.sk-parallel-item::before {content: \"\";position: absolute;border-left: 1px solid gray;box-sizing: border-box;top: 0;bottom: 0;left: 50%;z-index: -1;}#sk-container-id-1 div.sk-parallel-item {display: flex;flex-direction: column;z-index: 1;position: relative;background-color: white;}#sk-container-id-1 div.sk-parallel-item:first-child::after {align-self: flex-end;width: 50%;}#sk-container-id-1 div.sk-parallel-item:last-child::after {align-self: flex-start;width: 50%;}#sk-container-id-1 div.sk-parallel-item:only-child::after {width: 0;}#sk-container-id-1 div.sk-dashed-wrapped {border: 1px dashed gray;margin: 0 0.4em 0.5em 0.4em;box-sizing: border-box;padding-bottom: 0.4em;background-color: white;}#sk-container-id-1 div.sk-label label {font-family: monospace;font-weight: bold;display: inline-block;line-height: 1.2em;}#sk-container-id-1 div.sk-label-container {text-align: center;}#sk-container-id-1 div.sk-container {/* jupyter's `normalize.less` sets `[hidden] { display: none; }` but bootstrap.min.css set `[hidden] { display: none !important; }` so we also need the `!important` here to be able to override the default hidden behavior on the sphinx rendered scikit-learn.org. See: https://github.com/scikit-learn/scikit-learn/issues/21755 */display: inline-block !important;position: relative;}#sk-container-id-1 div.sk-text-repr-fallback {display: none;}</style><div id=\"sk-container-id-1\" class=\"sk-top-container\"><div class=\"sk-text-repr-fallback\"><pre>LinearRegression()</pre><b>In a Jupyter environment, please rerun this cell to show the HTML representation or trust the notebook. <br />On GitHub, the HTML representation is unable to render, please try loading this page with nbviewer.org.</b></div><div class=\"sk-container\" hidden><div class=\"sk-item\"><div class=\"sk-estimator sk-toggleable\"><input class=\"sk-toggleable__control sk-hidden--visually\" id=\"sk-estimator-id-1\" type=\"checkbox\" checked><label for=\"sk-estimator-id-1\" class=\"sk-toggleable__label sk-toggleable__label-arrow\">LinearRegression</label><div class=\"sk-toggleable__content\"><pre>LinearRegression()</pre></div></div></div></div></div>"
      ],
      "text/plain": [
       "LinearRegression()"
      ]
     },
     "execution_count": 39,
     "metadata": {},
     "output_type": "execute_result"
    }
   ],
   "source": [
    "lr = LinearRegression()\n",
    "lr.fit(X_train, y_train)"
   ]
  },
  {
   "cell_type": "markdown",
   "id": "924c577f-11c0-4fc7-ad33-428dfa7f004c",
   "metadata": {},
   "source": [
    "Evaluate model - establish baseline score"
   ]
  },
  {
   "cell_type": "code",
   "execution_count": 40,
   "id": "3983f580-57fd-4a3a-988a-74abe98b91b8",
   "metadata": {},
   "outputs": [
    {
     "data": {
      "text/plain": [
       "0.9250891476749593"
      ]
     },
     "execution_count": 40,
     "metadata": {},
     "output_type": "execute_result"
    }
   ],
   "source": [
    "# Train score\n",
    "lr.score(X_train, y_train)"
   ]
  },
  {
   "cell_type": "code",
   "execution_count": 41,
   "id": "c62bc802-1f7b-4502-9b07-7a6dae3f26fd",
   "metadata": {},
   "outputs": [
    {
     "data": {
      "text/plain": [
       "0.9232554943456289"
      ]
     },
     "execution_count": 41,
     "metadata": {},
     "output_type": "execute_result"
    }
   ],
   "source": [
    "# Test score\n",
    "lr.score(X_test, y_test)"
   ]
  },
  {
   "cell_type": "markdown",
   "id": "2d7b4769-ef95-42e6-8803-7861b3746b53",
   "metadata": {},
   "source": [
    "## Making Predictions"
   ]
  },
  {
   "cell_type": "code",
   "execution_count": 42,
   "id": "6dc8f5c3-5708-4537-9ef5-74d627ef8b9a",
   "metadata": {},
   "outputs": [
    {
     "name": "stdout",
     "output_type": "stream",
     "text": [
      "37659\n"
     ]
    },
    {
     "data": {
      "text/plain": [
       "array([459250.5 , 466056.25, 702361.25, ..., 234155.5 , 392223.  ,\n",
       "       388522.5 ])"
      ]
     },
     "execution_count": 42,
     "metadata": {},
     "output_type": "execute_result"
    }
   ],
   "source": [
    "y_preds = lr.predict(X_test)\n",
    "print(len(y_preds))\n",
    "y_preds"
   ]
  },
  {
   "cell_type": "markdown",
   "id": "a81c369e-bca0-4405-9a37-4ba0caab140b",
   "metadata": {},
   "source": [
    "Evaluate using RMSE (for Kaggle comparison)"
   ]
  },
  {
   "cell_type": "code",
   "execution_count": 43,
   "id": "e159d2fe-1e71-4e1f-acfa-61d7e0bfd3b6",
   "metadata": {},
   "outputs": [
    {
     "data": {
      "text/plain": [
       "39773.92434270006"
      ]
     },
     "execution_count": 43,
     "metadata": {},
     "output_type": "execute_result"
    }
   ],
   "source": [
    "np.sqrt(metrics.mean_squared_error(y_test, y_preds))"
   ]
  },
  {
   "cell_type": "markdown",
   "id": "e276b2ed-4559-4e04-9ed5-5d8cf5f2c93e",
   "metadata": {},
   "source": [
    "## Kaggle Data Preparation"
   ]
  },
  {
   "cell_type": "code",
   "execution_count": 44,
   "id": "dda53c2b-c86c-4a68-91cc-720d2ade6bb8",
   "metadata": {},
   "outputs": [
    {
     "name": "stdout",
     "output_type": "stream",
     "text": [
      "(16737, 64)\n"
     ]
    },
    {
     "data": {
      "text/html": [
       "<div>\n",
       "<style scoped>\n",
       "    .dataframe tbody tr th:only-of-type {\n",
       "        vertical-align: middle;\n",
       "    }\n",
       "\n",
       "    .dataframe tbody tr th {\n",
       "        vertical-align: top;\n",
       "    }\n",
       "\n",
       "    .dataframe thead th {\n",
       "        text-align: right;\n",
       "    }\n",
       "</style>\n",
       "<table border=\"1\" class=\"dataframe\">\n",
       "  <thead>\n",
       "    <tr style=\"text-align: right;\">\n",
       "      <th></th>\n",
       "      <th>flat_type</th>\n",
       "      <th>storey_range</th>\n",
       "      <th>floor_area_sqm</th>\n",
       "      <th>flat_model</th>\n",
       "      <th>lease_commence_year</th>\n",
       "      <th>tranc_year</th>\n",
       "      <th>tranc_month</th>\n",
       "      <th>lower_storey_range</th>\n",
       "      <th>upper_storey_range</th>\n",
       "      <th>mid_storey_range</th>\n",
       "      <th>...</th>\n",
       "      <th>vacancy</th>\n",
       "      <th>pri_sch_affiliation</th>\n",
       "      <th>pri_sch_latitude</th>\n",
       "      <th>pri_sch_longitude</th>\n",
       "      <th>sec_sch_nearest_dist</th>\n",
       "      <th>sec_sch_name</th>\n",
       "      <th>cutoff_point</th>\n",
       "      <th>affiliation</th>\n",
       "      <th>sec_sch_latitude</th>\n",
       "      <th>sec_sch_longitude</th>\n",
       "    </tr>\n",
       "  </thead>\n",
       "  <tbody>\n",
       "    <tr>\n",
       "      <th>0</th>\n",
       "      <td>4 ROOM</td>\n",
       "      <td>07 TO 09</td>\n",
       "      <td>84.0</td>\n",
       "      <td>Simplified</td>\n",
       "      <td>1987</td>\n",
       "      <td>2012</td>\n",
       "      <td>11</td>\n",
       "      <td>7</td>\n",
       "      <td>9</td>\n",
       "      <td>8</td>\n",
       "      <td>...</td>\n",
       "      <td>92</td>\n",
       "      <td>False</td>\n",
       "      <td>1.433681</td>\n",
       "      <td>103.832924</td>\n",
       "      <td>156.322353</td>\n",
       "      <td>Ahmad Ibrahim Secondary School</td>\n",
       "      <td>218</td>\n",
       "      <td>False</td>\n",
       "      <td>1.436235</td>\n",
       "      <td>103.829987</td>\n",
       "    </tr>\n",
       "    <tr>\n",
       "      <th>1</th>\n",
       "      <td>5 ROOM</td>\n",
       "      <td>04 TO 06</td>\n",
       "      <td>112.0</td>\n",
       "      <td>Premium Apartment</td>\n",
       "      <td>2008</td>\n",
       "      <td>2019</td>\n",
       "      <td>8</td>\n",
       "      <td>4</td>\n",
       "      <td>6</td>\n",
       "      <td>5</td>\n",
       "      <td>...</td>\n",
       "      <td>45</td>\n",
       "      <td>False</td>\n",
       "      <td>1.339244</td>\n",
       "      <td>103.698896</td>\n",
       "      <td>739.371688</td>\n",
       "      <td>Jurong West Secondary School</td>\n",
       "      <td>199</td>\n",
       "      <td>False</td>\n",
       "      <td>1.335256</td>\n",
       "      <td>103.702098</td>\n",
       "    </tr>\n",
       "  </tbody>\n",
       "</table>\n",
       "<p>2 rows × 64 columns</p>\n",
       "</div>"
      ],
      "text/plain": [
       "  flat_type storey_range  floor_area_sqm         flat_model  \\\n",
       "0    4 ROOM     07 TO 09            84.0         Simplified   \n",
       "1    5 ROOM     04 TO 06           112.0  Premium Apartment   \n",
       "\n",
       "   lease_commence_year  tranc_year  tranc_month  lower_storey_range  \\\n",
       "0                 1987        2012           11                   7   \n",
       "1                 2008        2019            8                   4   \n",
       "\n",
       "   upper_storey_range  mid_storey_range  ...  vacancy  pri_sch_affiliation  \\\n",
       "0                   9                 8  ...       92                False   \n",
       "1                   6                 5  ...       45                False   \n",
       "\n",
       "   pri_sch_latitude  pri_sch_longitude  sec_sch_nearest_dist  \\\n",
       "0          1.433681         103.832924            156.322353   \n",
       "1          1.339244         103.698896            739.371688   \n",
       "\n",
       "                     sec_sch_name  cutoff_point  affiliation  \\\n",
       "0  Ahmad Ibrahim Secondary School           218        False   \n",
       "1    Jurong West Secondary School           199        False   \n",
       "\n",
       "   sec_sch_latitude  sec_sch_longitude  \n",
       "0          1.436235         103.829987  \n",
       "1          1.335256         103.702098  \n",
       "\n",
       "[2 rows x 64 columns]"
      ]
     },
     "execution_count": 44,
     "metadata": {},
     "output_type": "execute_result"
    }
   ],
   "source": [
    "# Load test data\n",
    "housing_test = pd.read_csv('./output/housing_test.csv')\n",
    "print(housing_test.shape)\n",
    "housing_test.head(2)"
   ]
  },
  {
   "cell_type": "code",
   "execution_count": 45,
   "id": "86cd4adc-cd27-41e2-b7e3-3630868530af",
   "metadata": {
    "scrolled": true,
    "tags": []
   },
   "outputs": [
    {
     "name": "stdout",
     "output_type": "stream",
     "text": [
      "<class 'pandas.core.frame.DataFrame'>\n",
      "RangeIndex: 16737 entries, 0 to 16736\n",
      "Data columns (total 64 columns):\n",
      " #   Column                     Non-Null Count  Dtype  \n",
      "---  ------                     --------------  -----  \n",
      " 0   flat_type                  16737 non-null  object \n",
      " 1   storey_range               16737 non-null  object \n",
      " 2   floor_area_sqm             16737 non-null  float64\n",
      " 3   flat_model                 16737 non-null  object \n",
      " 4   lease_commence_year        16737 non-null  int64  \n",
      " 5   tranc_year                 16737 non-null  int64  \n",
      " 6   tranc_month                16737 non-null  int64  \n",
      " 7   lower_storey_range         16737 non-null  int64  \n",
      " 8   upper_storey_range         16737 non-null  int64  \n",
      " 9   mid_storey_range           16737 non-null  int64  \n",
      " 10  floor_area_sqft            16737 non-null  float64\n",
      " 11  hdb_age                    16737 non-null  int64  \n",
      " 12  max_floor_lvl              16737 non-null  int64  \n",
      " 13  year_completed             16737 non-null  int64  \n",
      " 14  commercial                 16737 non-null  bool   \n",
      " 15  market_hawker              16737 non-null  bool   \n",
      " 16  multistorey_carpark        16737 non-null  bool   \n",
      " 17  precinct_pavilion          16737 non-null  bool   \n",
      " 18  total_dwelling_units       16737 non-null  int64  \n",
      " 19  1room_res                  16737 non-null  int64  \n",
      " 20  2room_res                  16737 non-null  int64  \n",
      " 21  3room_res                  16737 non-null  int64  \n",
      " 22  4room_res                  16737 non-null  int64  \n",
      " 23  5room_res                  16737 non-null  int64  \n",
      " 24  exec_res                   16737 non-null  int64  \n",
      " 25  multigen_res               16737 non-null  int64  \n",
      " 26  studio_res                 16737 non-null  int64  \n",
      " 27  1room_rental               16737 non-null  int64  \n",
      " 28  2room_rental               16737 non-null  int64  \n",
      " 29  3room_rental               16737 non-null  int64  \n",
      " 30  other_room_rental          16737 non-null  int64  \n",
      " 31  latitude                   16737 non-null  float64\n",
      " 32  longitude                  16737 non-null  float64\n",
      " 33  planning_area              16737 non-null  object \n",
      " 34  mall_500m                  16737 non-null  int64  \n",
      " 35  mall_1km                   16737 non-null  int64  \n",
      " 36  mall_2km                   16737 non-null  int64  \n",
      " 37  hawker_nearest_distance    16737 non-null  float64\n",
      " 38  hawker_500m                16737 non-null  int64  \n",
      " 39  hawker_1km                 16737 non-null  int64  \n",
      " 40  hawker_2km                 16737 non-null  int64  \n",
      " 41  hawker_stalls              16737 non-null  int64  \n",
      " 42  hawker_market_stalls       16737 non-null  int64  \n",
      " 43  mrt_nearest_distance       16737 non-null  float64\n",
      " 44  mrt_name                   16737 non-null  object \n",
      " 45  mrt_bus_interchange        16737 non-null  bool   \n",
      " 46  mrt_interchange            16737 non-null  bool   \n",
      " 47  mrt_latitude               16737 non-null  float64\n",
      " 48  mrt_longitude              16737 non-null  float64\n",
      " 49  bus_stop_nearest_distance  16737 non-null  float64\n",
      " 50  bus_stop_latitude          16737 non-null  float64\n",
      " 51  bus_stop_longitude         16737 non-null  float64\n",
      " 52  pri_sch_nearest_distance   16737 non-null  float64\n",
      " 53  pri_sch_name               16737 non-null  object \n",
      " 54  vacancy                    16737 non-null  int64  \n",
      " 55  pri_sch_affiliation        16737 non-null  bool   \n",
      " 56  pri_sch_latitude           16737 non-null  float64\n",
      " 57  pri_sch_longitude          16737 non-null  float64\n",
      " 58  sec_sch_nearest_dist       16737 non-null  float64\n",
      " 59  sec_sch_name               16737 non-null  object \n",
      " 60  cutoff_point               16737 non-null  int64  \n",
      " 61  affiliation                16737 non-null  bool   \n",
      " 62  sec_sch_latitude           16737 non-null  float64\n",
      " 63  sec_sch_longitude          16737 non-null  float64\n",
      "dtypes: bool(8), float64(17), int64(32), object(7)\n",
      "memory usage: 7.3+ MB\n"
     ]
    }
   ],
   "source": [
    "# Check datatypes\n",
    "housing_test.info()"
   ]
  },
  {
   "cell_type": "code",
   "execution_count": 46,
   "id": "2baa840c-0b2a-4cc1-9156-52df17a2b3bb",
   "metadata": {
    "scrolled": true,
    "tags": []
   },
   "outputs": [
    {
     "name": "stdout",
     "output_type": "stream",
     "text": [
      "<class 'pandas.core.frame.DataFrame'>\n",
      "RangeIndex: 16737 entries, 0 to 16736\n",
      "Data columns (total 64 columns):\n",
      " #   Column                     Non-Null Count  Dtype  \n",
      "---  ------                     --------------  -----  \n",
      " 0   flat_type                  16737 non-null  object \n",
      " 1   storey_range               16737 non-null  object \n",
      " 2   floor_area_sqm             16737 non-null  float64\n",
      " 3   flat_model                 16737 non-null  object \n",
      " 4   lease_commence_year        16737 non-null  object \n",
      " 5   tranc_year                 16737 non-null  object \n",
      " 6   tranc_month                16737 non-null  object \n",
      " 7   lower_storey_range         16737 non-null  int64  \n",
      " 8   upper_storey_range         16737 non-null  int64  \n",
      " 9   mid_storey_range           16737 non-null  int64  \n",
      " 10  floor_area_sqft            16737 non-null  float64\n",
      " 11  hdb_age                    16737 non-null  int64  \n",
      " 12  max_floor_lvl              16737 non-null  int64  \n",
      " 13  year_completed             16737 non-null  int64  \n",
      " 14  commercial                 16737 non-null  bool   \n",
      " 15  market_hawker              16737 non-null  bool   \n",
      " 16  multistorey_carpark        16737 non-null  bool   \n",
      " 17  precinct_pavilion          16737 non-null  bool   \n",
      " 18  total_dwelling_units       16737 non-null  int64  \n",
      " 19  1room_res                  16737 non-null  int64  \n",
      " 20  2room_res                  16737 non-null  int64  \n",
      " 21  3room_res                  16737 non-null  int64  \n",
      " 22  4room_res                  16737 non-null  int64  \n",
      " 23  5room_res                  16737 non-null  int64  \n",
      " 24  exec_res                   16737 non-null  int64  \n",
      " 25  multigen_res               16737 non-null  int64  \n",
      " 26  studio_res                 16737 non-null  int64  \n",
      " 27  1room_rental               16737 non-null  int64  \n",
      " 28  2room_rental               16737 non-null  int64  \n",
      " 29  3room_rental               16737 non-null  int64  \n",
      " 30  other_room_rental          16737 non-null  int64  \n",
      " 31  latitude                   16737 non-null  float64\n",
      " 32  longitude                  16737 non-null  float64\n",
      " 33  planning_area              16737 non-null  object \n",
      " 34  mall_500m                  16737 non-null  int64  \n",
      " 35  mall_1km                   16737 non-null  int64  \n",
      " 36  mall_2km                   16737 non-null  int64  \n",
      " 37  hawker_nearest_distance    16737 non-null  float64\n",
      " 38  hawker_500m                16737 non-null  int64  \n",
      " 39  hawker_1km                 16737 non-null  int64  \n",
      " 40  hawker_2km                 16737 non-null  int64  \n",
      " 41  hawker_stalls              16737 non-null  int64  \n",
      " 42  hawker_market_stalls       16737 non-null  int64  \n",
      " 43  mrt_nearest_distance       16737 non-null  float64\n",
      " 44  mrt_name                   16737 non-null  object \n",
      " 45  mrt_bus_interchange        16737 non-null  bool   \n",
      " 46  mrt_interchange            16737 non-null  bool   \n",
      " 47  mrt_latitude               16737 non-null  float64\n",
      " 48  mrt_longitude              16737 non-null  float64\n",
      " 49  bus_stop_nearest_distance  16737 non-null  float64\n",
      " 50  bus_stop_latitude          16737 non-null  float64\n",
      " 51  bus_stop_longitude         16737 non-null  float64\n",
      " 52  pri_sch_nearest_distance   16737 non-null  float64\n",
      " 53  pri_sch_name               16737 non-null  object \n",
      " 54  vacancy                    16737 non-null  int64  \n",
      " 55  pri_sch_affiliation        16737 non-null  bool   \n",
      " 56  pri_sch_latitude           16737 non-null  float64\n",
      " 57  pri_sch_longitude          16737 non-null  float64\n",
      " 58  sec_sch_nearest_dist       16737 non-null  float64\n",
      " 59  sec_sch_name               16737 non-null  object \n",
      " 60  cutoff_point               16737 non-null  int64  \n",
      " 61  affiliation                16737 non-null  bool   \n",
      " 62  sec_sch_latitude           16737 non-null  float64\n",
      " 63  sec_sch_longitude          16737 non-null  float64\n",
      "dtypes: bool(8), float64(17), int64(29), object(10)\n",
      "memory usage: 7.3+ MB\n"
     ]
    }
   ],
   "source": [
    "# Datatypes to do with time are changed to string datatypes so that they can be one hot encoded later\n",
    "housing_test = housing_test.astype({'lease_commence_year':'object', 'tranc_year':'object', 'tranc_month':'object'})\n",
    "housing_test.info()"
   ]
  },
  {
   "cell_type": "markdown",
   "id": "c0a479da-6f62-4140-888b-478d04c8d9ee",
   "metadata": {},
   "source": [
    "#### Separate predictor variables based on datatypes"
   ]
  },
  {
   "cell_type": "code",
   "execution_count": 47,
   "id": "0eb149a8-bcd8-422c-87ac-8ce033a92670",
   "metadata": {},
   "outputs": [],
   "source": [
    "housing_test_cont = housing_test.select_dtypes(include=['int64', 'float64'])\n",
    "housing_test_cat = housing_test.select_dtypes(include=['object', 'bool'])"
   ]
  },
  {
   "cell_type": "markdown",
   "id": "f315bb2a-7ecc-4beb-ad17-b33c520c4394",
   "metadata": {},
   "source": [
    "#### Scale continuous data"
   ]
  },
  {
   "cell_type": "code",
   "execution_count": 48,
   "id": "1beacf12-5375-4cd5-808a-8202e44c6941",
   "metadata": {},
   "outputs": [],
   "source": [
    "housing_test_cont = ss.transform(housing_test_cont)"
   ]
  },
  {
   "cell_type": "markdown",
   "id": "ec0741cf-da49-43f5-a516-66d194bed07a",
   "metadata": {},
   "source": [
    "#### One-hot encoding categorical data"
   ]
  },
  {
   "cell_type": "code",
   "execution_count": 49,
   "id": "4efdfd31-9c0d-4a6a-9842-96b1421dbcd1",
   "metadata": {},
   "outputs": [],
   "source": [
    "housing_test_cat = enc.transform(housing_test_cat).toarray()"
   ]
  },
  {
   "cell_type": "markdown",
   "id": "25b449cb-6be5-4e51-9ad7-0281d604d0f5",
   "metadata": {},
   "source": [
    "#### Merge predictor variables back"
   ]
  },
  {
   "cell_type": "code",
   "execution_count": 50,
   "id": "82f09035-8ad8-4429-abba-2376f8fc27dc",
   "metadata": {},
   "outputs": [],
   "source": [
    "housing_test_cont = pd.DataFrame(housing_test_cont, columns = ss.get_feature_names_out())\n",
    "housing_test_cat = pd.DataFrame(housing_test_cat, columns = enc.get_feature_names_out())"
   ]
  },
  {
   "cell_type": "code",
   "execution_count": 51,
   "id": "0bef70ea-a05d-4355-9168-6a6d34adcf56",
   "metadata": {},
   "outputs": [],
   "source": [
    "housing_test = housing_test_cont.join(housing_test_cat)"
   ]
  },
  {
   "cell_type": "markdown",
   "id": "3129ebdb-da8f-4ea2-94bf-9332b4c21868",
   "metadata": {},
   "source": [
    "#### Making predictions"
   ]
  },
  {
   "cell_type": "code",
   "execution_count": 52,
   "id": "9b8d056c-1b30-428f-87b8-8aeb6b8ba8cb",
   "metadata": {},
   "outputs": [
    {
     "name": "stdout",
     "output_type": "stream",
     "text": [
      "16737\n"
     ]
    },
    {
     "data": {
      "text/plain": [
       "array([381330.  , 477694.  , 375097.  , ..., 379955.25, 511474.5 ,\n",
       "       396626.  ])"
      ]
     },
     "execution_count": 52,
     "metadata": {},
     "output_type": "execute_result"
    }
   ],
   "source": [
    "housing_test_preds = lr.predict(housing_test)\n",
    "print(len(housing_test_preds))\n",
    "housing_test_preds"
   ]
  },
  {
   "cell_type": "markdown",
   "id": "2ce1cb53-ccf9-4f47-99ac-158f405d5e26",
   "metadata": {},
   "source": [
    "#### Load submission format"
   ]
  },
  {
   "cell_type": "code",
   "execution_count": 53,
   "id": "5004a176-82ff-4058-915a-24c59c93fb9f",
   "metadata": {},
   "outputs": [
    {
     "name": "stdout",
     "output_type": "stream",
     "text": [
      "(16737, 2)\n"
     ]
    },
    {
     "data": {
      "text/html": [
       "<div>\n",
       "<style scoped>\n",
       "    .dataframe tbody tr th:only-of-type {\n",
       "        vertical-align: middle;\n",
       "    }\n",
       "\n",
       "    .dataframe tbody tr th {\n",
       "        vertical-align: top;\n",
       "    }\n",
       "\n",
       "    .dataframe thead th {\n",
       "        text-align: right;\n",
       "    }\n",
       "</style>\n",
       "<table border=\"1\" class=\"dataframe\">\n",
       "  <thead>\n",
       "    <tr style=\"text-align: right;\">\n",
       "      <th></th>\n",
       "      <th>Id</th>\n",
       "      <th>Predicted</th>\n",
       "    </tr>\n",
       "  </thead>\n",
       "  <tbody>\n",
       "    <tr>\n",
       "      <th>0</th>\n",
       "      <td>114982</td>\n",
       "      <td>500000</td>\n",
       "    </tr>\n",
       "    <tr>\n",
       "      <th>1</th>\n",
       "      <td>95653</td>\n",
       "      <td>500000</td>\n",
       "    </tr>\n",
       "    <tr>\n",
       "      <th>2</th>\n",
       "      <td>40303</td>\n",
       "      <td>500000</td>\n",
       "    </tr>\n",
       "    <tr>\n",
       "      <th>3</th>\n",
       "      <td>109506</td>\n",
       "      <td>500000</td>\n",
       "    </tr>\n",
       "    <tr>\n",
       "      <th>4</th>\n",
       "      <td>100149</td>\n",
       "      <td>500000</td>\n",
       "    </tr>\n",
       "  </tbody>\n",
       "</table>\n",
       "</div>"
      ],
      "text/plain": [
       "       Id  Predicted\n",
       "0  114982     500000\n",
       "1   95653     500000\n",
       "2   40303     500000\n",
       "3  109506     500000\n",
       "4  100149     500000"
      ]
     },
     "execution_count": 53,
     "metadata": {},
     "output_type": "execute_result"
    }
   ],
   "source": [
    "submission = pd.read_csv('../datasets/sample_sub_reg.csv')\n",
    "print(submission.shape)\n",
    "submission.head()"
   ]
  },
  {
   "cell_type": "code",
   "execution_count": 54,
   "id": "d3010905-af51-48d9-8fc1-394eef9f1374",
   "metadata": {},
   "outputs": [],
   "source": [
    "submission['Predicted'] = housing_test_preds"
   ]
  },
  {
   "cell_type": "code",
   "execution_count": 55,
   "id": "fe77109b-6fb4-4bae-81fd-89da5ca2fff9",
   "metadata": {},
   "outputs": [
    {
     "data": {
      "text/html": [
       "<div>\n",
       "<style scoped>\n",
       "    .dataframe tbody tr th:only-of-type {\n",
       "        vertical-align: middle;\n",
       "    }\n",
       "\n",
       "    .dataframe tbody tr th {\n",
       "        vertical-align: top;\n",
       "    }\n",
       "\n",
       "    .dataframe thead th {\n",
       "        text-align: right;\n",
       "    }\n",
       "</style>\n",
       "<table border=\"1\" class=\"dataframe\">\n",
       "  <thead>\n",
       "    <tr style=\"text-align: right;\">\n",
       "      <th></th>\n",
       "      <th>Id</th>\n",
       "      <th>Predicted</th>\n",
       "    </tr>\n",
       "  </thead>\n",
       "  <tbody>\n",
       "    <tr>\n",
       "      <th>0</th>\n",
       "      <td>114982</td>\n",
       "      <td>381330.00</td>\n",
       "    </tr>\n",
       "    <tr>\n",
       "      <th>1</th>\n",
       "      <td>95653</td>\n",
       "      <td>477694.00</td>\n",
       "    </tr>\n",
       "    <tr>\n",
       "      <th>2</th>\n",
       "      <td>40303</td>\n",
       "      <td>375097.00</td>\n",
       "    </tr>\n",
       "    <tr>\n",
       "      <th>3</th>\n",
       "      <td>109506</td>\n",
       "      <td>293758.75</td>\n",
       "    </tr>\n",
       "    <tr>\n",
       "      <th>4</th>\n",
       "      <td>100149</td>\n",
       "      <td>423048.00</td>\n",
       "    </tr>\n",
       "  </tbody>\n",
       "</table>\n",
       "</div>"
      ],
      "text/plain": [
       "       Id  Predicted\n",
       "0  114982  381330.00\n",
       "1   95653  477694.00\n",
       "2   40303  375097.00\n",
       "3  109506  293758.75\n",
       "4  100149  423048.00"
      ]
     },
     "execution_count": 55,
     "metadata": {},
     "output_type": "execute_result"
    }
   ],
   "source": [
    "submission.head()"
   ]
  },
  {
   "cell_type": "markdown",
   "id": "ba2d03cb-3160-428c-9c4c-2ce3e19c2722",
   "metadata": {},
   "source": [
    "#### Save and export submission data"
   ]
  },
  {
   "cell_type": "code",
   "execution_count": 57,
   "id": "0600d4d9-8005-4ac0-9bbe-ee473c4b5fdd",
   "metadata": {},
   "outputs": [],
   "source": [
    "import os\n",
    "if not os.path.exists('output'):\n",
    "    os.makedirs('output')\n",
    "submission.to_csv('output/submission0.csv', index=False)"
   ]
  },
  {
   "cell_type": "code",
   "execution_count": null,
   "id": "2117a571-bfa3-4138-865a-db045eb8009b",
   "metadata": {},
   "outputs": [],
   "source": []
  }
 ],
 "metadata": {
  "kernelspec": {
   "display_name": "Python 3 (ipykernel)",
   "language": "python",
   "name": "python3"
  },
  "language_info": {
   "codemirror_mode": {
    "name": "ipython",
    "version": 3
   },
   "file_extension": ".py",
   "mimetype": "text/x-python",
   "name": "python",
   "nbconvert_exporter": "python",
   "pygments_lexer": "ipython3",
   "version": "3.8.13"
  }
 },
 "nbformat": 4,
 "nbformat_minor": 5
}

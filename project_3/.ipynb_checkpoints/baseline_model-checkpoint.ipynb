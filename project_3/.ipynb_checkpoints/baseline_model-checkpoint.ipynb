{
 "cells": [
  {
   "cell_type": "markdown",
   "id": "ba6c18ea-68aa-4e49-a446-f625b2692859",
   "metadata": {},
   "source": [
    "<img src=\"http://imgur.com/1ZcRyrc.png\" style=\"float: left; margin: 20px; height: 55px\">\n",
    "\n",
    "# Project 3: Web APIs & NLP"
   ]
  },
  {
   "cell_type": "markdown",
   "id": "3c10b1e4-41c0-4cfa-84ad-890ffbdee34a",
   "metadata": {},
   "source": [
    "### Contents:\n",
    "- [Problem Statement](#Problem-Statement)\n",
    "- [Data Dictionary](#Data-Dictionary)\n",
    "- [Loading of Libraries](#Loading-of-Libraries) \n",
    "- [Baseline Model](#Baseline-Model)\n",
    "  - [Data Import and Cleaning](#Data-Import-and-Cleaning)\n",
    "  - [Data Preprocessing](#Data-Preprocessing)\n",
    "  - [Modelling](#Modelling)\n",
    "- [Making Predictions](#Making-Predictions)\n",
    "- [Kaggle Data Preparation](#Kaggle-Data-Preparation)"
   ]
  },
  {
   "cell_type": "markdown",
   "id": "b4189a85-39c0-41cf-ab26-b6ce73c03030",
   "metadata": {},
   "source": [
    "## Problem Statement"
   ]
  },
  {
   "cell_type": "markdown",
   "id": "03d0cff2-99e4-455d-9fe1-b707ec9dc5c6",
   "metadata": {},
   "source": [
    "With the rise of chatbots across different online platforms to answer to customers' queries, there is a need for the queries to be directed to the correct channel or customer service support so that they can be resolved timely. With technology being so readily available nowadays, the volume of such queries However, some queries might not be phrased in a matter to allow them to be directed to the appropriate channels. \n",
    "\n",
    "In land-scarce Singapore, housing not only provides a roof over people’s heads but also works out to be one of the largest assets families hold over their lifetimes. However, choosing a property which has a high-yield potential is no easy feat.\n",
    "\n",
    "We are a team of data scientists working for a property investment company seeking to help meet the higher aspirations of rising middle to upper-middle class Singaporeans who might otherwise be outpriced in the private property market. We are tasked to build a housing price prediction model to help prospective homeowners find a home which aim to flip public housing for monetary gain."
   ]
  },
  {
   "cell_type": "code",
   "execution_count": 86,
   "id": "c1a39214-5107-4ca7-8683-05e579c15b51",
   "metadata": {},
   "outputs": [],
   "source": [
    "# Import libraries\n",
    "import pandas as pd\n",
    "import matplotlib.pyplot as plt\n",
    "import seaborn as sns\n",
    "from sklearn.model_selection import train_test_split, cross_val_score, GridSearchCV # split our data and run hyperparameter search\n",
    "from sklearn.pipeline import Pipeline # to compactly pack multiple modeling operations\n",
    "from sklearn.naive_bayes import MultinomialNB # to build our classification model\n",
    "from sklearn.metrics import confusion_matrix, ConfusionMatrixDisplay, accuracy_score, RocCurveDisplay, roc_auc_score, recall_score, precision_score, f1_score, classification_report # to access results from binary classification task\n",
    " \n",
    "# Import CountVectorizer and TFIDFVectorizer from feature_extraction.text module in sklearn.\n",
    "from sklearn.feature_extraction.text import CountVectorizer"
   ]
  },
  {
   "cell_type": "markdown",
   "id": "ab237fe2-b69b-4171-96a9-61fff11ec6f2",
   "metadata": {},
   "source": [
    "## Dataset preparation"
   ]
  },
  {
   "cell_type": "code",
   "execution_count": 2,
   "id": "ac848a0a-28ab-4f7c-b2c7-941fe41c58d1",
   "metadata": {
    "scrolled": true,
    "tags": []
   },
   "outputs": [
    {
     "name": "stdout",
     "output_type": "stream",
     "text": [
      "(643, 3)\n"
     ]
    },
    {
     "data": {
      "text/html": [
       "<div>\n",
       "<style scoped>\n",
       "    .dataframe tbody tr th:only-of-type {\n",
       "        vertical-align: middle;\n",
       "    }\n",
       "\n",
       "    .dataframe tbody tr th {\n",
       "        vertical-align: top;\n",
       "    }\n",
       "\n",
       "    .dataframe thead th {\n",
       "        text-align: right;\n",
       "    }\n",
       "</style>\n",
       "<table border=\"1\" class=\"dataframe\">\n",
       "  <thead>\n",
       "    <tr style=\"text-align: right;\">\n",
       "      <th></th>\n",
       "      <th>title</th>\n",
       "      <th>link</th>\n",
       "      <th>reply</th>\n",
       "    </tr>\n",
       "  </thead>\n",
       "  <tbody>\n",
       "    <tr>\n",
       "      <th>0</th>\n",
       "      <td>2020 Biz Class Amenity Kit</td>\n",
       "      <td>http://www.sqtalk.com/forum/forum/singapore-ai...</td>\n",
       "      <td>https://milelion.com/2020/09/30/conf...amenit...</td>\n",
       "    </tr>\n",
       "    <tr>\n",
       "      <th>1</th>\n",
       "      <td>2020 Biz Class Amenity Kit</td>\n",
       "      <td>http://www.sqtalk.com/forum/forum/singapore-ai...</td>\n",
       "      <td>Originally posted by jammed View Post https:/...</td>\n",
       "    </tr>\n",
       "    <tr>\n",
       "      <th>2</th>\n",
       "      <td>2020 Biz Class Amenity Kit</td>\n",
       "      <td>http://www.sqtalk.com/forum/forum/singapore-ai...</td>\n",
       "      <td>I’ll report back in 3 week’s time if they are...</td>\n",
       "    </tr>\n",
       "    <tr>\n",
       "      <th>3</th>\n",
       "      <td>2020 Biz Class Amenity Kit</td>\n",
       "      <td>http://www.sqtalk.com/forum/forum/singapore-ai...</td>\n",
       "      <td>As we are now in an age of reducing waste thi...</td>\n",
       "    </tr>\n",
       "    <tr>\n",
       "      <th>4</th>\n",
       "      <td>2020 Biz Class Amenity Kit</td>\n",
       "      <td>http://www.sqtalk.com/forum/forum/singapore-ai...</td>\n",
       "      <td>Originally posted by yflyer View Post - I alw...</td>\n",
       "    </tr>\n",
       "  </tbody>\n",
       "</table>\n",
       "</div>"
      ],
      "text/plain": [
       "                        title  \\\n",
       "0  2020 Biz Class Amenity Kit   \n",
       "1  2020 Biz Class Amenity Kit   \n",
       "2  2020 Biz Class Amenity Kit   \n",
       "3  2020 Biz Class Amenity Kit   \n",
       "4  2020 Biz Class Amenity Kit   \n",
       "\n",
       "                                                link  \\\n",
       "0  http://www.sqtalk.com/forum/forum/singapore-ai...   \n",
       "1  http://www.sqtalk.com/forum/forum/singapore-ai...   \n",
       "2  http://www.sqtalk.com/forum/forum/singapore-ai...   \n",
       "3  http://www.sqtalk.com/forum/forum/singapore-ai...   \n",
       "4  http://www.sqtalk.com/forum/forum/singapore-ai...   \n",
       "\n",
       "                                               reply  \n",
       "0   https://milelion.com/2020/09/30/conf...amenit...  \n",
       "1   Originally posted by jammed View Post https:/...  \n",
       "2   I’ll report back in 3 week’s time if they are...  \n",
       "3   As we are now in an age of reducing waste thi...  \n",
       "4   Originally posted by yflyer View Post - I alw...  "
      ]
     },
     "execution_count": 2,
     "metadata": {},
     "output_type": "execute_result"
    }
   ],
   "source": [
    "# Load dataset\n",
    "amenity = pd.read_csv('amenity.csv')\n",
    "print(amenity.shape)\n",
    "amenity.head()"
   ]
  },
  {
   "cell_type": "code",
   "execution_count": 3,
   "id": "816380e7-3bc5-4728-a2a9-e3e3ff358c2d",
   "metadata": {},
   "outputs": [],
   "source": [
    "# Add column 'forum'\n",
    "amenity['forum'] = 'amenity'"
   ]
  },
  {
   "cell_type": "code",
   "execution_count": 4,
   "id": "274dffe4-0f58-4c59-9e96-53c9eaeb3b2a",
   "metadata": {
    "tags": []
   },
   "outputs": [
    {
     "data": {
      "text/html": [
       "<div>\n",
       "<style scoped>\n",
       "    .dataframe tbody tr th:only-of-type {\n",
       "        vertical-align: middle;\n",
       "    }\n",
       "\n",
       "    .dataframe tbody tr th {\n",
       "        vertical-align: top;\n",
       "    }\n",
       "\n",
       "    .dataframe thead th {\n",
       "        text-align: right;\n",
       "    }\n",
       "</style>\n",
       "<table border=\"1\" class=\"dataframe\">\n",
       "  <thead>\n",
       "    <tr style=\"text-align: right;\">\n",
       "      <th></th>\n",
       "      <th>title</th>\n",
       "      <th>link</th>\n",
       "      <th>reply</th>\n",
       "      <th>forum</th>\n",
       "    </tr>\n",
       "  </thead>\n",
       "  <tbody>\n",
       "    <tr>\n",
       "      <th>0</th>\n",
       "      <td>2020 Biz Class Amenity Kit</td>\n",
       "      <td>http://www.sqtalk.com/forum/forum/singapore-ai...</td>\n",
       "      <td>https://milelion.com/2020/09/30/conf...amenit...</td>\n",
       "      <td>amenity</td>\n",
       "    </tr>\n",
       "    <tr>\n",
       "      <th>1</th>\n",
       "      <td>2020 Biz Class Amenity Kit</td>\n",
       "      <td>http://www.sqtalk.com/forum/forum/singapore-ai...</td>\n",
       "      <td>Originally posted by jammed View Post https:/...</td>\n",
       "      <td>amenity</td>\n",
       "    </tr>\n",
       "    <tr>\n",
       "      <th>2</th>\n",
       "      <td>2020 Biz Class Amenity Kit</td>\n",
       "      <td>http://www.sqtalk.com/forum/forum/singapore-ai...</td>\n",
       "      <td>I’ll report back in 3 week’s time if they are...</td>\n",
       "      <td>amenity</td>\n",
       "    </tr>\n",
       "  </tbody>\n",
       "</table>\n",
       "</div>"
      ],
      "text/plain": [
       "                        title  \\\n",
       "0  2020 Biz Class Amenity Kit   \n",
       "1  2020 Biz Class Amenity Kit   \n",
       "2  2020 Biz Class Amenity Kit   \n",
       "\n",
       "                                                link  \\\n",
       "0  http://www.sqtalk.com/forum/forum/singapore-ai...   \n",
       "1  http://www.sqtalk.com/forum/forum/singapore-ai...   \n",
       "2  http://www.sqtalk.com/forum/forum/singapore-ai...   \n",
       "\n",
       "                                               reply    forum  \n",
       "0   https://milelion.com/2020/09/30/conf...amenit...  amenity  \n",
       "1   Originally posted by jammed View Post https:/...  amenity  \n",
       "2   I’ll report back in 3 week’s time if they are...  amenity  "
      ]
     },
     "execution_count": 4,
     "metadata": {},
     "output_type": "execute_result"
    }
   ],
   "source": [
    "# Check dataframe\n",
    "amenity.head(3)"
   ]
  },
  {
   "cell_type": "code",
   "execution_count": 5,
   "id": "1d68f87a-35bb-472f-8a2b-e2f1ecd52800",
   "metadata": {},
   "outputs": [
    {
     "name": "stdout",
     "output_type": "stream",
     "text": [
      "(5001, 3)\n"
     ]
    },
    {
     "data": {
      "text/html": [
       "<div>\n",
       "<style scoped>\n",
       "    .dataframe tbody tr th:only-of-type {\n",
       "        vertical-align: middle;\n",
       "    }\n",
       "\n",
       "    .dataframe tbody tr th {\n",
       "        vertical-align: top;\n",
       "    }\n",
       "\n",
       "    .dataframe thead th {\n",
       "        text-align: right;\n",
       "    }\n",
       "</style>\n",
       "<table border=\"1\" class=\"dataframe\">\n",
       "  <thead>\n",
       "    <tr style=\"text-align: right;\">\n",
       "      <th></th>\n",
       "      <th>title</th>\n",
       "      <th>link</th>\n",
       "      <th>reply</th>\n",
       "    </tr>\n",
       "  </thead>\n",
       "  <tbody>\n",
       "    <tr>\n",
       "      <th>0</th>\n",
       "      <td>SQ First Menus</td>\n",
       "      <td>http://www.sqtalk.com/forum/forum/singapore-ai...</td>\n",
       "      <td>SQ961 CGK-SIN August 2014 dinner FROM JAKARTA...</td>\n",
       "    </tr>\n",
       "    <tr>\n",
       "      <th>1</th>\n",
       "      <td>SQ First Menus</td>\n",
       "      <td>http://www.sqtalk.com/forum/forum/singapore-ai...</td>\n",
       "      <td>LUNCH SQ 333 CDG-SIN MENU AUGUST 2014 CANAPES...</td>\n",
       "    </tr>\n",
       "    <tr>\n",
       "      <th>2</th>\n",
       "      <td>SQ First Menus</td>\n",
       "      <td>http://www.sqtalk.com/forum/forum/singapore-ai...</td>\n",
       "      <td>SQ833: PVG-SIN dinner menu SHANGHAI TO SINGAP...</td>\n",
       "    </tr>\n",
       "    <tr>\n",
       "      <th>3</th>\n",
       "      <td>SQ First Menus</td>\n",
       "      <td>http://www.sqtalk.com/forum/forum/singapore-ai...</td>\n",
       "      <td>hi does anyone have a recent sin-cdg menu in ...</td>\n",
       "    </tr>\n",
       "    <tr>\n",
       "      <th>4</th>\n",
       "      <td>SQ First Menus</td>\n",
       "      <td>http://www.sqtalk.com/forum/forum/singapore-ai...</td>\n",
       "      <td>SQ has added a new red wine to its First Clas...</td>\n",
       "    </tr>\n",
       "  </tbody>\n",
       "</table>\n",
       "</div>"
      ],
      "text/plain": [
       "            title                                               link  \\\n",
       "0  SQ First Menus  http://www.sqtalk.com/forum/forum/singapore-ai...   \n",
       "1  SQ First Menus  http://www.sqtalk.com/forum/forum/singapore-ai...   \n",
       "2  SQ First Menus  http://www.sqtalk.com/forum/forum/singapore-ai...   \n",
       "3  SQ First Menus  http://www.sqtalk.com/forum/forum/singapore-ai...   \n",
       "4  SQ First Menus  http://www.sqtalk.com/forum/forum/singapore-ai...   \n",
       "\n",
       "                                               reply  \n",
       "0   SQ961 CGK-SIN August 2014 dinner FROM JAKARTA...  \n",
       "1   LUNCH SQ 333 CDG-SIN MENU AUGUST 2014 CANAPES...  \n",
       "2   SQ833: PVG-SIN dinner menu SHANGHAI TO SINGAP...  \n",
       "3   hi does anyone have a recent sin-cdg menu in ...  \n",
       "4   SQ has added a new red wine to its First Clas...  "
      ]
     },
     "execution_count": 5,
     "metadata": {},
     "output_type": "execute_result"
    }
   ],
   "source": [
    "# Load dataset\n",
    "catering = pd.read_csv('catering.csv')\n",
    "print(catering.shape)\n",
    "catering.head(5)"
   ]
  },
  {
   "cell_type": "code",
   "execution_count": 6,
   "id": "bacea5c6-7a3b-40dc-9516-07b54036bc41",
   "metadata": {},
   "outputs": [],
   "source": [
    "# Add column 'forum'\n",
    "catering['forum'] = 'catering'"
   ]
  },
  {
   "cell_type": "code",
   "execution_count": 7,
   "id": "1e63873e-4139-4cfe-8724-f148dda702b4",
   "metadata": {},
   "outputs": [
    {
     "data": {
      "text/html": [
       "<div>\n",
       "<style scoped>\n",
       "    .dataframe tbody tr th:only-of-type {\n",
       "        vertical-align: middle;\n",
       "    }\n",
       "\n",
       "    .dataframe tbody tr th {\n",
       "        vertical-align: top;\n",
       "    }\n",
       "\n",
       "    .dataframe thead th {\n",
       "        text-align: right;\n",
       "    }\n",
       "</style>\n",
       "<table border=\"1\" class=\"dataframe\">\n",
       "  <thead>\n",
       "    <tr style=\"text-align: right;\">\n",
       "      <th></th>\n",
       "      <th>title</th>\n",
       "      <th>link</th>\n",
       "      <th>reply</th>\n",
       "      <th>forum</th>\n",
       "    </tr>\n",
       "  </thead>\n",
       "  <tbody>\n",
       "    <tr>\n",
       "      <th>0</th>\n",
       "      <td>SQ First Menus</td>\n",
       "      <td>http://www.sqtalk.com/forum/forum/singapore-ai...</td>\n",
       "      <td>SQ961 CGK-SIN August 2014 dinner FROM JAKARTA...</td>\n",
       "      <td>catering</td>\n",
       "    </tr>\n",
       "    <tr>\n",
       "      <th>1</th>\n",
       "      <td>SQ First Menus</td>\n",
       "      <td>http://www.sqtalk.com/forum/forum/singapore-ai...</td>\n",
       "      <td>LUNCH SQ 333 CDG-SIN MENU AUGUST 2014 CANAPES...</td>\n",
       "      <td>catering</td>\n",
       "    </tr>\n",
       "    <tr>\n",
       "      <th>2</th>\n",
       "      <td>SQ First Menus</td>\n",
       "      <td>http://www.sqtalk.com/forum/forum/singapore-ai...</td>\n",
       "      <td>SQ833: PVG-SIN dinner menu SHANGHAI TO SINGAP...</td>\n",
       "      <td>catering</td>\n",
       "    </tr>\n",
       "  </tbody>\n",
       "</table>\n",
       "</div>"
      ],
      "text/plain": [
       "            title                                               link  \\\n",
       "0  SQ First Menus  http://www.sqtalk.com/forum/forum/singapore-ai...   \n",
       "1  SQ First Menus  http://www.sqtalk.com/forum/forum/singapore-ai...   \n",
       "2  SQ First Menus  http://www.sqtalk.com/forum/forum/singapore-ai...   \n",
       "\n",
       "                                               reply     forum  \n",
       "0   SQ961 CGK-SIN August 2014 dinner FROM JAKARTA...  catering  \n",
       "1   LUNCH SQ 333 CDG-SIN MENU AUGUST 2014 CANAPES...  catering  \n",
       "2   SQ833: PVG-SIN dinner menu SHANGHAI TO SINGAP...  catering  "
      ]
     },
     "execution_count": 7,
     "metadata": {},
     "output_type": "execute_result"
    }
   ],
   "source": [
    "# Check dataframe\n",
    "catering.head(3)"
   ]
  },
  {
   "cell_type": "code",
   "execution_count": 8,
   "id": "7b0d6560-8ae7-4d92-a480-107b9540522a",
   "metadata": {
    "scrolled": true,
    "tags": []
   },
   "outputs": [
    {
     "name": "stdout",
     "output_type": "stream",
     "text": [
      "(5644, 4)\n"
     ]
    },
    {
     "data": {
      "text/html": [
       "<div>\n",
       "<style scoped>\n",
       "    .dataframe tbody tr th:only-of-type {\n",
       "        vertical-align: middle;\n",
       "    }\n",
       "\n",
       "    .dataframe tbody tr th {\n",
       "        vertical-align: top;\n",
       "    }\n",
       "\n",
       "    .dataframe thead th {\n",
       "        text-align: right;\n",
       "    }\n",
       "</style>\n",
       "<table border=\"1\" class=\"dataframe\">\n",
       "  <thead>\n",
       "    <tr style=\"text-align: right;\">\n",
       "      <th></th>\n",
       "      <th>title</th>\n",
       "      <th>link</th>\n",
       "      <th>reply</th>\n",
       "      <th>forum</th>\n",
       "    </tr>\n",
       "  </thead>\n",
       "  <tbody>\n",
       "    <tr>\n",
       "      <th>0</th>\n",
       "      <td>2020 Biz Class Amenity Kit</td>\n",
       "      <td>http://www.sqtalk.com/forum/forum/singapore-ai...</td>\n",
       "      <td>https://milelion.com/2020/09/30/conf...amenit...</td>\n",
       "      <td>amenity</td>\n",
       "    </tr>\n",
       "    <tr>\n",
       "      <th>1</th>\n",
       "      <td>2020 Biz Class Amenity Kit</td>\n",
       "      <td>http://www.sqtalk.com/forum/forum/singapore-ai...</td>\n",
       "      <td>Originally posted by jammed View Post https:/...</td>\n",
       "      <td>amenity</td>\n",
       "    </tr>\n",
       "    <tr>\n",
       "      <th>2</th>\n",
       "      <td>2020 Biz Class Amenity Kit</td>\n",
       "      <td>http://www.sqtalk.com/forum/forum/singapore-ai...</td>\n",
       "      <td>I’ll report back in 3 week’s time if they are...</td>\n",
       "      <td>amenity</td>\n",
       "    </tr>\n",
       "    <tr>\n",
       "      <th>3</th>\n",
       "      <td>2020 Biz Class Amenity Kit</td>\n",
       "      <td>http://www.sqtalk.com/forum/forum/singapore-ai...</td>\n",
       "      <td>As we are now in an age of reducing waste thi...</td>\n",
       "      <td>amenity</td>\n",
       "    </tr>\n",
       "    <tr>\n",
       "      <th>4</th>\n",
       "      <td>2020 Biz Class Amenity Kit</td>\n",
       "      <td>http://www.sqtalk.com/forum/forum/singapore-ai...</td>\n",
       "      <td>Originally posted by yflyer View Post - I alw...</td>\n",
       "      <td>amenity</td>\n",
       "    </tr>\n",
       "  </tbody>\n",
       "</table>\n",
       "</div>"
      ],
      "text/plain": [
       "                        title  \\\n",
       "0  2020 Biz Class Amenity Kit   \n",
       "1  2020 Biz Class Amenity Kit   \n",
       "2  2020 Biz Class Amenity Kit   \n",
       "3  2020 Biz Class Amenity Kit   \n",
       "4  2020 Biz Class Amenity Kit   \n",
       "\n",
       "                                                link  \\\n",
       "0  http://www.sqtalk.com/forum/forum/singapore-ai...   \n",
       "1  http://www.sqtalk.com/forum/forum/singapore-ai...   \n",
       "2  http://www.sqtalk.com/forum/forum/singapore-ai...   \n",
       "3  http://www.sqtalk.com/forum/forum/singapore-ai...   \n",
       "4  http://www.sqtalk.com/forum/forum/singapore-ai...   \n",
       "\n",
       "                                               reply    forum  \n",
       "0   https://milelion.com/2020/09/30/conf...amenit...  amenity  \n",
       "1   Originally posted by jammed View Post https:/...  amenity  \n",
       "2   I’ll report back in 3 week’s time if they are...  amenity  \n",
       "3   As we are now in an age of reducing waste thi...  amenity  \n",
       "4   Originally posted by yflyer View Post - I alw...  amenity  "
      ]
     },
     "execution_count": 8,
     "metadata": {},
     "output_type": "execute_result"
    }
   ],
   "source": [
    "# Combine both dataframes\n",
    "amenity_catering = pd.concat([amenity, catering], ignore_index=True)\n",
    "print(amenity_catering.shape)\n",
    "amenity_catering.head()"
   ]
  },
  {
   "cell_type": "code",
   "execution_count": 9,
   "id": "55627503-00a7-48a2-9f8d-4f9952d8478e",
   "metadata": {},
   "outputs": [],
   "source": [
    "# Drop duplicated rows\n",
    "amenity_catering.drop_duplicates(inplace=True)"
   ]
  },
  {
   "cell_type": "code",
   "execution_count": 10,
   "id": "a36a283b-5c97-4ff0-9d56-4cbaec602667",
   "metadata": {},
   "outputs": [
    {
     "data": {
      "text/plain": [
       "(5628, 4)"
      ]
     },
     "execution_count": 10,
     "metadata": {},
     "output_type": "execute_result"
    }
   ],
   "source": [
    "# Check combined dataframe\n",
    "amenity_catering.shape"
   ]
  },
  {
   "cell_type": "code",
   "execution_count": 11,
   "id": "d541749b-c02e-4da2-89d5-2b5cfc8ee363",
   "metadata": {},
   "outputs": [
    {
     "name": "stdout",
     "output_type": "stream",
     "text": [
      "(5201, 3)\n"
     ]
    },
    {
     "data": {
      "text/html": [
       "<div>\n",
       "<style scoped>\n",
       "    .dataframe tbody tr th:only-of-type {\n",
       "        vertical-align: middle;\n",
       "    }\n",
       "\n",
       "    .dataframe tbody tr th {\n",
       "        vertical-align: top;\n",
       "    }\n",
       "\n",
       "    .dataframe thead th {\n",
       "        text-align: right;\n",
       "    }\n",
       "</style>\n",
       "<table border=\"1\" class=\"dataframe\">\n",
       "  <thead>\n",
       "    <tr style=\"text-align: right;\">\n",
       "      <th></th>\n",
       "      <th>title</th>\n",
       "      <th>link</th>\n",
       "      <th>reply</th>\n",
       "    </tr>\n",
       "  </thead>\n",
       "  <tbody>\n",
       "    <tr>\n",
       "      <th>0</th>\n",
       "      <td>[SIN] SIN SQ Lounge Access &amp; Overnight Questions</td>\n",
       "      <td>http://www.sqtalk.com/forum/forum/singapore-ai...</td>\n",
       "      <td>Originally posted by BigTop View Post Hi all,...</td>\n",
       "    </tr>\n",
       "    <tr>\n",
       "      <th>1</th>\n",
       "      <td>[FRA] LH - First Class Lounge (Concourse B, ne...</td>\n",
       "      <td>http://www.sqtalk.com/forum/forum/singapore-ai...</td>\n",
       "      <td></td>\n",
       "    </tr>\n",
       "    <tr>\n",
       "      <th>2</th>\n",
       "      <td>[FRA] LH - First Class Lounge (Concourse B, ne...</td>\n",
       "      <td>http://www.sqtalk.com/forum/forum/singapore-ai...</td>\n",
       "      <td>There's that Bang &amp; Olufsen TV again. Still d...</td>\n",
       "    </tr>\n",
       "    <tr>\n",
       "      <th>3</th>\n",
       "      <td>[FRA] LH - First Class Lounge (Concourse B, ne...</td>\n",
       "      <td>http://www.sqtalk.com/forum/forum/singapore-ai...</td>\n",
       "      <td>Originally posted by globetrekker84 View Post...</td>\n",
       "    </tr>\n",
       "    <tr>\n",
       "      <th>4</th>\n",
       "      <td>[FRA] LH - First Class Lounge (Concourse B, ne...</td>\n",
       "      <td>http://www.sqtalk.com/forum/forum/singapore-ai...</td>\n",
       "      <td>Originally posted by CGK My dear, why are you...</td>\n",
       "    </tr>\n",
       "  </tbody>\n",
       "</table>\n",
       "</div>"
      ],
      "text/plain": [
       "                                               title  \\\n",
       "0   [SIN] SIN SQ Lounge Access & Overnight Questions   \n",
       "1  [FRA] LH - First Class Lounge (Concourse B, ne...   \n",
       "2  [FRA] LH - First Class Lounge (Concourse B, ne...   \n",
       "3  [FRA] LH - First Class Lounge (Concourse B, ne...   \n",
       "4  [FRA] LH - First Class Lounge (Concourse B, ne...   \n",
       "\n",
       "                                                link  \\\n",
       "0  http://www.sqtalk.com/forum/forum/singapore-ai...   \n",
       "1  http://www.sqtalk.com/forum/forum/singapore-ai...   \n",
       "2  http://www.sqtalk.com/forum/forum/singapore-ai...   \n",
       "3  http://www.sqtalk.com/forum/forum/singapore-ai...   \n",
       "4  http://www.sqtalk.com/forum/forum/singapore-ai...   \n",
       "\n",
       "                                               reply  \n",
       "0   Originally posted by BigTop View Post Hi all,...  \n",
       "1                                                     \n",
       "2   There's that Bang & Olufsen TV again. Still d...  \n",
       "3   Originally posted by globetrekker84 View Post...  \n",
       "4   Originally posted by CGK My dear, why are you...  "
      ]
     },
     "execution_count": 11,
     "metadata": {},
     "output_type": "execute_result"
    }
   ],
   "source": [
    "# Load datasets\n",
    "lounges = pd.read_csv('lounges.csv')\n",
    "print(lounges.shape)\n",
    "lounges.head()"
   ]
  },
  {
   "cell_type": "code",
   "execution_count": 12,
   "id": "2cb967c7-b911-47c1-94ca-92b3ac7e4304",
   "metadata": {},
   "outputs": [],
   "source": [
    "# Add column 'forum'\n",
    "lounges['forum'] = 'lounges'"
   ]
  },
  {
   "cell_type": "code",
   "execution_count": 13,
   "id": "f8a34d96-79f8-4cd2-8feb-a9bc6dc5ca36",
   "metadata": {},
   "outputs": [
    {
     "data": {
      "text/html": [
       "<div>\n",
       "<style scoped>\n",
       "    .dataframe tbody tr th:only-of-type {\n",
       "        vertical-align: middle;\n",
       "    }\n",
       "\n",
       "    .dataframe tbody tr th {\n",
       "        vertical-align: top;\n",
       "    }\n",
       "\n",
       "    .dataframe thead th {\n",
       "        text-align: right;\n",
       "    }\n",
       "</style>\n",
       "<table border=\"1\" class=\"dataframe\">\n",
       "  <thead>\n",
       "    <tr style=\"text-align: right;\">\n",
       "      <th></th>\n",
       "      <th>title</th>\n",
       "      <th>link</th>\n",
       "      <th>reply</th>\n",
       "      <th>forum</th>\n",
       "    </tr>\n",
       "  </thead>\n",
       "  <tbody>\n",
       "    <tr>\n",
       "      <th>0</th>\n",
       "      <td>[SIN] SIN SQ Lounge Access &amp; Overnight Questions</td>\n",
       "      <td>http://www.sqtalk.com/forum/forum/singapore-ai...</td>\n",
       "      <td>Originally posted by BigTop View Post Hi all,...</td>\n",
       "      <td>lounges</td>\n",
       "    </tr>\n",
       "    <tr>\n",
       "      <th>1</th>\n",
       "      <td>[FRA] LH - First Class Lounge (Concourse B, ne...</td>\n",
       "      <td>http://www.sqtalk.com/forum/forum/singapore-ai...</td>\n",
       "      <td></td>\n",
       "      <td>lounges</td>\n",
       "    </tr>\n",
       "    <tr>\n",
       "      <th>2</th>\n",
       "      <td>[FRA] LH - First Class Lounge (Concourse B, ne...</td>\n",
       "      <td>http://www.sqtalk.com/forum/forum/singapore-ai...</td>\n",
       "      <td>There's that Bang &amp; Olufsen TV again. Still d...</td>\n",
       "      <td>lounges</td>\n",
       "    </tr>\n",
       "  </tbody>\n",
       "</table>\n",
       "</div>"
      ],
      "text/plain": [
       "                                               title  \\\n",
       "0   [SIN] SIN SQ Lounge Access & Overnight Questions   \n",
       "1  [FRA] LH - First Class Lounge (Concourse B, ne...   \n",
       "2  [FRA] LH - First Class Lounge (Concourse B, ne...   \n",
       "\n",
       "                                                link  \\\n",
       "0  http://www.sqtalk.com/forum/forum/singapore-ai...   \n",
       "1  http://www.sqtalk.com/forum/forum/singapore-ai...   \n",
       "2  http://www.sqtalk.com/forum/forum/singapore-ai...   \n",
       "\n",
       "                                               reply    forum  \n",
       "0   Originally posted by BigTop View Post Hi all,...  lounges  \n",
       "1                                                     lounges  \n",
       "2   There's that Bang & Olufsen TV again. Still d...  lounges  "
      ]
     },
     "execution_count": 13,
     "metadata": {},
     "output_type": "execute_result"
    }
   ],
   "source": [
    "# Check dataframe\n",
    "lounges.head(3)"
   ]
  },
  {
   "cell_type": "code",
   "execution_count": 14,
   "id": "a5e40ae7-b3f6-406b-abc9-5c28eeafdc15",
   "metadata": {},
   "outputs": [
    {
     "name": "stdout",
     "output_type": "stream",
     "text": [
      "(10829, 4)\n"
     ]
    },
    {
     "data": {
      "text/html": [
       "<div>\n",
       "<style scoped>\n",
       "    .dataframe tbody tr th:only-of-type {\n",
       "        vertical-align: middle;\n",
       "    }\n",
       "\n",
       "    .dataframe tbody tr th {\n",
       "        vertical-align: top;\n",
       "    }\n",
       "\n",
       "    .dataframe thead th {\n",
       "        text-align: right;\n",
       "    }\n",
       "</style>\n",
       "<table border=\"1\" class=\"dataframe\">\n",
       "  <thead>\n",
       "    <tr style=\"text-align: right;\">\n",
       "      <th></th>\n",
       "      <th>title</th>\n",
       "      <th>link</th>\n",
       "      <th>reply</th>\n",
       "      <th>forum</th>\n",
       "    </tr>\n",
       "  </thead>\n",
       "  <tbody>\n",
       "    <tr>\n",
       "      <th>0</th>\n",
       "      <td>2020 Biz Class Amenity Kit</td>\n",
       "      <td>http://www.sqtalk.com/forum/forum/singapore-ai...</td>\n",
       "      <td>https://milelion.com/2020/09/30/conf...amenit...</td>\n",
       "      <td>amenity</td>\n",
       "    </tr>\n",
       "    <tr>\n",
       "      <th>1</th>\n",
       "      <td>2020 Biz Class Amenity Kit</td>\n",
       "      <td>http://www.sqtalk.com/forum/forum/singapore-ai...</td>\n",
       "      <td>Originally posted by jammed View Post https:/...</td>\n",
       "      <td>amenity</td>\n",
       "    </tr>\n",
       "    <tr>\n",
       "      <th>2</th>\n",
       "      <td>2020 Biz Class Amenity Kit</td>\n",
       "      <td>http://www.sqtalk.com/forum/forum/singapore-ai...</td>\n",
       "      <td>I’ll report back in 3 week’s time if they are...</td>\n",
       "      <td>amenity</td>\n",
       "    </tr>\n",
       "    <tr>\n",
       "      <th>3</th>\n",
       "      <td>2020 Biz Class Amenity Kit</td>\n",
       "      <td>http://www.sqtalk.com/forum/forum/singapore-ai...</td>\n",
       "      <td>As we are now in an age of reducing waste thi...</td>\n",
       "      <td>amenity</td>\n",
       "    </tr>\n",
       "    <tr>\n",
       "      <th>4</th>\n",
       "      <td>2020 Biz Class Amenity Kit</td>\n",
       "      <td>http://www.sqtalk.com/forum/forum/singapore-ai...</td>\n",
       "      <td>Originally posted by yflyer View Post - I alw...</td>\n",
       "      <td>amenity</td>\n",
       "    </tr>\n",
       "  </tbody>\n",
       "</table>\n",
       "</div>"
      ],
      "text/plain": [
       "                        title  \\\n",
       "0  2020 Biz Class Amenity Kit   \n",
       "1  2020 Biz Class Amenity Kit   \n",
       "2  2020 Biz Class Amenity Kit   \n",
       "3  2020 Biz Class Amenity Kit   \n",
       "4  2020 Biz Class Amenity Kit   \n",
       "\n",
       "                                                link  \\\n",
       "0  http://www.sqtalk.com/forum/forum/singapore-ai...   \n",
       "1  http://www.sqtalk.com/forum/forum/singapore-ai...   \n",
       "2  http://www.sqtalk.com/forum/forum/singapore-ai...   \n",
       "3  http://www.sqtalk.com/forum/forum/singapore-ai...   \n",
       "4  http://www.sqtalk.com/forum/forum/singapore-ai...   \n",
       "\n",
       "                                               reply    forum  \n",
       "0   https://milelion.com/2020/09/30/conf...amenit...  amenity  \n",
       "1   Originally posted by jammed View Post https:/...  amenity  \n",
       "2   I’ll report back in 3 week’s time if they are...  amenity  \n",
       "3   As we are now in an age of reducing waste thi...  amenity  \n",
       "4   Originally posted by yflyer View Post - I alw...  amenity  "
      ]
     },
     "execution_count": 14,
     "metadata": {},
     "output_type": "execute_result"
    }
   ],
   "source": [
    "# Combine all dataframes\n",
    "amenity_catering_lounges = pd.concat([amenity_catering, lounges], ignore_index=True)\n",
    "print(amenity_catering_lounges.shape)\n",
    "amenity_catering_lounges.head()"
   ]
  },
  {
   "cell_type": "code",
   "execution_count": 15,
   "id": "988d13b4-6f5d-4d4c-9071-afbdeb326907",
   "metadata": {},
   "outputs": [],
   "source": [
    "# Drop duplicated rows\n",
    "amenity_catering_lounges.drop_duplicates(inplace=True)"
   ]
  },
  {
   "cell_type": "code",
   "execution_count": 16,
   "id": "57d24bb4-e561-47e6-ae91-b0463091730d",
   "metadata": {},
   "outputs": [
    {
     "data": {
      "text/plain": [
       "(10813, 4)"
      ]
     },
     "execution_count": 16,
     "metadata": {},
     "output_type": "execute_result"
    }
   ],
   "source": [
    "# Check combined dataframe\n",
    "amenity_catering_lounges.shape"
   ]
  },
  {
   "cell_type": "code",
   "execution_count": 17,
   "id": "77a6a622-ca55-4fac-b236-f3c8d79ffa1c",
   "metadata": {},
   "outputs": [],
   "source": [
    "amenity_catering_lounges['forum'] = 'amenity_catering_lounges'"
   ]
  },
  {
   "cell_type": "code",
   "execution_count": 18,
   "id": "16a49ba5-c5d3-4937-9f99-0849042eb056",
   "metadata": {
    "scrolled": true,
    "tags": []
   },
   "outputs": [
    {
     "name": "stdout",
     "output_type": "stream",
     "text": [
      "(16577, 3)\n"
     ]
    },
    {
     "data": {
      "text/html": [
       "<div>\n",
       "<style scoped>\n",
       "    .dataframe tbody tr th:only-of-type {\n",
       "        vertical-align: middle;\n",
       "    }\n",
       "\n",
       "    .dataframe tbody tr th {\n",
       "        vertical-align: top;\n",
       "    }\n",
       "\n",
       "    .dataframe thead th {\n",
       "        text-align: right;\n",
       "    }\n",
       "</style>\n",
       "<table border=\"1\" class=\"dataframe\">\n",
       "  <thead>\n",
       "    <tr style=\"text-align: right;\">\n",
       "      <th></th>\n",
       "      <th>title</th>\n",
       "      <th>link</th>\n",
       "      <th>reply</th>\n",
       "    </tr>\n",
       "  </thead>\n",
       "  <tbody>\n",
       "    <tr>\n",
       "      <th>0</th>\n",
       "      <td>Show Me The Money...: No. of PPS Members Remai...</td>\n",
       "      <td>http://www.sqtalk.com/forum/forum/singapore-ai...</td>\n",
       "      <td>I would think that the grace period for the o...</td>\n",
       "    </tr>\n",
       "    <tr>\n",
       "      <th>1</th>\n",
       "      <td>Show Me The Money...: No. of PPS Members Remai...</td>\n",
       "      <td>http://www.sqtalk.com/forum/forum/singapore-ai...</td>\n",
       "      <td>not sure that you could get your hands on com...</td>\n",
       "    </tr>\n",
       "    <tr>\n",
       "      <th>2</th>\n",
       "      <td>Show Me The Money...: No. of PPS Members Remai...</td>\n",
       "      <td>http://www.sqtalk.com/forum/forum/singapore-ai...</td>\n",
       "      <td>I am venturing a guess. SQ indicated that in ...</td>\n",
       "    </tr>\n",
       "    <tr>\n",
       "      <th>3</th>\n",
       "      <td>Show Me The Money...: No. of PPS Members Remai...</td>\n",
       "      <td>http://www.sqtalk.com/forum/forum/singapore-ai...</td>\n",
       "      <td>Originally posted by LionCity View Post ... w...</td>\n",
       "    </tr>\n",
       "    <tr>\n",
       "      <th>4</th>\n",
       "      <td>Show Me The Money...: No. of PPS Members Remai...</td>\n",
       "      <td>http://www.sqtalk.com/forum/forum/singapore-ai...</td>\n",
       "      <td>Originally posted by SQflyergirl View Post no...</td>\n",
       "    </tr>\n",
       "  </tbody>\n",
       "</table>\n",
       "</div>"
      ],
      "text/plain": [
       "                                               title  \\\n",
       "0  Show Me The Money...: No. of PPS Members Remai...   \n",
       "1  Show Me The Money...: No. of PPS Members Remai...   \n",
       "2  Show Me The Money...: No. of PPS Members Remai...   \n",
       "3  Show Me The Money...: No. of PPS Members Remai...   \n",
       "4  Show Me The Money...: No. of PPS Members Remai...   \n",
       "\n",
       "                                                link  \\\n",
       "0  http://www.sqtalk.com/forum/forum/singapore-ai...   \n",
       "1  http://www.sqtalk.com/forum/forum/singapore-ai...   \n",
       "2  http://www.sqtalk.com/forum/forum/singapore-ai...   \n",
       "3  http://www.sqtalk.com/forum/forum/singapore-ai...   \n",
       "4  http://www.sqtalk.com/forum/forum/singapore-ai...   \n",
       "\n",
       "                                               reply  \n",
       "0   I would think that the grace period for the o...  \n",
       "1   not sure that you could get your hands on com...  \n",
       "2   I am venturing a guess. SQ indicated that in ...  \n",
       "3   Originally posted by LionCity View Post ... w...  \n",
       "4   Originally posted by SQflyergirl View Post no...  "
      ]
     },
     "execution_count": 18,
     "metadata": {},
     "output_type": "execute_result"
    }
   ],
   "source": [
    "# Load dataset\n",
    "krisflyer = pd.read_csv('krisflyer.csv')\n",
    "print(krisflyer.shape)\n",
    "krisflyer.head()"
   ]
  },
  {
   "cell_type": "code",
   "execution_count": 19,
   "id": "0a429ccf-d59a-46bc-85fc-4ca5de835141",
   "metadata": {},
   "outputs": [],
   "source": [
    "# Add column 'forum'\n",
    "krisflyer['forum'] = 'krisflyer'"
   ]
  },
  {
   "cell_type": "code",
   "execution_count": 20,
   "id": "7b517e9d-d165-404f-9e73-dcffd8614dd8",
   "metadata": {},
   "outputs": [
    {
     "data": {
      "text/html": [
       "<div>\n",
       "<style scoped>\n",
       "    .dataframe tbody tr th:only-of-type {\n",
       "        vertical-align: middle;\n",
       "    }\n",
       "\n",
       "    .dataframe tbody tr th {\n",
       "        vertical-align: top;\n",
       "    }\n",
       "\n",
       "    .dataframe thead th {\n",
       "        text-align: right;\n",
       "    }\n",
       "</style>\n",
       "<table border=\"1\" class=\"dataframe\">\n",
       "  <thead>\n",
       "    <tr style=\"text-align: right;\">\n",
       "      <th></th>\n",
       "      <th>title</th>\n",
       "      <th>link</th>\n",
       "      <th>reply</th>\n",
       "      <th>forum</th>\n",
       "    </tr>\n",
       "  </thead>\n",
       "  <tbody>\n",
       "    <tr>\n",
       "      <th>0</th>\n",
       "      <td>Show Me The Money...: No. of PPS Members Remai...</td>\n",
       "      <td>http://www.sqtalk.com/forum/forum/singapore-ai...</td>\n",
       "      <td>I would think that the grace period for the o...</td>\n",
       "      <td>krisflyer</td>\n",
       "    </tr>\n",
       "    <tr>\n",
       "      <th>1</th>\n",
       "      <td>Show Me The Money...: No. of PPS Members Remai...</td>\n",
       "      <td>http://www.sqtalk.com/forum/forum/singapore-ai...</td>\n",
       "      <td>not sure that you could get your hands on com...</td>\n",
       "      <td>krisflyer</td>\n",
       "    </tr>\n",
       "    <tr>\n",
       "      <th>2</th>\n",
       "      <td>Show Me The Money...: No. of PPS Members Remai...</td>\n",
       "      <td>http://www.sqtalk.com/forum/forum/singapore-ai...</td>\n",
       "      <td>I am venturing a guess. SQ indicated that in ...</td>\n",
       "      <td>krisflyer</td>\n",
       "    </tr>\n",
       "  </tbody>\n",
       "</table>\n",
       "</div>"
      ],
      "text/plain": [
       "                                               title  \\\n",
       "0  Show Me The Money...: No. of PPS Members Remai...   \n",
       "1  Show Me The Money...: No. of PPS Members Remai...   \n",
       "2  Show Me The Money...: No. of PPS Members Remai...   \n",
       "\n",
       "                                                link  \\\n",
       "0  http://www.sqtalk.com/forum/forum/singapore-ai...   \n",
       "1  http://www.sqtalk.com/forum/forum/singapore-ai...   \n",
       "2  http://www.sqtalk.com/forum/forum/singapore-ai...   \n",
       "\n",
       "                                               reply      forum  \n",
       "0   I would think that the grace period for the o...  krisflyer  \n",
       "1   not sure that you could get your hands on com...  krisflyer  \n",
       "2   I am venturing a guess. SQ indicated that in ...  krisflyer  "
      ]
     },
     "execution_count": 20,
     "metadata": {},
     "output_type": "execute_result"
    }
   ],
   "source": [
    "# Check dataframe\n",
    "krisflyer.head(3)"
   ]
  },
  {
   "cell_type": "code",
   "execution_count": 21,
   "id": "61706e6c-bf6d-4a39-84ed-58159a19586e",
   "metadata": {},
   "outputs": [],
   "source": [
    "# Drop duplicated rows\n",
    "krisflyer.drop_duplicates(inplace=True)"
   ]
  },
  {
   "cell_type": "code",
   "execution_count": 22,
   "id": "6bfda5fa-9e4f-438f-b87e-cbbf1474ff6a",
   "metadata": {},
   "outputs": [
    {
     "name": "stdout",
     "output_type": "stream",
     "text": [
      "(16562, 4)\n"
     ]
    },
    {
     "data": {
      "text/html": [
       "<div>\n",
       "<style scoped>\n",
       "    .dataframe tbody tr th:only-of-type {\n",
       "        vertical-align: middle;\n",
       "    }\n",
       "\n",
       "    .dataframe tbody tr th {\n",
       "        vertical-align: top;\n",
       "    }\n",
       "\n",
       "    .dataframe thead th {\n",
       "        text-align: right;\n",
       "    }\n",
       "</style>\n",
       "<table border=\"1\" class=\"dataframe\">\n",
       "  <thead>\n",
       "    <tr style=\"text-align: right;\">\n",
       "      <th></th>\n",
       "      <th>title</th>\n",
       "      <th>link</th>\n",
       "      <th>reply</th>\n",
       "      <th>forum</th>\n",
       "    </tr>\n",
       "  </thead>\n",
       "  <tbody>\n",
       "    <tr>\n",
       "      <th>0</th>\n",
       "      <td>Show Me The Money...: No. of PPS Members Remai...</td>\n",
       "      <td>http://www.sqtalk.com/forum/forum/singapore-ai...</td>\n",
       "      <td>I would think that the grace period for the o...</td>\n",
       "      <td>krisflyer</td>\n",
       "    </tr>\n",
       "    <tr>\n",
       "      <th>1</th>\n",
       "      <td>Show Me The Money...: No. of PPS Members Remai...</td>\n",
       "      <td>http://www.sqtalk.com/forum/forum/singapore-ai...</td>\n",
       "      <td>not sure that you could get your hands on com...</td>\n",
       "      <td>krisflyer</td>\n",
       "    </tr>\n",
       "    <tr>\n",
       "      <th>2</th>\n",
       "      <td>Show Me The Money...: No. of PPS Members Remai...</td>\n",
       "      <td>http://www.sqtalk.com/forum/forum/singapore-ai...</td>\n",
       "      <td>I am venturing a guess. SQ indicated that in ...</td>\n",
       "      <td>krisflyer</td>\n",
       "    </tr>\n",
       "  </tbody>\n",
       "</table>\n",
       "</div>"
      ],
      "text/plain": [
       "                                               title  \\\n",
       "0  Show Me The Money...: No. of PPS Members Remai...   \n",
       "1  Show Me The Money...: No. of PPS Members Remai...   \n",
       "2  Show Me The Money...: No. of PPS Members Remai...   \n",
       "\n",
       "                                                link  \\\n",
       "0  http://www.sqtalk.com/forum/forum/singapore-ai...   \n",
       "1  http://www.sqtalk.com/forum/forum/singapore-ai...   \n",
       "2  http://www.sqtalk.com/forum/forum/singapore-ai...   \n",
       "\n",
       "                                               reply      forum  \n",
       "0   I would think that the grace period for the o...  krisflyer  \n",
       "1   not sure that you could get your hands on com...  krisflyer  \n",
       "2   I am venturing a guess. SQ indicated that in ...  krisflyer  "
      ]
     },
     "execution_count": 22,
     "metadata": {},
     "output_type": "execute_result"
    }
   ],
   "source": [
    "# Check dataframe\n",
    "print(krisflyer.shape)\n",
    "krisflyer.head(3)"
   ]
  },
  {
   "cell_type": "code",
   "execution_count": 23,
   "id": "f328f00d-172f-468c-9ce2-b48ef29f013b",
   "metadata": {
    "scrolled": true,
    "tags": []
   },
   "outputs": [
    {
     "name": "stdout",
     "output_type": "stream",
     "text": [
      "(27375, 4)\n"
     ]
    },
    {
     "data": {
      "text/html": [
       "<div>\n",
       "<style scoped>\n",
       "    .dataframe tbody tr th:only-of-type {\n",
       "        vertical-align: middle;\n",
       "    }\n",
       "\n",
       "    .dataframe tbody tr th {\n",
       "        vertical-align: top;\n",
       "    }\n",
       "\n",
       "    .dataframe thead th {\n",
       "        text-align: right;\n",
       "    }\n",
       "</style>\n",
       "<table border=\"1\" class=\"dataframe\">\n",
       "  <thead>\n",
       "    <tr style=\"text-align: right;\">\n",
       "      <th></th>\n",
       "      <th>title</th>\n",
       "      <th>link</th>\n",
       "      <th>reply</th>\n",
       "      <th>forum</th>\n",
       "    </tr>\n",
       "  </thead>\n",
       "  <tbody>\n",
       "    <tr>\n",
       "      <th>0</th>\n",
       "      <td>2020 Biz Class Amenity Kit</td>\n",
       "      <td>http://www.sqtalk.com/forum/forum/singapore-ai...</td>\n",
       "      <td>https://milelion.com/2020/09/30/conf...amenit...</td>\n",
       "      <td>amenity_catering_lounges</td>\n",
       "    </tr>\n",
       "    <tr>\n",
       "      <th>1</th>\n",
       "      <td>2020 Biz Class Amenity Kit</td>\n",
       "      <td>http://www.sqtalk.com/forum/forum/singapore-ai...</td>\n",
       "      <td>Originally posted by jammed View Post https:/...</td>\n",
       "      <td>amenity_catering_lounges</td>\n",
       "    </tr>\n",
       "    <tr>\n",
       "      <th>2</th>\n",
       "      <td>2020 Biz Class Amenity Kit</td>\n",
       "      <td>http://www.sqtalk.com/forum/forum/singapore-ai...</td>\n",
       "      <td>I’ll report back in 3 week’s time if they are...</td>\n",
       "      <td>amenity_catering_lounges</td>\n",
       "    </tr>\n",
       "    <tr>\n",
       "      <th>3</th>\n",
       "      <td>2020 Biz Class Amenity Kit</td>\n",
       "      <td>http://www.sqtalk.com/forum/forum/singapore-ai...</td>\n",
       "      <td>As we are now in an age of reducing waste thi...</td>\n",
       "      <td>amenity_catering_lounges</td>\n",
       "    </tr>\n",
       "    <tr>\n",
       "      <th>4</th>\n",
       "      <td>2020 Biz Class Amenity Kit</td>\n",
       "      <td>http://www.sqtalk.com/forum/forum/singapore-ai...</td>\n",
       "      <td>Originally posted by yflyer View Post - I alw...</td>\n",
       "      <td>amenity_catering_lounges</td>\n",
       "    </tr>\n",
       "  </tbody>\n",
       "</table>\n",
       "</div>"
      ],
      "text/plain": [
       "                        title  \\\n",
       "0  2020 Biz Class Amenity Kit   \n",
       "1  2020 Biz Class Amenity Kit   \n",
       "2  2020 Biz Class Amenity Kit   \n",
       "3  2020 Biz Class Amenity Kit   \n",
       "4  2020 Biz Class Amenity Kit   \n",
       "\n",
       "                                                link  \\\n",
       "0  http://www.sqtalk.com/forum/forum/singapore-ai...   \n",
       "1  http://www.sqtalk.com/forum/forum/singapore-ai...   \n",
       "2  http://www.sqtalk.com/forum/forum/singapore-ai...   \n",
       "3  http://www.sqtalk.com/forum/forum/singapore-ai...   \n",
       "4  http://www.sqtalk.com/forum/forum/singapore-ai...   \n",
       "\n",
       "                                               reply                     forum  \n",
       "0   https://milelion.com/2020/09/30/conf...amenit...  amenity_catering_lounges  \n",
       "1   Originally posted by jammed View Post https:/...  amenity_catering_lounges  \n",
       "2   I’ll report back in 3 week’s time if they are...  amenity_catering_lounges  \n",
       "3   As we are now in an age of reducing waste thi...  amenity_catering_lounges  \n",
       "4   Originally posted by yflyer View Post - I alw...  amenity_catering_lounges  "
      ]
     },
     "execution_count": 23,
     "metadata": {},
     "output_type": "execute_result"
    }
   ],
   "source": [
    "# Combine all dataframes\n",
    "sq_forums = pd.concat([amenity_catering_lounges, krisflyer], ignore_index=True)\n",
    "print(sq_forums.shape)\n",
    "sq_forums.head()"
   ]
  },
  {
   "cell_type": "code",
   "execution_count": 24,
   "id": "9b41e6b0-6b9d-484c-85e5-fdd93848f280",
   "metadata": {},
   "outputs": [],
   "source": [
    "# Save and export final dataset\n",
    "sq_forums.to_csv('./sq_forums.csv', index=False)"
   ]
  },
  {
   "cell_type": "markdown",
   "id": "d9a897c0-f9e6-4d0f-a4a0-e40ab96cf493",
   "metadata": {},
   "source": [
    "## Data cleaning and preprocessing"
   ]
  },
  {
   "cell_type": "code",
   "execution_count": 25,
   "id": "0bdaaea6-b907-4dd6-ba9f-94060bef6b8c",
   "metadata": {},
   "outputs": [
    {
     "name": "stdout",
     "output_type": "stream",
     "text": [
      "<class 'pandas.core.frame.DataFrame'>\n",
      "RangeIndex: 27375 entries, 0 to 27374\n",
      "Data columns (total 4 columns):\n",
      " #   Column  Non-Null Count  Dtype \n",
      "---  ------  --------------  ----- \n",
      " 0   title   27375 non-null  object\n",
      " 1   link    27375 non-null  object\n",
      " 2   reply   27375 non-null  object\n",
      " 3   forum   27375 non-null  object\n",
      "dtypes: object(4)\n",
      "memory usage: 855.6+ KB\n"
     ]
    }
   ],
   "source": [
    "# Check data types and missing data\n",
    "sq_forums.info()"
   ]
  },
  {
   "cell_type": "markdown",
   "id": "30b2ec99-8fef-497d-ba94-cb7bae502f2b",
   "metadata": {},
   "source": [
    "There is no missing data."
   ]
  },
  {
   "cell_type": "code",
   "execution_count": 26,
   "id": "c2cdfa89-e44d-496e-b512-0d11d591c640",
   "metadata": {
    "scrolled": true,
    "tags": []
   },
   "outputs": [
    {
     "data": {
      "text/html": [
       "<div>\n",
       "<style scoped>\n",
       "    .dataframe tbody tr th:only-of-type {\n",
       "        vertical-align: middle;\n",
       "    }\n",
       "\n",
       "    .dataframe tbody tr th {\n",
       "        vertical-align: top;\n",
       "    }\n",
       "\n",
       "    .dataframe thead th {\n",
       "        text-align: right;\n",
       "    }\n",
       "</style>\n",
       "<table border=\"1\" class=\"dataframe\">\n",
       "  <thead>\n",
       "    <tr style=\"text-align: right;\">\n",
       "      <th></th>\n",
       "      <th>title</th>\n",
       "      <th>link</th>\n",
       "      <th>reply</th>\n",
       "      <th>forum</th>\n",
       "    </tr>\n",
       "  </thead>\n",
       "  <tbody>\n",
       "    <tr>\n",
       "      <th>0</th>\n",
       "      <td>2020 Biz Class Amenity Kit</td>\n",
       "      <td>http://www.sqtalk.com/forum/forum/singapore-ai...</td>\n",
       "      <td>https://milelion.com/2020/09/30/conf...amenit...</td>\n",
       "      <td>0</td>\n",
       "    </tr>\n",
       "    <tr>\n",
       "      <th>1</th>\n",
       "      <td>2020 Biz Class Amenity Kit</td>\n",
       "      <td>http://www.sqtalk.com/forum/forum/singapore-ai...</td>\n",
       "      <td>Originally posted by jammed View Post https:/...</td>\n",
       "      <td>0</td>\n",
       "    </tr>\n",
       "    <tr>\n",
       "      <th>2</th>\n",
       "      <td>2020 Biz Class Amenity Kit</td>\n",
       "      <td>http://www.sqtalk.com/forum/forum/singapore-ai...</td>\n",
       "      <td>I’ll report back in 3 week’s time if they are...</td>\n",
       "      <td>0</td>\n",
       "    </tr>\n",
       "    <tr>\n",
       "      <th>3</th>\n",
       "      <td>2020 Biz Class Amenity Kit</td>\n",
       "      <td>http://www.sqtalk.com/forum/forum/singapore-ai...</td>\n",
       "      <td>As we are now in an age of reducing waste thi...</td>\n",
       "      <td>0</td>\n",
       "    </tr>\n",
       "    <tr>\n",
       "      <th>4</th>\n",
       "      <td>2020 Biz Class Amenity Kit</td>\n",
       "      <td>http://www.sqtalk.com/forum/forum/singapore-ai...</td>\n",
       "      <td>Originally posted by yflyer View Post - I alw...</td>\n",
       "      <td>0</td>\n",
       "    </tr>\n",
       "  </tbody>\n",
       "</table>\n",
       "</div>"
      ],
      "text/plain": [
       "                        title  \\\n",
       "0  2020 Biz Class Amenity Kit   \n",
       "1  2020 Biz Class Amenity Kit   \n",
       "2  2020 Biz Class Amenity Kit   \n",
       "3  2020 Biz Class Amenity Kit   \n",
       "4  2020 Biz Class Amenity Kit   \n",
       "\n",
       "                                                link  \\\n",
       "0  http://www.sqtalk.com/forum/forum/singapore-ai...   \n",
       "1  http://www.sqtalk.com/forum/forum/singapore-ai...   \n",
       "2  http://www.sqtalk.com/forum/forum/singapore-ai...   \n",
       "3  http://www.sqtalk.com/forum/forum/singapore-ai...   \n",
       "4  http://www.sqtalk.com/forum/forum/singapore-ai...   \n",
       "\n",
       "                                               reply  forum  \n",
       "0   https://milelion.com/2020/09/30/conf...amenit...      0  \n",
       "1   Originally posted by jammed View Post https:/...      0  \n",
       "2   I’ll report back in 3 week’s time if they are...      0  \n",
       "3   As we are now in an age of reducing waste thi...      0  \n",
       "4   Originally posted by yflyer View Post - I alw...      0  "
      ]
     },
     "execution_count": 26,
     "metadata": {},
     "output_type": "execute_result"
    }
   ],
   "source": [
    "# Convert y response variable in 'forum' column to 0 for amenity_catering_lounges and 1 for krisflyer\n",
    "sq_forums['forum'] = sq_forums['forum'].map({'amenity_catering_lounges': 0, 'krisflyer': 1})\n",
    "sq_forums.head()"
   ]
  },
  {
   "cell_type": "code",
   "execution_count": 27,
   "id": "ff9d1fbf-9873-4e23-8876-3214a388bf3c",
   "metadata": {},
   "outputs": [],
   "source": [
    "# Set data up for modelling\n",
    "X = sq_forums['reply']\n",
    "y = sq_forums['forum']"
   ]
  },
  {
   "cell_type": "code",
   "execution_count": 28,
   "id": "e21e8f9d-805d-4417-a0a4-18181ea9a1ce",
   "metadata": {},
   "outputs": [
    {
     "data": {
      "text/plain": [
       "1    0.605005\n",
       "0    0.394995\n",
       "Name: forum, dtype: float64"
      ]
     },
     "execution_count": 28,
     "metadata": {},
     "output_type": "execute_result"
    }
   ],
   "source": [
    "# Check distribution of classes in `y` for choosing appropriate metrics\n",
    "y.value_counts(normalize = True)"
   ]
  },
  {
   "cell_type": "code",
   "execution_count": 82,
   "id": "e6ce5f5c-2651-4055-b154-03880cb9e4b4",
   "metadata": {},
   "outputs": [
    {
     "data": {
      "image/png": "[encoded data removed]",
      "text/plain": [
       "<Figure size 500x400 with 1 Axes>"
      ]
     },
     "metadata": {},
     "output_type": "display_data"
    }
   ],
   "source": [
    "# Plot bar graph to show distribution of target variable\n",
    "sns.set(font_scale=1)\n",
    "y.value_counts(normalize = True).plot(kind='bar', figsize=(5, 4), rot=0)\n",
    "plt.xticks([0,1], ['krisflyer','amenity_catering_lounges'])\n",
    "plt.xlabel(\"Categories\")\n",
    "plt.ylabel(\"Distribution\")\n",
    "plt.title(\"Distribution of forum categories\");"
   ]
  },
  {
   "cell_type": "markdown",
   "id": "6f9d161e-774f-4a21-8208-8a7ab24f414b",
   "metadata": {},
   "source": [
    "Distribution of y is imbalanced so there is a need to stratify when doing train-test split and the accuracy metrics will not be appropriate."
   ]
  },
  {
   "cell_type": "code",
   "execution_count": 29,
   "id": "f35583ab-efa5-4e1e-8304-4db5b6d3d5ee",
   "metadata": {},
   "outputs": [],
   "source": [
    "# Split the data into the training and testing sets\n",
    "X_train, X_test, y_train, y_test = train_test_split(X,\n",
    "                                                    y,\n",
    "                                                    stratify=y,\n",
    "                                                    random_state=42)"
   ]
  },
  {
   "cell_type": "code",
   "execution_count": 30,
   "id": "ec3ebf0e-8f42-41d9-8dca-7a4c4f305184",
   "metadata": {},
   "outputs": [
    {
     "name": "stdout",
     "output_type": "stream",
     "text": [
      " A general question to anyone who often flies Y to/from Japan: I am flying to NGO next March and I do not eat any fish or seafood. I'm also not big on eating seaweed either. It's the flavour and smell for me that I cannot stomach. Are menus on Japanese flights very fish oriented? I understand there is usually a Japanese and non-Japanese option but can this also be fish sometimes too and does it often run out leaving only the Japanese option? I'm considering selecting a Vegetarian meal for these flight legs if others consider that might be a safer bet for me, or would that likely be seaweed based? My sister-in-law and several work colleagues are Japanese so I will get plenty of help to understand how to get food when I'm on the ground, but in a plane it's not so easy to be selective! \n"
     ]
    },
    {
     "data": {
      "text/plain": [
       "(20531,)"
      ]
     },
     "execution_count": 30,
     "metadata": {},
     "output_type": "execute_result"
    }
   ],
   "source": [
    "# Examine the 1st row in X_train\n",
    "print(X_train.iloc[0])\n",
    "X_train.shape"
   ]
  },
  {
   "cell_type": "code",
   "execution_count": 31,
   "id": "020da9bb-21bc-485a-805e-cb3ca4a52b67",
   "metadata": {},
   "outputs": [
    {
     "data": {
      "text/plain": [
       "(6844,)"
      ]
     },
     "execution_count": 31,
     "metadata": {},
     "output_type": "execute_result"
    }
   ],
   "source": [
    "# Check transformed test data\n",
    "X_test.shape"
   ]
  },
  {
   "cell_type": "code",
   "execution_count": 92,
   "id": "36307f88-c686-4ab1-97d9-29ef33a2ae18",
   "metadata": {},
   "outputs": [
    {
     "data": {
      "text/plain": [
       "3324                                         (reserved 8) \n",
       "20422     I dunno about business credit cards. But I kn...\n",
       "141       Hi all, Am booked on SIN/DEL - JCL on SQ406. ...\n",
       "5256      These CAKES all look nice. What you can do is...\n",
       "22908     Compared to some other programme's brutal dev...\n",
       "                               ...                        \n",
       "23052     Originally posted by SQueeze View Post On exp...\n",
       "14693     Sadly the general behaviour towards the crew ...\n",
       "27360     Originally posted by Savage25 View Post I jus...\n",
       "13202     More surprises to be announced in the next co...\n",
       "9763      Originally posted by SMK77 View Post Acccess ...\n",
       "Name: reply, Length: 6844, dtype: object"
      ]
     },
     "execution_count": 92,
     "metadata": {},
     "output_type": "execute_result"
    }
   ],
   "source": [
    "X_test"
   ]
  },
  {
   "cell_type": "markdown",
   "id": "6c10bdb7-1576-474c-8d0f-671306d402a3",
   "metadata": {},
   "source": [
    "## Modelling"
   ]
  },
  {
   "cell_type": "code",
   "execution_count": 32,
   "id": "ad85eb30-0346-46d2-a8b0-d1fed4914486",
   "metadata": {},
   "outputs": [],
   "source": [
    "# Instantiate a pipeline class with the following 2 as its list items:\n",
    "# 1. CountVectorizer (transformer)\n",
    "# 2. Multinomial Naive Bayes (estimator)\n",
    "\n",
    "pipe = Pipeline([\n",
    "    ('cvec', CountVectorizer(stop_words='english')), # tuple for transformer object, class\n",
    "    ('nb', MultinomialNB()) # tuple for estimator object, class\n",
    "])"
   ]
  },
  {
   "cell_type": "code",
   "execution_count": 87,
   "id": "dfc86cb3-a43b-4bab-8827-3f5b2b2f8d5d",
   "metadata": {},
   "outputs": [
    {
     "data": {
      "text/plain": [
       "0.8404365635234108"
      ]
     },
     "execution_count": 87,
     "metadata": {},
     "output_type": "execute_result"
    }
   ],
   "source": [
    "# Cross Val Score for pipe\n",
    "cross_val_score(pipe, X_train, y_train, cv=5).mean()"
   ]
  },
  {
   "cell_type": "code",
   "execution_count": 33,
   "id": "70e54e84-8a0f-4d64-a6ed-e31a5c26a451",
   "metadata": {},
   "outputs": [
    {
     "data": {
      "text/html": [
       "<style>#sk-container-id-1 {color: black;background-color: white;}#sk-container-id-1 pre{padding: 0;}#sk-container-id-1 div.sk-toggleable {background-color: white;}#sk-container-id-1 label.sk-toggleable__label {cursor: pointer;display: block;width: 100%;margin-bottom: 0;padding: 0.3em;box-sizing: border-box;text-align: center;}#sk-container-id-1 label.sk-toggleable__label-arrow:before {content: \"▸\";float: left;margin-right: 0.25em;color: #696969;}#sk-container-id-1 label.sk-toggleable__label-arrow:hover:before {color: black;}#sk-container-id-1 div.sk-estimator:hover label.sk-toggleable__label-arrow:before {color: black;}#sk-container-id-1 div.sk-toggleable__content {max-height: 0;max-width: 0;overflow: hidden;text-align: left;background-color: #f0f8ff;}#sk-container-id-1 div.sk-toggleable__content pre {margin: 0.2em;color: black;border-radius: 0.25em;background-color: #f0f8ff;}#sk-container-id-1 input.sk-toggleable__control:checked~div.sk-toggleable__content {max-height: 200px;max-width: 100%;overflow: auto;}#sk-container-id-1 input.sk-toggleable__control:checked~label.sk-toggleable__label-arrow:before {content: \"▾\";}#sk-container-id-1 div.sk-estimator input.sk-toggleable__control:checked~label.sk-toggleable__label {background-color: #d4ebff;}#sk-container-id-1 div.sk-label input.sk-toggleable__control:checked~label.sk-toggleable__label {background-color: #d4ebff;}#sk-container-id-1 input.sk-hidden--visually {border: 0;clip: rect(1px 1px 1px 1px);clip: rect(1px, 1px, 1px, 1px);height: 1px;margin: -1px;overflow: hidden;padding: 0;position: absolute;width: 1px;}#sk-container-id-1 div.sk-estimator {font-family: monospace;background-color: #f0f8ff;border: 1px dotted black;border-radius: 0.25em;box-sizing: border-box;margin-bottom: 0.5em;}#sk-container-id-1 div.sk-estimator:hover {background-color: #d4ebff;}#sk-container-id-1 div.sk-parallel-item::after {content: \"\";width: 100%;border-bottom: 1px solid gray;flex-grow: 1;}#sk-container-id-1 div.sk-label:hover label.sk-toggleable__label {background-color: #d4ebff;}#sk-container-id-1 div.sk-serial::before {content: \"\";position: absolute;border-left: 1px solid gray;box-sizing: border-box;top: 0;bottom: 0;left: 50%;z-index: 0;}#sk-container-id-1 div.sk-serial {display: flex;flex-direction: column;align-items: center;background-color: white;padding-right: 0.2em;padding-left: 0.2em;position: relative;}#sk-container-id-1 div.sk-item {position: relative;z-index: 1;}#sk-container-id-1 div.sk-parallel {display: flex;align-items: stretch;justify-content: center;background-color: white;position: relative;}#sk-container-id-1 div.sk-item::before, #sk-container-id-1 div.sk-parallel-item::before {content: \"\";position: absolute;border-left: 1px solid gray;box-sizing: border-box;top: 0;bottom: 0;left: 50%;z-index: -1;}#sk-container-id-1 div.sk-parallel-item {display: flex;flex-direction: column;z-index: 1;position: relative;background-color: white;}#sk-container-id-1 div.sk-parallel-item:first-child::after {align-self: flex-end;width: 50%;}#sk-container-id-1 div.sk-parallel-item:last-child::after {align-self: flex-start;width: 50%;}#sk-container-id-1 div.sk-parallel-item:only-child::after {width: 0;}#sk-container-id-1 div.sk-dashed-wrapped {border: 1px dashed gray;margin: 0 0.4em 0.5em 0.4em;box-sizing: border-box;padding-bottom: 0.4em;background-color: white;}#sk-container-id-1 div.sk-label label {font-family: monospace;font-weight: bold;display: inline-block;line-height: 1.2em;}#sk-container-id-1 div.sk-label-container {text-align: center;}#sk-container-id-1 div.sk-container {/* jupyter's `normalize.less` sets `[hidden] { display: none; }` but bootstrap.min.css set `[hidden] { display: none !important; }` so we also need the `!important` here to be able to override the default hidden behavior on the sphinx rendered scikit-learn.org. See: https://github.com/scikit-learn/scikit-learn/issues/21755 */display: inline-block !important;position: relative;}#sk-container-id-1 div.sk-text-repr-fallback {display: none;}</style><div id=\"sk-container-id-1\" class=\"sk-top-container\"><div class=\"sk-text-repr-fallback\"><pre>Pipeline(steps=[(&#x27;cvec&#x27;, CountVectorizer(stop_words=&#x27;english&#x27;)),\n",
       "                (&#x27;nb&#x27;, MultinomialNB())])</pre><b>In a Jupyter environment, please rerun this cell to show the HTML representation or trust the notebook. <br />On GitHub, the HTML representation is unable to render, please try loading this page with nbviewer.org.</b></div><div class=\"sk-container\" hidden><div class=\"sk-item sk-dashed-wrapped\"><div class=\"sk-label-container\"><div class=\"sk-label sk-toggleable\"><input class=\"sk-toggleable__control sk-hidden--visually\" id=\"sk-estimator-id-1\" type=\"checkbox\" ><label for=\"sk-estimator-id-1\" class=\"sk-toggleable__label sk-toggleable__label-arrow\">Pipeline</label><div class=\"sk-toggleable__content\"><pre>Pipeline(steps=[(&#x27;cvec&#x27;, CountVectorizer(stop_words=&#x27;english&#x27;)),\n",
       "                (&#x27;nb&#x27;, MultinomialNB())])</pre></div></div></div><div class=\"sk-serial\"><div class=\"sk-item\"><div class=\"sk-estimator sk-toggleable\"><input class=\"sk-toggleable__control sk-hidden--visually\" id=\"sk-estimator-id-2\" type=\"checkbox\" ><label for=\"sk-estimator-id-2\" class=\"sk-toggleable__label sk-toggleable__label-arrow\">CountVectorizer</label><div class=\"sk-toggleable__content\"><pre>CountVectorizer(stop_words=&#x27;english&#x27;)</pre></div></div></div><div class=\"sk-item\"><div class=\"sk-estimator sk-toggleable\"><input class=\"sk-toggleable__control sk-hidden--visually\" id=\"sk-estimator-id-3\" type=\"checkbox\" ><label for=\"sk-estimator-id-3\" class=\"sk-toggleable__label sk-toggleable__label-arrow\">MultinomialNB</label><div class=\"sk-toggleable__content\"><pre>MultinomialNB()</pre></div></div></div></div></div></div></div>"
      ],
      "text/plain": [
       "Pipeline(steps=[('cvec', CountVectorizer(stop_words='english')),\n",
       "                ('nb', MultinomialNB())])"
      ]
     },
     "execution_count": 33,
     "metadata": {},
     "output_type": "execute_result"
    }
   ],
   "source": [
    "# Fit pipeline to corpus\n",
    "pipe.fit(X_train, y_train)"
   ]
  },
  {
   "cell_type": "code",
   "execution_count": 34,
   "id": "e385b48b-30fb-4b63-a4c7-e753d04340a4",
   "metadata": {},
   "outputs": [
    {
     "data": {
      "text/plain": [
       "0.8583605279820758"
      ]
     },
     "execution_count": 34,
     "metadata": {},
     "output_type": "execute_result"
    }
   ],
   "source": [
    "# Score model on training set\n",
    "pipe.score(X_train, y_train)"
   ]
  },
  {
   "cell_type": "code",
   "execution_count": 35,
   "id": "eaa10392-a526-41a7-a3f7-ed67d1c543ca",
   "metadata": {},
   "outputs": [
    {
     "data": {
      "text/plain": [
       "0.8435125657510228"
      ]
     },
     "execution_count": 35,
     "metadata": {},
     "output_type": "execute_result"
    }
   ],
   "source": [
    "# Score model on testing set\n",
    "pipe.score(X_test, y_test)"
   ]
  },
  {
   "cell_type": "markdown",
   "id": "5c89dc75-17db-4a5d-8427-84886794e738",
   "metadata": {},
   "source": [
    "- The score above is based on the `accuracy` metric which captures all the correct predictions out of all the predictions. A model accuracy of more than 80% is great. Furthermore, as the accuracy score of the train dataset is close to and higher than that of the test dataset, there is no evidence of an overfit. Since the objective is to classify a reply to the correct forum category, the cost of false positives (model predicts a reply to be under 'krisflyer' category, when it is actually not) is the same as the cost of false negatives (model predicts a reply to be under 'amenity_catering_lounges' category, when it is actually not) - a dissatisfied costumer. As such, `accuracy` is a suitable metric. However, the categories of the target variable is not evenly distributed, i.e., this is an imbalanced dataset. Thus, `accuracy` metric is not suitable. More can be done to make a more balanced dataset before using the `accuracy` metric.\n",
    "\n",
    "- Since it is important to maximise true positives (model correctly predicts a reply to be under 'krisflyer' category), the metrics `sensitivity`, `precision` and `F1 score` (which takes the harmonic mean of `precision` and `sensitivity`) are appropriate. \n",
    "\n",
    "- Likewise, since it is important to maximise the true negatives (model correctly predicts a reply to be under 'amenity_catering_lounges' category), the `specificity` metric is appropriate.\n",
    "\n",
    "- Finding the `roc/auc` score is also appropriate in this case as it looks at the tradeoff between `sensitivity` and `specificity` metrics for every possible decision rule cutoff between 0 and 1 for a model.\n",
    "\n",
    "- As such, we will proceed to finding the scores using the other metrics as well."
   ]
  },
  {
   "cell_type": "code",
   "execution_count": 36,
   "id": "37734bff-8383-4a92-ad45-75f0e1b7ee7c",
   "metadata": {},
   "outputs": [
    {
     "name": "stdout",
     "output_type": "stream",
     "text": [
      "[0 1 1 ... 1 1 1]\n"
     ]
    }
   ],
   "source": [
    "# Get predictions\n",
    "preds = pipe.predict(X_test)\n",
    "print(preds)"
   ]
  },
  {
   "cell_type": "code",
   "execution_count": 37,
   "id": "aaaa0dad-a346-4de3-8508-d56f6eb1605d",
   "metadata": {},
   "outputs": [
    {
     "data": {
      "text/plain": [
       "array([[1691, 1012],\n",
       "       [  59, 4082]])"
      ]
     },
     "execution_count": 37,
     "metadata": {},
     "output_type": "execute_result"
    }
   ],
   "source": [
    "# confusion matrix yields a 2-D array\n",
    "confusion_matrix(y_test, preds) "
   ]
  },
  {
   "cell_type": "code",
   "execution_count": 38,
   "id": "bb173a6a-5e45-498c-9fe6-bc54c5f667e6",
   "metadata": {},
   "outputs": [
    {
     "name": "stdout",
     "output_type": "stream",
     "text": [
      "1691 1012 59 4082\n"
     ]
    }
   ],
   "source": [
    "# ravel() to convert to 1-D and Save confusion matrix values\n",
    "tn, fp, fn, tp = confusion_matrix(y_test, preds).ravel()\n",
    "print(tn, fp, fn, tp)"
   ]
  },
  {
   "cell_type": "code",
   "execution_count": 39,
   "id": "03b65e8c-dd7d-4d78-ae19-3c166323e7ee",
   "metadata": {},
   "outputs": [
    {
     "data": {
      "image/png": "[encoded data removed]",
      "text/plain": [
       "<Figure size 640x480 with 2 Axes>"
      ]
     },
     "metadata": {},
     "output_type": "display_data"
    }
   ],
   "source": [
    "# plot confusion matrix\n",
    "cm = confusion_matrix(y_test, preds)\n",
    "disp = ConfusionMatrixDisplay(confusion_matrix=cm, display_labels=['amenity_catering_lounges', 'krisflyer'])\n",
    "disp.plot();"
   ]
  },
  {
   "cell_type": "code",
   "execution_count": 88,
   "id": "54404052-1347-42b9-ac5c-b35fcecfe231",
   "metadata": {},
   "outputs": [
    {
     "data": {
      "text/plain": [
       "'accuracy score = 0.8435125657510228'"
      ]
     },
     "execution_count": 88,
     "metadata": {},
     "output_type": "execute_result"
    }
   ],
   "source": [
    "# Find 'accuracy' score from sklearn metrics (same as test_score above)\n",
    "accuracy = accuracy_score(y_test, preds)\n",
    "f'accuracy score = {accuracy}'"
   ]
  },
  {
   "cell_type": "code",
   "execution_count": 89,
   "id": "66dd14a2",
   "metadata": {},
   "outputs": [
    {
     "data": {
      "text/plain": [
       "'sensitivity score = 0.9857522337599613'"
      ]
     },
     "execution_count": 89,
     "metadata": {},
     "output_type": "execute_result"
    }
   ],
   "source": [
    "# Find 'sensitivity' score from sklearn metrics\n",
    "sensitivity = recall_score(y_test, preds)\n",
    "f'sensitivity score = {sensitivity}'"
   ]
  },
  {
   "cell_type": "code",
   "execution_count": 90,
   "id": "c775ff33-c060-43e0-aaea-a4b38023bd0a",
   "metadata": {},
   "outputs": [
    {
     "data": {
      "text/plain": [
       "'precision score = 0.801334903808402'"
      ]
     },
     "execution_count": 90,
     "metadata": {},
     "output_type": "execute_result"
    }
   ],
   "source": [
    "# Find 'precision' score from sklearn metrics\n",
    "precision = precision_score(y_test, preds)\n",
    "f'precision score = {precision}'"
   ]
  },
  {
   "cell_type": "code",
   "execution_count": 91,
   "id": "f4411a5f",
   "metadata": {},
   "outputs": [
    {
     "data": {
      "text/plain": [
       "'f1 score = 0.8840281537628587'"
      ]
     },
     "execution_count": 91,
     "metadata": {},
     "output_type": "execute_result"
    }
   ],
   "source": [
    "# Find 'f1 score' from sklearn metrics\n",
    "f1_score = f1_score(y_test, preds)\n",
    "f'f1 score = {f1_score}'"
   ]
  },
  {
   "cell_type": "code",
   "execution_count": 52,
   "id": "9130cf4c-78c0-4ec4-8856-1a84ca6ebf6e",
   "metadata": {},
   "outputs": [
    {
     "name": "stdout",
     "output_type": "stream",
     "text": [
      "              precision    recall  f1-score   support\n",
      "\n",
      "           0       0.97      0.63      0.76      2703\n",
      "           1       0.80      0.99      0.88      4141\n",
      "\n",
      "    accuracy                           0.84      6844\n",
      "   macro avg       0.88      0.81      0.82      6844\n",
      "weighted avg       0.87      0.84      0.83      6844\n",
      "\n"
     ]
    }
   ],
   "source": [
    "# Summarizing Precision, Sensitivity and F1-score\n",
    "print(classification_report(y_test, preds))"
   ]
  },
  {
   "cell_type": "markdown",
   "id": "4b62fa69-a9b0-416d-9c98-c3027c4d041a",
   "metadata": {},
   "source": [
    "- `precision` metric is the best in evaluating 'amenity_catering_lounges' category while `sensitivity` metric is the best in evaluating 'krisflyer' category.\n",
    "- However, using the averages given the nature of the imbalanced dataset, `precision` metric stands out."
   ]
  },
  {
   "cell_type": "code",
   "execution_count": 51,
   "id": "9fb7cc9c",
   "metadata": {},
   "outputs": [
    {
     "data": {
      "text/plain": [
       "'specificity score = 0.6256011838697744'"
      ]
     },
     "execution_count": 51,
     "metadata": {},
     "output_type": "execute_result"
    }
   ],
   "source": [
    "# Find 'specificity score' \n",
    "specificity = tn / (tn + fp)\n",
    "f'specificity score = {specificity}'"
   ]
  },
  {
   "cell_type": "code",
   "execution_count": 55,
   "id": "9272e2f4-5127-437e-8eff-d80929dd213e",
   "metadata": {},
   "outputs": [
    {
     "data": {
      "image/png": "[encoded data removed]",
      "text/plain": [
       "<Figure size 640x480 with 1 Axes>"
      ]
     },
     "metadata": {},
     "output_type": "display_data"
    }
   ],
   "source": [
    "# Plot roc curve from sklearn metrics\n",
    "RocCurveDisplay.from_predictions(y_test, preds)\n",
    "plt.show()"
   ]
  },
  {
   "cell_type": "code",
   "execution_count": 56,
   "id": "1ce7d433-06cb-4ed4-b04d-c493c3470c0e",
   "metadata": {},
   "outputs": [
    {
     "data": {
      "text/plain": [
       "'roc auc score = 0.8056767088148679'"
      ]
     },
     "execution_count": 56,
     "metadata": {},
     "output_type": "execute_result"
    }
   ],
   "source": [
    "# Find 'roc auc score' from sklearn metrics\n",
    "roc_auc_score = roc_auc_score(y_test, preds)\n",
    "f'roc auc score = {roc_auc_score}'"
   ]
  },
  {
   "cell_type": "markdown",
   "id": "ac7d6c39-7759-4dbb-84e4-8454e3932dc7",
   "metadata": {},
   "source": [
    "In summary, the scores using the different metrics are as below:\n",
    "|**Metrics**|**MultinomialNB()**|\n",
    "|:---|:---|\n",
    "|train_score|0.858|\n",
    "|test_score|0.844|\n",
    "|sensitivity|0.986|\n",
    "|precision|0.801|\n",
    "|f1 score|0.884|\n",
    "|specificity|0.626|\n",
    "|roc auc|0.806|\n",
    "\n",
    "- Since `train_score` is close to and higher than that of `test_score`, there is no evidence of an overfit.\n",
    "\n",
    "- Based on the classification report comparing `precision`, `sensitivity` and `f1 score`, `precision` metric is the best in evaluating 'amenity_catering_lounges' category while `sensitivity` metric is the best in evaluating 'krisflyer' category. Since both `precision` and `sensitivity` are important, we will seek to optimise `f1 score`.\n",
    "\n",
    "- In this baseline model, using the averages given the nature of the imbalanced dataset, `precision` metric stands out. And, without using the averages, `sensitivity` metric is the best."
   ]
  },
  {
   "cell_type": "code",
   "execution_count": null,
   "id": "76d177a5-d620-4221-b81c-5bca397bdaee",
   "metadata": {},
   "outputs": [],
   "source": []
  }
 ],
 "metadata": {
  "kernelspec": {
   "display_name": "Python 3 (ipykernel)",
   "language": "python",
   "name": "python3"
  },
  "language_info": {
   "codemirror_mode": {
    "name": "ipython",
    "version": 3
   },
   "file_extension": ".py",
   "mimetype": "text/x-python",
   "name": "python",
   "nbconvert_exporter": "python",
   "pygments_lexer": "ipython3",
   "version": "3.8.13"
  }
 },
 "nbformat": 4,
 "nbformat_minor": 5
}

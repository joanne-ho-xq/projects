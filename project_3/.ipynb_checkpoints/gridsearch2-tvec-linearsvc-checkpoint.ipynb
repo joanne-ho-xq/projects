{
 "cells": [
  {
   "cell_type": "markdown",
   "id": "1247b034-0abb-45e5-9922-d147182e638d",
   "metadata": {},
   "source": [
    "Ran on Kaggle"
   ]
  },
  {
   "cell_type": "code",
   "execution_count": 1,
   "id": "4ab44516",
   "metadata": {
    "_cell_guid": "b1076dfc-b9ad-4769-8c92-a6c4dae69d19",
    "_uuid": "8f2839f25d086af736a60e9eeb907d3b93b6e0e5",
    "execution": {
     "iopub.execute_input": "2023-01-23T04:13:34.121336Z",
     "iopub.status.busy": "2023-01-23T04:13:34.120879Z",
     "iopub.status.idle": "2023-01-23T04:13:35.545603Z",
     "shell.execute_reply": "2023-01-23T04:13:35.544250Z"
    },
    "papermill": {
     "duration": 1.43936,
     "end_time": "2023-01-23T04:13:35.549063",
     "exception": false,
     "start_time": "2023-01-23T04:13:34.109703",
     "status": "completed"
    },
    "tags": []
   },
   "outputs": [],
   "source": [
    "# Import libraries\n",
    "import pandas as pd\n",
    "import numpy as np\n",
    "import matplotlib.pyplot as plt\n",
    "import seaborn as sns\n",
    "from sklearn.model_selection import train_test_split, cross_val_score, GridSearchCV, StratifiedKFold\n",
    "from sklearn.pipeline import Pipeline # to compactly pack multiple modeling operations\n",
    "from sklearn.svm import LinearSVC # to build our classification model\n",
    "from sklearn.metrics import confusion_matrix, ConfusionMatrixDisplay, accuracy_score, RocCurveDisplay, roc_auc_score, recall_score, precision_score, f1_score, classification_report # to access results from binary classification task\n",
    " \n",
    "# Import CountVectorizer and TFIDFVectorizer from feature_extraction.text module in sklearn.\n",
    "from sklearn.feature_extraction.text import TfidfVectorizer "
   ]
  },
  {
   "cell_type": "code",
   "execution_count": 2,
   "id": "14197a25",
   "metadata": {
    "execution": {
     "iopub.execute_input": "2023-01-23T04:13:35.562611Z",
     "iopub.status.busy": "2023-01-23T04:13:35.562185Z",
     "iopub.status.idle": "2023-01-23T04:13:36.030699Z",
     "shell.execute_reply": "2023-01-23T04:13:36.029593Z"
    },
    "papermill": {
     "duration": 0.478331,
     "end_time": "2023-01-23T04:13:36.033401",
     "exception": false,
     "start_time": "2023-01-23T04:13:35.555070",
     "status": "completed"
    },
    "tags": []
   },
   "outputs": [
    {
     "name": "stdout",
     "output_type": "stream",
     "text": [
      "(27375, 4)\n"
     ]
    },
    {
     "data": {
      "text/html": [
       "<div>\n",
       "<style scoped>\n",
       "    .dataframe tbody tr th:only-of-type {\n",
       "        vertical-align: middle;\n",
       "    }\n",
       "\n",
       "    .dataframe tbody tr th {\n",
       "        vertical-align: top;\n",
       "    }\n",
       "\n",
       "    .dataframe thead th {\n",
       "        text-align: right;\n",
       "    }\n",
       "</style>\n",
       "<table border=\"1\" class=\"dataframe\">\n",
       "  <thead>\n",
       "    <tr style=\"text-align: right;\">\n",
       "      <th></th>\n",
       "      <th>title</th>\n",
       "      <th>link</th>\n",
       "      <th>reply</th>\n",
       "      <th>forum</th>\n",
       "    </tr>\n",
       "  </thead>\n",
       "  <tbody>\n",
       "    <tr>\n",
       "      <th>0</th>\n",
       "      <td>2020 Biz Class Amenity Kit</td>\n",
       "      <td>http://www.sqtalk.com/forum/forum/singapore-ai...</td>\n",
       "      <td>https://milelion.com/2020/09/30/conf...amenit...</td>\n",
       "      <td>amenity_catering_lounges</td>\n",
       "    </tr>\n",
       "    <tr>\n",
       "      <th>1</th>\n",
       "      <td>2020 Biz Class Amenity Kit</td>\n",
       "      <td>http://www.sqtalk.com/forum/forum/singapore-ai...</td>\n",
       "      <td>Originally posted by jammed View Post https:/...</td>\n",
       "      <td>amenity_catering_lounges</td>\n",
       "    </tr>\n",
       "    <tr>\n",
       "      <th>2</th>\n",
       "      <td>2020 Biz Class Amenity Kit</td>\n",
       "      <td>http://www.sqtalk.com/forum/forum/singapore-ai...</td>\n",
       "      <td>I’ll report back in 3 week’s time if they are...</td>\n",
       "      <td>amenity_catering_lounges</td>\n",
       "    </tr>\n",
       "  </tbody>\n",
       "</table>\n",
       "</div>"
      ],
      "text/plain": [
       "                        title  \\\n",
       "0  2020 Biz Class Amenity Kit   \n",
       "1  2020 Biz Class Amenity Kit   \n",
       "2  2020 Biz Class Amenity Kit   \n",
       "\n",
       "                                                link  \\\n",
       "0  http://www.sqtalk.com/forum/forum/singapore-ai...   \n",
       "1  http://www.sqtalk.com/forum/forum/singapore-ai...   \n",
       "2  http://www.sqtalk.com/forum/forum/singapore-ai...   \n",
       "\n",
       "                                               reply                     forum  \n",
       "0   https://milelion.com/2020/09/30/conf...amenit...  amenity_catering_lounges  \n",
       "1   Originally posted by jammed View Post https:/...  amenity_catering_lounges  \n",
       "2   I’ll report back in 3 week’s time if they are...  amenity_catering_lounges  "
      ]
     },
     "execution_count": 2,
     "metadata": {},
     "output_type": "execute_result"
    }
   ],
   "source": [
    "# Load dataset\n",
    "sq_forums = pd.read_csv('/kaggle/input/sq-forums/sq_forums.csv')\n",
    "print(sq_forums.shape)\n",
    "sq_forums.head(3)"
   ]
  },
  {
   "cell_type": "code",
   "execution_count": 3,
   "id": "d1999760",
   "metadata": {
    "execution": {
     "iopub.execute_input": "2023-01-23T04:13:36.046870Z",
     "iopub.status.busy": "2023-01-23T04:13:36.046453Z",
     "iopub.status.idle": "2023-01-23T04:13:36.073270Z",
     "shell.execute_reply": "2023-01-23T04:13:36.072125Z"
    },
    "papermill": {
     "duration": 0.036321,
     "end_time": "2023-01-23T04:13:36.075649",
     "exception": false,
     "start_time": "2023-01-23T04:13:36.039328",
     "status": "completed"
    },
    "tags": []
   },
   "outputs": [
    {
     "data": {
      "text/html": [
       "<div>\n",
       "<style scoped>\n",
       "    .dataframe tbody tr th:only-of-type {\n",
       "        vertical-align: middle;\n",
       "    }\n",
       "\n",
       "    .dataframe tbody tr th {\n",
       "        vertical-align: top;\n",
       "    }\n",
       "\n",
       "    .dataframe thead th {\n",
       "        text-align: right;\n",
       "    }\n",
       "</style>\n",
       "<table border=\"1\" class=\"dataframe\">\n",
       "  <thead>\n",
       "    <tr style=\"text-align: right;\">\n",
       "      <th></th>\n",
       "      <th>title</th>\n",
       "      <th>link</th>\n",
       "      <th>reply</th>\n",
       "      <th>forum</th>\n",
       "    </tr>\n",
       "  </thead>\n",
       "  <tbody>\n",
       "    <tr>\n",
       "      <th>0</th>\n",
       "      <td>2020 Biz Class Amenity Kit</td>\n",
       "      <td>http://www.sqtalk.com/forum/forum/singapore-ai...</td>\n",
       "      <td>https://milelion.com/2020/09/30/conf...amenit...</td>\n",
       "      <td>0</td>\n",
       "    </tr>\n",
       "    <tr>\n",
       "      <th>1</th>\n",
       "      <td>2020 Biz Class Amenity Kit</td>\n",
       "      <td>http://www.sqtalk.com/forum/forum/singapore-ai...</td>\n",
       "      <td>Originally posted by jammed View Post https:/...</td>\n",
       "      <td>0</td>\n",
       "    </tr>\n",
       "    <tr>\n",
       "      <th>2</th>\n",
       "      <td>2020 Biz Class Amenity Kit</td>\n",
       "      <td>http://www.sqtalk.com/forum/forum/singapore-ai...</td>\n",
       "      <td>I’ll report back in 3 week’s time if they are...</td>\n",
       "      <td>0</td>\n",
       "    </tr>\n",
       "  </tbody>\n",
       "</table>\n",
       "</div>"
      ],
      "text/plain": [
       "                        title  \\\n",
       "0  2020 Biz Class Amenity Kit   \n",
       "1  2020 Biz Class Amenity Kit   \n",
       "2  2020 Biz Class Amenity Kit   \n",
       "\n",
       "                                                link  \\\n",
       "0  http://www.sqtalk.com/forum/forum/singapore-ai...   \n",
       "1  http://www.sqtalk.com/forum/forum/singapore-ai...   \n",
       "2  http://www.sqtalk.com/forum/forum/singapore-ai...   \n",
       "\n",
       "                                               reply  forum  \n",
       "0   https://milelion.com/2020/09/30/conf...amenit...      0  \n",
       "1   Originally posted by jammed View Post https:/...      0  \n",
       "2   I’ll report back in 3 week’s time if they are...      0  "
      ]
     },
     "execution_count": 3,
     "metadata": {},
     "output_type": "execute_result"
    }
   ],
   "source": [
    "# Convert y response variable in 'forum' column to 0 for amenity_catering_lounges and 1 for krisflyer\n",
    "sq_forums['forum'] = sq_forums['forum'].map({'amenity_catering_lounges': 0, 'krisflyer': 1})\n",
    "sq_forums.head(3)"
   ]
  },
  {
   "cell_type": "code",
   "execution_count": 4,
   "id": "db6c352a",
   "metadata": {
    "execution": {
     "iopub.execute_input": "2023-01-23T04:13:36.089245Z",
     "iopub.status.busy": "2023-01-23T04:13:36.088860Z",
     "iopub.status.idle": "2023-01-23T04:13:36.094578Z",
     "shell.execute_reply": "2023-01-23T04:13:36.093373Z"
    },
    "papermill": {
     "duration": 0.015359,
     "end_time": "2023-01-23T04:13:36.097065",
     "exception": false,
     "start_time": "2023-01-23T04:13:36.081706",
     "status": "completed"
    },
    "tags": []
   },
   "outputs": [],
   "source": [
    "# Set data up for modelling\n",
    "X = sq_forums['reply']\n",
    "y = sq_forums['forum']"
   ]
  },
  {
   "cell_type": "code",
   "execution_count": 5,
   "id": "f0f0bc35",
   "metadata": {
    "execution": {
     "iopub.execute_input": "2023-01-23T04:13:36.111245Z",
     "iopub.status.busy": "2023-01-23T04:13:36.110840Z",
     "iopub.status.idle": "2023-01-23T04:13:36.130996Z",
     "shell.execute_reply": "2023-01-23T04:13:36.129872Z"
    },
    "papermill": {
     "duration": 0.030264,
     "end_time": "2023-01-23T04:13:36.133632",
     "exception": false,
     "start_time": "2023-01-23T04:13:36.103368",
     "status": "completed"
    },
    "tags": []
   },
   "outputs": [],
   "source": [
    "# Split the data into the training and testing sets\n",
    "X_train, X_test, y_train, y_test = train_test_split(X,\n",
    "                                                    y,\n",
    "                                                    stratify=y,\n",
    "                                                    random_state=42)"
   ]
  },
  {
   "cell_type": "code",
   "execution_count": 6,
   "id": "d1257590",
   "metadata": {
    "execution": {
     "iopub.execute_input": "2023-01-23T04:13:36.147843Z",
     "iopub.status.busy": "2023-01-23T04:13:36.146926Z",
     "iopub.status.idle": "2023-01-23T04:13:36.152663Z",
     "shell.execute_reply": "2023-01-23T04:13:36.151619Z"
    },
    "papermill": {
     "duration": 0.014979,
     "end_time": "2023-01-23T04:13:36.154673",
     "exception": false,
     "start_time": "2023-01-23T04:13:36.139694",
     "status": "completed"
    },
    "tags": []
   },
   "outputs": [],
   "source": [
    "# Set up a pipeline with tf-idf vectorizer with default parameters and LinearSVC classifier\n",
    "# class_weight = 'balanced' to handle our data imbalance\n",
    "\n",
    "pipe_linearsvc = Pipeline([\n",
    "    ('tvec', TfidfVectorizer(stop_words='english')), \n",
    "    ('lsvc', LinearSVC(class_weight='balanced')) \n",
    "])"
   ]
  },
  {
   "cell_type": "code",
   "execution_count": 7,
   "id": "cda90a2a",
   "metadata": {
    "execution": {
     "iopub.execute_input": "2023-01-23T04:13:36.168604Z",
     "iopub.status.busy": "2023-01-23T04:13:36.168239Z",
     "iopub.status.idle": "2023-01-23T04:13:36.174222Z",
     "shell.execute_reply": "2023-01-23T04:13:36.173130Z"
    },
    "papermill": {
     "duration": 0.0154,
     "end_time": "2023-01-23T04:13:36.176338",
     "exception": false,
     "start_time": "2023-01-23T04:13:36.160938",
     "status": "completed"
    },
    "tags": []
   },
   "outputs": [],
   "source": [
    "# Search over the following values of hyperparameters:\n",
    "# Maximum number of features fit: 2000, 3000, 4000, 5000\n",
    "# Minimum number of documents needed to include token: 1, 2, 3\n",
    "# Maximum number of documents needed to include token: 70%, 80%, 90%\n",
    "# Generate 10 random C values\n",
    "\n",
    "pipe_tvec_lsvc_params = {\n",
    "    'tvec__max_features': [4_000, 5_000, 6_000, 7_000],\n",
    "    'tvec__min_df': [1, 2, 3], # min 1, 2 or 3 documents needed to include token\n",
    "    'tvec__max_df': [.5, .6, .7, .8], # max number of documents needed to include token\n",
    "    'lsvc__C': np.linspace(0.0001, 2, 10), # generate 10 random C values to GridSearch over\n",
    "}"
   ]
  },
  {
   "cell_type": "code",
   "execution_count": 8,
   "id": "1d0aebb4",
   "metadata": {
    "execution": {
     "iopub.execute_input": "2023-01-23T04:13:36.191638Z",
     "iopub.status.busy": "2023-01-23T04:13:36.191220Z",
     "iopub.status.idle": "2023-01-23T04:13:36.197239Z",
     "shell.execute_reply": "2023-01-23T04:13:36.196054Z"
    },
    "papermill": {
     "duration": 0.017093,
     "end_time": "2023-01-23T04:13:36.199522",
     "exception": false,
     "start_time": "2023-01-23T04:13:36.182429",
     "status": "completed"
    },
    "tags": []
   },
   "outputs": [],
   "source": [
    "# Instantiate GridSearchCV using stratified kfold cv\n",
    "cv = StratifiedKFold(n_splits=5, shuffle=True, random_state=42)\n",
    "\n",
    "gs2_tvec_lsvc = GridSearchCV(pipe_linearsvc, # the object that we are optimizing\n",
    "                  param_grid=pipe_tvec_lsvc_params, # parameters values to be searched\n",
    "                  cv=cv) # using stratified kfold cv"
   ]
  },
  {
   "cell_type": "code",
   "execution_count": 9,
   "id": "bf52fdb6",
   "metadata": {
    "execution": {
     "iopub.execute_input": "2023-01-23T04:13:36.213495Z",
     "iopub.status.busy": "2023-01-23T04:13:36.213074Z",
     "iopub.status.idle": "2023-01-23T05:11:32.963298Z",
     "shell.execute_reply": "2023-01-23T05:11:32.962222Z"
    },
    "papermill": {
     "duration": 3476.766385,
     "end_time": "2023-01-23T05:11:32.971999",
     "exception": false,
     "start_time": "2023-01-23T04:13:36.205614",
     "status": "completed"
    },
    "tags": []
   },
   "outputs": [
    {
     "name": "stdout",
     "output_type": "stream",
     "text": [
      "CPU times: user 57min 26s, sys: 29.2 s, total: 57min 55s\n",
      "Wall time: 57min 56s\n"
     ]
    },
    {
     "data": {
      "text/plain": [
       "GridSearchCV(cv=StratifiedKFold(n_splits=5, random_state=42, shuffle=True),\n",
       "             estimator=Pipeline(steps=[('tvec',\n",
       "                                        TfidfVectorizer(stop_words='english')),\n",
       "                                       ('lsvc',\n",
       "                                        LinearSVC(class_weight='balanced'))]),\n",
       "             param_grid={'lsvc__C': array([1.00000000e-04, 2.22311111e-01, 4.44522222e-01, 6.66733333e-01,\n",
       "       8.88944444e-01, 1.11115556e+00, 1.33336667e+00, 1.55557778e+00,\n",
       "       1.77778889e+00, 2.00000000e+00]),\n",
       "                         'tvec__max_df': [0.5, 0.6, 0.7, 0.8],\n",
       "                         'tvec__max_features': [4000, 5000, 6000, 7000],\n",
       "                         'tvec__min_df': [1, 2, 3]})"
      ]
     },
     "execution_count": 9,
     "metadata": {},
     "output_type": "execute_result"
    }
   ],
   "source": [
    "%%time\n",
    "# Fit GridSearch to training data\n",
    "gs2_tvec_lsvc.fit(X_train, y_train)"
   ]
  },
  {
   "cell_type": "code",
   "execution_count": 10,
   "id": "5d2bc8db",
   "metadata": {
    "execution": {
     "iopub.execute_input": "2023-01-23T05:11:32.986097Z",
     "iopub.status.busy": "2023-01-23T05:11:32.985655Z",
     "iopub.status.idle": "2023-01-23T05:11:32.993424Z",
     "shell.execute_reply": "2023-01-23T05:11:32.992197Z"
    },
    "papermill": {
     "duration": 0.017569,
     "end_time": "2023-01-23T05:11:32.995642",
     "exception": false,
     "start_time": "2023-01-23T05:11:32.978073",
     "status": "completed"
    },
    "tags": []
   },
   "outputs": [
    {
     "data": {
      "text/plain": [
       "{'lsvc__C': 0.2223111111111111,\n",
       " 'tvec__max_df': 0.5,\n",
       " 'tvec__max_features': 7000,\n",
       " 'tvec__min_df': 3}"
      ]
     },
     "execution_count": 10,
     "metadata": {},
     "output_type": "execute_result"
    }
   ],
   "source": [
    "# See what hyperparameter combination yielded the best result\n",
    "gs2_tvec_lsvc.best_params_ "
   ]
  },
  {
   "cell_type": "code",
   "execution_count": 11,
   "id": "ad2cbc44",
   "metadata": {
    "execution": {
     "iopub.execute_input": "2023-01-23T05:11:33.010757Z",
     "iopub.status.busy": "2023-01-23T05:11:33.009914Z",
     "iopub.status.idle": "2023-01-23T05:11:33.014711Z",
     "shell.execute_reply": "2023-01-23T05:11:33.013852Z"
    },
    "papermill": {
     "duration": 0.014871,
     "end_time": "2023-01-23T05:11:33.016972",
     "exception": false,
     "start_time": "2023-01-23T05:11:33.002101",
     "status": "completed"
    },
    "tags": []
   },
   "outputs": [
    {
     "name": "stdout",
     "output_type": "stream",
     "text": [
      "0.910379294922679\n"
     ]
    }
   ],
   "source": [
    "# Find the mean cross-validated score of the best_estimator\n",
    "print(gs2_tvec_lsvc.best_score_)"
   ]
  },
  {
   "cell_type": "code",
   "execution_count": 12,
   "id": "0fa0edda",
   "metadata": {
    "execution": {
     "iopub.execute_input": "2023-01-23T05:11:33.032118Z",
     "iopub.status.busy": "2023-01-23T05:11:33.031486Z",
     "iopub.status.idle": "2023-01-23T05:11:34.293621Z",
     "shell.execute_reply": "2023-01-23T05:11:34.292374Z"
    },
    "papermill": {
     "duration": 1.272733,
     "end_time": "2023-01-23T05:11:34.296355",
     "exception": false,
     "start_time": "2023-01-23T05:11:33.023622",
     "status": "completed"
    },
    "tags": []
   },
   "outputs": [
    {
     "data": {
      "text/plain": [
       "0.9493935999220691"
      ]
     },
     "execution_count": 12,
     "metadata": {},
     "output_type": "execute_result"
    }
   ],
   "source": [
    "# Score model on training set.\n",
    "gs2_tvec_lsvc.score(X_train, y_train)"
   ]
  },
  {
   "cell_type": "code",
   "execution_count": 13,
   "id": "45d57234",
   "metadata": {
    "execution": {
     "iopub.execute_input": "2023-01-23T05:11:34.312630Z",
     "iopub.status.busy": "2023-01-23T05:11:34.312205Z",
     "iopub.status.idle": "2023-01-23T05:11:34.746380Z",
     "shell.execute_reply": "2023-01-23T05:11:34.745560Z"
    },
    "papermill": {
     "duration": 0.445264,
     "end_time": "2023-01-23T05:11:34.748667",
     "exception": false,
     "start_time": "2023-01-23T05:11:34.303403",
     "status": "completed"
    },
    "tags": []
   },
   "outputs": [
    {
     "data": {
      "text/plain": [
       "0.918907071887785"
      ]
     },
     "execution_count": 13,
     "metadata": {},
     "output_type": "execute_result"
    }
   ],
   "source": [
    "# Score model on testing set.\n",
    "gs2_tvec_lsvc.score(X_test, y_test)"
   ]
  },
  {
   "cell_type": "code",
   "execution_count": 14,
   "id": "d405d637",
   "metadata": {
    "execution": {
     "iopub.execute_input": "2023-01-23T05:11:34.765969Z",
     "iopub.status.busy": "2023-01-23T05:11:34.765276Z",
     "iopub.status.idle": "2023-01-23T05:11:35.178598Z",
     "shell.execute_reply": "2023-01-23T05:11:35.176992Z"
    },
    "papermill": {
     "duration": 0.425947,
     "end_time": "2023-01-23T05:11:35.181614",
     "exception": false,
     "start_time": "2023-01-23T05:11:34.755667",
     "status": "completed"
    },
    "tags": []
   },
   "outputs": [
    {
     "name": "stdout",
     "output_type": "stream",
     "text": [
      "[0 1 1 ... 1 0 0]\n"
     ]
    }
   ],
   "source": [
    "# Get predictions\n",
    "preds = gs2_tvec_lsvc.predict(X_test)\n",
    "print(preds)"
   ]
  },
  {
   "cell_type": "code",
   "execution_count": 15,
   "id": "6cfcc280",
   "metadata": {
    "execution": {
     "iopub.execute_input": "2023-01-23T05:11:35.198014Z",
     "iopub.status.busy": "2023-01-23T05:11:35.197578Z",
     "iopub.status.idle": "2023-01-23T05:11:35.207470Z",
     "shell.execute_reply": "2023-01-23T05:11:35.206233Z"
    },
    "papermill": {
     "duration": 0.021657,
     "end_time": "2023-01-23T05:11:35.210424",
     "exception": false,
     "start_time": "2023-01-23T05:11:35.188767",
     "status": "completed"
    },
    "tags": []
   },
   "outputs": [
    {
     "data": {
      "text/plain": [
       "array([[2482,  221],\n",
       "       [ 334, 3807]])"
      ]
     },
     "execution_count": 15,
     "metadata": {},
     "output_type": "execute_result"
    }
   ],
   "source": [
    "# confusion matrix yields a 2-D array\n",
    "confusion_matrix(y_test, preds) "
   ]
  },
  {
   "cell_type": "code",
   "execution_count": 16,
   "id": "b108c3ab",
   "metadata": {
    "execution": {
     "iopub.execute_input": "2023-01-23T05:11:35.226871Z",
     "iopub.status.busy": "2023-01-23T05:11:35.226431Z",
     "iopub.status.idle": "2023-01-23T05:11:35.235532Z",
     "shell.execute_reply": "2023-01-23T05:11:35.234463Z"
    },
    "papermill": {
     "duration": 0.020032,
     "end_time": "2023-01-23T05:11:35.237909",
     "exception": false,
     "start_time": "2023-01-23T05:11:35.217877",
     "status": "completed"
    },
    "tags": []
   },
   "outputs": [
    {
     "name": "stdout",
     "output_type": "stream",
     "text": [
      "2482 221 334 3807\n"
     ]
    }
   ],
   "source": [
    "# ravel() to convert to 1-D and Save confusion matrix values\n",
    "tn, fp, fn, tp = confusion_matrix(y_test, preds).ravel()\n",
    "print(tn, fp, fn, tp)"
   ]
  },
  {
   "cell_type": "code",
   "execution_count": 17,
   "id": "f0477e82",
   "metadata": {
    "execution": {
     "iopub.execute_input": "2023-01-23T05:11:35.254828Z",
     "iopub.status.busy": "2023-01-23T05:11:35.254432Z",
     "iopub.status.idle": "2023-01-23T05:11:35.506745Z",
     "shell.execute_reply": "2023-01-23T05:11:35.505891Z"
    },
    "papermill": {
     "duration": 0.263786,
     "end_time": "2023-01-23T05:11:35.509304",
     "exception": false,
     "start_time": "2023-01-23T05:11:35.245518",
     "status": "completed"
    },
    "tags": []
   },
   "outputs": [
    {
     "data": {
      "image/png": "[encoded data removed]",
      "text/plain": [
       "<Figure size 432x288 with 2 Axes>"
      ]
     },
     "metadata": {
      "needs_background": "light"
     },
     "output_type": "display_data"
    }
   ],
   "source": [
    "# plot confusion matrix\n",
    "cm = confusion_matrix(y_test, preds)\n",
    "disp = ConfusionMatrixDisplay(confusion_matrix=cm, display_labels=['amenity_catering_lounges', 'krisflyer'])\n",
    "disp.plot();"
   ]
  },
  {
   "cell_type": "code",
   "execution_count": 18,
   "id": "98906f36",
   "metadata": {
    "execution": {
     "iopub.execute_input": "2023-01-23T05:11:35.527519Z",
     "iopub.status.busy": "2023-01-23T05:11:35.526595Z",
     "iopub.status.idle": "2023-01-23T05:11:35.536136Z",
     "shell.execute_reply": "2023-01-23T05:11:35.535020Z"
    },
    "papermill": {
     "duration": 0.021322,
     "end_time": "2023-01-23T05:11:35.538392",
     "exception": false,
     "start_time": "2023-01-23T05:11:35.517070",
     "status": "completed"
    },
    "tags": []
   },
   "outputs": [
    {
     "data": {
      "text/plain": [
       "'accuracy score = 0.918907071887785'"
      ]
     },
     "execution_count": 18,
     "metadata": {},
     "output_type": "execute_result"
    }
   ],
   "source": [
    "# Find 'accuracy' score from sklearn metrics (same as test_score above)\n",
    "accuracy = accuracy_score(y_test, preds)\n",
    "f'accuracy score = {accuracy}'"
   ]
  },
  {
   "cell_type": "code",
   "execution_count": 19,
   "id": "c47e21a5",
   "metadata": {
    "execution": {
     "iopub.execute_input": "2023-01-23T05:11:35.556261Z",
     "iopub.status.busy": "2023-01-23T05:11:35.555773Z",
     "iopub.status.idle": "2023-01-23T05:11:35.566977Z",
     "shell.execute_reply": "2023-01-23T05:11:35.565879Z"
    },
    "papermill": {
     "duration": 0.022659,
     "end_time": "2023-01-23T05:11:35.569345",
     "exception": false,
     "start_time": "2023-01-23T05:11:35.546686",
     "status": "completed"
    },
    "tags": []
   },
   "outputs": [
    {
     "data": {
      "text/plain": [
       "'sensitivity score = 0.9193431538275779'"
      ]
     },
     "execution_count": 19,
     "metadata": {},
     "output_type": "execute_result"
    }
   ],
   "source": [
    "# Find 'sensitivity' score from sklearn metrics\n",
    "sensitivity = recall_score(y_test, preds)\n",
    "f'sensitivity score = {sensitivity}'"
   ]
  },
  {
   "cell_type": "code",
   "execution_count": 20,
   "id": "19edcdfd",
   "metadata": {
    "execution": {
     "iopub.execute_input": "2023-01-23T05:11:35.587300Z",
     "iopub.status.busy": "2023-01-23T05:11:35.586568Z",
     "iopub.status.idle": "2023-01-23T05:11:35.598198Z",
     "shell.execute_reply": "2023-01-23T05:11:35.597227Z"
    },
    "papermill": {
     "duration": 0.023628,
     "end_time": "2023-01-23T05:11:35.600822",
     "exception": false,
     "start_time": "2023-01-23T05:11:35.577194",
     "status": "completed"
    },
    "tags": []
   },
   "outputs": [
    {
     "data": {
      "text/plain": [
       "'precision score = 0.9451340615690169'"
      ]
     },
     "execution_count": 20,
     "metadata": {},
     "output_type": "execute_result"
    }
   ],
   "source": [
    "# Find 'precision' score from sklearn metrics\n",
    "precision = precision_score(y_test, preds)\n",
    "f'precision score = {precision}'"
   ]
  },
  {
   "cell_type": "code",
   "execution_count": 21,
   "id": "494d62e0",
   "metadata": {
    "execution": {
     "iopub.execute_input": "2023-01-23T05:11:35.618714Z",
     "iopub.status.busy": "2023-01-23T05:11:35.618291Z",
     "iopub.status.idle": "2023-01-23T05:11:35.629918Z",
     "shell.execute_reply": "2023-01-23T05:11:35.628737Z"
    },
    "papermill": {
     "duration": 0.02344,
     "end_time": "2023-01-23T05:11:35.632371",
     "exception": false,
     "start_time": "2023-01-23T05:11:35.608931",
     "status": "completed"
    },
    "tags": []
   },
   "outputs": [
    {
     "data": {
      "text/plain": [
       "'f1 score = 0.9320602276900478'"
      ]
     },
     "execution_count": 21,
     "metadata": {},
     "output_type": "execute_result"
    }
   ],
   "source": [
    "# Find 'f1 score' from sklearn metrics\n",
    "f1_score = f1_score(y_test, preds)\n",
    "f'f1 score = {f1_score}'"
   ]
  },
  {
   "cell_type": "code",
   "execution_count": 22,
   "id": "9083a76d",
   "metadata": {
    "execution": {
     "iopub.execute_input": "2023-01-23T05:11:35.651760Z",
     "iopub.status.busy": "2023-01-23T05:11:35.650982Z",
     "iopub.status.idle": "2023-01-23T05:11:35.672534Z",
     "shell.execute_reply": "2023-01-23T05:11:35.671190Z"
    },
    "papermill": {
     "duration": 0.034236,
     "end_time": "2023-01-23T05:11:35.674822",
     "exception": false,
     "start_time": "2023-01-23T05:11:35.640586",
     "status": "completed"
    },
    "tags": []
   },
   "outputs": [
    {
     "name": "stdout",
     "output_type": "stream",
     "text": [
      "              precision    recall  f1-score   support\n",
      "\n",
      "           0       0.88      0.92      0.90      2703\n",
      "           1       0.95      0.92      0.93      4141\n",
      "\n",
      "    accuracy                           0.92      6844\n",
      "   macro avg       0.91      0.92      0.92      6844\n",
      "weighted avg       0.92      0.92      0.92      6844\n",
      "\n"
     ]
    }
   ],
   "source": [
    "# Summarizing Precision, Sensitivity and F1-score\n",
    "print(classification_report(y_test, preds))"
   ]
  },
  {
   "cell_type": "code",
   "execution_count": 23,
   "id": "ea98852e",
   "metadata": {
    "execution": {
     "iopub.execute_input": "2023-01-23T05:11:35.693763Z",
     "iopub.status.busy": "2023-01-23T05:11:35.692608Z",
     "iopub.status.idle": "2023-01-23T05:11:35.700584Z",
     "shell.execute_reply": "2023-01-23T05:11:35.699390Z"
    },
    "papermill": {
     "duration": 0.019829,
     "end_time": "2023-01-23T05:11:35.702937",
     "exception": false,
     "start_time": "2023-01-23T05:11:35.683108",
     "status": "completed"
    },
    "tags": []
   },
   "outputs": [
    {
     "data": {
      "text/plain": [
       "'specificity score = 0.9182389937106918'"
      ]
     },
     "execution_count": 23,
     "metadata": {},
     "output_type": "execute_result"
    }
   ],
   "source": [
    "# Find 'specificity score' \n",
    "specificity = tn / (tn + fp)\n",
    "f'specificity score = {specificity}'"
   ]
  },
  {
   "cell_type": "code",
   "execution_count": 24,
   "id": "bdc57bc0",
   "metadata": {
    "execution": {
     "iopub.execute_input": "2023-01-23T05:11:35.721541Z",
     "iopub.status.busy": "2023-01-23T05:11:35.721095Z",
     "iopub.status.idle": "2023-01-23T05:11:35.866312Z",
     "shell.execute_reply": "2023-01-23T05:11:35.865475Z"
    },
    "papermill": {
     "duration": 0.157956,
     "end_time": "2023-01-23T05:11:35.869286",
     "exception": false,
     "start_time": "2023-01-23T05:11:35.711330",
     "status": "completed"
    },
    "tags": []
   },
   "outputs": [
    {
     "data": {
      "image/png": "[encoded data removed]",
      "text/plain": [
       "<Figure size 432x288 with 1 Axes>"
      ]
     },
     "metadata": {
      "needs_background": "light"
     },
     "output_type": "display_data"
    }
   ],
   "source": [
    "# Plot roc curve from sklearn metrics\n",
    "RocCurveDisplay.from_predictions(y_test, preds)\n",
    "plt.show()"
   ]
  },
  {
   "cell_type": "code",
   "execution_count": 25,
   "id": "fa7389ed",
   "metadata": {
    "execution": {
     "iopub.execute_input": "2023-01-23T05:11:35.889373Z",
     "iopub.status.busy": "2023-01-23T05:11:35.888761Z",
     "iopub.status.idle": "2023-01-23T05:11:35.898951Z",
     "shell.execute_reply": "2023-01-23T05:11:35.897753Z"
    },
    "papermill": {
     "duration": 0.023095,
     "end_time": "2023-01-23T05:11:35.901508",
     "exception": false,
     "start_time": "2023-01-23T05:11:35.878413",
     "status": "completed"
    },
    "tags": []
   },
   "outputs": [
    {
     "data": {
      "text/plain": [
       "'roc auc score = 0.9187910737691348'"
      ]
     },
     "execution_count": 25,
     "metadata": {},
     "output_type": "execute_result"
    }
   ],
   "source": [
    "# Find 'roc auc score' from sklearn metrics\n",
    "roc_auc_score = roc_auc_score(y_test, preds)\n",
    "f'roc auc score = {roc_auc_score}'"
   ]
  },
  {
   "cell_type": "markdown",
   "id": "b999703d-0cb3-4121-8c7f-fb9343f15af8",
   "metadata": {},
   "source": [
    "In summary, the scores using the different metrics are as below:\n",
    "|**Metrics**|**CountVectorizer with MultinomialNB() (Baseline)**|**TfidfVectorizer with LinearSVC (with default parameters)**|**TfidfVectorizer with LinearSVC (with GridSearch)**|**TfidfVectorizer with LinearSVC (with GridSearch2)**\n",
    "|:---|:---|:---|:---|:---|\n",
    "|cross_val_score|0.840|0.916|0.906|0.910|\n",
    "|train_score|0.858|0.981|0.943|0.949|\n",
    "|test_score|0.844|0.923|0.916|0.919|\n",
    "|sensitivity|0.986|0.926|0.917|0.919|\n",
    "|precision|0.801|0.946|0.942|0.945|\n",
    "|f1 score|0.884|0.936|0.929|0.932|\n",
    "|specificity|0.626|0.918|0.913|0.918|\n",
    "|roc auc|0.806|0.922|0.915|0.919|"
   ]
  },
  {
   "cell_type": "code",
   "execution_count": null,
   "id": "a04be87d-85ce-4ca9-a8c4-d015d2ed9520",
   "metadata": {},
   "outputs": [],
   "source": []
  }
 ],
 "metadata": {
  "kernelspec": {
   "display_name": "Python 3 (ipykernel)",
   "language": "python",
   "name": "python3"
  },
  "language_info": {
   "codemirror_mode": {
    "name": "ipython",
    "version": 3
   },
   "file_extension": ".py",
   "mimetype": "text/x-python",
   "name": "python",
   "nbconvert_exporter": "python",
   "pygments_lexer": "ipython3",
   "version": "3.8.13"
  },
  "papermill": {
   "default_parameters": {},
   "duration": 3491.430035,
   "end_time": "2023-01-23T05:11:36.740304",
   "environment_variables": {},
   "exception": null,
   "input_path": "__notebook__.ipynb",
   "output_path": "__notebook__.ipynb",
   "parameters": {},
   "start_time": "2023-01-23T04:13:25.310269",
   "version": "2.3.4"
  }
 },
 "nbformat": 4,
 "nbformat_minor": 5
}

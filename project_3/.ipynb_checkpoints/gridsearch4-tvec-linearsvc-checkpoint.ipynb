{
 "cells": [
  {
   "cell_type": "code",
   "execution_count": 1,
   "id": "13d00f75",
   "metadata": {
    "_cell_guid": "b1076dfc-b9ad-4769-8c92-a6c4dae69d19",
    "_uuid": "8f2839f25d086af736a60e9eeb907d3b93b6e0e5",
    "execution": {
     "iopub.execute_input": "2023-01-24T04:43:17.574150Z",
     "iopub.status.busy": "2023-01-24T04:43:17.573062Z",
     "iopub.status.idle": "2023-01-24T04:43:18.836556Z",
     "shell.execute_reply": "2023-01-24T04:43:18.835528Z"
    },
    "papermill": {
     "duration": 1.275308,
     "end_time": "2023-01-24T04:43:18.839732",
     "exception": false,
     "start_time": "2023-01-24T04:43:17.564424",
     "status": "completed"
    },
    "tags": []
   },
   "outputs": [],
   "source": [
    "# Import libraries\n",
    "import pandas as pd \n",
    "import numpy as np\n",
    "import matplotlib.pyplot as plt\n",
    "import seaborn as sns\n",
    "from sklearn.model_selection import train_test_split, cross_val_score, GridSearchCV, StratifiedKFold\n",
    "from sklearn.pipeline import Pipeline # to compactly pack multiple modeling operations\n",
    "from sklearn.svm import LinearSVC # to build our classification model\n",
    "from sklearn.metrics import confusion_matrix, ConfusionMatrixDisplay, accuracy_score, RocCurveDisplay, roc_auc_score, recall_score, precision_score, f1_score, classification_report # to access results from binary classification task\n",
    " \n",
    "# Import CountVectorizer and TFIDFVectorizer from feature_extraction.text module in sklearn.\n",
    "from sklearn.feature_extraction.text import TfidfVectorizer "
   ]
  },
  {
   "cell_type": "code",
   "execution_count": 2,
   "id": "d80a3f84",
   "metadata": {
    "execution": {
     "iopub.execute_input": "2023-01-24T04:43:18.853040Z",
     "iopub.status.busy": "2023-01-24T04:43:18.852582Z",
     "iopub.status.idle": "2023-01-24T04:43:19.297253Z",
     "shell.execute_reply": "2023-01-24T04:43:19.296069Z"
    },
    "papermill": {
     "duration": 0.455654,
     "end_time": "2023-01-24T04:43:19.301176",
     "exception": false,
     "start_time": "2023-01-24T04:43:18.845522",
     "status": "completed"
    },
    "tags": []
   },
   "outputs": [
    {
     "name": "stdout",
     "output_type": "stream",
     "text": [
      "(27375, 4)\n"
     ]
    },
    {
     "data": {
      "text/html": [
       "<div>\n",
       "<style scoped>\n",
       "    .dataframe tbody tr th:only-of-type {\n",
       "        vertical-align: middle;\n",
       "    }\n",
       "\n",
       "    .dataframe tbody tr th {\n",
       "        vertical-align: top;\n",
       "    }\n",
       "\n",
       "    .dataframe thead th {\n",
       "        text-align: right;\n",
       "    }\n",
       "</style>\n",
       "<table border=\"1\" class=\"dataframe\">\n",
       "  <thead>\n",
       "    <tr style=\"text-align: right;\">\n",
       "      <th></th>\n",
       "      <th>title</th>\n",
       "      <th>link</th>\n",
       "      <th>reply</th>\n",
       "      <th>forum</th>\n",
       "    </tr>\n",
       "  </thead>\n",
       "  <tbody>\n",
       "    <tr>\n",
       "      <th>0</th>\n",
       "      <td>2020 Biz Class Amenity Kit</td>\n",
       "      <td>http://www.sqtalk.com/forum/forum/singapore-ai...</td>\n",
       "      <td>https://milelion.com/2020/09/30/conf...amenit...</td>\n",
       "      <td>amenity_catering_lounges</td>\n",
       "    </tr>\n",
       "    <tr>\n",
       "      <th>1</th>\n",
       "      <td>2020 Biz Class Amenity Kit</td>\n",
       "      <td>http://www.sqtalk.com/forum/forum/singapore-ai...</td>\n",
       "      <td>Originally posted by jammed View Post https:/...</td>\n",
       "      <td>amenity_catering_lounges</td>\n",
       "    </tr>\n",
       "    <tr>\n",
       "      <th>2</th>\n",
       "      <td>2020 Biz Class Amenity Kit</td>\n",
       "      <td>http://www.sqtalk.com/forum/forum/singapore-ai...</td>\n",
       "      <td>I’ll report back in 3 week’s time if they are...</td>\n",
       "      <td>amenity_catering_lounges</td>\n",
       "    </tr>\n",
       "  </tbody>\n",
       "</table>\n",
       "</div>"
      ],
      "text/plain": [
       "                        title  \\\n",
       "0  2020 Biz Class Amenity Kit   \n",
       "1  2020 Biz Class Amenity Kit   \n",
       "2  2020 Biz Class Amenity Kit   \n",
       "\n",
       "                                                link  \\\n",
       "0  http://www.sqtalk.com/forum/forum/singapore-ai...   \n",
       "1  http://www.sqtalk.com/forum/forum/singapore-ai...   \n",
       "2  http://www.sqtalk.com/forum/forum/singapore-ai...   \n",
       "\n",
       "                                               reply                     forum  \n",
       "0   https://milelion.com/2020/09/30/conf...amenit...  amenity_catering_lounges  \n",
       "1   Originally posted by jammed View Post https:/...  amenity_catering_lounges  \n",
       "2   I’ll report back in 3 week’s time if they are...  amenity_catering_lounges  "
      ]
     },
     "execution_count": 2,
     "metadata": {},
     "output_type": "execute_result"
    }
   ],
   "source": [
    "# Load dataset\n",
    "sq_forums = pd.read_csv('/kaggle/input/sq-forums/sq_forums.csv')\n",
    "print(sq_forums.shape)\n",
    "sq_forums.head(3)"
   ]
  },
  {
   "cell_type": "code",
   "execution_count": 3,
   "id": "9abe8837",
   "metadata": {
    "execution": {
     "iopub.execute_input": "2023-01-24T04:43:19.314845Z",
     "iopub.status.busy": "2023-01-24T04:43:19.314410Z",
     "iopub.status.idle": "2023-01-24T04:43:19.339619Z",
     "shell.execute_reply": "2023-01-24T04:43:19.338298Z"
    },
    "papermill": {
     "duration": 0.035021,
     "end_time": "2023-01-24T04:43:19.342306",
     "exception": false,
     "start_time": "2023-01-24T04:43:19.307285",
     "status": "completed"
    },
    "tags": []
   },
   "outputs": [
    {
     "data": {
      "text/html": [
       "<div>\n",
       "<style scoped>\n",
       "    .dataframe tbody tr th:only-of-type {\n",
       "        vertical-align: middle;\n",
       "    }\n",
       "\n",
       "    .dataframe tbody tr th {\n",
       "        vertical-align: top;\n",
       "    }\n",
       "\n",
       "    .dataframe thead th {\n",
       "        text-align: right;\n",
       "    }\n",
       "</style>\n",
       "<table border=\"1\" class=\"dataframe\">\n",
       "  <thead>\n",
       "    <tr style=\"text-align: right;\">\n",
       "      <th></th>\n",
       "      <th>title</th>\n",
       "      <th>link</th>\n",
       "      <th>reply</th>\n",
       "      <th>forum</th>\n",
       "    </tr>\n",
       "  </thead>\n",
       "  <tbody>\n",
       "    <tr>\n",
       "      <th>0</th>\n",
       "      <td>2020 Biz Class Amenity Kit</td>\n",
       "      <td>http://www.sqtalk.com/forum/forum/singapore-ai...</td>\n",
       "      <td>https://milelion.com/2020/09/30/conf...amenit...</td>\n",
       "      <td>0</td>\n",
       "    </tr>\n",
       "    <tr>\n",
       "      <th>1</th>\n",
       "      <td>2020 Biz Class Amenity Kit</td>\n",
       "      <td>http://www.sqtalk.com/forum/forum/singapore-ai...</td>\n",
       "      <td>Originally posted by jammed View Post https:/...</td>\n",
       "      <td>0</td>\n",
       "    </tr>\n",
       "    <tr>\n",
       "      <th>2</th>\n",
       "      <td>2020 Biz Class Amenity Kit</td>\n",
       "      <td>http://www.sqtalk.com/forum/forum/singapore-ai...</td>\n",
       "      <td>I’ll report back in 3 week’s time if they are...</td>\n",
       "      <td>0</td>\n",
       "    </tr>\n",
       "  </tbody>\n",
       "</table>\n",
       "</div>"
      ],
      "text/plain": [
       "                        title  \\\n",
       "0  2020 Biz Class Amenity Kit   \n",
       "1  2020 Biz Class Amenity Kit   \n",
       "2  2020 Biz Class Amenity Kit   \n",
       "\n",
       "                                                link  \\\n",
       "0  http://www.sqtalk.com/forum/forum/singapore-ai...   \n",
       "1  http://www.sqtalk.com/forum/forum/singapore-ai...   \n",
       "2  http://www.sqtalk.com/forum/forum/singapore-ai...   \n",
       "\n",
       "                                               reply  forum  \n",
       "0   https://milelion.com/2020/09/30/conf...amenit...      0  \n",
       "1   Originally posted by jammed View Post https:/...      0  \n",
       "2   I’ll report back in 3 week’s time if they are...      0  "
      ]
     },
     "execution_count": 3,
     "metadata": {},
     "output_type": "execute_result"
    }
   ],
   "source": [
    "# Convert y response variable in 'forum' column to 0 for amenity_catering_lounges and 1 for krisflyer\n",
    "sq_forums['forum'] = sq_forums['forum'].map({'amenity_catering_lounges': 0, 'krisflyer': 1})\n",
    "sq_forums.head(3)"
   ]
  },
  {
   "cell_type": "code",
   "execution_count": 4,
   "id": "59d51aeb",
   "metadata": {
    "execution": {
     "iopub.execute_input": "2023-01-24T04:43:19.356276Z",
     "iopub.status.busy": "2023-01-24T04:43:19.355843Z",
     "iopub.status.idle": "2023-01-24T04:43:19.361508Z",
     "shell.execute_reply": "2023-01-24T04:43:19.360270Z"
    },
    "papermill": {
     "duration": 0.015437,
     "end_time": "2023-01-24T04:43:19.363968",
     "exception": false,
     "start_time": "2023-01-24T04:43:19.348531",
     "status": "completed"
    },
    "tags": []
   },
   "outputs": [],
   "source": [
    "# Set data up for modelling\n",
    "X = sq_forums['reply']\n",
    "y = sq_forums['forum']"
   ]
  },
  {
   "cell_type": "code",
   "execution_count": 5,
   "id": "1be32504",
   "metadata": {
    "execution": {
     "iopub.execute_input": "2023-01-24T04:43:19.377976Z",
     "iopub.status.busy": "2023-01-24T04:43:19.377561Z",
     "iopub.status.idle": "2023-01-24T04:43:19.398058Z",
     "shell.execute_reply": "2023-01-24T04:43:19.396953Z"
    },
    "papermill": {
     "duration": 0.030645,
     "end_time": "2023-01-24T04:43:19.400852",
     "exception": false,
     "start_time": "2023-01-24T04:43:19.370207",
     "status": "completed"
    },
    "tags": []
   },
   "outputs": [],
   "source": [
    "# Split the data into the training and testing sets\n",
    "X_train, X_test, y_train, y_test = train_test_split(X,\n",
    "                                                    y,\n",
    "                                                    stratify=y,\n",
    "                                                    random_state=42)"
   ]
  },
  {
   "cell_type": "code",
   "execution_count": 6,
   "id": "88749321",
   "metadata": {
    "execution": {
     "iopub.execute_input": "2023-01-24T04:43:19.414759Z",
     "iopub.status.busy": "2023-01-24T04:43:19.414380Z",
     "iopub.status.idle": "2023-01-24T04:43:19.420571Z",
     "shell.execute_reply": "2023-01-24T04:43:19.419401Z"
    },
    "papermill": {
     "duration": 0.015967,
     "end_time": "2023-01-24T04:43:19.422978",
     "exception": false,
     "start_time": "2023-01-24T04:43:19.407011",
     "status": "completed"
    },
    "tags": []
   },
   "outputs": [],
   "source": [
    "# Set up a pipeline with tf-idf vectorizer with default parameters and LinearSVC classifier\n",
    "# class_weight = 'balanced' to handle our data imbalance\n",
    "\n",
    "pipe_linearsvc = Pipeline([\n",
    "    ('tvec', TfidfVectorizer(stop_words='english')), \n",
    "    ('lsvc', LinearSVC(class_weight='balanced')) \n",
    "])"
   ]
  },
  {
   "cell_type": "code",
   "execution_count": 7,
   "id": "634e2207",
   "metadata": {
    "execution": {
     "iopub.execute_input": "2023-01-24T04:43:19.436929Z",
     "iopub.status.busy": "2023-01-24T04:43:19.436551Z",
     "iopub.status.idle": "2023-01-24T04:43:19.443109Z",
     "shell.execute_reply": "2023-01-24T04:43:19.441834Z"
    },
    "papermill": {
     "duration": 0.016246,
     "end_time": "2023-01-24T04:43:19.445458",
     "exception": false,
     "start_time": "2023-01-24T04:43:19.429212",
     "status": "completed"
    },
    "tags": []
   },
   "outputs": [],
   "source": [
    "# Search over the following values of hyperparameters:\n",
    "# Maximum number of features fit: 2000, 3000, 4000, 5000\n",
    "# Minimum number of documents needed to include token: 1, 2, 3\n",
    "# Maximum number of documents needed to include token: 70%, 80%, 90%\n",
    "# Generate 10 random C values\n",
    "\n",
    "pipe_tvec_lsvc_params = {\n",
    "    'tvec__max_features': [10_000, 11_000, 12_000, 13_000, 14_000],\n",
    "    'tvec__min_df': [2, 3, 4], # min 1, 2 or 3 documents needed to include token\n",
    "    'tvec__max_df': [.3, .4, .5], # max number of documents needed to include token\n",
    "    'lsvc__C': np.linspace(0.0001, 2, 10), # generate 10 random C values to GridSearch over\n",
    "}"
   ]
  },
  {
   "cell_type": "code",
   "execution_count": 8,
   "id": "321db668",
   "metadata": {
    "execution": {
     "iopub.execute_input": "2023-01-24T04:43:19.460678Z",
     "iopub.status.busy": "2023-01-24T04:43:19.460306Z",
     "iopub.status.idle": "2023-01-24T04:43:19.465973Z",
     "shell.execute_reply": "2023-01-24T04:43:19.464908Z"
    },
    "papermill": {
     "duration": 0.016427,
     "end_time": "2023-01-24T04:43:19.467973",
     "exception": false,
     "start_time": "2023-01-24T04:43:19.451546",
     "status": "completed"
    },
    "tags": []
   },
   "outputs": [],
   "source": [
    "# Instantiate GridSearchCV using stratified kfold cv\n",
    "cv = StratifiedKFold(n_splits=5, shuffle=True, random_state=42)\n",
    "\n",
    "gs4_tvec_lsvc = GridSearchCV(pipe_linearsvc, # the object that we are optimizing\n",
    "                  param_grid=pipe_tvec_lsvc_params, # parameters values to be searched\n",
    "                  cv=cv) # using stratified kfold cv"
   ]
  },
  {
   "cell_type": "code",
   "execution_count": 9,
   "id": "63008994",
   "metadata": {
    "execution": {
     "iopub.execute_input": "2023-01-24T04:43:19.481559Z",
     "iopub.status.busy": "2023-01-24T04:43:19.480531Z",
     "iopub.status.idle": "2023-01-24T05:36:52.534107Z",
     "shell.execute_reply": "2023-01-24T05:36:52.533249Z"
    },
    "papermill": {
     "duration": 3213.06991,
     "end_time": "2023-01-24T05:36:52.543706",
     "exception": false,
     "start_time": "2023-01-24T04:43:19.473796",
     "status": "completed"
    },
    "tags": []
   },
   "outputs": [
    {
     "name": "stdout",
     "output_type": "stream",
     "text": [
      "CPU times: user 53min 29s, sys: 2.07 s, total: 53min 31s\n",
      "Wall time: 53min 33s\n"
     ]
    },
    {
     "data": {
      "text/plain": [
       "GridSearchCV(cv=StratifiedKFold(n_splits=5, random_state=42, shuffle=True),\n",
       "             estimator=Pipeline(steps=[('tvec',\n",
       "                                        TfidfVectorizer(stop_words='english')),\n",
       "                                       ('lsvc',\n",
       "                                        LinearSVC(class_weight='balanced'))]),\n",
       "             param_grid={'lsvc__C': array([1.00000000e-04, 2.22311111e-01, 4.44522222e-01, 6.66733333e-01,\n",
       "       8.88944444e-01, 1.11115556e+00, 1.33336667e+00, 1.55557778e+00,\n",
       "       1.77778889e+00, 2.00000000e+00]),\n",
       "                         'tvec__max_df': [0.3, 0.4, 0.5],\n",
       "                         'tvec__max_features': [10000, 11000, 12000, 13000,\n",
       "                                                14000],\n",
       "                         'tvec__min_df': [2, 3, 4]})"
      ]
     },
     "execution_count": 9,
     "metadata": {},
     "output_type": "execute_result"
    }
   ],
   "source": [
    "%%time\n",
    "# Fit GridSearch to training data\n",
    "gs4_tvec_lsvc.fit(X_train, y_train)"
   ]
  },
  {
   "cell_type": "code",
   "execution_count": 10,
   "id": "59f6f01d",
   "metadata": {
    "execution": {
     "iopub.execute_input": "2023-01-24T05:36:52.559573Z",
     "iopub.status.busy": "2023-01-24T05:36:52.558469Z",
     "iopub.status.idle": "2023-01-24T05:36:52.566109Z",
     "shell.execute_reply": "2023-01-24T05:36:52.565008Z"
    },
    "papermill": {
     "duration": 0.017941,
     "end_time": "2023-01-24T05:36:52.568399",
     "exception": false,
     "start_time": "2023-01-24T05:36:52.550458",
     "status": "completed"
    },
    "tags": []
   },
   "outputs": [
    {
     "data": {
      "text/plain": [
       "{'lsvc__C': 0.2223111111111111,\n",
       " 'tvec__max_df': 0.4,\n",
       " 'tvec__max_features': 14000,\n",
       " 'tvec__min_df': 2}"
      ]
     },
     "execution_count": 10,
     "metadata": {},
     "output_type": "execute_result"
    }
   ],
   "source": [
    "# See what hyperparameter combination yielded the best result\n",
    "gs4_tvec_lsvc.best_params_ "
   ]
  },
  {
   "cell_type": "code",
   "execution_count": 11,
   "id": "03a059bb",
   "metadata": {
    "execution": {
     "iopub.execute_input": "2023-01-24T05:36:52.584038Z",
     "iopub.status.busy": "2023-01-24T05:36:52.583593Z",
     "iopub.status.idle": "2023-01-24T05:36:52.590674Z",
     "shell.execute_reply": "2023-01-24T05:36:52.589053Z"
    },
    "papermill": {
     "duration": 0.017746,
     "end_time": "2023-01-24T05:36:52.593174",
     "exception": false,
     "start_time": "2023-01-24T05:36:52.575428",
     "status": "completed"
    },
    "tags": []
   },
   "outputs": [
    {
     "name": "stdout",
     "output_type": "stream",
     "text": [
      "0.9143733430775465\n"
     ]
    }
   ],
   "source": [
    "# Find the mean cross-validated score of the best_estimator\n",
    "print(gs4_tvec_lsvc.best_score_)"
   ]
  },
  {
   "cell_type": "code",
   "execution_count": 12,
   "id": "8418b695",
   "metadata": {
    "execution": {
     "iopub.execute_input": "2023-01-24T05:36:52.609967Z",
     "iopub.status.busy": "2023-01-24T05:36:52.609554Z",
     "iopub.status.idle": "2023-01-24T05:36:53.938494Z",
     "shell.execute_reply": "2023-01-24T05:36:53.937246Z"
    },
    "papermill": {
     "duration": 1.339865,
     "end_time": "2023-01-24T05:36:53.940802",
     "exception": false,
     "start_time": "2023-01-24T05:36:52.600937",
     "status": "completed"
    },
    "tags": []
   },
   "outputs": [
    {
     "data": {
      "text/plain": [
       "0.9592810871365253"
      ]
     },
     "execution_count": 12,
     "metadata": {},
     "output_type": "execute_result"
    }
   ],
   "source": [
    "# Score model on training set.\n",
    "gs4_tvec_lsvc.score(X_train, y_train)"
   ]
  },
  {
   "cell_type": "code",
   "execution_count": 13,
   "id": "a75e7ba0",
   "metadata": {
    "execution": {
     "iopub.execute_input": "2023-01-24T05:36:53.957261Z",
     "iopub.status.busy": "2023-01-24T05:36:53.956175Z",
     "iopub.status.idle": "2023-01-24T05:36:54.394466Z",
     "shell.execute_reply": "2023-01-24T05:36:54.393112Z"
    },
    "papermill": {
     "duration": 0.449546,
     "end_time": "2023-01-24T05:36:54.397343",
     "exception": false,
     "start_time": "2023-01-24T05:36:53.947797",
     "status": "completed"
    },
    "tags": []
   },
   "outputs": [
    {
     "data": {
      "text/plain": [
       "0.9221215663354764"
      ]
     },
     "execution_count": 13,
     "metadata": {},
     "output_type": "execute_result"
    }
   ],
   "source": [
    "# Score model on testing set.\n",
    "gs4_tvec_lsvc.score(X_test, y_test)"
   ]
  },
  {
   "cell_type": "code",
   "execution_count": 14,
   "id": "7de4c27c",
   "metadata": {
    "execution": {
     "iopub.execute_input": "2023-01-24T05:36:54.414082Z",
     "iopub.status.busy": "2023-01-24T05:36:54.413637Z",
     "iopub.status.idle": "2023-01-24T05:36:54.859706Z",
     "shell.execute_reply": "2023-01-24T05:36:54.857949Z"
    },
    "papermill": {
     "duration": 0.458369,
     "end_time": "2023-01-24T05:36:54.862822",
     "exception": false,
     "start_time": "2023-01-24T05:36:54.404453",
     "status": "completed"
    },
    "tags": []
   },
   "outputs": [
    {
     "name": "stdout",
     "output_type": "stream",
     "text": [
      "[0 1 1 ... 1 1 0]\n"
     ]
    }
   ],
   "source": [
    "# Get predictions\n",
    "preds = gs4_tvec_lsvc.predict(X_test)\n",
    "print(preds)"
   ]
  },
  {
   "cell_type": "code",
   "execution_count": 15,
   "id": "688b8408",
   "metadata": {
    "execution": {
     "iopub.execute_input": "2023-01-24T05:36:54.880267Z",
     "iopub.status.busy": "2023-01-24T05:36:54.879763Z",
     "iopub.status.idle": "2023-01-24T05:36:54.891519Z",
     "shell.execute_reply": "2023-01-24T05:36:54.890139Z"
    },
    "papermill": {
     "duration": 0.024416,
     "end_time": "2023-01-24T05:36:54.894741",
     "exception": false,
     "start_time": "2023-01-24T05:36:54.870325",
     "status": "completed"
    },
    "tags": []
   },
   "outputs": [
    {
     "data": {
      "text/plain": [
       "array([[2484,  219],\n",
       "       [ 314, 3827]])"
      ]
     },
     "execution_count": 15,
     "metadata": {},
     "output_type": "execute_result"
    }
   ],
   "source": [
    "# confusion matrix yields a 2-D array\n",
    "confusion_matrix(y_test, preds) "
   ]
  },
  {
   "cell_type": "code",
   "execution_count": 16,
   "id": "95f48463",
   "metadata": {
    "execution": {
     "iopub.execute_input": "2023-01-24T05:36:54.912689Z",
     "iopub.status.busy": "2023-01-24T05:36:54.912247Z",
     "iopub.status.idle": "2023-01-24T05:36:54.923951Z",
     "shell.execute_reply": "2023-01-24T05:36:54.922905Z"
    },
    "papermill": {
     "duration": 0.023512,
     "end_time": "2023-01-24T05:36:54.926349",
     "exception": false,
     "start_time": "2023-01-24T05:36:54.902837",
     "status": "completed"
    },
    "tags": []
   },
   "outputs": [
    {
     "name": "stdout",
     "output_type": "stream",
     "text": [
      "2484 219 314 3827\n"
     ]
    }
   ],
   "source": [
    "# ravel() to convert to 1-D and Save confusion matrix values\n",
    "tn, fp, fn, tp = confusion_matrix(y_test, preds).ravel()\n",
    "print(tn, fp, fn, tp)"
   ]
  },
  {
   "cell_type": "code",
   "execution_count": 17,
   "id": "fd515be7",
   "metadata": {
    "execution": {
     "iopub.execute_input": "2023-01-24T05:36:54.944417Z",
     "iopub.status.busy": "2023-01-24T05:36:54.944009Z",
     "iopub.status.idle": "2023-01-24T05:36:55.209895Z",
     "shell.execute_reply": "2023-01-24T05:36:55.208755Z"
    },
    "papermill": {
     "duration": 0.27769,
     "end_time": "2023-01-24T05:36:55.212526",
     "exception": false,
     "start_time": "2023-01-24T05:36:54.934836",
     "status": "completed"
    },
    "tags": []
   },
   "outputs": [
    {
     "data": {
      "image/png": "[encoded data removed]",
      "text/plain": [
       "<Figure size 432x288 with 2 Axes>"
      ]
     },
     "metadata": {
      "needs_background": "light"
     },
     "output_type": "display_data"
    }
   ],
   "source": [
    "# plot confusion matrix\n",
    "cm = confusion_matrix(y_test, preds)\n",
    "disp = ConfusionMatrixDisplay(confusion_matrix=cm, display_labels=['amenity_catering_lounges', 'krisflyer'])\n",
    "disp.plot();"
   ]
  },
  {
   "cell_type": "code",
   "execution_count": 18,
   "id": "0423b23c",
   "metadata": {
    "execution": {
     "iopub.execute_input": "2023-01-24T05:36:55.229759Z",
     "iopub.status.busy": "2023-01-24T05:36:55.228972Z",
     "iopub.status.idle": "2023-01-24T05:36:55.237089Z",
     "shell.execute_reply": "2023-01-24T05:36:55.236046Z"
    },
    "papermill": {
     "duration": 0.019361,
     "end_time": "2023-01-24T05:36:55.239518",
     "exception": false,
     "start_time": "2023-01-24T05:36:55.220157",
     "status": "completed"
    },
    "tags": []
   },
   "outputs": [
    {
     "data": {
      "text/plain": [
       "'accuracy score = 0.9221215663354764'"
      ]
     },
     "execution_count": 18,
     "metadata": {},
     "output_type": "execute_result"
    }
   ],
   "source": [
    "# Find 'accuracy' score from sklearn metrics (same as test_score above)\n",
    "accuracy = accuracy_score(y_test, preds)\n",
    "f'accuracy score = {accuracy}'"
   ]
  },
  {
   "cell_type": "code",
   "execution_count": 19,
   "id": "147b1c90",
   "metadata": {
    "execution": {
     "iopub.execute_input": "2023-01-24T05:36:55.257413Z",
     "iopub.status.busy": "2023-01-24T05:36:55.256687Z",
     "iopub.status.idle": "2023-01-24T05:36:55.268675Z",
     "shell.execute_reply": "2023-01-24T05:36:55.267562Z"
    },
    "papermill": {
     "duration": 0.023286,
     "end_time": "2023-01-24T05:36:55.271121",
     "exception": false,
     "start_time": "2023-01-24T05:36:55.247835",
     "status": "completed"
    },
    "tags": []
   },
   "outputs": [
    {
     "data": {
      "text/plain": [
       "'sensitivity score = 0.9241729050953876'"
      ]
     },
     "execution_count": 19,
     "metadata": {},
     "output_type": "execute_result"
    }
   ],
   "source": [
    "# Find 'sensitivity' score from sklearn metrics\n",
    "sensitivity = recall_score(y_test, preds)\n",
    "f'sensitivity score = {sensitivity}'"
   ]
  },
  {
   "cell_type": "code",
   "execution_count": 20,
   "id": "29275599",
   "metadata": {
    "execution": {
     "iopub.execute_input": "2023-01-24T05:36:55.288895Z",
     "iopub.status.busy": "2023-01-24T05:36:55.288141Z",
     "iopub.status.idle": "2023-01-24T05:36:55.298400Z",
     "shell.execute_reply": "2023-01-24T05:36:55.297337Z"
    },
    "papermill": {
     "duration": 0.021592,
     "end_time": "2023-01-24T05:36:55.300625",
     "exception": false,
     "start_time": "2023-01-24T05:36:55.279033",
     "status": "completed"
    },
    "tags": []
   },
   "outputs": [
    {
     "data": {
      "text/plain": [
       "'precision score = 0.9458724666337123'"
      ]
     },
     "execution_count": 20,
     "metadata": {},
     "output_type": "execute_result"
    }
   ],
   "source": [
    "# Find 'precision' score from sklearn metrics\n",
    "precision = precision_score(y_test, preds)\n",
    "f'precision score = {precision}'"
   ]
  },
  {
   "cell_type": "code",
   "execution_count": 21,
   "id": "9763729f",
   "metadata": {
    "execution": {
     "iopub.execute_input": "2023-01-24T05:36:55.318359Z",
     "iopub.status.busy": "2023-01-24T05:36:55.317938Z",
     "iopub.status.idle": "2023-01-24T05:36:55.328011Z",
     "shell.execute_reply": "2023-01-24T05:36:55.327216Z"
    },
    "papermill": {
     "duration": 0.02136,
     "end_time": "2023-01-24T05:36:55.329940",
     "exception": false,
     "start_time": "2023-01-24T05:36:55.308580",
     "status": "completed"
    },
    "tags": []
   },
   "outputs": [
    {
     "data": {
      "text/plain": [
       "'f1 score = 0.9348967875900819'"
      ]
     },
     "execution_count": 21,
     "metadata": {},
     "output_type": "execute_result"
    }
   ],
   "source": [
    "# Find 'f1 score' from sklearn metrics\n",
    "f1_score = f1_score(y_test, preds)\n",
    "f'f1 score = {f1_score}'"
   ]
  },
  {
   "cell_type": "code",
   "execution_count": 22,
   "id": "33abf9c6",
   "metadata": {
    "execution": {
     "iopub.execute_input": "2023-01-24T05:36:55.348400Z",
     "iopub.status.busy": "2023-01-24T05:36:55.347692Z",
     "iopub.status.idle": "2023-01-24T05:36:55.368011Z",
     "shell.execute_reply": "2023-01-24T05:36:55.366905Z"
    },
    "papermill": {
     "duration": 0.031933,
     "end_time": "2023-01-24T05:36:55.370121",
     "exception": false,
     "start_time": "2023-01-24T05:36:55.338188",
     "status": "completed"
    },
    "tags": []
   },
   "outputs": [
    {
     "name": "stdout",
     "output_type": "stream",
     "text": [
      "              precision    recall  f1-score   support\n",
      "\n",
      "           0       0.89      0.92      0.90      2703\n",
      "           1       0.95      0.92      0.93      4141\n",
      "\n",
      "    accuracy                           0.92      6844\n",
      "   macro avg       0.92      0.92      0.92      6844\n",
      "weighted avg       0.92      0.92      0.92      6844\n",
      "\n"
     ]
    }
   ],
   "source": [
    "# Summarizing Precision, Sensitivity and F1-score\n",
    "print(classification_report(y_test, preds))"
   ]
  },
  {
   "cell_type": "code",
   "execution_count": 23,
   "id": "23884350",
   "metadata": {
    "execution": {
     "iopub.execute_input": "2023-01-24T05:36:55.388699Z",
     "iopub.status.busy": "2023-01-24T05:36:55.388012Z",
     "iopub.status.idle": "2023-01-24T05:36:55.394349Z",
     "shell.execute_reply": "2023-01-24T05:36:55.393331Z"
    },
    "papermill": {
     "duration": 0.017951,
     "end_time": "2023-01-24T05:36:55.396303",
     "exception": false,
     "start_time": "2023-01-24T05:36:55.378352",
     "status": "completed"
    },
    "tags": []
   },
   "outputs": [
    {
     "data": {
      "text/plain": [
       "'specificity score = 0.9189789123196448'"
      ]
     },
     "execution_count": 23,
     "metadata": {},
     "output_type": "execute_result"
    }
   ],
   "source": [
    "# Find 'specificity score' \n",
    "specificity = tn / (tn + fp)\n",
    "f'specificity score = {specificity}'"
   ]
  },
  {
   "cell_type": "code",
   "execution_count": 24,
   "id": "0f8a437b",
   "metadata": {
    "execution": {
     "iopub.execute_input": "2023-01-24T05:36:55.414698Z",
     "iopub.status.busy": "2023-01-24T05:36:55.414307Z",
     "iopub.status.idle": "2023-01-24T05:36:55.555222Z",
     "shell.execute_reply": "2023-01-24T05:36:55.554430Z"
    },
    "papermill": {
     "duration": 0.154104,
     "end_time": "2023-01-24T05:36:55.558842",
     "exception": false,
     "start_time": "2023-01-24T05:36:55.404738",
     "status": "completed"
    },
    "tags": []
   },
   "outputs": [
    {
     "data": {
      "image/png": "[encoded data removed]",
      "text/plain": [
       "<Figure size 432x288 with 1 Axes>"
      ]
     },
     "metadata": {
      "needs_background": "light"
     },
     "output_type": "display_data"
    }
   ],
   "source": [
    "# Plot roc curve from sklearn metrics\n",
    "RocCurveDisplay.from_predictions(y_test, preds)\n",
    "plt.show()"
   ]
  },
  {
   "cell_type": "code",
   "execution_count": 25,
   "id": "f94a4aba",
   "metadata": {
    "execution": {
     "iopub.execute_input": "2023-01-24T05:36:55.579044Z",
     "iopub.status.busy": "2023-01-24T05:36:55.578428Z",
     "iopub.status.idle": "2023-01-24T05:36:55.587329Z",
     "shell.execute_reply": "2023-01-24T05:36:55.586289Z"
    },
    "papermill": {
     "duration": 0.021454,
     "end_time": "2023-01-24T05:36:55.589606",
     "exception": false,
     "start_time": "2023-01-24T05:36:55.568152",
     "status": "completed"
    },
    "tags": []
   },
   "outputs": [
    {
     "data": {
      "text/plain": [
       "'roc auc score = 0.9215759087075162'"
      ]
     },
     "execution_count": 25,
     "metadata": {},
     "output_type": "execute_result"
    }
   ],
   "source": [
    "# Find 'roc auc score' from sklearn metrics\n",
    "roc_auc_score = roc_auc_score(y_test, preds)\n",
    "f'roc auc score = {roc_auc_score}'"
   ]
  },
  {
   "cell_type": "markdown",
   "id": "a6eabf6c-9693-4d1e-99ba-d14ef29c4740",
   "metadata": {},
   "source": [
    "In summary, the scores using the different metrics are as below:\n",
    "|**Metrics**|**CountVectorizer with MultinomialNB() (Baseline)**|**TfidfVectorizer with LinearSVC (with default parameters)**|**TfidfVectorizer with LinearSVC (with GridSearch)**|**TfidfVectorizer with LinearSVC (with GridSearch2)**|**TfidfVectorizer with LinearSVC (with GridSearch3)**|**TfidfVectorizer with LinearSVC (with GridSearch4)**|\n",
    "|:---|:---|:---|:---|:---|:---|:---|\n",
    "|cross_val_score|0.840|0.916|0.906|0.910|0.913|0.914|\n",
    "|train_score|0.858|0.981|0.943|0.949|0.956|0.959|\n",
    "|test_score|0.844|0.923|0.916|0.919|0.921|0.922|\n",
    "|sensitivity|0.986|0.926|0.917|0.919|0.922|0.924|\n",
    "|precision|0.801|0.946|0.942|0.945|0.945|0.946|\n",
    "|f1 score|0.884|0.936|0.929|0.932|0.934|0.935|\n",
    "|specificity|0.626|0.918|0.913|0.918|0.918|0.919|\n",
    "|roc auc|0.806|0.922|0.915|0.919|0.920|0.922|"
   ]
  },
  {
   "cell_type": "markdown",
   "id": "0f45edf1-198a-400e-8c2e-ecea742fbfec",
   "metadata": {},
   "source": [
    "- With the default parameters on TfidfVectorizer and LinearSVC, the difference between the train and test scores is quite high, indicating that the model might be overfitting.\n",
    "- Comparing the results from the four GridSearches, GridSearch4 stands out as the train and test scores are closer, thus there is no evidence that the model is overfitting. All the metrics from GridSearch4 are also the highest.\n",
    "- With GridSearch4, the best parameters are:\n",
    "  - 'lsvc__C': 0.2223111111111111\n",
    "  - 'tvec__max_df': 0.4\n",
    "  - 'tvec__max_features': 14000\n",
    "  - 'tvec__min_df': 2"
   ]
  },
  {
   "cell_type": "code",
   "execution_count": null,
   "id": "3296b7b8-8f02-4124-aab2-8be18a326f05",
   "metadata": {},
   "outputs": [],
   "source": []
  }
 ],
 "metadata": {
  "kernelspec": {
   "display_name": "Python 3 (ipykernel)",
   "language": "python",
   "name": "python3"
  },
  "language_info": {
   "codemirror_mode": {
    "name": "ipython",
    "version": 3
   },
   "file_extension": ".py",
   "mimetype": "text/x-python",
   "name": "python",
   "nbconvert_exporter": "python",
   "pygments_lexer": "ipython3",
   "version": "3.8.13"
  },
  "papermill": {
   "default_parameters": {},
   "duration": 3228.042555,
   "end_time": "2023-01-24T05:36:56.427518",
   "environment_variables": {},
   "exception": null,
   "input_path": "__notebook__.ipynb",
   "output_path": "__notebook__.ipynb",
   "parameters": {},
   "start_time": "2023-01-24T04:43:08.384963",
   "version": "2.3.4"
  }
 },
 "nbformat": 4,
 "nbformat_minor": 5
}

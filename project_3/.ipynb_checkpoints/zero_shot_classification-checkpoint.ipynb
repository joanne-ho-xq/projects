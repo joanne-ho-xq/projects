{
 "cells": [
  {
   "cell_type": "markdown",
   "id": "1b48dac4-8031-4a4b-a5e2-a7888641380a",
   "metadata": {},
   "source": [
    "Done and downloaded from Kaggle"
   ]
  },
  {
   "cell_type": "code",
   "execution_count": 1,
   "id": "0d1e0d6d",
   "metadata": {
    "_cell_guid": "b1076dfc-b9ad-4769-8c92-a6c4dae69d19",
    "_uuid": "8f2839f25d086af736a60e9eeb907d3b93b6e0e5",
    "execution": {
     "iopub.execute_input": "2023-01-22T16:10:14.198721Z",
     "iopub.status.busy": "2023-01-22T16:10:14.198229Z",
     "iopub.status.idle": "2023-01-22T16:11:28.041238Z",
     "shell.execute_reply": "2023-01-22T16:11:28.040043Z"
    },
    "papermill": {
     "duration": 73.852263,
     "end_time": "2023-01-22T16:11:28.044240",
     "exception": false,
     "start_time": "2023-01-22T16:10:14.191977",
     "status": "completed"
    },
    "tags": []
   },
   "outputs": [
    {
     "data": {
      "application/vnd.jupyter.widget-view+json": {
       "model_id": "97e096d45f5b440e96fd1ae2c88f0285",
       "version_major": 2,
       "version_minor": 0
      },
      "text/plain": [
       "Downloading:   0%|          | 0.00/1.13k [00:00<?, ?B/s]"
      ]
     },
     "metadata": {},
     "output_type": "display_data"
    },
    {
     "data": {
      "application/vnd.jupyter.widget-view+json": {
       "model_id": "ad09f15aae324b0b85bbdf2ca6c2b3bc",
       "version_major": 2,
       "version_minor": 0
      },
      "text/plain": [
       "Downloading:   0%|          | 0.00/1.52G [00:00<?, ?B/s]"
      ]
     },
     "metadata": {},
     "output_type": "display_data"
    },
    {
     "data": {
      "application/vnd.jupyter.widget-view+json": {
       "model_id": "5dd538a7fc394e8c958f75631a970458",
       "version_major": 2,
       "version_minor": 0
      },
      "text/plain": [
       "Downloading:   0%|          | 0.00/26.0 [00:00<?, ?B/s]"
      ]
     },
     "metadata": {},
     "output_type": "display_data"
    },
    {
     "data": {
      "application/vnd.jupyter.widget-view+json": {
       "model_id": "7074935cab9d44399b0ef22785f5a017",
       "version_major": 2,
       "version_minor": 0
      },
      "text/plain": [
       "Downloading:   0%|          | 0.00/878k [00:00<?, ?B/s]"
      ]
     },
     "metadata": {},
     "output_type": "display_data"
    },
    {
     "data": {
      "application/vnd.jupyter.widget-view+json": {
       "model_id": "f662931b22fa4412bafc16e73a2bf4f2",
       "version_major": 2,
       "version_minor": 0
      },
      "text/plain": [
       "Downloading:   0%|          | 0.00/446k [00:00<?, ?B/s]"
      ]
     },
     "metadata": {},
     "output_type": "display_data"
    },
    {
     "data": {
      "application/vnd.jupyter.widget-view+json": {
       "model_id": "b6955449eec646e899a68a7200991799",
       "version_major": 2,
       "version_minor": 0
      },
      "text/plain": [
       "Downloading:   0%|          | 0.00/1.29M [00:00<?, ?B/s]"
      ]
     },
     "metadata": {},
     "output_type": "display_data"
    }
   ],
   "source": [
    "from transformers import pipeline\n",
    "classifier = pipeline(\"zero-shot-classification\",\n",
    "                      model=\"facebook/bart-large-mnli\")"
   ]
  },
  {
   "cell_type": "code",
   "execution_count": 2,
   "id": "11527fc8",
   "metadata": {
    "papermill": {
     "duration": 0.116789,
     "end_time": "2023-01-22T16:11:28.165497",
     "exception": false,
     "start_time": "2023-01-22T16:11:28.048708",
     "status": "completed"
    },
    "tags": []
   },
   "outputs": [],
   "source": [
    "# Import libraries\n",
    "import pandas as pd\n",
    "import matplotlib.pyplot as plt\n",
    "import seaborn as sns\n",
    "from sklearn.model_selection import train_test_split, GridSearchCV # split our data and run hyperparameter search\n",
    "from sklearn.pipeline import Pipeline # to compactly pack multiple modeling operations\n",
    "from sklearn.naive_bayes import MultinomialNB # to build our classification model\n",
    "from sklearn.metrics import confusion_matrix, ConfusionMatrixDisplay, accuracy_score, RocCurveDisplay, roc_auc_score, recall_score, precision_score, f1_score, classification_report # to access results from binary classification task\n",
    " \n",
    "# Import CountVectorizer and TFIDFVectorizer from feature_extraction.text module in sklearn.\n",
    "from sklearn.feature_extraction.text import TfidfVectorizer \n",
    "\n",
    "from tqdm import tqdm\n",
    "tqdm.pandas()\n",
    "import time"
   ]
  },
  {
   "cell_type": "code",
   "execution_count": 3,
   "id": "5fbf151a",
   "metadata": {
    "execution": {
     "iopub.execute_input": "2023-01-22T16:11:28.175582Z",
     "iopub.status.busy": "2023-01-22T16:11:28.175172Z",
     "iopub.status.idle": "2023-01-22T16:11:28.563993Z",
     "shell.execute_reply": "2023-01-22T16:11:28.562795Z"
    },
    "papermill": {
     "duration": 0.39704,
     "end_time": "2023-01-22T16:11:28.566774",
     "exception": false,
     "start_time": "2023-01-22T16:11:28.169734",
     "status": "completed"
    },
    "tags": []
   },
   "outputs": [
    {
     "name": "stdout",
     "output_type": "stream",
     "text": [
      "(27375, 4)\n"
     ]
    },
    {
     "data": {
      "text/html": [
       "<div>\n",
       "<style scoped>\n",
       "    .dataframe tbody tr th:only-of-type {\n",
       "        vertical-align: middle;\n",
       "    }\n",
       "\n",
       "    .dataframe tbody tr th {\n",
       "        vertical-align: top;\n",
       "    }\n",
       "\n",
       "    .dataframe thead th {\n",
       "        text-align: right;\n",
       "    }\n",
       "</style>\n",
       "<table border=\"1\" class=\"dataframe\">\n",
       "  <thead>\n",
       "    <tr style=\"text-align: right;\">\n",
       "      <th></th>\n",
       "      <th>title</th>\n",
       "      <th>link</th>\n",
       "      <th>reply</th>\n",
       "      <th>forum</th>\n",
       "    </tr>\n",
       "  </thead>\n",
       "  <tbody>\n",
       "    <tr>\n",
       "      <th>0</th>\n",
       "      <td>2020 Biz Class Amenity Kit</td>\n",
       "      <td>http://www.sqtalk.com/forum/forum/singapore-ai...</td>\n",
       "      <td>https://milelion.com/2020/09/30/conf...amenit...</td>\n",
       "      <td>amenity_catering_lounges</td>\n",
       "    </tr>\n",
       "    <tr>\n",
       "      <th>1</th>\n",
       "      <td>2020 Biz Class Amenity Kit</td>\n",
       "      <td>http://www.sqtalk.com/forum/forum/singapore-ai...</td>\n",
       "      <td>Originally posted by jammed View Post https:/...</td>\n",
       "      <td>amenity_catering_lounges</td>\n",
       "    </tr>\n",
       "    <tr>\n",
       "      <th>2</th>\n",
       "      <td>2020 Biz Class Amenity Kit</td>\n",
       "      <td>http://www.sqtalk.com/forum/forum/singapore-ai...</td>\n",
       "      <td>I’ll report back in 3 week’s time if they are...</td>\n",
       "      <td>amenity_catering_lounges</td>\n",
       "    </tr>\n",
       "  </tbody>\n",
       "</table>\n",
       "</div>"
      ],
      "text/plain": [
       "                        title  \\\n",
       "0  2020 Biz Class Amenity Kit   \n",
       "1  2020 Biz Class Amenity Kit   \n",
       "2  2020 Biz Class Amenity Kit   \n",
       "\n",
       "                                                link  \\\n",
       "0  http://www.sqtalk.com/forum/forum/singapore-ai...   \n",
       "1  http://www.sqtalk.com/forum/forum/singapore-ai...   \n",
       "2  http://www.sqtalk.com/forum/forum/singapore-ai...   \n",
       "\n",
       "                                               reply                     forum  \n",
       "0   https://milelion.com/2020/09/30/conf...amenit...  amenity_catering_lounges  \n",
       "1   Originally posted by jammed View Post https:/...  amenity_catering_lounges  \n",
       "2   I’ll report back in 3 week’s time if they are...  amenity_catering_lounges  "
      ]
     },
     "execution_count": 3,
     "metadata": {},
     "output_type": "execute_result"
    }
   ],
   "source": [
    "sq_forums = pd.read_csv('/kaggle/input/sq-forums/sq_forums.csv')\n",
    "print(sq_forums.shape)\n",
    "sq_forums.head(3)"
   ]
  },
  {
   "cell_type": "code",
   "execution_count": 4,
   "id": "465e95fe",
   "metadata": {
    "execution": {
     "iopub.execute_input": "2023-01-22T16:11:28.577859Z",
     "iopub.status.busy": "2023-01-22T16:11:28.577416Z",
     "iopub.status.idle": "2023-01-22T16:11:28.601325Z",
     "shell.execute_reply": "2023-01-22T16:11:28.600180Z"
    },
    "papermill": {
     "duration": 0.032332,
     "end_time": "2023-01-22T16:11:28.603873",
     "exception": false,
     "start_time": "2023-01-22T16:11:28.571541",
     "status": "completed"
    },
    "tags": []
   },
   "outputs": [
    {
     "data": {
      "text/html": [
       "<div>\n",
       "<style scoped>\n",
       "    .dataframe tbody tr th:only-of-type {\n",
       "        vertical-align: middle;\n",
       "    }\n",
       "\n",
       "    .dataframe tbody tr th {\n",
       "        vertical-align: top;\n",
       "    }\n",
       "\n",
       "    .dataframe thead th {\n",
       "        text-align: right;\n",
       "    }\n",
       "</style>\n",
       "<table border=\"1\" class=\"dataframe\">\n",
       "  <thead>\n",
       "    <tr style=\"text-align: right;\">\n",
       "      <th></th>\n",
       "      <th>title</th>\n",
       "      <th>link</th>\n",
       "      <th>reply</th>\n",
       "      <th>forum</th>\n",
       "    </tr>\n",
       "  </thead>\n",
       "  <tbody>\n",
       "    <tr>\n",
       "      <th>0</th>\n",
       "      <td>2020 Biz Class Amenity Kit</td>\n",
       "      <td>http://www.sqtalk.com/forum/forum/singapore-ai...</td>\n",
       "      <td>https://milelion.com/2020/09/30/conf...amenit...</td>\n",
       "      <td>0</td>\n",
       "    </tr>\n",
       "    <tr>\n",
       "      <th>1</th>\n",
       "      <td>2020 Biz Class Amenity Kit</td>\n",
       "      <td>http://www.sqtalk.com/forum/forum/singapore-ai...</td>\n",
       "      <td>Originally posted by jammed View Post https:/...</td>\n",
       "      <td>0</td>\n",
       "    </tr>\n",
       "    <tr>\n",
       "      <th>2</th>\n",
       "      <td>2020 Biz Class Amenity Kit</td>\n",
       "      <td>http://www.sqtalk.com/forum/forum/singapore-ai...</td>\n",
       "      <td>I’ll report back in 3 week’s time if they are...</td>\n",
       "      <td>0</td>\n",
       "    </tr>\n",
       "  </tbody>\n",
       "</table>\n",
       "</div>"
      ],
      "text/plain": [
       "                        title  \\\n",
       "0  2020 Biz Class Amenity Kit   \n",
       "1  2020 Biz Class Amenity Kit   \n",
       "2  2020 Biz Class Amenity Kit   \n",
       "\n",
       "                                                link  \\\n",
       "0  http://www.sqtalk.com/forum/forum/singapore-ai...   \n",
       "1  http://www.sqtalk.com/forum/forum/singapore-ai...   \n",
       "2  http://www.sqtalk.com/forum/forum/singapore-ai...   \n",
       "\n",
       "                                               reply  forum  \n",
       "0   https://milelion.com/2020/09/30/conf...amenit...      0  \n",
       "1   Originally posted by jammed View Post https:/...      0  \n",
       "2   I’ll report back in 3 week’s time if they are...      0  "
      ]
     },
     "execution_count": 4,
     "metadata": {},
     "output_type": "execute_result"
    }
   ],
   "source": [
    "# Convert y response variable in 'forum' column to 0 for amenity_catering_lounges and 1 for krisflyer\n",
    "sq_forums['forum'] = sq_forums['forum'].map({'amenity_catering_lounges': 0, 'krisflyer': 1})\n",
    "sq_forums.head(3)"
   ]
  },
  {
   "cell_type": "code",
   "execution_count": 5,
   "id": "523bb4f1",
   "metadata": {
    "execution": {
     "iopub.execute_input": "2023-01-22T16:11:28.614865Z",
     "iopub.status.busy": "2023-01-22T16:11:28.614425Z",
     "iopub.status.idle": "2023-01-22T16:11:28.621580Z",
     "shell.execute_reply": "2023-01-22T16:11:28.620282Z"
    },
    "papermill": {
     "duration": 0.015819,
     "end_time": "2023-01-22T16:11:28.624225",
     "exception": false,
     "start_time": "2023-01-22T16:11:28.608406",
     "status": "completed"
    },
    "tags": []
   },
   "outputs": [],
   "source": [
    "# Set data up for modelling\n",
    "X = sq_forums[['reply']]\n",
    "y = sq_forums['forum']"
   ]
  },
  {
   "cell_type": "code",
   "execution_count": 6,
   "id": "80365328",
   "metadata": {
    "execution": {
     "iopub.execute_input": "2023-01-22T16:11:28.635585Z",
     "iopub.status.busy": "2023-01-22T16:11:28.634713Z",
     "iopub.status.idle": "2023-01-22T16:11:28.654831Z",
     "shell.execute_reply": "2023-01-22T16:11:28.653627Z"
    },
    "papermill": {
     "duration": 0.028805,
     "end_time": "2023-01-22T16:11:28.657638",
     "exception": false,
     "start_time": "2023-01-22T16:11:28.628833",
     "status": "completed"
    },
    "tags": []
   },
   "outputs": [],
   "source": [
    "# Split the data into the training and testing sets\n",
    "X_train, X_test, y_train, y_test = train_test_split(X,\n",
    "                                                    y,\n",
    "                                                    stratify=y,\n",
    "                                                    random_state=42)"
   ]
  },
  {
   "cell_type": "code",
   "execution_count": 7,
   "id": "8a31531a",
   "metadata": {
    "execution": {
     "iopub.execute_input": "2023-01-22T16:11:28.669025Z",
     "iopub.status.busy": "2023-01-22T16:11:28.668579Z",
     "iopub.status.idle": "2023-01-22T16:11:28.674245Z",
     "shell.execute_reply": "2023-01-22T16:11:28.673225Z"
    },
    "papermill": {
     "duration": 0.014033,
     "end_time": "2023-01-22T16:11:28.676618",
     "exception": false,
     "start_time": "2023-01-22T16:11:28.662585",
     "status": "completed"
    },
    "tags": []
   },
   "outputs": [],
   "source": [
    "def zero_shot_preds(df, classifier, topic_list):\n",
    "    df[\"zero_shot_output\"] = df[\"reply\"].progress_apply(\n",
    "        classifier, candidate_labels=topic_list\n",
    "    )\n",
    "    zero_shot_df = pd.json_normalize(df[\"zero_shot_output\"])\n",
    "    zero_shot_df[\"zero_shot_result\"] = zero_shot_df['labels'].str[0]\n",
    "    \n",
    "    return zero_shot_df"
   ]
  },
  {
   "cell_type": "code",
   "execution_count": 8,
   "id": "fb43553a",
   "metadata": {
    "execution": {
     "iopub.execute_input": "2023-01-22T16:11:28.688078Z",
     "iopub.status.busy": "2023-01-22T16:11:28.687630Z",
     "iopub.status.idle": "2023-01-22T20:00:57.160120Z",
     "shell.execute_reply": "2023-01-22T20:00:57.158436Z"
    },
    "papermill": {
     "duration": 13768.481191,
     "end_time": "2023-01-22T20:00:57.162600",
     "exception": false,
     "start_time": "2023-01-22T16:11:28.681409",
     "status": "completed"
    },
    "tags": []
   },
   "outputs": [
    {
     "name": "stderr",
     "output_type": "stream",
     "text": [
      "100%|██████████| 6844/6844 [3:49:28<00:00,  2.01s/it]"
     ]
    },
    {
     "name": "stdout",
     "output_type": "stream",
     "text": [
      "CPU times: user 7h 33min 8s, sys: 5min 11s, total: 7h 38min 20s\n",
      "Wall time: 3h 49min 28s\n"
     ]
    },
    {
     "name": "stderr",
     "output_type": "stream",
     "text": [
      "\n"
     ]
    }
   ],
   "source": [
    "%%time\n",
    "zero_shot_df = zero_shot_preds(X_test,classifier,['amenity_catering_lounges', 'krisflyer'])"
   ]
  },
  {
   "cell_type": "code",
   "execution_count": 9,
   "id": "3ed9b09c",
   "metadata": {
    "execution": {
     "iopub.execute_input": "2023-01-22T20:00:57.997692Z",
     "iopub.status.busy": "2023-01-22T20:00:57.997254Z",
     "iopub.status.idle": "2023-01-22T20:00:58.112815Z",
     "shell.execute_reply": "2023-01-22T20:00:58.111840Z"
    },
    "papermill": {
     "duration": 0.539171,
     "end_time": "2023-01-22T20:00:58.115364",
     "exception": false,
     "start_time": "2023-01-22T20:00:57.576193",
     "status": "completed"
    },
    "tags": []
   },
   "outputs": [],
   "source": [
    "zero_shot_df.to_csv('./zero_shot_df.csv', index=False)"
   ]
  },
  {
   "cell_type": "markdown",
   "id": "505f34c0-5f99-4079-9aa9-c86f9b2b1169",
   "metadata": {},
   "source": [
    "---"
   ]
  },
  {
   "cell_type": "markdown",
   "id": "30ab7b2c-5be7-431c-b961-e4d2f0197e87",
   "metadata": {},
   "source": [
    "Load dataset from Kaggle output"
   ]
  },
  {
   "cell_type": "code",
   "execution_count": 4,
   "id": "be2f8077-22d2-4275-b21d-496217a4f0cf",
   "metadata": {},
   "outputs": [
    {
     "name": "stdout",
     "output_type": "stream",
     "text": [
      "(6844, 4)\n"
     ]
    },
    {
     "data": {
      "text/html": [
       "<div>\n",
       "<style scoped>\n",
       "    .dataframe tbody tr th:only-of-type {\n",
       "        vertical-align: middle;\n",
       "    }\n",
       "\n",
       "    .dataframe tbody tr th {\n",
       "        vertical-align: top;\n",
       "    }\n",
       "\n",
       "    .dataframe thead th {\n",
       "        text-align: right;\n",
       "    }\n",
       "</style>\n",
       "<table border=\"1\" class=\"dataframe\">\n",
       "  <thead>\n",
       "    <tr style=\"text-align: right;\">\n",
       "      <th></th>\n",
       "      <th>sequence</th>\n",
       "      <th>labels</th>\n",
       "      <th>scores</th>\n",
       "      <th>zero_shot_result</th>\n",
       "    </tr>\n",
       "  </thead>\n",
       "  <tbody>\n",
       "    <tr>\n",
       "      <th>0</th>\n",
       "      <td>(reserved 8)</td>\n",
       "      <td>['amenity_catering_lounges', 'krisflyer']</td>\n",
       "      <td>[0.6066158413887024, 0.3933841586112976]</td>\n",
       "      <td>amenity_catering_lounges</td>\n",
       "    </tr>\n",
       "    <tr>\n",
       "      <th>1</th>\n",
       "      <td>I dunno about business credit cards. But I kn...</td>\n",
       "      <td>['krisflyer', 'amenity_catering_lounges']</td>\n",
       "      <td>[0.5942760705947876, 0.40572389960289]</td>\n",
       "      <td>krisflyer</td>\n",
       "    </tr>\n",
       "    <tr>\n",
       "      <th>2</th>\n",
       "      <td>Hi all, Am booked on SIN/DEL - JCL on SQ406. ...</td>\n",
       "      <td>['amenity_catering_lounges', 'krisflyer']</td>\n",
       "      <td>[0.772503137588501, 0.22749686241149902]</td>\n",
       "      <td>amenity_catering_lounges</td>\n",
       "    </tr>\n",
       "    <tr>\n",
       "      <th>3</th>\n",
       "      <td>These CAKES all look nice. What you can do is...</td>\n",
       "      <td>['amenity_catering_lounges', 'krisflyer']</td>\n",
       "      <td>[0.6488876342773438, 0.35111233592033386]</td>\n",
       "      <td>amenity_catering_lounges</td>\n",
       "    </tr>\n",
       "    <tr>\n",
       "      <th>4</th>\n",
       "      <td>Compared to some other programme's brutal dev...</td>\n",
       "      <td>['amenity_catering_lounges', 'krisflyer']</td>\n",
       "      <td>[0.5395634174346924, 0.46043655276298523]</td>\n",
       "      <td>amenity_catering_lounges</td>\n",
       "    </tr>\n",
       "  </tbody>\n",
       "</table>\n",
       "</div>"
      ],
      "text/plain": [
       "                                            sequence  \\\n",
       "0                                      (reserved 8)    \n",
       "1   I dunno about business credit cards. But I kn...   \n",
       "2   Hi all, Am booked on SIN/DEL - JCL on SQ406. ...   \n",
       "3   These CAKES all look nice. What you can do is...   \n",
       "4   Compared to some other programme's brutal dev...   \n",
       "\n",
       "                                      labels  \\\n",
       "0  ['amenity_catering_lounges', 'krisflyer']   \n",
       "1  ['krisflyer', 'amenity_catering_lounges']   \n",
       "2  ['amenity_catering_lounges', 'krisflyer']   \n",
       "3  ['amenity_catering_lounges', 'krisflyer']   \n",
       "4  ['amenity_catering_lounges', 'krisflyer']   \n",
       "\n",
       "                                      scores          zero_shot_result  \n",
       "0   [0.6066158413887024, 0.3933841586112976]  amenity_catering_lounges  \n",
       "1     [0.5942760705947876, 0.40572389960289]                 krisflyer  \n",
       "2   [0.772503137588501, 0.22749686241149902]  amenity_catering_lounges  \n",
       "3  [0.6488876342773438, 0.35111233592033386]  amenity_catering_lounges  \n",
       "4  [0.5395634174346924, 0.46043655276298523]  amenity_catering_lounges  "
      ]
     },
     "execution_count": 4,
     "metadata": {},
     "output_type": "execute_result"
    }
   ],
   "source": [
    "zero_shot_df = pd.read_csv('zero_shot_df.csv')\n",
    "print(zero_shot_df.shape)\n",
    "zero_shot_df.head()"
   ]
  },
  {
   "cell_type": "code",
   "execution_count": 5,
   "id": "940ddbe7-1556-4c95-9469-0f022fc8ecb2",
   "metadata": {},
   "outputs": [
    {
     "data": {
      "text/html": [
       "<div>\n",
       "<style scoped>\n",
       "    .dataframe tbody tr th:only-of-type {\n",
       "        vertical-align: middle;\n",
       "    }\n",
       "\n",
       "    .dataframe tbody tr th {\n",
       "        vertical-align: top;\n",
       "    }\n",
       "\n",
       "    .dataframe thead th {\n",
       "        text-align: right;\n",
       "    }\n",
       "</style>\n",
       "<table border=\"1\" class=\"dataframe\">\n",
       "  <thead>\n",
       "    <tr style=\"text-align: right;\">\n",
       "      <th></th>\n",
       "      <th>sequence</th>\n",
       "      <th>labels</th>\n",
       "      <th>scores</th>\n",
       "      <th>zero_shot_result</th>\n",
       "    </tr>\n",
       "  </thead>\n",
       "  <tbody>\n",
       "    <tr>\n",
       "      <th>0</th>\n",
       "      <td>(reserved 8)</td>\n",
       "      <td>['amenity_catering_lounges', 'krisflyer']</td>\n",
       "      <td>[0.6066158413887024, 0.3933841586112976]</td>\n",
       "      <td>0</td>\n",
       "    </tr>\n",
       "    <tr>\n",
       "      <th>1</th>\n",
       "      <td>I dunno about business credit cards. But I kn...</td>\n",
       "      <td>['krisflyer', 'amenity_catering_lounges']</td>\n",
       "      <td>[0.5942760705947876, 0.40572389960289]</td>\n",
       "      <td>1</td>\n",
       "    </tr>\n",
       "    <tr>\n",
       "      <th>2</th>\n",
       "      <td>Hi all, Am booked on SIN/DEL - JCL on SQ406. ...</td>\n",
       "      <td>['amenity_catering_lounges', 'krisflyer']</td>\n",
       "      <td>[0.772503137588501, 0.22749686241149902]</td>\n",
       "      <td>0</td>\n",
       "    </tr>\n",
       "  </tbody>\n",
       "</table>\n",
       "</div>"
      ],
      "text/plain": [
       "                                            sequence  \\\n",
       "0                                      (reserved 8)    \n",
       "1   I dunno about business credit cards. But I kn...   \n",
       "2   Hi all, Am booked on SIN/DEL - JCL on SQ406. ...   \n",
       "\n",
       "                                      labels  \\\n",
       "0  ['amenity_catering_lounges', 'krisflyer']   \n",
       "1  ['krisflyer', 'amenity_catering_lounges']   \n",
       "2  ['amenity_catering_lounges', 'krisflyer']   \n",
       "\n",
       "                                     scores  zero_shot_result  \n",
       "0  [0.6066158413887024, 0.3933841586112976]                 0  \n",
       "1    [0.5942760705947876, 0.40572389960289]                 1  \n",
       "2  [0.772503137588501, 0.22749686241149902]                 0  "
      ]
     },
     "execution_count": 5,
     "metadata": {},
     "output_type": "execute_result"
    }
   ],
   "source": [
    "# Convert y response variable in 'forum' column to 0 for amenity_catering_lounges and 1 for krisflyer\n",
    "zero_shot_df['zero_shot_result'] = zero_shot_df['zero_shot_result'].map({'amenity_catering_lounges': 0, 'krisflyer': 1})\n",
    "zero_shot_df.head(3)"
   ]
  },
  {
   "cell_type": "code",
   "execution_count": 14,
   "id": "a47b6a0f-7d87-4055-810f-00d68b48378b",
   "metadata": {},
   "outputs": [
    {
     "name": "stdout",
     "output_type": "stream",
     "text": [
      "<PandasArray>\n",
      "[0, 1, 0, 0, 0, 0, 0, 1, 1, 1,\n",
      " ...\n",
      " 1, 1, 0, 0, 0, 0, 0, 1, 0, 0]\n",
      "Length: 6844, dtype: int64\n"
     ]
    }
   ],
   "source": [
    "# Get predictions\n",
    "preds = zero_shot_df['zero_shot_result'].array\n",
    "print(preds)"
   ]
  },
  {
   "cell_type": "code",
   "execution_count": 6,
   "id": "ebbe505d-9069-4030-846d-16a7f13de3cd",
   "metadata": {},
   "outputs": [
    {
     "name": "stdout",
     "output_type": "stream",
     "text": [
      "(27375, 4)\n"
     ]
    },
    {
     "data": {
      "text/html": [
       "<div>\n",
       "<style scoped>\n",
       "    .dataframe tbody tr th:only-of-type {\n",
       "        vertical-align: middle;\n",
       "    }\n",
       "\n",
       "    .dataframe tbody tr th {\n",
       "        vertical-align: top;\n",
       "    }\n",
       "\n",
       "    .dataframe thead th {\n",
       "        text-align: right;\n",
       "    }\n",
       "</style>\n",
       "<table border=\"1\" class=\"dataframe\">\n",
       "  <thead>\n",
       "    <tr style=\"text-align: right;\">\n",
       "      <th></th>\n",
       "      <th>title</th>\n",
       "      <th>link</th>\n",
       "      <th>reply</th>\n",
       "      <th>forum</th>\n",
       "    </tr>\n",
       "  </thead>\n",
       "  <tbody>\n",
       "    <tr>\n",
       "      <th>0</th>\n",
       "      <td>2020 Biz Class Amenity Kit</td>\n",
       "      <td>http://www.sqtalk.com/forum/forum/singapore-ai...</td>\n",
       "      <td>https://milelion.com/2020/09/30/conf...amenit...</td>\n",
       "      <td>amenity_catering_lounges</td>\n",
       "    </tr>\n",
       "    <tr>\n",
       "      <th>1</th>\n",
       "      <td>2020 Biz Class Amenity Kit</td>\n",
       "      <td>http://www.sqtalk.com/forum/forum/singapore-ai...</td>\n",
       "      <td>Originally posted by jammed View Post https:/...</td>\n",
       "      <td>amenity_catering_lounges</td>\n",
       "    </tr>\n",
       "    <tr>\n",
       "      <th>2</th>\n",
       "      <td>2020 Biz Class Amenity Kit</td>\n",
       "      <td>http://www.sqtalk.com/forum/forum/singapore-ai...</td>\n",
       "      <td>I’ll report back in 3 week’s time if they are...</td>\n",
       "      <td>amenity_catering_lounges</td>\n",
       "    </tr>\n",
       "  </tbody>\n",
       "</table>\n",
       "</div>"
      ],
      "text/plain": [
       "                        title  \\\n",
       "0  2020 Biz Class Amenity Kit   \n",
       "1  2020 Biz Class Amenity Kit   \n",
       "2  2020 Biz Class Amenity Kit   \n",
       "\n",
       "                                                link  \\\n",
       "0  http://www.sqtalk.com/forum/forum/singapore-ai...   \n",
       "1  http://www.sqtalk.com/forum/forum/singapore-ai...   \n",
       "2  http://www.sqtalk.com/forum/forum/singapore-ai...   \n",
       "\n",
       "                                               reply                     forum  \n",
       "0   https://milelion.com/2020/09/30/conf...amenit...  amenity_catering_lounges  \n",
       "1   Originally posted by jammed View Post https:/...  amenity_catering_lounges  \n",
       "2   I’ll report back in 3 week’s time if they are...  amenity_catering_lounges  "
      ]
     },
     "execution_count": 6,
     "metadata": {},
     "output_type": "execute_result"
    }
   ],
   "source": [
    "# Load original dataset\n",
    "sq_forums = pd.read_csv('sq_forums.csv')\n",
    "print(sq_forums.shape)\n",
    "sq_forums.head(3)"
   ]
  },
  {
   "cell_type": "code",
   "execution_count": 7,
   "id": "95681fe8-f3b2-4f27-849e-edf30cf25fb1",
   "metadata": {},
   "outputs": [
    {
     "data": {
      "text/html": [
       "<div>\n",
       "<style scoped>\n",
       "    .dataframe tbody tr th:only-of-type {\n",
       "        vertical-align: middle;\n",
       "    }\n",
       "\n",
       "    .dataframe tbody tr th {\n",
       "        vertical-align: top;\n",
       "    }\n",
       "\n",
       "    .dataframe thead th {\n",
       "        text-align: right;\n",
       "    }\n",
       "</style>\n",
       "<table border=\"1\" class=\"dataframe\">\n",
       "  <thead>\n",
       "    <tr style=\"text-align: right;\">\n",
       "      <th></th>\n",
       "      <th>title</th>\n",
       "      <th>link</th>\n",
       "      <th>reply</th>\n",
       "      <th>forum</th>\n",
       "    </tr>\n",
       "  </thead>\n",
       "  <tbody>\n",
       "    <tr>\n",
       "      <th>0</th>\n",
       "      <td>2020 Biz Class Amenity Kit</td>\n",
       "      <td>http://www.sqtalk.com/forum/forum/singapore-ai...</td>\n",
       "      <td>https://milelion.com/2020/09/30/conf...amenit...</td>\n",
       "      <td>0</td>\n",
       "    </tr>\n",
       "    <tr>\n",
       "      <th>1</th>\n",
       "      <td>2020 Biz Class Amenity Kit</td>\n",
       "      <td>http://www.sqtalk.com/forum/forum/singapore-ai...</td>\n",
       "      <td>Originally posted by jammed View Post https:/...</td>\n",
       "      <td>0</td>\n",
       "    </tr>\n",
       "    <tr>\n",
       "      <th>2</th>\n",
       "      <td>2020 Biz Class Amenity Kit</td>\n",
       "      <td>http://www.sqtalk.com/forum/forum/singapore-ai...</td>\n",
       "      <td>I’ll report back in 3 week’s time if they are...</td>\n",
       "      <td>0</td>\n",
       "    </tr>\n",
       "  </tbody>\n",
       "</table>\n",
       "</div>"
      ],
      "text/plain": [
       "                        title  \\\n",
       "0  2020 Biz Class Amenity Kit   \n",
       "1  2020 Biz Class Amenity Kit   \n",
       "2  2020 Biz Class Amenity Kit   \n",
       "\n",
       "                                                link  \\\n",
       "0  http://www.sqtalk.com/forum/forum/singapore-ai...   \n",
       "1  http://www.sqtalk.com/forum/forum/singapore-ai...   \n",
       "2  http://www.sqtalk.com/forum/forum/singapore-ai...   \n",
       "\n",
       "                                               reply  forum  \n",
       "0   https://milelion.com/2020/09/30/conf...amenit...      0  \n",
       "1   Originally posted by jammed View Post https:/...      0  \n",
       "2   I’ll report back in 3 week’s time if they are...      0  "
      ]
     },
     "execution_count": 7,
     "metadata": {},
     "output_type": "execute_result"
    }
   ],
   "source": [
    "# Convert y response variable in 'forum' column to 0 for amenity_catering_lounges and 1 for krisflyer\n",
    "sq_forums['forum'] = sq_forums['forum'].map({'amenity_catering_lounges': 0, 'krisflyer': 1})\n",
    "sq_forums.head(3)"
   ]
  },
  {
   "cell_type": "code",
   "execution_count": 8,
   "id": "3911f985-d3ac-4573-b597-afc95c93dba8",
   "metadata": {},
   "outputs": [],
   "source": [
    "# Set data up for modelling\n",
    "X = sq_forums['reply']\n",
    "y = sq_forums['forum']"
   ]
  },
  {
   "cell_type": "code",
   "execution_count": 9,
   "id": "6f9b0a2e-d70d-415e-afe9-ddc72e903602",
   "metadata": {},
   "outputs": [],
   "source": [
    "# Split the data into the training and testing sets\n",
    "X_train, X_test, y_train, y_test = train_test_split(X,\n",
    "                                                    y,\n",
    "                                                    stratify=y,\n",
    "                                                    random_state=42)"
   ]
  },
  {
   "cell_type": "code",
   "execution_count": 15,
   "id": "0a6a5f21-4dae-4eb6-9b29-fd0d4362ad5b",
   "metadata": {},
   "outputs": [
    {
     "data": {
      "text/plain": [
       "array([[2214,  489],\n",
       "       [2457, 1684]])"
      ]
     },
     "execution_count": 15,
     "metadata": {},
     "output_type": "execute_result"
    }
   ],
   "source": [
    "# confusion matrix yields a 2-D array\n",
    "confusion_matrix(y_test, preds) "
   ]
  },
  {
   "cell_type": "code",
   "execution_count": 16,
   "id": "6907f20f-a6a6-45ae-a1a1-a3033ddd236c",
   "metadata": {},
   "outputs": [
    {
     "name": "stdout",
     "output_type": "stream",
     "text": [
      "2214 489 2457 1684\n"
     ]
    }
   ],
   "source": [
    "# ravel() to convert to 1-D and Save confusion matrix values\n",
    "tn, fp, fn, tp = confusion_matrix(y_test, preds).ravel()\n",
    "print(tn, fp, fn, tp)"
   ]
  },
  {
   "cell_type": "code",
   "execution_count": 17,
   "id": "074f4e6a-8945-495e-a78b-bc81f34e345f",
   "metadata": {},
   "outputs": [
    {
     "data": {
      "image/png": "[encoded data removed]",
      "text/plain": [
       "<Figure size 640x480 with 2 Axes>"
      ]
     },
     "metadata": {},
     "output_type": "display_data"
    }
   ],
   "source": [
    "# plot confusion matrix\n",
    "cm = confusion_matrix(y_test, preds)\n",
    "disp = ConfusionMatrixDisplay(confusion_matrix=cm, display_labels=['amenity_catering_lounges', 'krisflyer'])\n",
    "disp.plot();"
   ]
  },
  {
   "cell_type": "code",
   "execution_count": 18,
   "id": "ec666efc-0464-4e8f-ae98-8c6327b60b36",
   "metadata": {},
   "outputs": [
    {
     "data": {
      "text/plain": [
       "'accuracy score = 0.5695499707773232'"
      ]
     },
     "execution_count": 18,
     "metadata": {},
     "output_type": "execute_result"
    }
   ],
   "source": [
    "# Find 'accuracy' score from sklearn metrics (same as test_score above)\n",
    "accuracy = accuracy_score(y_test, preds)\n",
    "f'accuracy score = {accuracy}'"
   ]
  },
  {
   "cell_type": "code",
   "execution_count": 19,
   "id": "b17f0c70-203d-4dee-bd17-2279d3ba3e66",
   "metadata": {},
   "outputs": [
    {
     "data": {
      "text/plain": [
       "'sensitivity score = 0.40666505674957737'"
      ]
     },
     "execution_count": 19,
     "metadata": {},
     "output_type": "execute_result"
    }
   ],
   "source": [
    "# Find 'sensitivity' score from sklearn metrics\n",
    "sensitivity = recall_score(y_test, preds)\n",
    "f'sensitivity score = {sensitivity}'"
   ]
  },
  {
   "cell_type": "code",
   "execution_count": 20,
   "id": "c35a2655-b3c9-47bd-a517-9a315b6bf73c",
   "metadata": {},
   "outputs": [
    {
     "data": {
      "text/plain": [
       "'precision score = 0.7749654855039116'"
      ]
     },
     "execution_count": 20,
     "metadata": {},
     "output_type": "execute_result"
    }
   ],
   "source": [
    "# Find 'precision' score from sklearn metrics\n",
    "precision = precision_score(y_test, preds)\n",
    "f'precision score = {precision}'"
   ]
  },
  {
   "cell_type": "code",
   "execution_count": 21,
   "id": "62e6b2ac-b20d-4e33-81ad-fb82d3561f7d",
   "metadata": {},
   "outputs": [
    {
     "data": {
      "text/plain": [
       "'f1 score = 0.5334178017104846'"
      ]
     },
     "execution_count": 21,
     "metadata": {},
     "output_type": "execute_result"
    }
   ],
   "source": [
    "# Find 'f1 score' from sklearn metrics\n",
    "f1_score = f1_score(y_test, preds)\n",
    "f'f1 score = {f1_score}'"
   ]
  },
  {
   "cell_type": "code",
   "execution_count": 22,
   "id": "61557a21-15fb-44bd-9847-2797e8464602",
   "metadata": {},
   "outputs": [
    {
     "name": "stdout",
     "output_type": "stream",
     "text": [
      "              precision    recall  f1-score   support\n",
      "\n",
      "           0       0.47      0.82      0.60      2703\n",
      "           1       0.77      0.41      0.53      4141\n",
      "\n",
      "    accuracy                           0.57      6844\n",
      "   macro avg       0.62      0.61      0.57      6844\n",
      "weighted avg       0.66      0.57      0.56      6844\n",
      "\n"
     ]
    }
   ],
   "source": [
    "# Summarizing Precision, Sensitivity and F1-score\n",
    "print(classification_report(y_test, preds))"
   ]
  },
  {
   "cell_type": "code",
   "execution_count": 23,
   "id": "18f367c8-27e8-48a0-b282-518d5a139f07",
   "metadata": {},
   "outputs": [
    {
     "data": {
      "text/plain": [
       "'specificity score = 0.8190899001109878'"
      ]
     },
     "execution_count": 23,
     "metadata": {},
     "output_type": "execute_result"
    }
   ],
   "source": [
    "# Find 'specificity score' \n",
    "specificity = tn / (tn + fp)\n",
    "f'specificity score = {specificity}'"
   ]
  },
  {
   "cell_type": "code",
   "execution_count": 24,
   "id": "56f2e82f-60db-4fb3-818d-ba1a2eb9898e",
   "metadata": {},
   "outputs": [
    {
     "data": {
      "image/png": "[encoded data removed]",
      "text/plain": [
       "<Figure size 640x480 with 1 Axes>"
      ]
     },
     "metadata": {},
     "output_type": "display_data"
    }
   ],
   "source": [
    "# Plot roc curve from sklearn metrics\n",
    "RocCurveDisplay.from_predictions(y_test, preds)\n",
    "plt.show()"
   ]
  },
  {
   "cell_type": "code",
   "execution_count": 25,
   "id": "30336ba1-8388-4536-a014-c3eb1019af56",
   "metadata": {},
   "outputs": [
    {
     "data": {
      "text/plain": [
       "'roc auc score = 0.6128774784302825'"
      ]
     },
     "execution_count": 25,
     "metadata": {},
     "output_type": "execute_result"
    }
   ],
   "source": [
    "# Find 'roc auc score' from sklearn metrics\n",
    "roc_auc_score = roc_auc_score(y_test, preds)\n",
    "f'roc auc score = {roc_auc_score}'"
   ]
  },
  {
   "cell_type": "markdown",
   "id": "3728170c-c61a-47ca-8f3f-adccbd78015e",
   "metadata": {},
   "source": [
    "In summary, the scores using the different metrics are as below:\n",
    "|**Metrics**|**MultinomialNB() (baseline)**|**Zero Shot Classification**|\n",
    "|:---|:---|:---|\n",
    "|train_score|0.858|-|\n",
    "|test_score|0.844|0.570|\n",
    "|sensitivity|0.986|0.407|\n",
    "|precision|0.801|0.775|\n",
    "|f1 score|0.884|0.533|\n",
    "|specificity|0.626|0.819|\n",
    "|roc auc|0.806|0.613|\n",
    "\n",
    "- Overall, as compared to the baseline model, zero shot classification gave poorer results across all the metrics as compared to 'specificity', i.e. it is better at predicting true negatives (model predicts replies to be under 'amenity_catering_lounges' category correctly)."
   ]
  },
  {
   "cell_type": "code",
   "execution_count": null,
   "id": "f3d4b7cf-1b13-4c76-8675-9017ec69256d",
   "metadata": {},
   "outputs": [],
   "source": []
  }
 ],
 "metadata": {
  "kernelspec": {
   "display_name": "Python 3 (ipykernel)",
   "language": "python",
   "name": "python3"
  },
  "language_info": {
   "codemirror_mode": {
    "name": "ipython",
    "version": 3
   },
   "file_extension": ".py",
   "mimetype": "text/x-python",
   "name": "python",
   "nbconvert_exporter": "python",
   "pygments_lexer": "ipython3",
   "version": "3.8.13"
  },
  "papermill": {
   "default_parameters": {},
   "duration": 13857.113525,
   "end_time": "2023-01-22T20:01:01.702915",
   "environment_variables": {},
   "exception": null,
   "input_path": "__notebook__.ipynb",
   "output_path": "__notebook__.ipynb",
   "parameters": {},
   "start_time": "2023-01-22T16:10:04.589390",
   "version": "2.3.4"
  },
  "widgets": {
   "application/vnd.jupyter.widget-state+json": {
    "state": {
     "0dc5de064f234083a0ddc6168e9dbedf": {
      "model_module": "@jupyter-widgets/controls",
      "model_module_version": "1.5.0",
      "model_name": "HTMLModel",
      "state": {
       "_dom_classes": [],
       "_model_module": "@jupyter-widgets/controls",
       "_model_module_version": "1.5.0",
       "_model_name": "HTMLModel",
       "_view_count": null,
       "_view_module": "@jupyter-widgets/controls",
       "_view_module_version": "1.5.0",
       "_view_name": "HTMLView",
       "description": "",
       "description_tooltip": null,
       "layout": "IPY_MODEL_114b0232a9c24c0c9b47676f722366bf",
       "placeholder": "​",
       "style": "IPY_MODEL_6282426da4df42e0a63f2c6a38370f82",
       "value": " 1.29M/1.29M [00:00&lt;00:00, 2.22MB/s]"
      }
     },
     "0f282b1c135a4583a2f9eb496e20185d": {
      "model_module": "@jupyter-widgets/base",
      "model_module_version": "1.2.0",
      "model_name": "LayoutModel",
      "state": {
       "_model_module": "@jupyter-widgets/base",
       "_model_module_version": "1.2.0",
       "_model_name": "LayoutModel",
       "_view_count": null,
       "_view_module": "@jupyter-widgets/base",
       "_view_module_version": "1.2.0",
       "_view_name": "LayoutView",
       "align_content": null,
       "align_items": null,
       "align_self": null,
       "border": null,
       "bottom": null,
       "display": null,
       "flex": null,
       "flex_flow": null,
       "grid_area": null,
       "grid_auto_columns": null,
       "grid_auto_flow": null,
       "grid_auto_rows": null,
       "grid_column": null,
       "grid_gap": null,
       "grid_row": null,
       "grid_template_areas": null,
       "grid_template_columns": null,
       "grid_template_rows": null,
       "height": null,
       "justify_content": null,
       "justify_items": null,
       "left": null,
       "margin": null,
       "max_height": null,
       "max_width": null,
       "min_height": null,
       "min_width": null,
       "object_fit": null,
       "object_position": null,
       "order": null,
       "overflow": null,
       "overflow_x": null,
       "overflow_y": null,
       "padding": null,
       "right": null,
       "top": null,
       "visibility": null,
       "width": null
      }
     },
     "102be96d1db946cca9a1d6e46ff1f162": {
      "model_module": "@jupyter-widgets/base",
      "model_module_version": "1.2.0",
      "model_name": "LayoutModel",
      "state": {
       "_model_module": "@jupyter-widgets/base",
       "_model_module_version": "1.2.0",
       "_model_name": "LayoutModel",
       "_view_count": null,
       "_view_module": "@jupyter-widgets/base",
       "_view_module_version": "1.2.0",
       "_view_name": "LayoutView",
       "align_content": null,
       "align_items": null,
       "align_self": null,
       "border": null,
       "bottom": null,
       "display": null,
       "flex": null,
       "flex_flow": null,
       "grid_area": null,
       "grid_auto_columns": null,
       "grid_auto_flow": null,
       "grid_auto_rows": null,
       "grid_column": null,
       "grid_gap": null,
       "grid_row": null,
       "grid_template_areas": null,
       "grid_template_columns": null,
       "grid_template_rows": null,
       "height": null,
       "justify_content": null,
       "justify_items": null,
       "left": null,
       "margin": null,
       "max_height": null,
       "max_width": null,
       "min_height": null,
       "min_width": null,
       "object_fit": null,
       "object_position": null,
       "order": null,
       "overflow": null,
       "overflow_x": null,
       "overflow_y": null,
       "padding": null,
       "right": null,
       "top": null,
       "visibility": null,
       "width": null
      }
     },
     "108a69f55beb4bb2ad2ad75935dd49fc": {
      "model_module": "@jupyter-widgets/base",
      "model_module_version": "1.2.0",
      "model_name": "LayoutModel",
      "state": {
       "_model_module": "@jupyter-widgets/base",
       "_model_module_version": "1.2.0",
       "_model_name": "LayoutModel",
       "_view_count": null,
       "_view_module": "@jupyter-widgets/base",
       "_view_module_version": "1.2.0",
       "_view_name": "LayoutView",
       "align_content": null,
       "align_items": null,
       "align_self": null,
       "border": null,
       "bottom": null,
       "display": null,
       "flex": null,
       "flex_flow": null,
       "grid_area": null,
       "grid_auto_columns": null,
       "grid_auto_flow": null,
       "grid_auto_rows": null,
       "grid_column": null,
       "grid_gap": null,
       "grid_row": null,
       "grid_template_areas": null,
       "grid_template_columns": null,
       "grid_template_rows": null,
       "height": null,
       "justify_content": null,
       "justify_items": null,
       "left": null,
       "margin": null,
       "max_height": null,
       "max_width": null,
       "min_height": null,
       "min_width": null,
       "object_fit": null,
       "object_position": null,
       "order": null,
       "overflow": null,
       "overflow_x": null,
       "overflow_y": null,
       "padding": null,
       "right": null,
       "top": null,
       "visibility": null,
       "width": null
      }
     },
     "114b0232a9c24c0c9b47676f722366bf": {
      "model_module": "@jupyter-widgets/base",
      "model_module_version": "1.2.0",
      "model_name": "LayoutModel",
      "state": {
       "_model_module": "@jupyter-widgets/base",
       "_model_module_version": "1.2.0",
       "_model_name": "LayoutModel",
       "_view_count": null,
       "_view_module": "@jupyter-widgets/base",
       "_view_module_version": "1.2.0",
       "_view_name": "LayoutView",
       "align_content": null,
       "align_items": null,
       "align_self": null,
       "border": null,
       "bottom": null,
       "display": null,
       "flex": null,
       "flex_flow": null,
       "grid_area": null,
       "grid_auto_columns": null,
       "grid_auto_flow": null,
       "grid_auto_rows": null,
       "grid_column": null,
       "grid_gap": null,
       "grid_row": null,
       "grid_template_areas": null,
       "grid_template_columns": null,
       "grid_template_rows": null,
       "height": null,
       "justify_content": null,
       "justify_items": null,
       "left": null,
       "margin": null,
       "max_height": null,
       "max_width": null,
       "min_height": null,
       "min_width": null,
       "object_fit": null,
       "object_position": null,
       "order": null,
       "overflow": null,
       "overflow_x": null,
       "overflow_y": null,
       "padding": null,
       "right": null,
       "top": null,
       "visibility": null,
       "width": null
      }
     },
     "2415ac19a7dd4792a821ae0f14d5e992": {
      "model_module": "@jupyter-widgets/controls",
      "model_module_version": "1.5.0",
      "model_name": "HTMLModel",
      "state": {
       "_dom_classes": [],
       "_model_module": "@jupyter-widgets/controls",
       "_model_module_version": "1.5.0",
       "_model_name": "HTMLModel",
       "_view_count": null,
       "_view_module": "@jupyter-widgets/controls",
       "_view_module_version": "1.5.0",
       "_view_name": "HTMLView",
       "description": "",
       "description_tooltip": null,
       "layout": "IPY_MODEL_fed8768069e9441494409c4ad2013cf0",
       "placeholder": "​",
       "style": "IPY_MODEL_ec007d24db9140b1ad719a11edf2e6ac",
       "value": "Downloading: 100%"
      }
     },
     "28693b9744f34baca328468e9444d959": {
      "model_module": "@jupyter-widgets/base",
      "model_module_version": "1.2.0",
      "model_name": "LayoutModel",
      "state": {
       "_model_module": "@jupyter-widgets/base",
       "_model_module_version": "1.2.0",
       "_model_name": "LayoutModel",
       "_view_count": null,
       "_view_module": "@jupyter-widgets/base",
       "_view_module_version": "1.2.0",
       "_view_name": "LayoutView",
       "align_content": null,
       "align_items": null,
       "align_self": null,
       "border": null,
       "bottom": null,
       "display": null,
       "flex": null,
       "flex_flow": null,
       "grid_area": null,
       "grid_auto_columns": null,
       "grid_auto_flow": null,
       "grid_auto_rows": null,
       "grid_column": null,
       "grid_gap": null,
       "grid_row": null,
       "grid_template_areas": null,
       "grid_template_columns": null,
       "grid_template_rows": null,
       "height": null,
       "justify_content": null,
       "justify_items": null,
       "left": null,
       "margin": null,
       "max_height": null,
       "max_width": null,
       "min_height": null,
       "min_width": null,
       "object_fit": null,
       "object_position": null,
       "order": null,
       "overflow": null,
       "overflow_x": null,
       "overflow_y": null,
       "padding": null,
       "right": null,
       "top": null,
       "visibility": null,
       "width": null
      }
     },
     "291e37771428448e842eea7c81e575e9": {
      "model_module": "@jupyter-widgets/base",
      "model_module_version": "1.2.0",
      "model_name": "LayoutModel",
      "state": {
       "_model_module": "@jupyter-widgets/base",
       "_model_module_version": "1.2.0",
       "_model_name": "LayoutModel",
       "_view_count": null,
       "_view_module": "@jupyter-widgets/base",
       "_view_module_version": "1.2.0",
       "_view_name": "LayoutView",
       "align_content": null,
       "align_items": null,
       "align_self": null,
       "border": null,
       "bottom": null,
       "display": null,
       "flex": null,
       "flex_flow": null,
       "grid_area": null,
       "grid_auto_columns": null,
       "grid_auto_flow": null,
       "grid_auto_rows": null,
       "grid_column": null,
       "grid_gap": null,
       "grid_row": null,
       "grid_template_areas": null,
       "grid_template_columns": null,
       "grid_template_rows": null,
       "height": null,
       "justify_content": null,
       "justify_items": null,
       "left": null,
       "margin": null,
       "max_height": null,
       "max_width": null,
       "min_height": null,
       "min_width": null,
       "object_fit": null,
       "object_position": null,
       "order": null,
       "overflow": null,
       "overflow_x": null,
       "overflow_y": null,
       "padding": null,
       "right": null,
       "top": null,
       "visibility": null,
       "width": null
      }
     },
     "40c32bb2a3e34dfa8cb8882e3cd0a50c": {
      "model_module": "@jupyter-widgets/base",
      "model_module_version": "1.2.0",
      "model_name": "LayoutModel",
      "state": {
       "_model_module": "@jupyter-widgets/base",
       "_model_module_version": "1.2.0",
       "_model_name": "LayoutModel",
       "_view_count": null,
       "_view_module": "@jupyter-widgets/base",
       "_view_module_version": "1.2.0",
       "_view_name": "LayoutView",
       "align_content": null,
       "align_items": null,
       "align_self": null,
       "border": null,
       "bottom": null,
       "display": null,
       "flex": null,
       "flex_flow": null,
       "grid_area": null,
       "grid_auto_columns": null,
       "grid_auto_flow": null,
       "grid_auto_rows": null,
       "grid_column": null,
       "grid_gap": null,
       "grid_row": null,
       "grid_template_areas": null,
       "grid_template_columns": null,
       "grid_template_rows": null,
       "height": null,
       "justify_content": null,
       "justify_items": null,
       "left": null,
       "margin": null,
       "max_height": null,
       "max_width": null,
       "min_height": null,
       "min_width": null,
       "object_fit": null,
       "object_position": null,
       "order": null,
       "overflow": null,
       "overflow_x": null,
       "overflow_y": null,
       "padding": null,
       "right": null,
       "top": null,
       "visibility": null,
       "width": null
      }
     },
     "431c39778ed549a0b47c5ad3a673fa14": {
      "model_module": "@jupyter-widgets/controls",
      "model_module_version": "1.5.0",
      "model_name": "HTMLModel",
      "state": {
       "_dom_classes": [],
       "_model_module": "@jupyter-widgets/controls",
       "_model_module_version": "1.5.0",
       "_model_name": "HTMLModel",
       "_view_count": null,
       "_view_module": "@jupyter-widgets/controls",
       "_view_module_version": "1.5.0",
       "_view_name": "HTMLView",
       "description": "",
       "description_tooltip": null,
       "layout": "IPY_MODEL_a0a6fa14e3e94d9cbb87cbb0f817fd9c",
       "placeholder": "​",
       "style": "IPY_MODEL_daaf7d586ef94dc5b3f51014c8aa2468",
       "value": " 1.52G/1.52G [00:45&lt;00:00, 42.9MB/s]"
      }
     },
     "47d55e20942a4384b6c3746e85587e6c": {
      "model_module": "@jupyter-widgets/controls",
      "model_module_version": "1.5.0",
      "model_name": "HTMLModel",
      "state": {
       "_dom_classes": [],
       "_model_module": "@jupyter-widgets/controls",
       "_model_module_version": "1.5.0",
       "_model_name": "HTMLModel",
       "_view_count": null,
       "_view_module": "@jupyter-widgets/controls",
       "_view_module_version": "1.5.0",
       "_view_name": "HTMLView",
       "description": "",
       "description_tooltip": null,
       "layout": "IPY_MODEL_eb50c3a6351143c28e222bcb6c22a381",
       "placeholder": "​",
       "style": "IPY_MODEL_b16a07cb336b4fa69ef0e8ba8e157aae",
       "value": "Downloading: 100%"
      }
     },
     "4ac07faf89004b5282e77c6f8708c72b": {
      "model_module": "@jupyter-widgets/controls",
      "model_module_version": "1.5.0",
      "model_name": "HTMLModel",
      "state": {
       "_dom_classes": [],
       "_model_module": "@jupyter-widgets/controls",
       "_model_module_version": "1.5.0",
       "_model_name": "HTMLModel",
       "_view_count": null,
       "_view_module": "@jupyter-widgets/controls",
       "_view_module_version": "1.5.0",
       "_view_name": "HTMLView",
       "description": "",
       "description_tooltip": null,
       "layout": "IPY_MODEL_28693b9744f34baca328468e9444d959",
       "placeholder": "​",
       "style": "IPY_MODEL_c5f92f3d741c44728e8a78677192f65f",
       "value": "Downloading: 100%"
      }
     },
     "4c70c48583f047a483544e3f00ba474b": {
      "model_module": "@jupyter-widgets/controls",
      "model_module_version": "1.5.0",
      "model_name": "FloatProgressModel",
      "state": {
       "_dom_classes": [],
       "_model_module": "@jupyter-widgets/controls",
       "_model_module_version": "1.5.0",
       "_model_name": "FloatProgressModel",
       "_view_count": null,
       "_view_module": "@jupyter-widgets/controls",
       "_view_module_version": "1.5.0",
       "_view_name": "ProgressView",
       "bar_style": "success",
       "description": "",
       "description_tooltip": null,
       "layout": "IPY_MODEL_4f9ffa6277f14333b56c972e05b2a627",
       "max": 1154,
       "min": 0,
       "orientation": "horizontal",
       "style": "IPY_MODEL_91140d71113d48a482218510e295d9ec",
       "value": 1154
      }
     },
     "4f9ffa6277f14333b56c972e05b2a627": {
      "model_module": "@jupyter-widgets/base",
      "model_module_version": "1.2.0",
      "model_name": "LayoutModel",
      "state": {
       "_model_module": "@jupyter-widgets/base",
       "_model_module_version": "1.2.0",
       "_model_name": "LayoutModel",
       "_view_count": null,
       "_view_module": "@jupyter-widgets/base",
       "_view_module_version": "1.2.0",
       "_view_name": "LayoutView",
       "align_content": null,
       "align_items": null,
       "align_self": null,
       "border": null,
       "bottom": null,
       "display": null,
       "flex": null,
       "flex_flow": null,
       "grid_area": null,
       "grid_auto_columns": null,
       "grid_auto_flow": null,
       "grid_auto_rows": null,
       "grid_column": null,
       "grid_gap": null,
       "grid_row": null,
       "grid_template_areas": null,
       "grid_template_columns": null,
       "grid_template_rows": null,
       "height": null,
       "justify_content": null,
       "justify_items": null,
       "left": null,
       "margin": null,
       "max_height": null,
       "max_width": null,
       "min_height": null,
       "min_width": null,
       "object_fit": null,
       "object_position": null,
       "order": null,
       "overflow": null,
       "overflow_x": null,
       "overflow_y": null,
       "padding": null,
       "right": null,
       "top": null,
       "visibility": null,
       "width": null
      }
     },
     "4fd6d43d8a0d426b8784dbed792e81bf": {
      "model_module": "@jupyter-widgets/base",
      "model_module_version": "1.2.0",
      "model_name": "LayoutModel",
      "state": {
       "_model_module": "@jupyter-widgets/base",
       "_model_module_version": "1.2.0",
       "_model_name": "LayoutModel",
       "_view_count": null,
       "_view_module": "@jupyter-widgets/base",
       "_view_module_version": "1.2.0",
       "_view_name": "LayoutView",
       "align_content": null,
       "align_items": null,
       "align_self": null,
       "border": null,
       "bottom": null,
       "display": null,
       "flex": null,
       "flex_flow": null,
       "grid_area": null,
       "grid_auto_columns": null,
       "grid_auto_flow": null,
       "grid_auto_rows": null,
       "grid_column": null,
       "grid_gap": null,
       "grid_row": null,
       "grid_template_areas": null,
       "grid_template_columns": null,
       "grid_template_rows": null,
       "height": null,
       "justify_content": null,
       "justify_items": null,
       "left": null,
       "margin": null,
       "max_height": null,
       "max_width": null,
       "min_height": null,
       "min_width": null,
       "object_fit": null,
       "object_position": null,
       "order": null,
       "overflow": null,
       "overflow_x": null,
       "overflow_y": null,
       "padding": null,
       "right": null,
       "top": null,
       "visibility": null,
       "width": null
      }
     },
     "513318144a8d4cd785b95e08eafc8800": {
      "model_module": "@jupyter-widgets/base",
      "model_module_version": "1.2.0",
      "model_name": "LayoutModel",
      "state": {
       "_model_module": "@jupyter-widgets/base",
       "_model_module_version": "1.2.0",
       "_model_name": "LayoutModel",
       "_view_count": null,
       "_view_module": "@jupyter-widgets/base",
       "_view_module_version": "1.2.0",
       "_view_name": "LayoutView",
       "align_content": null,
       "align_items": null,
       "align_self": null,
       "border": null,
       "bottom": null,
       "display": null,
       "flex": null,
       "flex_flow": null,
       "grid_area": null,
       "grid_auto_columns": null,
       "grid_auto_flow": null,
       "grid_auto_rows": null,
       "grid_column": null,
       "grid_gap": null,
       "grid_row": null,
       "grid_template_areas": null,
       "grid_template_columns": null,
       "grid_template_rows": null,
       "height": null,
       "justify_content": null,
       "justify_items": null,
       "left": null,
       "margin": null,
       "max_height": null,
       "max_width": null,
       "min_height": null,
       "min_width": null,
       "object_fit": null,
       "object_position": null,
       "order": null,
       "overflow": null,
       "overflow_x": null,
       "overflow_y": null,
       "padding": null,
       "right": null,
       "top": null,
       "visibility": null,
       "width": null
      }
     },
     "54f7acbcfd924c329c95d3cfca79fc21": {
      "model_module": "@jupyter-widgets/base",
      "model_module_version": "1.2.0",
      "model_name": "LayoutModel",
      "state": {
       "_model_module": "@jupyter-widgets/base",
       "_model_module_version": "1.2.0",
       "_model_name": "LayoutModel",
       "_view_count": null,
       "_view_module": "@jupyter-widgets/base",
       "_view_module_version": "1.2.0",
       "_view_name": "LayoutView",
       "align_content": null,
       "align_items": null,
       "align_self": null,
       "border": null,
       "bottom": null,
       "display": null,
       "flex": null,
       "flex_flow": null,
       "grid_area": null,
       "grid_auto_columns": null,
       "grid_auto_flow": null,
       "grid_auto_rows": null,
       "grid_column": null,
       "grid_gap": null,
       "grid_row": null,
       "grid_template_areas": null,
       "grid_template_columns": null,
       "grid_template_rows": null,
       "height": null,
       "justify_content": null,
       "justify_items": null,
       "left": null,
       "margin": null,
       "max_height": null,
       "max_width": null,
       "min_height": null,
       "min_width": null,
       "object_fit": null,
       "object_position": null,
       "order": null,
       "overflow": null,
       "overflow_x": null,
       "overflow_y": null,
       "padding": null,
       "right": null,
       "top": null,
       "visibility": null,
       "width": null
      }
     },
     "594f983fd55c4ce79be1fe0a41f2a46b": {
      "model_module": "@jupyter-widgets/base",
      "model_module_version": "1.2.0",
      "model_name": "LayoutModel",
      "state": {
       "_model_module": "@jupyter-widgets/base",
       "_model_module_version": "1.2.0",
       "_model_name": "LayoutModel",
       "_view_count": null,
       "_view_module": "@jupyter-widgets/base",
       "_view_module_version": "1.2.0",
       "_view_name": "LayoutView",
       "align_content": null,
       "align_items": null,
       "align_self": null,
       "border": null,
       "bottom": null,
       "display": null,
       "flex": null,
       "flex_flow": null,
       "grid_area": null,
       "grid_auto_columns": null,
       "grid_auto_flow": null,
       "grid_auto_rows": null,
       "grid_column": null,
       "grid_gap": null,
       "grid_row": null,
       "grid_template_areas": null,
       "grid_template_columns": null,
       "grid_template_rows": null,
       "height": null,
       "justify_content": null,
       "justify_items": null,
       "left": null,
       "margin": null,
       "max_height": null,
       "max_width": null,
       "min_height": null,
       "min_width": null,
       "object_fit": null,
       "object_position": null,
       "order": null,
       "overflow": null,
       "overflow_x": null,
       "overflow_y": null,
       "padding": null,
       "right": null,
       "top": null,
       "visibility": null,
       "width": null
      }
     },
     "5dd538a7fc394e8c958f75631a970458": {
      "model_module": "@jupyter-widgets/controls",
      "model_module_version": "1.5.0",
      "model_name": "HBoxModel",
      "state": {
       "_dom_classes": [],
       "_model_module": "@jupyter-widgets/controls",
       "_model_module_version": "1.5.0",
       "_model_name": "HBoxModel",
       "_view_count": null,
       "_view_module": "@jupyter-widgets/controls",
       "_view_module_version": "1.5.0",
       "_view_name": "HBoxView",
       "box_style": "",
       "children": [
        "IPY_MODEL_8681230f3f024a11b771748ef647d02a",
        "IPY_MODEL_ba9c2c3b395b42289784a3b2852dca11",
        "IPY_MODEL_882f85e94f8b4d859bdabdd18359256d"
       ],
       "layout": "IPY_MODEL_f609f8ca89254a55b32730527dcbc1a2"
      }
     },
     "5eb2fc97d0554b268e3e656ca23cdb4a": {
      "model_module": "@jupyter-widgets/base",
      "model_module_version": "1.2.0",
      "model_name": "LayoutModel",
      "state": {
       "_model_module": "@jupyter-widgets/base",
       "_model_module_version": "1.2.0",
       "_model_name": "LayoutModel",
       "_view_count": null,
       "_view_module": "@jupyter-widgets/base",
       "_view_module_version": "1.2.0",
       "_view_name": "LayoutView",
       "align_content": null,
       "align_items": null,
       "align_self": null,
       "border": null,
       "bottom": null,
       "display": null,
       "flex": null,
       "flex_flow": null,
       "grid_area": null,
       "grid_auto_columns": null,
       "grid_auto_flow": null,
       "grid_auto_rows": null,
       "grid_column": null,
       "grid_gap": null,
       "grid_row": null,
       "grid_template_areas": null,
       "grid_template_columns": null,
       "grid_template_rows": null,
       "height": null,
       "justify_content": null,
       "justify_items": null,
       "left": null,
       "margin": null,
       "max_height": null,
       "max_width": null,
       "min_height": null,
       "min_width": null,
       "object_fit": null,
       "object_position": null,
       "order": null,
       "overflow": null,
       "overflow_x": null,
       "overflow_y": null,
       "padding": null,
       "right": null,
       "top": null,
       "visibility": null,
       "width": null
      }
     },
     "6282426da4df42e0a63f2c6a38370f82": {
      "model_module": "@jupyter-widgets/controls",
      "model_module_version": "1.5.0",
      "model_name": "DescriptionStyleModel",
      "state": {
       "_model_module": "@jupyter-widgets/controls",
       "_model_module_version": "1.5.0",
       "_model_name": "DescriptionStyleModel",
       "_view_count": null,
       "_view_module": "@jupyter-widgets/base",
       "_view_module_version": "1.2.0",
       "_view_name": "StyleView",
       "description_width": ""
      }
     },
     "6a8b87bd3deb4d8ab10e9f34fe6fc18e": {
      "model_module": "@jupyter-widgets/controls",
      "model_module_version": "1.5.0",
      "model_name": "FloatProgressModel",
      "state": {
       "_dom_classes": [],
       "_model_module": "@jupyter-widgets/controls",
       "_model_module_version": "1.5.0",
       "_model_name": "FloatProgressModel",
       "_view_count": null,
       "_view_module": "@jupyter-widgets/controls",
       "_view_module_version": "1.5.0",
       "_view_name": "ProgressView",
       "bar_style": "success",
       "description": "",
       "description_tooltip": null,
       "layout": "IPY_MODEL_5eb2fc97d0554b268e3e656ca23cdb4a",
       "max": 898822,
       "min": 0,
       "orientation": "horizontal",
       "style": "IPY_MODEL_df3eaa90ece34510887be6c48d05fa6b",
       "value": 898822
      }
     },
     "6d18ad9381ec478ab0443529528b7788": {
      "model_module": "@jupyter-widgets/base",
      "model_module_version": "1.2.0",
      "model_name": "LayoutModel",
      "state": {
       "_model_module": "@jupyter-widgets/base",
       "_model_module_version": "1.2.0",
       "_model_name": "LayoutModel",
       "_view_count": null,
       "_view_module": "@jupyter-widgets/base",
       "_view_module_version": "1.2.0",
       "_view_name": "LayoutView",
       "align_content": null,
       "align_items": null,
       "align_self": null,
       "border": null,
       "bottom": null,
       "display": null,
       "flex": null,
       "flex_flow": null,
       "grid_area": null,
       "grid_auto_columns": null,
       "grid_auto_flow": null,
       "grid_auto_rows": null,
       "grid_column": null,
       "grid_gap": null,
       "grid_row": null,
       "grid_template_areas": null,
       "grid_template_columns": null,
       "grid_template_rows": null,
       "height": null,
       "justify_content": null,
       "justify_items": null,
       "left": null,
       "margin": null,
       "max_height": null,
       "max_width": null,
       "min_height": null,
       "min_width": null,
       "object_fit": null,
       "object_position": null,
       "order": null,
       "overflow": null,
       "overflow_x": null,
       "overflow_y": null,
       "padding": null,
       "right": null,
       "top": null,
       "visibility": null,
       "width": null
      }
     },
     "7074935cab9d44399b0ef22785f5a017": {
      "model_module": "@jupyter-widgets/controls",
      "model_module_version": "1.5.0",
      "model_name": "HBoxModel",
      "state": {
       "_dom_classes": [],
       "_model_module": "@jupyter-widgets/controls",
       "_model_module_version": "1.5.0",
       "_model_name": "HBoxModel",
       "_view_count": null,
       "_view_module": "@jupyter-widgets/controls",
       "_view_module_version": "1.5.0",
       "_view_name": "HBoxView",
       "box_style": "",
       "children": [
        "IPY_MODEL_2415ac19a7dd4792a821ae0f14d5e992",
        "IPY_MODEL_6a8b87bd3deb4d8ab10e9f34fe6fc18e",
        "IPY_MODEL_8aebcac4ebc34ce2b1296235ce055429"
       ],
       "layout": "IPY_MODEL_513318144a8d4cd785b95e08eafc8800"
      }
     },
     "7b778d628fdb4c9dbcdb3c38f0f5adff": {
      "model_module": "@jupyter-widgets/controls",
      "model_module_version": "1.5.0",
      "model_name": "HTMLModel",
      "state": {
       "_dom_classes": [],
       "_model_module": "@jupyter-widgets/controls",
       "_model_module_version": "1.5.0",
       "_model_name": "HTMLModel",
       "_view_count": null,
       "_view_module": "@jupyter-widgets/controls",
       "_view_module_version": "1.5.0",
       "_view_name": "HTMLView",
       "description": "",
       "description_tooltip": null,
       "layout": "IPY_MODEL_54f7acbcfd924c329c95d3cfca79fc21",
       "placeholder": "​",
       "style": "IPY_MODEL_eb1fb674fef34f30ad28f15efd0b94bb",
       "value": " 446k/446k [00:00&lt;00:00, 686kB/s]"
      }
     },
     "7ebf5663e5a34078a139b0c8a36cbb90": {
      "model_module": "@jupyter-widgets/base",
      "model_module_version": "1.2.0",
      "model_name": "LayoutModel",
      "state": {
       "_model_module": "@jupyter-widgets/base",
       "_model_module_version": "1.2.0",
       "_model_name": "LayoutModel",
       "_view_count": null,
       "_view_module": "@jupyter-widgets/base",
       "_view_module_version": "1.2.0",
       "_view_name": "LayoutView",
       "align_content": null,
       "align_items": null,
       "align_self": null,
       "border": null,
       "bottom": null,
       "display": null,
       "flex": null,
       "flex_flow": null,
       "grid_area": null,
       "grid_auto_columns": null,
       "grid_auto_flow": null,
       "grid_auto_rows": null,
       "grid_column": null,
       "grid_gap": null,
       "grid_row": null,
       "grid_template_areas": null,
       "grid_template_columns": null,
       "grid_template_rows": null,
       "height": null,
       "justify_content": null,
       "justify_items": null,
       "left": null,
       "margin": null,
       "max_height": null,
       "max_width": null,
       "min_height": null,
       "min_width": null,
       "object_fit": null,
       "object_position": null,
       "order": null,
       "overflow": null,
       "overflow_x": null,
       "overflow_y": null,
       "padding": null,
       "right": null,
       "top": null,
       "visibility": null,
       "width": null
      }
     },
     "8681230f3f024a11b771748ef647d02a": {
      "model_module": "@jupyter-widgets/controls",
      "model_module_version": "1.5.0",
      "model_name": "HTMLModel",
      "state": {
       "_dom_classes": [],
       "_model_module": "@jupyter-widgets/controls",
       "_model_module_version": "1.5.0",
       "_model_name": "HTMLModel",
       "_view_count": null,
       "_view_module": "@jupyter-widgets/controls",
       "_view_module_version": "1.5.0",
       "_view_name": "HTMLView",
       "description": "",
       "description_tooltip": null,
       "layout": "IPY_MODEL_4fd6d43d8a0d426b8784dbed792e81bf",
       "placeholder": "​",
       "style": "IPY_MODEL_a8a4dfb63b654d1c92c121357962ae91",
       "value": "Downloading: 100%"
      }
     },
     "882f85e94f8b4d859bdabdd18359256d": {
      "model_module": "@jupyter-widgets/controls",
      "model_module_version": "1.5.0",
      "model_name": "HTMLModel",
      "state": {
       "_dom_classes": [],
       "_model_module": "@jupyter-widgets/controls",
       "_model_module_version": "1.5.0",
       "_model_name": "HTMLModel",
       "_view_count": null,
       "_view_module": "@jupyter-widgets/controls",
       "_view_module_version": "1.5.0",
       "_view_name": "HTMLView",
       "description": "",
       "description_tooltip": null,
       "layout": "IPY_MODEL_7ebf5663e5a34078a139b0c8a36cbb90",
       "placeholder": "​",
       "style": "IPY_MODEL_9a535972006a47008e7b2a9725b10c03",
       "value": " 26.0/26.0 [00:00&lt;00:00, 944B/s]"
      }
     },
     "8adbe42520f84c468f7071f3e1ae61b5": {
      "model_module": "@jupyter-widgets/controls",
      "model_module_version": "1.5.0",
      "model_name": "DescriptionStyleModel",
      "state": {
       "_model_module": "@jupyter-widgets/controls",
       "_model_module_version": "1.5.0",
       "_model_name": "DescriptionStyleModel",
       "_view_count": null,
       "_view_module": "@jupyter-widgets/base",
       "_view_module_version": "1.2.0",
       "_view_name": "StyleView",
       "description_width": ""
      }
     },
     "8aebcac4ebc34ce2b1296235ce055429": {
      "model_module": "@jupyter-widgets/controls",
      "model_module_version": "1.5.0",
      "model_name": "HTMLModel",
      "state": {
       "_dom_classes": [],
       "_model_module": "@jupyter-widgets/controls",
       "_model_module_version": "1.5.0",
       "_model_name": "HTMLModel",
       "_view_count": null,
       "_view_module": "@jupyter-widgets/controls",
       "_view_module_version": "1.5.0",
       "_view_name": "HTMLView",
       "description": "",
       "description_tooltip": null,
       "layout": "IPY_MODEL_102be96d1db946cca9a1d6e46ff1f162",
       "placeholder": "​",
       "style": "IPY_MODEL_fb3ef24fd2ac4afb86090d412310dd42",
       "value": " 878k/878k [00:00&lt;00:00, 1.32MB/s]"
      }
     },
     "91140d71113d48a482218510e295d9ec": {
      "model_module": "@jupyter-widgets/controls",
      "model_module_version": "1.5.0",
      "model_name": "ProgressStyleModel",
      "state": {
       "_model_module": "@jupyter-widgets/controls",
       "_model_module_version": "1.5.0",
       "_model_name": "ProgressStyleModel",
       "_view_count": null,
       "_view_module": "@jupyter-widgets/base",
       "_view_module_version": "1.2.0",
       "_view_name": "StyleView",
       "bar_color": null,
       "description_width": ""
      }
     },
     "97e096d45f5b440e96fd1ae2c88f0285": {
      "model_module": "@jupyter-widgets/controls",
      "model_module_version": "1.5.0",
      "model_name": "HBoxModel",
      "state": {
       "_dom_classes": [],
       "_model_module": "@jupyter-widgets/controls",
       "_model_module_version": "1.5.0",
       "_model_name": "HBoxModel",
       "_view_count": null,
       "_view_module": "@jupyter-widgets/controls",
       "_view_module_version": "1.5.0",
       "_view_name": "HBoxView",
       "box_style": "",
       "children": [
        "IPY_MODEL_47d55e20942a4384b6c3746e85587e6c",
        "IPY_MODEL_4c70c48583f047a483544e3f00ba474b",
        "IPY_MODEL_d65574fe24d64fcd8bf1132eb0472e0d"
       ],
       "layout": "IPY_MODEL_40c32bb2a3e34dfa8cb8882e3cd0a50c"
      }
     },
     "9a535972006a47008e7b2a9725b10c03": {
      "model_module": "@jupyter-widgets/controls",
      "model_module_version": "1.5.0",
      "model_name": "DescriptionStyleModel",
      "state": {
       "_model_module": "@jupyter-widgets/controls",
       "_model_module_version": "1.5.0",
       "_model_name": "DescriptionStyleModel",
       "_view_count": null,
       "_view_module": "@jupyter-widgets/base",
       "_view_module_version": "1.2.0",
       "_view_name": "StyleView",
       "description_width": ""
      }
     },
     "9b4b7414d272448087ef0e1b71130f55": {
      "model_module": "@jupyter-widgets/base",
      "model_module_version": "1.2.0",
      "model_name": "LayoutModel",
      "state": {
       "_model_module": "@jupyter-widgets/base",
       "_model_module_version": "1.2.0",
       "_model_name": "LayoutModel",
       "_view_count": null,
       "_view_module": "@jupyter-widgets/base",
       "_view_module_version": "1.2.0",
       "_view_name": "LayoutView",
       "align_content": null,
       "align_items": null,
       "align_self": null,
       "border": null,
       "bottom": null,
       "display": null,
       "flex": null,
       "flex_flow": null,
       "grid_area": null,
       "grid_auto_columns": null,
       "grid_auto_flow": null,
       "grid_auto_rows": null,
       "grid_column": null,
       "grid_gap": null,
       "grid_row": null,
       "grid_template_areas": null,
       "grid_template_columns": null,
       "grid_template_rows": null,
       "height": null,
       "justify_content": null,
       "justify_items": null,
       "left": null,
       "margin": null,
       "max_height": null,
       "max_width": null,
       "min_height": null,
       "min_width": null,
       "object_fit": null,
       "object_position": null,
       "order": null,
       "overflow": null,
       "overflow_x": null,
       "overflow_y": null,
       "padding": null,
       "right": null,
       "top": null,
       "visibility": null,
       "width": null
      }
     },
     "a0a6fa14e3e94d9cbb87cbb0f817fd9c": {
      "model_module": "@jupyter-widgets/base",
      "model_module_version": "1.2.0",
      "model_name": "LayoutModel",
      "state": {
       "_model_module": "@jupyter-widgets/base",
       "_model_module_version": "1.2.0",
       "_model_name": "LayoutModel",
       "_view_count": null,
       "_view_module": "@jupyter-widgets/base",
       "_view_module_version": "1.2.0",
       "_view_name": "LayoutView",
       "align_content": null,
       "align_items": null,
       "align_self": null,
       "border": null,
       "bottom": null,
       "display": null,
       "flex": null,
       "flex_flow": null,
       "grid_area": null,
       "grid_auto_columns": null,
       "grid_auto_flow": null,
       "grid_auto_rows": null,
       "grid_column": null,
       "grid_gap": null,
       "grid_row": null,
       "grid_template_areas": null,
       "grid_template_columns": null,
       "grid_template_rows": null,
       "height": null,
       "justify_content": null,
       "justify_items": null,
       "left": null,
       "margin": null,
       "max_height": null,
       "max_width": null,
       "min_height": null,
       "min_width": null,
       "object_fit": null,
       "object_position": null,
       "order": null,
       "overflow": null,
       "overflow_x": null,
       "overflow_y": null,
       "padding": null,
       "right": null,
       "top": null,
       "visibility": null,
       "width": null
      }
     },
     "a5c1df0ca5844c26a888313912d47320": {
      "model_module": "@jupyter-widgets/controls",
      "model_module_version": "1.5.0",
      "model_name": "ProgressStyleModel",
      "state": {
       "_model_module": "@jupyter-widgets/controls",
       "_model_module_version": "1.5.0",
       "_model_name": "ProgressStyleModel",
       "_view_count": null,
       "_view_module": "@jupyter-widgets/base",
       "_view_module_version": "1.2.0",
       "_view_name": "StyleView",
       "bar_color": null,
       "description_width": ""
      }
     },
     "a6fcdb0f529b423dabe080acd0ff701e": {
      "model_module": "@jupyter-widgets/controls",
      "model_module_version": "1.5.0",
      "model_name": "FloatProgressModel",
      "state": {
       "_dom_classes": [],
       "_model_module": "@jupyter-widgets/controls",
       "_model_module_version": "1.5.0",
       "_model_name": "FloatProgressModel",
       "_view_count": null,
       "_view_module": "@jupyter-widgets/controls",
       "_view_module_version": "1.5.0",
       "_view_name": "ProgressView",
       "bar_style": "success",
       "description": "",
       "description_tooltip": null,
       "layout": "IPY_MODEL_291e37771428448e842eea7c81e575e9",
       "max": 1629486723,
       "min": 0,
       "orientation": "horizontal",
       "style": "IPY_MODEL_a5c1df0ca5844c26a888313912d47320",
       "value": 1629486723
      }
     },
     "a8a4dfb63b654d1c92c121357962ae91": {
      "model_module": "@jupyter-widgets/controls",
      "model_module_version": "1.5.0",
      "model_name": "DescriptionStyleModel",
      "state": {
       "_model_module": "@jupyter-widgets/controls",
       "_model_module_version": "1.5.0",
       "_model_name": "DescriptionStyleModel",
       "_view_count": null,
       "_view_module": "@jupyter-widgets/base",
       "_view_module_version": "1.2.0",
       "_view_name": "StyleView",
       "description_width": ""
      }
     },
     "ad09f15aae324b0b85bbdf2ca6c2b3bc": {
      "model_module": "@jupyter-widgets/controls",
      "model_module_version": "1.5.0",
      "model_name": "HBoxModel",
      "state": {
       "_dom_classes": [],
       "_model_module": "@jupyter-widgets/controls",
       "_model_module_version": "1.5.0",
       "_model_name": "HBoxModel",
       "_view_count": null,
       "_view_module": "@jupyter-widgets/controls",
       "_view_module_version": "1.5.0",
       "_view_name": "HBoxView",
       "box_style": "",
       "children": [
        "IPY_MODEL_deac212c689f45169fd118d4b482aba5",
        "IPY_MODEL_a6fcdb0f529b423dabe080acd0ff701e",
        "IPY_MODEL_431c39778ed549a0b47c5ad3a673fa14"
       ],
       "layout": "IPY_MODEL_108a69f55beb4bb2ad2ad75935dd49fc"
      }
     },
     "b16a07cb336b4fa69ef0e8ba8e157aae": {
      "model_module": "@jupyter-widgets/controls",
      "model_module_version": "1.5.0",
      "model_name": "DescriptionStyleModel",
      "state": {
       "_model_module": "@jupyter-widgets/controls",
       "_model_module_version": "1.5.0",
       "_model_name": "DescriptionStyleModel",
       "_view_count": null,
       "_view_module": "@jupyter-widgets/base",
       "_view_module_version": "1.2.0",
       "_view_name": "StyleView",
       "description_width": ""
      }
     },
     "b1ad4b34b26245ba8fbcb237e1ae60e3": {
      "model_module": "@jupyter-widgets/controls",
      "model_module_version": "1.5.0",
      "model_name": "ProgressStyleModel",
      "state": {
       "_model_module": "@jupyter-widgets/controls",
       "_model_module_version": "1.5.0",
       "_model_name": "ProgressStyleModel",
       "_view_count": null,
       "_view_module": "@jupyter-widgets/base",
       "_view_module_version": "1.2.0",
       "_view_name": "StyleView",
       "bar_color": null,
       "description_width": ""
      }
     },
     "b6955449eec646e899a68a7200991799": {
      "model_module": "@jupyter-widgets/controls",
      "model_module_version": "1.5.0",
      "model_name": "HBoxModel",
      "state": {
       "_dom_classes": [],
       "_model_module": "@jupyter-widgets/controls",
       "_model_module_version": "1.5.0",
       "_model_name": "HBoxModel",
       "_view_count": null,
       "_view_module": "@jupyter-widgets/controls",
       "_view_module_version": "1.5.0",
       "_view_name": "HBoxView",
       "box_style": "",
       "children": [
        "IPY_MODEL_d0603b7696fe4664b57a25d19068a54f",
        "IPY_MODEL_ba11f11f676b48d4acf16f741892f698",
        "IPY_MODEL_0dc5de064f234083a0ddc6168e9dbedf"
       ],
       "layout": "IPY_MODEL_bbef798f64a546409249ef4f8aee9afd"
      }
     },
     "b749a5420e44485aa0f3665ddbccfa7f": {
      "model_module": "@jupyter-widgets/base",
      "model_module_version": "1.2.0",
      "model_name": "LayoutModel",
      "state": {
       "_model_module": "@jupyter-widgets/base",
       "_model_module_version": "1.2.0",
       "_model_name": "LayoutModel",
       "_view_count": null,
       "_view_module": "@jupyter-widgets/base",
       "_view_module_version": "1.2.0",
       "_view_name": "LayoutView",
       "align_content": null,
       "align_items": null,
       "align_self": null,
       "border": null,
       "bottom": null,
       "display": null,
       "flex": null,
       "flex_flow": null,
       "grid_area": null,
       "grid_auto_columns": null,
       "grid_auto_flow": null,
       "grid_auto_rows": null,
       "grid_column": null,
       "grid_gap": null,
       "grid_row": null,
       "grid_template_areas": null,
       "grid_template_columns": null,
       "grid_template_rows": null,
       "height": null,
       "justify_content": null,
       "justify_items": null,
       "left": null,
       "margin": null,
       "max_height": null,
       "max_width": null,
       "min_height": null,
       "min_width": null,
       "object_fit": null,
       "object_position": null,
       "order": null,
       "overflow": null,
       "overflow_x": null,
       "overflow_y": null,
       "padding": null,
       "right": null,
       "top": null,
       "visibility": null,
       "width": null
      }
     },
     "ba11f11f676b48d4acf16f741892f698": {
      "model_module": "@jupyter-widgets/controls",
      "model_module_version": "1.5.0",
      "model_name": "FloatProgressModel",
      "state": {
       "_dom_classes": [],
       "_model_module": "@jupyter-widgets/controls",
       "_model_module_version": "1.5.0",
       "_model_name": "FloatProgressModel",
       "_view_count": null,
       "_view_module": "@jupyter-widgets/controls",
       "_view_module_version": "1.5.0",
       "_view_name": "ProgressView",
       "bar_style": "success",
       "description": "",
       "description_tooltip": null,
       "layout": "IPY_MODEL_bd93e95398904915b6b274ed907e392b",
       "max": 1355863,
       "min": 0,
       "orientation": "horizontal",
       "style": "IPY_MODEL_ea62be4dfbd54bcd98404698f85a20cd",
       "value": 1355863
      }
     },
     "ba9c2c3b395b42289784a3b2852dca11": {
      "model_module": "@jupyter-widgets/controls",
      "model_module_version": "1.5.0",
      "model_name": "FloatProgressModel",
      "state": {
       "_dom_classes": [],
       "_model_module": "@jupyter-widgets/controls",
       "_model_module_version": "1.5.0",
       "_model_name": "FloatProgressModel",
       "_view_count": null,
       "_view_module": "@jupyter-widgets/controls",
       "_view_module_version": "1.5.0",
       "_view_name": "ProgressView",
       "bar_style": "success",
       "description": "",
       "description_tooltip": null,
       "layout": "IPY_MODEL_b749a5420e44485aa0f3665ddbccfa7f",
       "max": 26,
       "min": 0,
       "orientation": "horizontal",
       "style": "IPY_MODEL_e9a7eebb0fc94b04b89543170d8cddc2",
       "value": 26
      }
     },
     "bbef798f64a546409249ef4f8aee9afd": {
      "model_module": "@jupyter-widgets/base",
      "model_module_version": "1.2.0",
      "model_name": "LayoutModel",
      "state": {
       "_model_module": "@jupyter-widgets/base",
       "_model_module_version": "1.2.0",
       "_model_name": "LayoutModel",
       "_view_count": null,
       "_view_module": "@jupyter-widgets/base",
       "_view_module_version": "1.2.0",
       "_view_name": "LayoutView",
       "align_content": null,
       "align_items": null,
       "align_self": null,
       "border": null,
       "bottom": null,
       "display": null,
       "flex": null,
       "flex_flow": null,
       "grid_area": null,
       "grid_auto_columns": null,
       "grid_auto_flow": null,
       "grid_auto_rows": null,
       "grid_column": null,
       "grid_gap": null,
       "grid_row": null,
       "grid_template_areas": null,
       "grid_template_columns": null,
       "grid_template_rows": null,
       "height": null,
       "justify_content": null,
       "justify_items": null,
       "left": null,
       "margin": null,
       "max_height": null,
       "max_width": null,
       "min_height": null,
       "min_width": null,
       "object_fit": null,
       "object_position": null,
       "order": null,
       "overflow": null,
       "overflow_x": null,
       "overflow_y": null,
       "padding": null,
       "right": null,
       "top": null,
       "visibility": null,
       "width": null
      }
     },
     "bd93e95398904915b6b274ed907e392b": {
      "model_module": "@jupyter-widgets/base",
      "model_module_version": "1.2.0",
      "model_name": "LayoutModel",
      "state": {
       "_model_module": "@jupyter-widgets/base",
       "_model_module_version": "1.2.0",
       "_model_name": "LayoutModel",
       "_view_count": null,
       "_view_module": "@jupyter-widgets/base",
       "_view_module_version": "1.2.0",
       "_view_name": "LayoutView",
       "align_content": null,
       "align_items": null,
       "align_self": null,
       "border": null,
       "bottom": null,
       "display": null,
       "flex": null,
       "flex_flow": null,
       "grid_area": null,
       "grid_auto_columns": null,
       "grid_auto_flow": null,
       "grid_auto_rows": null,
       "grid_column": null,
       "grid_gap": null,
       "grid_row": null,
       "grid_template_areas": null,
       "grid_template_columns": null,
       "grid_template_rows": null,
       "height": null,
       "justify_content": null,
       "justify_items": null,
       "left": null,
       "margin": null,
       "max_height": null,
       "max_width": null,
       "min_height": null,
       "min_width": null,
       "object_fit": null,
       "object_position": null,
       "order": null,
       "overflow": null,
       "overflow_x": null,
       "overflow_y": null,
       "padding": null,
       "right": null,
       "top": null,
       "visibility": null,
       "width": null
      }
     },
     "c5f92f3d741c44728e8a78677192f65f": {
      "model_module": "@jupyter-widgets/controls",
      "model_module_version": "1.5.0",
      "model_name": "DescriptionStyleModel",
      "state": {
       "_model_module": "@jupyter-widgets/controls",
       "_model_module_version": "1.5.0",
       "_model_name": "DescriptionStyleModel",
       "_view_count": null,
       "_view_module": "@jupyter-widgets/base",
       "_view_module_version": "1.2.0",
       "_view_name": "StyleView",
       "description_width": ""
      }
     },
     "d0603b7696fe4664b57a25d19068a54f": {
      "model_module": "@jupyter-widgets/controls",
      "model_module_version": "1.5.0",
      "model_name": "HTMLModel",
      "state": {
       "_dom_classes": [],
       "_model_module": "@jupyter-widgets/controls",
       "_model_module_version": "1.5.0",
       "_model_name": "HTMLModel",
       "_view_count": null,
       "_view_module": "@jupyter-widgets/controls",
       "_view_module_version": "1.5.0",
       "_view_name": "HTMLView",
       "description": "",
       "description_tooltip": null,
       "layout": "IPY_MODEL_ed36f54d5de54ea0a1fa05812b7576c2",
       "placeholder": "​",
       "style": "IPY_MODEL_df5bed215c684db79d15d781cd745c54",
       "value": "Downloading: 100%"
      }
     },
     "d65574fe24d64fcd8bf1132eb0472e0d": {
      "model_module": "@jupyter-widgets/controls",
      "model_module_version": "1.5.0",
      "model_name": "HTMLModel",
      "state": {
       "_dom_classes": [],
       "_model_module": "@jupyter-widgets/controls",
       "_model_module_version": "1.5.0",
       "_model_name": "HTMLModel",
       "_view_count": null,
       "_view_module": "@jupyter-widgets/controls",
       "_view_module_version": "1.5.0",
       "_view_name": "HTMLView",
       "description": "",
       "description_tooltip": null,
       "layout": "IPY_MODEL_594f983fd55c4ce79be1fe0a41f2a46b",
       "placeholder": "​",
       "style": "IPY_MODEL_8adbe42520f84c468f7071f3e1ae61b5",
       "value": " 1.13k/1.13k [00:00&lt;00:00, 31.6kB/s]"
      }
     },
     "daaf7d586ef94dc5b3f51014c8aa2468": {
      "model_module": "@jupyter-widgets/controls",
      "model_module_version": "1.5.0",
      "model_name": "DescriptionStyleModel",
      "state": {
       "_model_module": "@jupyter-widgets/controls",
       "_model_module_version": "1.5.0",
       "_model_name": "DescriptionStyleModel",
       "_view_count": null,
       "_view_module": "@jupyter-widgets/base",
       "_view_module_version": "1.2.0",
       "_view_name": "StyleView",
       "description_width": ""
      }
     },
     "deac212c689f45169fd118d4b482aba5": {
      "model_module": "@jupyter-widgets/controls",
      "model_module_version": "1.5.0",
      "model_name": "HTMLModel",
      "state": {
       "_dom_classes": [],
       "_model_module": "@jupyter-widgets/controls",
       "_model_module_version": "1.5.0",
       "_model_name": "HTMLModel",
       "_view_count": null,
       "_view_module": "@jupyter-widgets/controls",
       "_view_module_version": "1.5.0",
       "_view_name": "HTMLView",
       "description": "",
       "description_tooltip": null,
       "layout": "IPY_MODEL_9b4b7414d272448087ef0e1b71130f55",
       "placeholder": "​",
       "style": "IPY_MODEL_e8b6c84f595e40e09fefe15c56e0ba98",
       "value": "Downloading: 100%"
      }
     },
     "df3eaa90ece34510887be6c48d05fa6b": {
      "model_module": "@jupyter-widgets/controls",
      "model_module_version": "1.5.0",
      "model_name": "ProgressStyleModel",
      "state": {
       "_model_module": "@jupyter-widgets/controls",
       "_model_module_version": "1.5.0",
       "_model_name": "ProgressStyleModel",
       "_view_count": null,
       "_view_module": "@jupyter-widgets/base",
       "_view_module_version": "1.2.0",
       "_view_name": "StyleView",
       "bar_color": null,
       "description_width": ""
      }
     },
     "df5bed215c684db79d15d781cd745c54": {
      "model_module": "@jupyter-widgets/controls",
      "model_module_version": "1.5.0",
      "model_name": "DescriptionStyleModel",
      "state": {
       "_model_module": "@jupyter-widgets/controls",
       "_model_module_version": "1.5.0",
       "_model_name": "DescriptionStyleModel",
       "_view_count": null,
       "_view_module": "@jupyter-widgets/base",
       "_view_module_version": "1.2.0",
       "_view_name": "StyleView",
       "description_width": ""
      }
     },
     "e163104cb48942e6ba94534e7890be06": {
      "model_module": "@jupyter-widgets/controls",
      "model_module_version": "1.5.0",
      "model_name": "FloatProgressModel",
      "state": {
       "_dom_classes": [],
       "_model_module": "@jupyter-widgets/controls",
       "_model_module_version": "1.5.0",
       "_model_name": "FloatProgressModel",
       "_view_count": null,
       "_view_module": "@jupyter-widgets/controls",
       "_view_module_version": "1.5.0",
       "_view_name": "ProgressView",
       "bar_style": "success",
       "description": "",
       "description_tooltip": null,
       "layout": "IPY_MODEL_0f282b1c135a4583a2f9eb496e20185d",
       "max": 456318,
       "min": 0,
       "orientation": "horizontal",
       "style": "IPY_MODEL_b1ad4b34b26245ba8fbcb237e1ae60e3",
       "value": 456318
      }
     },
     "e8b6c84f595e40e09fefe15c56e0ba98": {
      "model_module": "@jupyter-widgets/controls",
      "model_module_version": "1.5.0",
      "model_name": "DescriptionStyleModel",
      "state": {
       "_model_module": "@jupyter-widgets/controls",
       "_model_module_version": "1.5.0",
       "_model_name": "DescriptionStyleModel",
       "_view_count": null,
       "_view_module": "@jupyter-widgets/base",
       "_view_module_version": "1.2.0",
       "_view_name": "StyleView",
       "description_width": ""
      }
     },
     "e9a7eebb0fc94b04b89543170d8cddc2": {
      "model_module": "@jupyter-widgets/controls",
      "model_module_version": "1.5.0",
      "model_name": "ProgressStyleModel",
      "state": {
       "_model_module": "@jupyter-widgets/controls",
       "_model_module_version": "1.5.0",
       "_model_name": "ProgressStyleModel",
       "_view_count": null,
       "_view_module": "@jupyter-widgets/base",
       "_view_module_version": "1.2.0",
       "_view_name": "StyleView",
       "bar_color": null,
       "description_width": ""
      }
     },
     "ea62be4dfbd54bcd98404698f85a20cd": {
      "model_module": "@jupyter-widgets/controls",
      "model_module_version": "1.5.0",
      "model_name": "ProgressStyleModel",
      "state": {
       "_model_module": "@jupyter-widgets/controls",
       "_model_module_version": "1.5.0",
       "_model_name": "ProgressStyleModel",
       "_view_count": null,
       "_view_module": "@jupyter-widgets/base",
       "_view_module_version": "1.2.0",
       "_view_name": "StyleView",
       "bar_color": null,
       "description_width": ""
      }
     },
     "eb1fb674fef34f30ad28f15efd0b94bb": {
      "model_module": "@jupyter-widgets/controls",
      "model_module_version": "1.5.0",
      "model_name": "DescriptionStyleModel",
      "state": {
       "_model_module": "@jupyter-widgets/controls",
       "_model_module_version": "1.5.0",
       "_model_name": "DescriptionStyleModel",
       "_view_count": null,
       "_view_module": "@jupyter-widgets/base",
       "_view_module_version": "1.2.0",
       "_view_name": "StyleView",
       "description_width": ""
      }
     },
     "eb50c3a6351143c28e222bcb6c22a381": {
      "model_module": "@jupyter-widgets/base",
      "model_module_version": "1.2.0",
      "model_name": "LayoutModel",
      "state": {
       "_model_module": "@jupyter-widgets/base",
       "_model_module_version": "1.2.0",
       "_model_name": "LayoutModel",
       "_view_count": null,
       "_view_module": "@jupyter-widgets/base",
       "_view_module_version": "1.2.0",
       "_view_name": "LayoutView",
       "align_content": null,
       "align_items": null,
       "align_self": null,
       "border": null,
       "bottom": null,
       "display": null,
       "flex": null,
       "flex_flow": null,
       "grid_area": null,
       "grid_auto_columns": null,
       "grid_auto_flow": null,
       "grid_auto_rows": null,
       "grid_column": null,
       "grid_gap": null,
       "grid_row": null,
       "grid_template_areas": null,
       "grid_template_columns": null,
       "grid_template_rows": null,
       "height": null,
       "justify_content": null,
       "justify_items": null,
       "left": null,
       "margin": null,
       "max_height": null,
       "max_width": null,
       "min_height": null,
       "min_width": null,
       "object_fit": null,
       "object_position": null,
       "order": null,
       "overflow": null,
       "overflow_x": null,
       "overflow_y": null,
       "padding": null,
       "right": null,
       "top": null,
       "visibility": null,
       "width": null
      }
     },
     "ec007d24db9140b1ad719a11edf2e6ac": {
      "model_module": "@jupyter-widgets/controls",
      "model_module_version": "1.5.0",
      "model_name": "DescriptionStyleModel",
      "state": {
       "_model_module": "@jupyter-widgets/controls",
       "_model_module_version": "1.5.0",
       "_model_name": "DescriptionStyleModel",
       "_view_count": null,
       "_view_module": "@jupyter-widgets/base",
       "_view_module_version": "1.2.0",
       "_view_name": "StyleView",
       "description_width": ""
      }
     },
     "ed36f54d5de54ea0a1fa05812b7576c2": {
      "model_module": "@jupyter-widgets/base",
      "model_module_version": "1.2.0",
      "model_name": "LayoutModel",
      "state": {
       "_model_module": "@jupyter-widgets/base",
       "_model_module_version": "1.2.0",
       "_model_name": "LayoutModel",
       "_view_count": null,
       "_view_module": "@jupyter-widgets/base",
       "_view_module_version": "1.2.0",
       "_view_name": "LayoutView",
       "align_content": null,
       "align_items": null,
       "align_self": null,
       "border": null,
       "bottom": null,
       "display": null,
       "flex": null,
       "flex_flow": null,
       "grid_area": null,
       "grid_auto_columns": null,
       "grid_auto_flow": null,
       "grid_auto_rows": null,
       "grid_column": null,
       "grid_gap": null,
       "grid_row": null,
       "grid_template_areas": null,
       "grid_template_columns": null,
       "grid_template_rows": null,
       "height": null,
       "justify_content": null,
       "justify_items": null,
       "left": null,
       "margin": null,
       "max_height": null,
       "max_width": null,
       "min_height": null,
       "min_width": null,
       "object_fit": null,
       "object_position": null,
       "order": null,
       "overflow": null,
       "overflow_x": null,
       "overflow_y": null,
       "padding": null,
       "right": null,
       "top": null,
       "visibility": null,
       "width": null
      }
     },
     "f609f8ca89254a55b32730527dcbc1a2": {
      "model_module": "@jupyter-widgets/base",
      "model_module_version": "1.2.0",
      "model_name": "LayoutModel",
      "state": {
       "_model_module": "@jupyter-widgets/base",
       "_model_module_version": "1.2.0",
       "_model_name": "LayoutModel",
       "_view_count": null,
       "_view_module": "@jupyter-widgets/base",
       "_view_module_version": "1.2.0",
       "_view_name": "LayoutView",
       "align_content": null,
       "align_items": null,
       "align_self": null,
       "border": null,
       "bottom": null,
       "display": null,
       "flex": null,
       "flex_flow": null,
       "grid_area": null,
       "grid_auto_columns": null,
       "grid_auto_flow": null,
       "grid_auto_rows": null,
       "grid_column": null,
       "grid_gap": null,
       "grid_row": null,
       "grid_template_areas": null,
       "grid_template_columns": null,
       "grid_template_rows": null,
       "height": null,
       "justify_content": null,
       "justify_items": null,
       "left": null,
       "margin": null,
       "max_height": null,
       "max_width": null,
       "min_height": null,
       "min_width": null,
       "object_fit": null,
       "object_position": null,
       "order": null,
       "overflow": null,
       "overflow_x": null,
       "overflow_y": null,
       "padding": null,
       "right": null,
       "top": null,
       "visibility": null,
       "width": null
      }
     },
     "f662931b22fa4412bafc16e73a2bf4f2": {
      "model_module": "@jupyter-widgets/controls",
      "model_module_version": "1.5.0",
      "model_name": "HBoxModel",
      "state": {
       "_dom_classes": [],
       "_model_module": "@jupyter-widgets/controls",
       "_model_module_version": "1.5.0",
       "_model_name": "HBoxModel",
       "_view_count": null,
       "_view_module": "@jupyter-widgets/controls",
       "_view_module_version": "1.5.0",
       "_view_name": "HBoxView",
       "box_style": "",
       "children": [
        "IPY_MODEL_4ac07faf89004b5282e77c6f8708c72b",
        "IPY_MODEL_e163104cb48942e6ba94534e7890be06",
        "IPY_MODEL_7b778d628fdb4c9dbcdb3c38f0f5adff"
       ],
       "layout": "IPY_MODEL_6d18ad9381ec478ab0443529528b7788"
      }
     },
     "fb3ef24fd2ac4afb86090d412310dd42": {
      "model_module": "@jupyter-widgets/controls",
      "model_module_version": "1.5.0",
      "model_name": "DescriptionStyleModel",
      "state": {
       "_model_module": "@jupyter-widgets/controls",
       "_model_module_version": "1.5.0",
       "_model_name": "DescriptionStyleModel",
       "_view_count": null,
       "_view_module": "@jupyter-widgets/base",
       "_view_module_version": "1.2.0",
       "_view_name": "StyleView",
       "description_width": ""
      }
     },
     "fed8768069e9441494409c4ad2013cf0": {
      "model_module": "@jupyter-widgets/base",
      "model_module_version": "1.2.0",
      "model_name": "LayoutModel",
      "state": {
       "_model_module": "@jupyter-widgets/base",
       "_model_module_version": "1.2.0",
       "_model_name": "LayoutModel",
       "_view_count": null,
       "_view_module": "@jupyter-widgets/base",
       "_view_module_version": "1.2.0",
       "_view_name": "LayoutView",
       "align_content": null,
       "align_items": null,
       "align_self": null,
       "border": null,
       "bottom": null,
       "display": null,
       "flex": null,
       "flex_flow": null,
       "grid_area": null,
       "grid_auto_columns": null,
       "grid_auto_flow": null,
       "grid_auto_rows": null,
       "grid_column": null,
       "grid_gap": null,
       "grid_row": null,
       "grid_template_areas": null,
       "grid_template_columns": null,
       "grid_template_rows": null,
       "height": null,
       "justify_content": null,
       "justify_items": null,
       "left": null,
       "margin": null,
       "max_height": null,
       "max_width": null,
       "min_height": null,
       "min_width": null,
       "object_fit": null,
       "object_position": null,
       "order": null,
       "overflow": null,
       "overflow_x": null,
       "overflow_y": null,
       "padding": null,
       "right": null,
       "top": null,
       "visibility": null,
       "width": null
      }
     }
    },
    "version_major": 2,
    "version_minor": 0
   }
  }
 },
 "nbformat": 4,
 "nbformat_minor": 5
}

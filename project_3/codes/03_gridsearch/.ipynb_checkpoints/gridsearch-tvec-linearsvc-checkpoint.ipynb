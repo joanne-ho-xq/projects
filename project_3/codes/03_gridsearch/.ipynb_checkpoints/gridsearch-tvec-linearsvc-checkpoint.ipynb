{
 "cells": [
  {
   "cell_type": "markdown",
   "id": "eeaec779-45cb-45dc-b796-f830d2a47c95",
   "metadata": {},
   "source": [
    "The following codes were ran on Kaggle in an attempt to find the best hyperparameters for the model with TfidfVectorizer and LinearSVC classifier based after the notebook on [model tuning](../02_model_tuning.ipynb)."
   ]
  },
  {
   "cell_type": "code",
   "execution_count": 1,
   "id": "7821d29b",
   "metadata": {
    "_cell_guid": "b1076dfc-b9ad-4769-8c92-a6c4dae69d19",
    "_uuid": "8f2839f25d086af736a60e9eeb907d3b93b6e0e5",
    "papermill": {
     "duration": 1.377431,
     "end_time": "2023-01-23T03:02:41.516639",
     "exception": false,
     "start_time": "2023-01-23T03:02:40.139208",
     "status": "completed"
    },
    "tags": []
   },
   "outputs": [],
   "source": [
    "# Import libraries\n",
    "import pandas as pd\n",
    "import numpy as np\n",
    "import matplotlib.pyplot as plt\n",
    "import seaborn as sns\n",
    "from sklearn.model_selection import train_test_split, cross_val_score, GridSearchCV, StratifiedKFold\n",
    "from sklearn.pipeline import Pipeline # to compactly pack multiple modeling operations\n",
    "from sklearn.svm import LinearSVC # to build our classification model\n",
    "from sklearn.metrics import confusion_matrix, ConfusionMatrixDisplay, accuracy_score, RocCurveDisplay, roc_auc_score, recall_score, precision_score, f1_score, classification_report # to access results from binary classification task\n",
    " \n",
    "# Import CountVectorizer and TFIDFVectorizer from feature_extraction.text module in sklearn.\n",
    "from sklearn.feature_extraction.text import TfidfVectorizer "
   ]
  },
  {
   "cell_type": "code",
   "execution_count": 2,
   "id": "c71e5cec",
   "metadata": {
    "execution": {
     "iopub.execute_input": "2023-01-23T03:02:41.531173Z",
     "iopub.status.busy": "2023-01-23T03:02:41.530085Z",
     "iopub.status.idle": "2023-01-23T03:02:42.004927Z",
     "shell.execute_reply": "2023-01-23T03:02:42.003677Z"
    },
    "papermill": {
     "duration": 0.484785,
     "end_time": "2023-01-23T03:02:42.007730",
     "exception": false,
     "start_time": "2023-01-23T03:02:41.522945",
     "status": "completed"
    },
    "tags": []
   },
   "outputs": [
    {
     "name": "stdout",
     "output_type": "stream",
     "text": [
      "(27375, 4)\n"
     ]
    },
    {
     "data": {
      "text/html": [
       "<div>\n",
       "<style scoped>\n",
       "    .dataframe tbody tr th:only-of-type {\n",
       "        vertical-align: middle;\n",
       "    }\n",
       "\n",
       "    .dataframe tbody tr th {\n",
       "        vertical-align: top;\n",
       "    }\n",
       "\n",
       "    .dataframe thead th {\n",
       "        text-align: right;\n",
       "    }\n",
       "</style>\n",
       "<table border=\"1\" class=\"dataframe\">\n",
       "  <thead>\n",
       "    <tr style=\"text-align: right;\">\n",
       "      <th></th>\n",
       "      <th>title</th>\n",
       "      <th>link</th>\n",
       "      <th>reply</th>\n",
       "      <th>forum</th>\n",
       "    </tr>\n",
       "  </thead>\n",
       "  <tbody>\n",
       "    <tr>\n",
       "      <th>0</th>\n",
       "      <td>2020 Biz Class Amenity Kit</td>\n",
       "      <td>http://www.sqtalk.com/forum/forum/singapore-ai...</td>\n",
       "      <td>https://milelion.com/2020/09/30/conf...amenit...</td>\n",
       "      <td>amenity_catering_lounges</td>\n",
       "    </tr>\n",
       "    <tr>\n",
       "      <th>1</th>\n",
       "      <td>2020 Biz Class Amenity Kit</td>\n",
       "      <td>http://www.sqtalk.com/forum/forum/singapore-ai...</td>\n",
       "      <td>Originally posted by jammed View Post https:/...</td>\n",
       "      <td>amenity_catering_lounges</td>\n",
       "    </tr>\n",
       "    <tr>\n",
       "      <th>2</th>\n",
       "      <td>2020 Biz Class Amenity Kit</td>\n",
       "      <td>http://www.sqtalk.com/forum/forum/singapore-ai...</td>\n",
       "      <td>I’ll report back in 3 week’s time if they are...</td>\n",
       "      <td>amenity_catering_lounges</td>\n",
       "    </tr>\n",
       "  </tbody>\n",
       "</table>\n",
       "</div>"
      ],
      "text/plain": [
       "                        title  \\\n",
       "0  2020 Biz Class Amenity Kit   \n",
       "1  2020 Biz Class Amenity Kit   \n",
       "2  2020 Biz Class Amenity Kit   \n",
       "\n",
       "                                                link  \\\n",
       "0  http://www.sqtalk.com/forum/forum/singapore-ai...   \n",
       "1  http://www.sqtalk.com/forum/forum/singapore-ai...   \n",
       "2  http://www.sqtalk.com/forum/forum/singapore-ai...   \n",
       "\n",
       "                                               reply                     forum  \n",
       "0   https://milelion.com/2020/09/30/conf...amenit...  amenity_catering_lounges  \n",
       "1   Originally posted by jammed View Post https:/...  amenity_catering_lounges  \n",
       "2   I’ll report back in 3 week’s time if they are...  amenity_catering_lounges  "
      ]
     },
     "execution_count": 2,
     "metadata": {},
     "output_type": "execute_result"
    }
   ],
   "source": [
    "# Load dataset\n",
    "sq_forums = pd.read_csv('/kaggle/input/sq-forums/sq_forums.csv')\n",
    "print(sq_forums.shape)\n",
    "sq_forums.head(3)"
   ]
  },
  {
   "cell_type": "code",
   "execution_count": 3,
   "id": "0da70ba9",
   "metadata": {
    "execution": {
     "iopub.execute_input": "2023-01-23T03:02:42.022255Z",
     "iopub.status.busy": "2023-01-23T03:02:42.021811Z",
     "iopub.status.idle": "2023-01-23T03:02:42.045144Z",
     "shell.execute_reply": "2023-01-23T03:02:42.044038Z"
    },
    "papermill": {
     "duration": 0.033297,
     "end_time": "2023-01-23T03:02:42.047562",
     "exception": false,
     "start_time": "2023-01-23T03:02:42.014265",
     "status": "completed"
    },
    "tags": []
   },
   "outputs": [
    {
     "data": {
      "text/html": [
       "<div>\n",
       "<style scoped>\n",
       "    .dataframe tbody tr th:only-of-type {\n",
       "        vertical-align: middle;\n",
       "    }\n",
       "\n",
       "    .dataframe tbody tr th {\n",
       "        vertical-align: top;\n",
       "    }\n",
       "\n",
       "    .dataframe thead th {\n",
       "        text-align: right;\n",
       "    }\n",
       "</style>\n",
       "<table border=\"1\" class=\"dataframe\">\n",
       "  <thead>\n",
       "    <tr style=\"text-align: right;\">\n",
       "      <th></th>\n",
       "      <th>title</th>\n",
       "      <th>link</th>\n",
       "      <th>reply</th>\n",
       "      <th>forum</th>\n",
       "    </tr>\n",
       "  </thead>\n",
       "  <tbody>\n",
       "    <tr>\n",
       "      <th>0</th>\n",
       "      <td>2020 Biz Class Amenity Kit</td>\n",
       "      <td>http://www.sqtalk.com/forum/forum/singapore-ai...</td>\n",
       "      <td>https://milelion.com/2020/09/30/conf...amenit...</td>\n",
       "      <td>0</td>\n",
       "    </tr>\n",
       "    <tr>\n",
       "      <th>1</th>\n",
       "      <td>2020 Biz Class Amenity Kit</td>\n",
       "      <td>http://www.sqtalk.com/forum/forum/singapore-ai...</td>\n",
       "      <td>Originally posted by jammed View Post https:/...</td>\n",
       "      <td>0</td>\n",
       "    </tr>\n",
       "    <tr>\n",
       "      <th>2</th>\n",
       "      <td>2020 Biz Class Amenity Kit</td>\n",
       "      <td>http://www.sqtalk.com/forum/forum/singapore-ai...</td>\n",
       "      <td>I’ll report back in 3 week’s time if they are...</td>\n",
       "      <td>0</td>\n",
       "    </tr>\n",
       "  </tbody>\n",
       "</table>\n",
       "</div>"
      ],
      "text/plain": [
       "                        title  \\\n",
       "0  2020 Biz Class Amenity Kit   \n",
       "1  2020 Biz Class Amenity Kit   \n",
       "2  2020 Biz Class Amenity Kit   \n",
       "\n",
       "                                                link  \\\n",
       "0  http://www.sqtalk.com/forum/forum/singapore-ai...   \n",
       "1  http://www.sqtalk.com/forum/forum/singapore-ai...   \n",
       "2  http://www.sqtalk.com/forum/forum/singapore-ai...   \n",
       "\n",
       "                                               reply  forum  \n",
       "0   https://milelion.com/2020/09/30/conf...amenit...      0  \n",
       "1   Originally posted by jammed View Post https:/...      0  \n",
       "2   I’ll report back in 3 week’s time if they are...      0  "
      ]
     },
     "execution_count": 3,
     "metadata": {},
     "output_type": "execute_result"
    }
   ],
   "source": [
    "# Convert y response variable in 'forum' column to 0 for amenity_catering_lounges and 1 for krisflyer\n",
    "sq_forums['forum'] = sq_forums['forum'].map({'amenity_catering_lounges': 0, 'krisflyer': 1})\n",
    "sq_forums.head(3)"
   ]
  },
  {
   "cell_type": "code",
   "execution_count": 4,
   "id": "a635fa92",
   "metadata": {
    "execution": {
     "iopub.execute_input": "2023-01-23T03:02:42.061697Z",
     "iopub.status.busy": "2023-01-23T03:02:42.061267Z",
     "iopub.status.idle": "2023-01-23T03:02:42.066667Z",
     "shell.execute_reply": "2023-01-23T03:02:42.065609Z"
    },
    "papermill": {
     "duration": 0.014819,
     "end_time": "2023-01-23T03:02:42.068726",
     "exception": false,
     "start_time": "2023-01-23T03:02:42.053907",
     "status": "completed"
    },
    "tags": []
   },
   "outputs": [],
   "source": [
    "# Set data up for modelling\n",
    "X = sq_forums['reply']\n",
    "y = sq_forums['forum']"
   ]
  },
  {
   "cell_type": "code",
   "execution_count": 5,
   "id": "1f29eafe",
   "metadata": {
    "execution": {
     "iopub.execute_input": "2023-01-23T03:02:42.083204Z",
     "iopub.status.busy": "2023-01-23T03:02:42.082199Z",
     "iopub.status.idle": "2023-01-23T03:02:42.101914Z",
     "shell.execute_reply": "2023-01-23T03:02:42.100946Z"
    },
    "papermill": {
     "duration": 0.029803,
     "end_time": "2023-01-23T03:02:42.104684",
     "exception": false,
     "start_time": "2023-01-23T03:02:42.074881",
     "status": "completed"
    },
    "tags": []
   },
   "outputs": [],
   "source": [
    "# Split the data into the training and testing sets\n",
    "X_train, X_test, y_train, y_test = train_test_split(X,\n",
    "                                                    y,\n",
    "                                                    stratify=y,\n",
    "                                                    random_state=42)"
   ]
  },
  {
   "cell_type": "code",
   "execution_count": 6,
   "id": "dacd7c44",
   "metadata": {
    "execution": {
     "iopub.execute_input": "2023-01-23T03:02:42.118650Z",
     "iopub.status.busy": "2023-01-23T03:02:42.118232Z",
     "iopub.status.idle": "2023-01-23T03:02:42.124063Z",
     "shell.execute_reply": "2023-01-23T03:02:42.122918Z"
    },
    "papermill": {
     "duration": 0.015657,
     "end_time": "2023-01-23T03:02:42.126587",
     "exception": false,
     "start_time": "2023-01-23T03:02:42.110930",
     "status": "completed"
    },
    "tags": []
   },
   "outputs": [],
   "source": [
    "# Set up a pipeline with tf-idf vectorizer with default parameters and LinearSVC classifier\n",
    "# class_weight = 'balanced' to handle our data imbalance\n",
    "\n",
    "pipe_linearsvc = Pipeline([\n",
    "    ('tvec', TfidfVectorizer(stop_words='english')), \n",
    "    ('lsvc', LinearSVC(class_weight='balanced')) \n",
    "])"
   ]
  },
  {
   "cell_type": "code",
   "execution_count": 7,
   "id": "d71fc2d7",
   "metadata": {
    "execution": {
     "iopub.execute_input": "2023-01-23T03:02:42.140882Z",
     "iopub.status.busy": "2023-01-23T03:02:42.140426Z",
     "iopub.status.idle": "2023-01-23T03:02:42.146711Z",
     "shell.execute_reply": "2023-01-23T03:02:42.145548Z"
    },
    "papermill": {
     "duration": 0.016218,
     "end_time": "2023-01-23T03:02:42.149128",
     "exception": false,
     "start_time": "2023-01-23T03:02:42.132910",
     "status": "completed"
    },
    "tags": []
   },
   "outputs": [],
   "source": [
    "# Search over the following values of hyperparameters:\n",
    "# Maximum number of features fit: 2000, 3000, 4000, 5000\n",
    "# Minimum number of documents needed to include token: 1, 2, 3\n",
    "# Maximum number of documents needed to include token: 70%, 80%, 90%\n",
    "# Generate 10 random C values\n",
    "\n",
    "pipe_tvec_lsvc_params = {\n",
    "    'tvec__max_features': [2_000, 3_000, 4_000, 5_000],\n",
    "    'tvec__min_df': [1, 2, 3], # min 1, 2 or 3 documents needed to include token\n",
    "    'tvec__max_df': [.7, .8, .9], # max number of documents needed to include token\n",
    "    'lsvc__C': np.linspace(0.0001, 2, 10), # generate 10 random C values to GridSearch over\n",
    "}"
   ]
  },
  {
   "cell_type": "code",
   "execution_count": 8,
   "id": "c5b12b26",
   "metadata": {
    "execution": {
     "iopub.execute_input": "2023-01-23T03:02:42.164797Z",
     "iopub.status.busy": "2023-01-23T03:02:42.164343Z",
     "iopub.status.idle": "2023-01-23T03:02:42.170170Z",
     "shell.execute_reply": "2023-01-23T03:02:42.169077Z"
    },
    "papermill": {
     "duration": 0.017162,
     "end_time": "2023-01-23T03:02:42.172491",
     "exception": false,
     "start_time": "2023-01-23T03:02:42.155329",
     "status": "completed"
    },
    "tags": []
   },
   "outputs": [],
   "source": [
    "# Instantiate GridSearchCV using stratified kfold cv\n",
    "cv = StratifiedKFold(n_splits=5, shuffle=True, random_state=42)\n",
    "\n",
    "gs_tvec_lsvc = GridSearchCV(pipe_linearsvc, # the object that we are optimizing\n",
    "                  param_grid=pipe_tvec_lsvc_params, # parameters values to be searched\n",
    "                  cv=cv) # using stratified kfold cv"
   ]
  },
  {
   "cell_type": "code",
   "execution_count": 9,
   "id": "00f0ad94",
   "metadata": {
    "execution": {
     "iopub.execute_input": "2023-01-23T03:02:42.186834Z",
     "iopub.status.busy": "2023-01-23T03:02:42.186394Z",
     "iopub.status.idle": "2023-01-23T03:44:29.212692Z",
     "shell.execute_reply": "2023-01-23T03:44:29.211437Z"
    },
    "papermill": {
     "duration": 2507.039374,
     "end_time": "2023-01-23T03:44:29.218143",
     "exception": false,
     "start_time": "2023-01-23T03:02:42.178769",
     "status": "completed"
    },
    "tags": []
   },
   "outputs": [
    {
     "name": "stdout",
     "output_type": "stream",
     "text": [
      "CPU times: user 41min 45s, sys: 1.19 s, total: 41min 46s\n",
      "Wall time: 41min 47s\n"
     ]
    },
    {
     "data": {
      "text/plain": [
       "GridSearchCV(cv=StratifiedKFold(n_splits=5, random_state=42, shuffle=True),\n",
       "             estimator=Pipeline(steps=[('tvec',\n",
       "                                        TfidfVectorizer(stop_words='english')),\n",
       "                                       ('lsvc',\n",
       "                                        LinearSVC(class_weight='balanced'))]),\n",
       "             param_grid={'lsvc__C': array([1.00000000e-04, 2.22311111e-01, 4.44522222e-01, 6.66733333e-01,\n",
       "       8.88944444e-01, 1.11115556e+00, 1.33336667e+00, 1.55557778e+00,\n",
       "       1.77778889e+00, 2.00000000e+00]),\n",
       "                         'tvec__max_df': [0.7, 0.8, 0.9],\n",
       "                         'tvec__max_features': [2000, 3000, 4000, 5000],\n",
       "                         'tvec__min_df': [1, 2, 3]})"
      ]
     },
     "execution_count": 9,
     "metadata": {},
     "output_type": "execute_result"
    }
   ],
   "source": [
    "%%time\n",
    "# Fit GridSearch to training data\n",
    "gs_tvec_lsvc.fit(X_train, y_train)"
   ]
  },
  {
   "cell_type": "code",
   "execution_count": 10,
   "id": "025d78e0",
   "metadata": {
    "execution": {
     "iopub.execute_input": "2023-01-23T03:44:29.233430Z",
     "iopub.status.busy": "2023-01-23T03:44:29.233019Z",
     "iopub.status.idle": "2023-01-23T03:44:29.240312Z",
     "shell.execute_reply": "2023-01-23T03:44:29.239180Z"
    },
    "papermill": {
     "duration": 0.01753,
     "end_time": "2023-01-23T03:44:29.242686",
     "exception": false,
     "start_time": "2023-01-23T03:44:29.225156",
     "status": "completed"
    },
    "tags": []
   },
   "outputs": [
    {
     "data": {
      "text/plain": [
       "{'lsvc__C': 0.2223111111111111,\n",
       " 'tvec__max_df': 0.7,\n",
       " 'tvec__max_features': 5000,\n",
       " 'tvec__min_df': 2}"
      ]
     },
     "execution_count": 10,
     "metadata": {},
     "output_type": "execute_result"
    }
   ],
   "source": [
    "# See what hyperparameter combination yielded the best result\n",
    "gs_tvec_lsvc.best_params_ "
   ]
  },
  {
   "cell_type": "code",
   "execution_count": 11,
   "id": "82db9d3c",
   "metadata": {
    "execution": {
     "iopub.execute_input": "2023-01-23T03:44:29.257511Z",
     "iopub.status.busy": "2023-01-23T03:44:29.257110Z",
     "iopub.status.idle": "2023-01-23T03:44:29.262992Z",
     "shell.execute_reply": "2023-01-23T03:44:29.261595Z"
    },
    "papermill": {
     "duration": 0.015975,
     "end_time": "2023-01-23T03:44:29.265271",
     "exception": false,
     "start_time": "2023-01-23T03:44:29.249296",
     "status": "completed"
    },
    "tags": []
   },
   "outputs": [
    {
     "name": "stdout",
     "output_type": "stream",
     "text": [
      "0.906434015274078\n"
     ]
    }
   ],
   "source": [
    "# Find the mean cross-validated score of the best_estimator\n",
    "print(gs_tvec_lsvc.best_score_)"
   ]
  },
  {
   "cell_type": "code",
   "execution_count": 12,
   "id": "23dfc617",
   "metadata": {
    "execution": {
     "iopub.execute_input": "2023-01-23T03:44:29.280716Z",
     "iopub.status.busy": "2023-01-23T03:44:29.279493Z",
     "iopub.status.idle": "2023-01-23T03:44:30.523201Z",
     "shell.execute_reply": "2023-01-23T03:44:30.522032Z"
    },
    "papermill": {
     "duration": 1.253989,
     "end_time": "2023-01-23T03:44:30.525773",
     "exception": false,
     "start_time": "2023-01-23T03:44:29.271784",
     "status": "completed"
    },
    "tags": []
   },
   "outputs": [
    {
     "data": {
      "text/plain": [
       "0.9432078320588378"
      ]
     },
     "execution_count": 12,
     "metadata": {},
     "output_type": "execute_result"
    }
   ],
   "source": [
    "# Score model on training set.\n",
    "gs_tvec_lsvc.score(X_train, y_train)"
   ]
  },
  {
   "cell_type": "code",
   "execution_count": 13,
   "id": "fd86d36c",
   "metadata": {
    "execution": {
     "iopub.execute_input": "2023-01-23T03:44:30.541292Z",
     "iopub.status.busy": "2023-01-23T03:44:30.540901Z",
     "iopub.status.idle": "2023-01-23T03:44:30.958085Z",
     "shell.execute_reply": "2023-01-23T03:44:30.956881Z"
    },
    "papermill": {
     "duration": 0.427963,
     "end_time": "2023-01-23T03:44:30.960569",
     "exception": false,
     "start_time": "2023-01-23T03:44:30.532606",
     "status": "completed"
    },
    "tags": []
   },
   "outputs": [
    {
     "data": {
      "text/plain": [
       "0.9155464640561075"
      ]
     },
     "execution_count": 13,
     "metadata": {},
     "output_type": "execute_result"
    }
   ],
   "source": [
    "# Score model on testing set.\n",
    "gs_tvec_lsvc.score(X_test, y_test)"
   ]
  },
  {
   "cell_type": "code",
   "execution_count": 14,
   "id": "7de7c776",
   "metadata": {
    "execution": {
     "iopub.execute_input": "2023-01-23T03:44:30.976318Z",
     "iopub.status.busy": "2023-01-23T03:44:30.975898Z",
     "iopub.status.idle": "2023-01-23T03:44:31.391885Z",
     "shell.execute_reply": "2023-01-23T03:44:31.390619Z"
    },
    "papermill": {
     "duration": 0.426548,
     "end_time": "2023-01-23T03:44:31.394283",
     "exception": false,
     "start_time": "2023-01-23T03:44:30.967735",
     "status": "completed"
    },
    "tags": []
   },
   "outputs": [
    {
     "name": "stdout",
     "output_type": "stream",
     "text": [
      "[0 1 1 ... 1 1 0]\n"
     ]
    }
   ],
   "source": [
    "# Get predictions\n",
    "preds = gs_tvec_lsvc.predict(X_test)\n",
    "print(preds)"
   ]
  },
  {
   "cell_type": "code",
   "execution_count": 15,
   "id": "752c88da",
   "metadata": {
    "execution": {
     "iopub.execute_input": "2023-01-23T03:44:31.410405Z",
     "iopub.status.busy": "2023-01-23T03:44:31.409568Z",
     "iopub.status.idle": "2023-01-23T03:44:31.418591Z",
     "shell.execute_reply": "2023-01-23T03:44:31.417586Z"
    },
    "papermill": {
     "duration": 0.019465,
     "end_time": "2023-01-23T03:44:31.420845",
     "exception": false,
     "start_time": "2023-01-23T03:44:31.401380",
     "status": "completed"
    },
    "tags": []
   },
   "outputs": [
    {
     "data": {
      "text/plain": [
       "array([[2469,  234],\n",
       "       [ 344, 3797]])"
      ]
     },
     "execution_count": 15,
     "metadata": {},
     "output_type": "execute_result"
    }
   ],
   "source": [
    "# confusion matrix yields a 2-D array\n",
    "confusion_matrix(y_test, preds) "
   ]
  },
  {
   "cell_type": "code",
   "execution_count": 16,
   "id": "607bb994",
   "metadata": {
    "execution": {
     "iopub.execute_input": "2023-01-23T03:44:31.437717Z",
     "iopub.status.busy": "2023-01-23T03:44:31.436885Z",
     "iopub.status.idle": "2023-01-23T03:44:31.447501Z",
     "shell.execute_reply": "2023-01-23T03:44:31.445680Z"
    },
    "papermill": {
     "duration": 0.022477,
     "end_time": "2023-01-23T03:44:31.450578",
     "exception": false,
     "start_time": "2023-01-23T03:44:31.428101",
     "status": "completed"
    },
    "tags": []
   },
   "outputs": [
    {
     "name": "stdout",
     "output_type": "stream",
     "text": [
      "2469 234 344 3797\n"
     ]
    }
   ],
   "source": [
    "# ravel() to convert to 1-D and Save confusion matrix values\n",
    "tn, fp, fn, tp = confusion_matrix(y_test, preds).ravel()\n",
    "print(tn, fp, fn, tp)"
   ]
  },
  {
   "cell_type": "code",
   "execution_count": 17,
   "id": "76b6c1ca",
   "metadata": {
    "execution": {
     "iopub.execute_input": "2023-01-23T03:44:31.471104Z",
     "iopub.status.busy": "2023-01-23T03:44:31.470651Z",
     "iopub.status.idle": "2023-01-23T03:44:31.724714Z",
     "shell.execute_reply": "2023-01-23T03:44:31.723676Z"
    },
    "papermill": {
     "duration": 0.268009,
     "end_time": "2023-01-23T03:44:31.727053",
     "exception": false,
     "start_time": "2023-01-23T03:44:31.459044",
     "status": "completed"
    },
    "tags": []
   },
   "outputs": [
    {
     "data": {
      "image/png": "[encoded data removed]",
      "text/plain": [
       "<Figure size 432x288 with 2 Axes>"
      ]
     },
     "metadata": {
      "needs_background": "light"
     },
     "output_type": "display_data"
    }
   ],
   "source": [
    "# plot confusion matrix\n",
    "cm = confusion_matrix(y_test, preds)\n",
    "disp = ConfusionMatrixDisplay(confusion_matrix=cm, display_labels=['amenity_catering_lounges', 'krisflyer'])\n",
    "disp.plot();"
   ]
  },
  {
   "cell_type": "code",
   "execution_count": 18,
   "id": "b3cba79f",
   "metadata": {
    "execution": {
     "iopub.execute_input": "2023-01-23T03:44:31.745104Z",
     "iopub.status.busy": "2023-01-23T03:44:31.743967Z",
     "iopub.status.idle": "2023-01-23T03:44:31.752567Z",
     "shell.execute_reply": "2023-01-23T03:44:31.751670Z"
    },
    "papermill": {
     "duration": 0.019966,
     "end_time": "2023-01-23T03:44:31.754801",
     "exception": false,
     "start_time": "2023-01-23T03:44:31.734835",
     "status": "completed"
    },
    "tags": []
   },
   "outputs": [
    {
     "data": {
      "text/plain": [
       "'accuracy score = 0.9155464640561075'"
      ]
     },
     "execution_count": 18,
     "metadata": {},
     "output_type": "execute_result"
    }
   ],
   "source": [
    "# Find 'accuracy' score from sklearn metrics (same as test_score above)\n",
    "accuracy = accuracy_score(y_test, preds)\n",
    "f'accuracy score = {accuracy}'"
   ]
  },
  {
   "cell_type": "code",
   "execution_count": 19,
   "id": "f2d3e681",
   "metadata": {
    "execution": {
     "iopub.execute_input": "2023-01-23T03:44:31.773037Z",
     "iopub.status.busy": "2023-01-23T03:44:31.772562Z",
     "iopub.status.idle": "2023-01-23T03:44:31.783667Z",
     "shell.execute_reply": "2023-01-23T03:44:31.782700Z"
    },
    "papermill": {
     "duration": 0.022769,
     "end_time": "2023-01-23T03:44:31.785920",
     "exception": false,
     "start_time": "2023-01-23T03:44:31.763151",
     "status": "completed"
    },
    "tags": []
   },
   "outputs": [
    {
     "data": {
      "text/plain": [
       "'sensitivity score = 0.9169282781936731'"
      ]
     },
     "execution_count": 19,
     "metadata": {},
     "output_type": "execute_result"
    }
   ],
   "source": [
    "# Find 'sensitivity' score from sklearn metrics\n",
    "sensitivity = recall_score(y_test, preds)\n",
    "f'sensitivity score = {sensitivity}'"
   ]
  },
  {
   "cell_type": "code",
   "execution_count": 20,
   "id": "9ba69807",
   "metadata": {
    "execution": {
     "iopub.execute_input": "2023-01-23T03:44:31.804159Z",
     "iopub.status.busy": "2023-01-23T03:44:31.803242Z",
     "iopub.status.idle": "2023-01-23T03:44:31.814537Z",
     "shell.execute_reply": "2023-01-23T03:44:31.813662Z"
    },
    "papermill": {
     "duration": 0.022848,
     "end_time": "2023-01-23T03:44:31.816777",
     "exception": false,
     "start_time": "2023-01-23T03:44:31.793929",
     "status": "completed"
    },
    "tags": []
   },
   "outputs": [
    {
     "data": {
      "text/plain": [
       "'precision score = 0.9419498883651699'"
      ]
     },
     "execution_count": 20,
     "metadata": {},
     "output_type": "execute_result"
    }
   ],
   "source": [
    "# Find 'precision' score from sklearn metrics\n",
    "precision = precision_score(y_test, preds)\n",
    "f'precision score = {precision}'"
   ]
  },
  {
   "cell_type": "code",
   "execution_count": 21,
   "id": "376396f5",
   "metadata": {
    "execution": {
     "iopub.execute_input": "2023-01-23T03:44:31.835160Z",
     "iopub.status.busy": "2023-01-23T03:44:31.834406Z",
     "iopub.status.idle": "2023-01-23T03:44:31.845348Z",
     "shell.execute_reply": "2023-01-23T03:44:31.844407Z"
    },
    "papermill": {
     "duration": 0.022727,
     "end_time": "2023-01-23T03:44:31.847615",
     "exception": false,
     "start_time": "2023-01-23T03:44:31.824888",
     "status": "completed"
    },
    "tags": []
   },
   "outputs": [
    {
     "data": {
      "text/plain": [
       "'f1 score = 0.929270680372002'"
      ]
     },
     "execution_count": 21,
     "metadata": {},
     "output_type": "execute_result"
    }
   ],
   "source": [
    "# Find 'f1 score' from sklearn metrics\n",
    "f1_score = f1_score(y_test, preds)\n",
    "f'f1 score = {f1_score}'"
   ]
  },
  {
   "cell_type": "code",
   "execution_count": 22,
   "id": "d2879ce2",
   "metadata": {
    "execution": {
     "iopub.execute_input": "2023-01-23T03:44:31.866999Z",
     "iopub.status.busy": "2023-01-23T03:44:31.866257Z",
     "iopub.status.idle": "2023-01-23T03:44:31.887944Z",
     "shell.execute_reply": "2023-01-23T03:44:31.886524Z"
    },
    "papermill": {
     "duration": 0.034551,
     "end_time": "2023-01-23T03:44:31.890450",
     "exception": false,
     "start_time": "2023-01-23T03:44:31.855899",
     "status": "completed"
    },
    "tags": []
   },
   "outputs": [
    {
     "name": "stdout",
     "output_type": "stream",
     "text": [
      "              precision    recall  f1-score   support\n",
      "\n",
      "           0       0.88      0.91      0.90      2703\n",
      "           1       0.94      0.92      0.93      4141\n",
      "\n",
      "    accuracy                           0.92      6844\n",
      "   macro avg       0.91      0.92      0.91      6844\n",
      "weighted avg       0.92      0.92      0.92      6844\n",
      "\n"
     ]
    }
   ],
   "source": [
    "# Summarizing Precision, Sensitivity and F1-score\n",
    "print(classification_report(y_test, preds))"
   ]
  },
  {
   "cell_type": "code",
   "execution_count": 23,
   "id": "b2c682a1",
   "metadata": {
    "execution": {
     "iopub.execute_input": "2023-01-23T03:44:31.909495Z",
     "iopub.status.busy": "2023-01-23T03:44:31.908712Z",
     "iopub.status.idle": "2023-01-23T03:44:31.915788Z",
     "shell.execute_reply": "2023-01-23T03:44:31.914893Z"
    },
    "papermill": {
     "duration": 0.019102,
     "end_time": "2023-01-23T03:44:31.918000",
     "exception": false,
     "start_time": "2023-01-23T03:44:31.898898",
     "status": "completed"
    },
    "tags": []
   },
   "outputs": [
    {
     "data": {
      "text/plain": [
       "'specificity score = 0.9134295227524972'"
      ]
     },
     "execution_count": 23,
     "metadata": {},
     "output_type": "execute_result"
    }
   ],
   "source": [
    "# Find 'specificity score' \n",
    "specificity = tn / (tn + fp)\n",
    "f'specificity score = {specificity}'"
   ]
  },
  {
   "cell_type": "code",
   "execution_count": 24,
   "id": "37e5d662",
   "metadata": {
    "execution": {
     "iopub.execute_input": "2023-01-23T03:44:31.937314Z",
     "iopub.status.busy": "2023-01-23T03:44:31.936524Z",
     "iopub.status.idle": "2023-01-23T03:44:32.082905Z",
     "shell.execute_reply": "2023-01-23T03:44:32.081779Z"
    },
    "papermill": {
     "duration": 0.158901,
     "end_time": "2023-01-23T03:44:32.085460",
     "exception": false,
     "start_time": "2023-01-23T03:44:31.926559",
     "status": "completed"
    },
    "tags": []
   },
   "outputs": [
    {
     "data": {
      "image/png": "[encoded data removed]",
      "text/plain": [
       "<Figure size 432x288 with 1 Axes>"
      ]
     },
     "metadata": {
      "needs_background": "light"
     },
     "output_type": "display_data"
    }
   ],
   "source": [
    "# Plot roc curve from sklearn metrics\n",
    "RocCurveDisplay.from_predictions(y_test, preds)\n",
    "plt.show()"
   ]
  },
  {
   "cell_type": "code",
   "execution_count": 25,
   "id": "91a462a9",
   "metadata": {
    "execution": {
     "iopub.execute_input": "2023-01-23T03:44:32.105978Z",
     "iopub.status.busy": "2023-01-23T03:44:32.105284Z",
     "iopub.status.idle": "2023-01-23T03:44:32.115511Z",
     "shell.execute_reply": "2023-01-23T03:44:32.114259Z"
    },
    "papermill": {
     "duration": 0.023191,
     "end_time": "2023-01-23T03:44:32.117817",
     "exception": false,
     "start_time": "2023-01-23T03:44:32.094626",
     "status": "completed"
    },
    "tags": []
   },
   "outputs": [
    {
     "data": {
      "text/plain": [
       "'roc auc score = 0.915178900473085'"
      ]
     },
     "execution_count": 25,
     "metadata": {},
     "output_type": "execute_result"
    }
   ],
   "source": [
    "# Find 'roc auc score' from sklearn metrics\n",
    "roc_auc_score = roc_auc_score(y_test, preds)\n",
    "f'roc auc score = {roc_auc_score}'"
   ]
  },
  {
   "cell_type": "markdown",
   "id": "a01ab97a-881a-4a05-af47-8e0a1452684f",
   "metadata": {},
   "source": [
    "In summary, the scores using the different metrics are as below:\n",
    "|**Metrics**|**CountVectorizer with MultinomialNB() (Baseline)**|**TfidfVectorizer with LinearSVC (with default parameters)**|**TfidfVectorizer with LinearSVC (with GridSearch)**|\n",
    "|:---|:---|:---|:---|\n",
    "|cross_val_score|0.840|0.916|0.906|\n",
    "|train_score|0.858|0.981|0.943|\n",
    "|test_score|0.844|0.923|0.916|\n",
    "|sensitivity|0.986|0.926|0.917|\n",
    "|precision|0.801|0.946|0.942|\n",
    "|f1 score|0.884|0.936|0.929|\n",
    "|specificity|0.626|0.918|0.913|\n",
    "|roc auc|0.806|0.922|0.915|"
   ]
  },
  {
   "cell_type": "code",
   "execution_count": null,
   "id": "eb3867dc-986c-4699-9911-ff24f4f34de2",
   "metadata": {},
   "outputs": [],
   "source": []
  }
 ],
 "metadata": {
  "kernelspec": {
   "display_name": "Python 3 (ipykernel)",
   "language": "python",
   "name": "python3"
  },
  "language_info": {
   "codemirror_mode": {
    "name": "ipython",
    "version": 3
   },
   "file_extension": ".py",
   "mimetype": "text/x-python",
   "name": "python",
   "nbconvert_exporter": "python",
   "pygments_lexer": "ipython3",
   "version": "3.8.13"
  },
  "papermill": {
   "default_parameters": {},
   "duration": 2521.573409,
   "end_time": "2023-01-23T03:44:32.854144",
   "environment_variables": {},
   "exception": null,
   "input_path": "__notebook__.ipynb",
   "output_path": "__notebook__.ipynb",
   "parameters": {},
   "start_time": "2023-01-23T03:02:31.280735",
   "version": "2.3.4"
  }
 },
 "nbformat": 4,
 "nbformat_minor": 5
}

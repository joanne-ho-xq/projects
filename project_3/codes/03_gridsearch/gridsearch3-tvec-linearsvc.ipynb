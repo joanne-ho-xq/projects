{
 "cells": [
  {
   "cell_type": "markdown",
   "id": "d8458770-c6f9-4602-9b40-5e46998dde1c",
   "metadata": {},
   "source": [
    "The following codes were ran on Kaggle in an attempt to find the best hyperparameters for the model with TfidfVectorizer and LinearSVC classifier based after the notebook on [model tuning](../02_model_tuning.ipynb)."
   ]
  },
  {
   "cell_type": "code",
   "execution_count": 1,
   "id": "d40f348b",
   "metadata": {
    "_cell_guid": "b1076dfc-b9ad-4769-8c92-a6c4dae69d19",
    "_uuid": "8f2839f25d086af736a60e9eeb907d3b93b6e0e5",
    "execution": {
     "iopub.execute_input": "2023-01-24T03:07:04.875148Z",
     "iopub.status.busy": "2023-01-24T03:07:04.874489Z",
     "iopub.status.idle": "2023-01-24T03:07:06.158352Z",
     "shell.execute_reply": "2023-01-24T03:07:06.156349Z"
    },
    "papermill": {
     "duration": 1.294346,
     "end_time": "2023-01-24T03:07:06.161454",
     "exception": false,
     "start_time": "2023-01-24T03:07:04.867108",
     "status": "completed"
    },
    "tags": []
   },
   "outputs": [],
   "source": [
    "# Import libraries\n",
    "import pandas as pd \n",
    "import numpy as np\n",
    "import matplotlib.pyplot as plt\n",
    "import seaborn as sns\n",
    "from sklearn.model_selection import train_test_split, cross_val_score, GridSearchCV, StratifiedKFold\n",
    "from sklearn.pipeline import Pipeline # to compactly pack multiple modeling operations\n",
    "from sklearn.svm import LinearSVC # to build our classification model\n",
    "from sklearn.metrics import confusion_matrix, ConfusionMatrixDisplay, accuracy_score, RocCurveDisplay, roc_auc_score, recall_score, precision_score, f1_score, classification_report # to access results from binary classification task\n",
    " \n",
    "# Import CountVectorizer and TFIDFVectorizer from feature_extraction.text module in sklearn.\n",
    "from sklearn.feature_extraction.text import TfidfVectorizer "
   ]
  },
  {
   "cell_type": "code",
   "execution_count": 2,
   "id": "b0bf6411",
   "metadata": {
    "execution": {
     "iopub.execute_input": "2023-01-24T03:07:06.173614Z",
     "iopub.status.busy": "2023-01-24T03:07:06.173226Z",
     "iopub.status.idle": "2023-01-24T03:07:06.592983Z",
     "shell.execute_reply": "2023-01-24T03:07:06.591742Z"
    },
    "papermill": {
     "duration": 0.428147,
     "end_time": "2023-01-24T03:07:06.594931",
     "exception": false,
     "start_time": "2023-01-24T03:07:06.166784",
     "status": "completed"
    },
    "tags": []
   },
   "outputs": [
    {
     "name": "stdout",
     "output_type": "stream",
     "text": [
      "(27375, 4)\n"
     ]
    },
    {
     "data": {
      "text/html": [
       "<div>\n",
       "<style scoped>\n",
       "    .dataframe tbody tr th:only-of-type {\n",
       "        vertical-align: middle;\n",
       "    }\n",
       "\n",
       "    .dataframe tbody tr th {\n",
       "        vertical-align: top;\n",
       "    }\n",
       "\n",
       "    .dataframe thead th {\n",
       "        text-align: right;\n",
       "    }\n",
       "</style>\n",
       "<table border=\"1\" class=\"dataframe\">\n",
       "  <thead>\n",
       "    <tr style=\"text-align: right;\">\n",
       "      <th></th>\n",
       "      <th>title</th>\n",
       "      <th>link</th>\n",
       "      <th>reply</th>\n",
       "      <th>forum</th>\n",
       "    </tr>\n",
       "  </thead>\n",
       "  <tbody>\n",
       "    <tr>\n",
       "      <th>0</th>\n",
       "      <td>2020 Biz Class Amenity Kit</td>\n",
       "      <td>http://www.sqtalk.com/forum/forum/singapore-ai...</td>\n",
       "      <td>https://milelion.com/2020/09/30/conf...amenit...</td>\n",
       "      <td>amenity_catering_lounges</td>\n",
       "    </tr>\n",
       "    <tr>\n",
       "      <th>1</th>\n",
       "      <td>2020 Biz Class Amenity Kit</td>\n",
       "      <td>http://www.sqtalk.com/forum/forum/singapore-ai...</td>\n",
       "      <td>Originally posted by jammed View Post https:/...</td>\n",
       "      <td>amenity_catering_lounges</td>\n",
       "    </tr>\n",
       "    <tr>\n",
       "      <th>2</th>\n",
       "      <td>2020 Biz Class Amenity Kit</td>\n",
       "      <td>http://www.sqtalk.com/forum/forum/singapore-ai...</td>\n",
       "      <td>I’ll report back in 3 week’s time if they are...</td>\n",
       "      <td>amenity_catering_lounges</td>\n",
       "    </tr>\n",
       "  </tbody>\n",
       "</table>\n",
       "</div>"
      ],
      "text/plain": [
       "                        title  \\\n",
       "0  2020 Biz Class Amenity Kit   \n",
       "1  2020 Biz Class Amenity Kit   \n",
       "2  2020 Biz Class Amenity Kit   \n",
       "\n",
       "                                                link  \\\n",
       "0  http://www.sqtalk.com/forum/forum/singapore-ai...   \n",
       "1  http://www.sqtalk.com/forum/forum/singapore-ai...   \n",
       "2  http://www.sqtalk.com/forum/forum/singapore-ai...   \n",
       "\n",
       "                                               reply                     forum  \n",
       "0   https://milelion.com/2020/09/30/conf...amenit...  amenity_catering_lounges  \n",
       "1   Originally posted by jammed View Post https:/...  amenity_catering_lounges  \n",
       "2   I’ll report back in 3 week’s time if they are...  amenity_catering_lounges  "
      ]
     },
     "execution_count": 2,
     "metadata": {},
     "output_type": "execute_result"
    }
   ],
   "source": [
    "# Load dataset\n",
    "sq_forums = pd.read_csv('/kaggle/input/sq-forums/sq_forums.csv')\n",
    "print(sq_forums.shape)\n",
    "sq_forums.head(3)"
   ]
  },
  {
   "cell_type": "code",
   "execution_count": 3,
   "id": "b8f91514",
   "metadata": {
    "execution": {
     "iopub.execute_input": "2023-01-24T03:07:06.611490Z",
     "iopub.status.busy": "2023-01-24T03:07:06.611036Z",
     "iopub.status.idle": "2023-01-24T03:07:06.634009Z",
     "shell.execute_reply": "2023-01-24T03:07:06.633067Z"
    },
    "papermill": {
     "duration": 0.035341,
     "end_time": "2023-01-24T03:07:06.636062",
     "exception": false,
     "start_time": "2023-01-24T03:07:06.600721",
     "status": "completed"
    },
    "tags": []
   },
   "outputs": [
    {
     "data": {
      "text/html": [
       "<div>\n",
       "<style scoped>\n",
       "    .dataframe tbody tr th:only-of-type {\n",
       "        vertical-align: middle;\n",
       "    }\n",
       "\n",
       "    .dataframe tbody tr th {\n",
       "        vertical-align: top;\n",
       "    }\n",
       "\n",
       "    .dataframe thead th {\n",
       "        text-align: right;\n",
       "    }\n",
       "</style>\n",
       "<table border=\"1\" class=\"dataframe\">\n",
       "  <thead>\n",
       "    <tr style=\"text-align: right;\">\n",
       "      <th></th>\n",
       "      <th>title</th>\n",
       "      <th>link</th>\n",
       "      <th>reply</th>\n",
       "      <th>forum</th>\n",
       "    </tr>\n",
       "  </thead>\n",
       "  <tbody>\n",
       "    <tr>\n",
       "      <th>0</th>\n",
       "      <td>2020 Biz Class Amenity Kit</td>\n",
       "      <td>http://www.sqtalk.com/forum/forum/singapore-ai...</td>\n",
       "      <td>https://milelion.com/2020/09/30/conf...amenit...</td>\n",
       "      <td>0</td>\n",
       "    </tr>\n",
       "    <tr>\n",
       "      <th>1</th>\n",
       "      <td>2020 Biz Class Amenity Kit</td>\n",
       "      <td>http://www.sqtalk.com/forum/forum/singapore-ai...</td>\n",
       "      <td>Originally posted by jammed View Post https:/...</td>\n",
       "      <td>0</td>\n",
       "    </tr>\n",
       "    <tr>\n",
       "      <th>2</th>\n",
       "      <td>2020 Biz Class Amenity Kit</td>\n",
       "      <td>http://www.sqtalk.com/forum/forum/singapore-ai...</td>\n",
       "      <td>I’ll report back in 3 week’s time if they are...</td>\n",
       "      <td>0</td>\n",
       "    </tr>\n",
       "  </tbody>\n",
       "</table>\n",
       "</div>"
      ],
      "text/plain": [
       "                        title  \\\n",
       "0  2020 Biz Class Amenity Kit   \n",
       "1  2020 Biz Class Amenity Kit   \n",
       "2  2020 Biz Class Amenity Kit   \n",
       "\n",
       "                                                link  \\\n",
       "0  http://www.sqtalk.com/forum/forum/singapore-ai...   \n",
       "1  http://www.sqtalk.com/forum/forum/singapore-ai...   \n",
       "2  http://www.sqtalk.com/forum/forum/singapore-ai...   \n",
       "\n",
       "                                               reply  forum  \n",
       "0   https://milelion.com/2020/09/30/conf...amenit...      0  \n",
       "1   Originally posted by jammed View Post https:/...      0  \n",
       "2   I’ll report back in 3 week’s time if they are...      0  "
      ]
     },
     "execution_count": 3,
     "metadata": {},
     "output_type": "execute_result"
    }
   ],
   "source": [
    "# Convert y response variable in 'forum' column to 0 for amenity_catering_lounges and 1 for krisflyer\n",
    "sq_forums['forum'] = sq_forums['forum'].map({'amenity_catering_lounges': 0, 'krisflyer': 1})\n",
    "sq_forums.head(3)"
   ]
  },
  {
   "cell_type": "code",
   "execution_count": 4,
   "id": "f2630147",
   "metadata": {
    "execution": {
     "iopub.execute_input": "2023-01-24T03:07:06.649083Z",
     "iopub.status.busy": "2023-01-24T03:07:06.648387Z",
     "iopub.status.idle": "2023-01-24T03:07:06.653845Z",
     "shell.execute_reply": "2023-01-24T03:07:06.652449Z"
    },
    "papermill": {
     "duration": 0.014847,
     "end_time": "2023-01-24T03:07:06.656467",
     "exception": false,
     "start_time": "2023-01-24T03:07:06.641620",
     "status": "completed"
    },
    "tags": []
   },
   "outputs": [],
   "source": [
    "# Set data up for modelling\n",
    "X = sq_forums['reply']\n",
    "y = sq_forums['forum']"
   ]
  },
  {
   "cell_type": "code",
   "execution_count": 5,
   "id": "54bdf1dd",
   "metadata": {
    "execution": {
     "iopub.execute_input": "2023-01-24T03:07:06.670004Z",
     "iopub.status.busy": "2023-01-24T03:07:06.668377Z",
     "iopub.status.idle": "2023-01-24T03:07:06.690485Z",
     "shell.execute_reply": "2023-01-24T03:07:06.689691Z"
    },
    "papermill": {
     "duration": 0.031493,
     "end_time": "2023-01-24T03:07:06.693466",
     "exception": false,
     "start_time": "2023-01-24T03:07:06.661973",
     "status": "completed"
    },
    "tags": []
   },
   "outputs": [],
   "source": [
    "# Split the data into the training and testing sets\n",
    "X_train, X_test, y_train, y_test = train_test_split(X,\n",
    "                                                    y,\n",
    "                                                    stratify=y,\n",
    "                                                    random_state=42)"
   ]
  },
  {
   "cell_type": "code",
   "execution_count": 6,
   "id": "901c1725",
   "metadata": {
    "execution": {
     "iopub.execute_input": "2023-01-24T03:07:06.709793Z",
     "iopub.status.busy": "2023-01-24T03:07:06.708701Z",
     "iopub.status.idle": "2023-01-24T03:07:06.714508Z",
     "shell.execute_reply": "2023-01-24T03:07:06.713036Z"
    },
    "papermill": {
     "duration": 0.015986,
     "end_time": "2023-01-24T03:07:06.716719",
     "exception": false,
     "start_time": "2023-01-24T03:07:06.700733",
     "status": "completed"
    },
    "tags": []
   },
   "outputs": [],
   "source": [
    "# Set up a pipeline with tf-idf vectorizer with default parameters and LinearSVC classifier\n",
    "# class_weight = 'balanced' to handle our data imbalance\n",
    "\n",
    "pipe_linearsvc = Pipeline([\n",
    "    ('tvec', TfidfVectorizer(stop_words='english')), \n",
    "    ('lsvc', LinearSVC(class_weight='balanced')) \n",
    "])"
   ]
  },
  {
   "cell_type": "code",
   "execution_count": 7,
   "id": "42e88e01",
   "metadata": {
    "execution": {
     "iopub.execute_input": "2023-01-24T03:07:06.733828Z",
     "iopub.status.busy": "2023-01-24T03:07:06.732070Z",
     "iopub.status.idle": "2023-01-24T03:07:06.739527Z",
     "shell.execute_reply": "2023-01-24T03:07:06.738437Z"
    },
    "papermill": {
     "duration": 0.017606,
     "end_time": "2023-01-24T03:07:06.741455",
     "exception": false,
     "start_time": "2023-01-24T03:07:06.723849",
     "status": "completed"
    },
    "tags": []
   },
   "outputs": [],
   "source": [
    "# Search over the following values of hyperparameters:\n",
    "# Maximum number of features fit: 2000, 3000, 4000, 5000\n",
    "# Minimum number of documents needed to include token: 1, 2, 3\n",
    "# Maximum number of documents needed to include token: 70%, 80%, 90%\n",
    "# Generate 10 random C values\n",
    "\n",
    "pipe_tvec_lsvc_params = {\n",
    "    'tvec__max_features': [7_000, 8_000, 9_000, 10_000],\n",
    "    'tvec__min_df': [2, 3, 4, 5], # min 1, 2 or 3 documents needed to include token\n",
    "    'tvec__max_df': [.3, .4, .5, .6, .7], # max number of documents needed to include token\n",
    "    'lsvc__C': np.linspace(0.0001, 2, 10), # generate 10 random C values to GridSearch over\n",
    "}"
   ]
  },
  {
   "cell_type": "code",
   "execution_count": 8,
   "id": "872e5347",
   "metadata": {
    "execution": {
     "iopub.execute_input": "2023-01-24T03:07:06.755688Z",
     "iopub.status.busy": "2023-01-24T03:07:06.754410Z",
     "iopub.status.idle": "2023-01-24T03:07:06.761130Z",
     "shell.execute_reply": "2023-01-24T03:07:06.759682Z"
    },
    "papermill": {
     "duration": 0.017053,
     "end_time": "2023-01-24T03:07:06.763879",
     "exception": false,
     "start_time": "2023-01-24T03:07:06.746826",
     "status": "completed"
    },
    "tags": []
   },
   "outputs": [],
   "source": [
    "# Instantiate GridSearchCV using stratified kfold cv\n",
    "cv = StratifiedKFold(n_splits=5, shuffle=True, random_state=42)\n",
    "\n",
    "gs3_tvec_lsvc = GridSearchCV(pipe_linearsvc, # the object that we are optimizing\n",
    "                  param_grid=pipe_tvec_lsvc_params, # parameters values to be searched\n",
    "                  cv=cv) # using stratified kfold cv"
   ]
  },
  {
   "cell_type": "code",
   "execution_count": 9,
   "id": "2be4333e",
   "metadata": {
    "execution": {
     "iopub.execute_input": "2023-01-24T03:07:06.776880Z",
     "iopub.status.busy": "2023-01-24T03:07:06.776422Z",
     "iopub.status.idle": "2023-01-24T04:22:32.617861Z",
     "shell.execute_reply": "2023-01-24T04:22:32.616563Z"
    },
    "papermill": {
     "duration": 4525.852554,
     "end_time": "2023-01-24T04:22:32.622180",
     "exception": false,
     "start_time": "2023-01-24T03:07:06.769626",
     "status": "completed"
    },
    "tags": []
   },
   "outputs": [
    {
     "name": "stdout",
     "output_type": "stream",
     "text": [
      "CPU times: user 1h 15min 14s, sys: 8.83 s, total: 1h 15min 23s\n",
      "Wall time: 1h 15min 25s\n"
     ]
    },
    {
     "data": {
      "text/plain": [
       "GridSearchCV(cv=StratifiedKFold(n_splits=5, random_state=42, shuffle=True),\n",
       "             estimator=Pipeline(steps=[('tvec',\n",
       "                                        TfidfVectorizer(stop_words='english')),\n",
       "                                       ('lsvc',\n",
       "                                        LinearSVC(class_weight='balanced'))]),\n",
       "             param_grid={'lsvc__C': array([1.00000000e-04, 2.22311111e-01, 4.44522222e-01, 6.66733333e-01,\n",
       "       8.88944444e-01, 1.11115556e+00, 1.33336667e+00, 1.55557778e+00,\n",
       "       1.77778889e+00, 2.00000000e+00]),\n",
       "                         'tvec__max_df': [0.3, 0.4, 0.5, 0.6, 0.7],\n",
       "                         'tvec__max_features': [7000, 8000, 9000, 10000],\n",
       "                         'tvec__min_df': [2, 3, 4, 5]})"
      ]
     },
     "execution_count": 9,
     "metadata": {},
     "output_type": "execute_result"
    }
   ],
   "source": [
    "%%time\n",
    "# Fit GridSearch to training data\n",
    "gs3_tvec_lsvc.fit(X_train, y_train)"
   ]
  },
  {
   "cell_type": "code",
   "execution_count": 10,
   "id": "3a508d75",
   "metadata": {
    "execution": {
     "iopub.execute_input": "2023-01-24T04:22:32.635642Z",
     "iopub.status.busy": "2023-01-24T04:22:32.635281Z",
     "iopub.status.idle": "2023-01-24T04:22:32.642888Z",
     "shell.execute_reply": "2023-01-24T04:22:32.641340Z"
    },
    "papermill": {
     "duration": 0.017274,
     "end_time": "2023-01-24T04:22:32.645495",
     "exception": false,
     "start_time": "2023-01-24T04:22:32.628221",
     "status": "completed"
    },
    "tags": []
   },
   "outputs": [
    {
     "data": {
      "text/plain": [
       "{'lsvc__C': 0.2223111111111111,\n",
       " 'tvec__max_df': 0.4,\n",
       " 'tvec__max_features': 10000,\n",
       " 'tvec__min_df': 2}"
      ]
     },
     "execution_count": 10,
     "metadata": {},
     "output_type": "execute_result"
    }
   ],
   "source": [
    "# See what hyperparameter combination yielded the best result\n",
    "gs3_tvec_lsvc.best_params_ "
   ]
  },
  {
   "cell_type": "code",
   "execution_count": 11,
   "id": "3d15ced1",
   "metadata": {
    "execution": {
     "iopub.execute_input": "2023-01-24T04:22:32.658874Z",
     "iopub.status.busy": "2023-01-24T04:22:32.658500Z",
     "iopub.status.idle": "2023-01-24T04:22:32.664966Z",
     "shell.execute_reply": "2023-01-24T04:22:32.663474Z"
    },
    "papermill": {
     "duration": 0.016969,
     "end_time": "2023-01-24T04:22:32.668447",
     "exception": false,
     "start_time": "2023-01-24T04:22:32.651478",
     "status": "completed"
    },
    "tags": []
   },
   "outputs": [
    {
     "name": "stdout",
     "output_type": "stream",
     "text": [
      "0.9130095208885642\n"
     ]
    }
   ],
   "source": [
    "# Find the mean cross-validated score of the best_estimator\n",
    "print(gs3_tvec_lsvc.best_score_)"
   ]
  },
  {
   "cell_type": "code",
   "execution_count": 12,
   "id": "4fa0f20b",
   "metadata": {
    "execution": {
     "iopub.execute_input": "2023-01-24T04:22:32.682904Z",
     "iopub.status.busy": "2023-01-24T04:22:32.682540Z",
     "iopub.status.idle": "2023-01-24T04:22:33.720704Z",
     "shell.execute_reply": "2023-01-24T04:22:33.719474Z"
    },
    "papermill": {
     "duration": 1.048666,
     "end_time": "2023-01-24T04:22:33.723492",
     "exception": false,
     "start_time": "2023-01-24T04:22:32.674826",
     "status": "completed"
    },
    "tags": []
   },
   "outputs": [
    {
     "data": {
      "text/plain": [
       "0.9559203156202816"
      ]
     },
     "execution_count": 12,
     "metadata": {},
     "output_type": "execute_result"
    }
   ],
   "source": [
    "# Score model on training set.\n",
    "gs3_tvec_lsvc.score(X_train, y_train)"
   ]
  },
  {
   "cell_type": "code",
   "execution_count": 13,
   "id": "d99bb854",
   "metadata": {
    "execution": {
     "iopub.execute_input": "2023-01-24T04:22:33.737138Z",
     "iopub.status.busy": "2023-01-24T04:22:33.736771Z",
     "iopub.status.idle": "2023-01-24T04:22:34.087938Z",
     "shell.execute_reply": "2023-01-24T04:22:34.087095Z"
    },
    "papermill": {
     "duration": 0.360146,
     "end_time": "2023-01-24T04:22:34.089727",
     "exception": false,
     "start_time": "2023-01-24T04:22:33.729581",
     "status": "completed"
    },
    "tags": []
   },
   "outputs": [
    {
     "data": {
      "text/plain": [
       "0.9205143191116306"
      ]
     },
     "execution_count": 13,
     "metadata": {},
     "output_type": "execute_result"
    }
   ],
   "source": [
    "# Score model on testing set.\n",
    "gs3_tvec_lsvc.score(X_test, y_test)"
   ]
  },
  {
   "cell_type": "code",
   "execution_count": 14,
   "id": "423204c1",
   "metadata": {
    "execution": {
     "iopub.execute_input": "2023-01-24T04:22:34.103561Z",
     "iopub.status.busy": "2023-01-24T04:22:34.103197Z",
     "iopub.status.idle": "2023-01-24T04:22:34.457621Z",
     "shell.execute_reply": "2023-01-24T04:22:34.456745Z"
    },
    "papermill": {
     "duration": 0.364437,
     "end_time": "2023-01-24T04:22:34.460117",
     "exception": false,
     "start_time": "2023-01-24T04:22:34.095680",
     "status": "completed"
    },
    "tags": []
   },
   "outputs": [
    {
     "name": "stdout",
     "output_type": "stream",
     "text": [
      "[0 1 1 ... 1 1 0]\n"
     ]
    }
   ],
   "source": [
    "# Get predictions\n",
    "preds = gs3_tvec_lsvc.predict(X_test)\n",
    "print(preds)"
   ]
  },
  {
   "cell_type": "code",
   "execution_count": 15,
   "id": "d9a427a3",
   "metadata": {
    "execution": {
     "iopub.execute_input": "2023-01-24T04:22:34.475330Z",
     "iopub.status.busy": "2023-01-24T04:22:34.474946Z",
     "iopub.status.idle": "2023-01-24T04:22:34.484951Z",
     "shell.execute_reply": "2023-01-24T04:22:34.483227Z"
    },
    "papermill": {
     "duration": 0.02118,
     "end_time": "2023-01-24T04:22:34.487644",
     "exception": false,
     "start_time": "2023-01-24T04:22:34.466464",
     "status": "completed"
    },
    "tags": []
   },
   "outputs": [
    {
     "data": {
      "text/plain": [
       "array([[2481,  222],\n",
       "       [ 322, 3819]])"
      ]
     },
     "execution_count": 15,
     "metadata": {},
     "output_type": "execute_result"
    }
   ],
   "source": [
    "# confusion matrix yields a 2-D array\n",
    "confusion_matrix(y_test, preds) "
   ]
  },
  {
   "cell_type": "code",
   "execution_count": 16,
   "id": "41df5615",
   "metadata": {
    "execution": {
     "iopub.execute_input": "2023-01-24T04:22:34.502886Z",
     "iopub.status.busy": "2023-01-24T04:22:34.502491Z",
     "iopub.status.idle": "2023-01-24T04:22:34.511900Z",
     "shell.execute_reply": "2023-01-24T04:22:34.510603Z"
    },
    "papermill": {
     "duration": 0.019789,
     "end_time": "2023-01-24T04:22:34.514085",
     "exception": false,
     "start_time": "2023-01-24T04:22:34.494296",
     "status": "completed"
    },
    "tags": []
   },
   "outputs": [
    {
     "name": "stdout",
     "output_type": "stream",
     "text": [
      "2481 222 322 3819\n"
     ]
    }
   ],
   "source": [
    "# ravel() to convert to 1-D and Save confusion matrix values\n",
    "tn, fp, fn, tp = confusion_matrix(y_test, preds).ravel()\n",
    "print(tn, fp, fn, tp)"
   ]
  },
  {
   "cell_type": "code",
   "execution_count": 17,
   "id": "36d8def1",
   "metadata": {
    "execution": {
     "iopub.execute_input": "2023-01-24T04:22:34.528793Z",
     "iopub.status.busy": "2023-01-24T04:22:34.528363Z",
     "iopub.status.idle": "2023-01-24T04:22:34.758543Z",
     "shell.execute_reply": "2023-01-24T04:22:34.757218Z"
    },
    "papermill": {
     "duration": 0.240703,
     "end_time": "2023-01-24T04:22:34.761305",
     "exception": false,
     "start_time": "2023-01-24T04:22:34.520602",
     "status": "completed"
    },
    "tags": []
   },
   "outputs": [
    {
     "data": {
      "image/png": "[encoded data removed]",
      "text/plain": [
       "<Figure size 432x288 with 2 Axes>"
      ]
     },
     "metadata": {
      "needs_background": "light"
     },
     "output_type": "display_data"
    }
   ],
   "source": [
    "# plot confusion matrix\n",
    "cm = confusion_matrix(y_test, preds)\n",
    "disp = ConfusionMatrixDisplay(confusion_matrix=cm, display_labels=['amenity_catering_lounges', 'krisflyer'])\n",
    "disp.plot();"
   ]
  },
  {
   "cell_type": "code",
   "execution_count": 18,
   "id": "3a54761f",
   "metadata": {
    "execution": {
     "iopub.execute_input": "2023-01-24T04:22:34.776878Z",
     "iopub.status.busy": "2023-01-24T04:22:34.776020Z",
     "iopub.status.idle": "2023-01-24T04:22:34.783403Z",
     "shell.execute_reply": "2023-01-24T04:22:34.782551Z"
    },
    "papermill": {
     "duration": 0.017054,
     "end_time": "2023-01-24T04:22:34.785154",
     "exception": false,
     "start_time": "2023-01-24T04:22:34.768100",
     "status": "completed"
    },
    "tags": []
   },
   "outputs": [
    {
     "data": {
      "text/plain": [
       "'accuracy score = 0.9205143191116306'"
      ]
     },
     "execution_count": 18,
     "metadata": {},
     "output_type": "execute_result"
    }
   ],
   "source": [
    "# Find 'accuracy' score from sklearn metrics (same as test_score above)\n",
    "accuracy = accuracy_score(y_test, preds)\n",
    "f'accuracy score = {accuracy}'"
   ]
  },
  {
   "cell_type": "code",
   "execution_count": 19,
   "id": "a45fdb17",
   "metadata": {
    "execution": {
     "iopub.execute_input": "2023-01-24T04:22:34.800558Z",
     "iopub.status.busy": "2023-01-24T04:22:34.799845Z",
     "iopub.status.idle": "2023-01-24T04:22:34.808722Z",
     "shell.execute_reply": "2023-01-24T04:22:34.808056Z"
    },
    "papermill": {
     "duration": 0.019184,
     "end_time": "2023-01-24T04:22:34.811158",
     "exception": false,
     "start_time": "2023-01-24T04:22:34.791974",
     "status": "completed"
    },
    "tags": []
   },
   "outputs": [
    {
     "data": {
      "text/plain": [
       "'sensitivity score = 0.9222410045882637'"
      ]
     },
     "execution_count": 19,
     "metadata": {},
     "output_type": "execute_result"
    }
   ],
   "source": [
    "# Find 'sensitivity' score from sklearn metrics\n",
    "sensitivity = recall_score(y_test, preds)\n",
    "f'sensitivity score = {sensitivity}'"
   ]
  },
  {
   "cell_type": "code",
   "execution_count": 20,
   "id": "981235b6",
   "metadata": {
    "execution": {
     "iopub.execute_input": "2023-01-24T04:22:34.827988Z",
     "iopub.status.busy": "2023-01-24T04:22:34.827324Z",
     "iopub.status.idle": "2023-01-24T04:22:34.836649Z",
     "shell.execute_reply": "2023-01-24T04:22:34.835148Z"
    },
    "papermill": {
     "duration": 0.020613,
     "end_time": "2023-01-24T04:22:34.839418",
     "exception": false,
     "start_time": "2023-01-24T04:22:34.818805",
     "status": "completed"
    },
    "tags": []
   },
   "outputs": [
    {
     "data": {
      "text/plain": [
       "'precision score = 0.9450631031922792'"
      ]
     },
     "execution_count": 20,
     "metadata": {},
     "output_type": "execute_result"
    }
   ],
   "source": [
    "# Find 'precision' score from sklearn metrics\n",
    "precision = precision_score(y_test, preds)\n",
    "f'precision score = {precision}'"
   ]
  },
  {
   "cell_type": "code",
   "execution_count": 21,
   "id": "75722fca",
   "metadata": {
    "execution": {
     "iopub.execute_input": "2023-01-24T04:22:34.856932Z",
     "iopub.status.busy": "2023-01-24T04:22:34.855975Z",
     "iopub.status.idle": "2023-01-24T04:22:34.865428Z",
     "shell.execute_reply": "2023-01-24T04:22:34.864267Z"
    },
    "papermill": {
     "duration": 0.020911,
     "end_time": "2023-01-24T04:22:34.867939",
     "exception": false,
     "start_time": "2023-01-24T04:22:34.847028",
     "status": "completed"
    },
    "tags": []
   },
   "outputs": [
    {
     "data": {
      "text/plain": [
       "'f1 score = 0.933512588609142'"
      ]
     },
     "execution_count": 21,
     "metadata": {},
     "output_type": "execute_result"
    }
   ],
   "source": [
    "# Find 'f1 score' from sklearn metrics\n",
    "f1_score = f1_score(y_test, preds)\n",
    "f'f1 score = {f1_score}'"
   ]
  },
  {
   "cell_type": "code",
   "execution_count": 22,
   "id": "b6958c5a",
   "metadata": {
    "execution": {
     "iopub.execute_input": "2023-01-24T04:22:34.885772Z",
     "iopub.status.busy": "2023-01-24T04:22:34.885172Z",
     "iopub.status.idle": "2023-01-24T04:22:34.900328Z",
     "shell.execute_reply": "2023-01-24T04:22:34.898535Z"
    },
    "papermill": {
     "duration": 0.02682,
     "end_time": "2023-01-24T04:22:34.902546",
     "exception": false,
     "start_time": "2023-01-24T04:22:34.875726",
     "status": "completed"
    },
    "tags": []
   },
   "outputs": [
    {
     "name": "stdout",
     "output_type": "stream",
     "text": [
      "              precision    recall  f1-score   support\n",
      "\n",
      "           0       0.89      0.92      0.90      2703\n",
      "           1       0.95      0.92      0.93      4141\n",
      "\n",
      "    accuracy                           0.92      6844\n",
      "   macro avg       0.92      0.92      0.92      6844\n",
      "weighted avg       0.92      0.92      0.92      6844\n",
      "\n"
     ]
    }
   ],
   "source": [
    "# Summarizing Precision, Sensitivity and F1-score\n",
    "print(classification_report(y_test, preds))"
   ]
  },
  {
   "cell_type": "code",
   "execution_count": 23,
   "id": "6f173d68",
   "metadata": {
    "execution": {
     "iopub.execute_input": "2023-01-24T04:22:34.920798Z",
     "iopub.status.busy": "2023-01-24T04:22:34.920203Z",
     "iopub.status.idle": "2023-01-24T04:22:34.926397Z",
     "shell.execute_reply": "2023-01-24T04:22:34.924960Z"
    },
    "papermill": {
     "duration": 0.017801,
     "end_time": "2023-01-24T04:22:34.928757",
     "exception": false,
     "start_time": "2023-01-24T04:22:34.910956",
     "status": "completed"
    },
    "tags": []
   },
   "outputs": [
    {
     "data": {
      "text/plain": [
       "'specificity score = 0.9178690344062154'"
      ]
     },
     "execution_count": 23,
     "metadata": {},
     "output_type": "execute_result"
    }
   ],
   "source": [
    "# Find 'specificity score' \n",
    "specificity = tn / (tn + fp)\n",
    "f'specificity score = {specificity}'"
   ]
  },
  {
   "cell_type": "code",
   "execution_count": 24,
   "id": "5083ae4c",
   "metadata": {
    "execution": {
     "iopub.execute_input": "2023-01-24T04:22:34.945650Z",
     "iopub.status.busy": "2023-01-24T04:22:34.945321Z",
     "iopub.status.idle": "2023-01-24T04:22:35.087068Z",
     "shell.execute_reply": "2023-01-24T04:22:35.086029Z"
    },
    "papermill": {
     "duration": 0.15323,
     "end_time": "2023-01-24T04:22:35.089613",
     "exception": false,
     "start_time": "2023-01-24T04:22:34.936383",
     "status": "completed"
    },
    "tags": []
   },
   "outputs": [
    {
     "data": {
      "image/png": "[encoded data removed]",
      "text/plain": [
       "<Figure size 432x288 with 1 Axes>"
      ]
     },
     "metadata": {
      "needs_background": "light"
     },
     "output_type": "display_data"
    }
   ],
   "source": [
    "# Plot roc curve from sklearn metrics\n",
    "RocCurveDisplay.from_predictions(y_test, preds)\n",
    "plt.show()"
   ]
  },
  {
   "cell_type": "code",
   "execution_count": 25,
   "id": "ce5aa3db",
   "metadata": {
    "execution": {
     "iopub.execute_input": "2023-01-24T04:22:35.108653Z",
     "iopub.status.busy": "2023-01-24T04:22:35.108237Z",
     "iopub.status.idle": "2023-01-24T04:22:35.118176Z",
     "shell.execute_reply": "2023-01-24T04:22:35.117157Z"
    },
    "papermill": {
     "duration": 0.022716,
     "end_time": "2023-01-24T04:22:35.120518",
     "exception": false,
     "start_time": "2023-01-24T04:22:35.097802",
     "status": "completed"
    },
    "tags": []
   },
   "outputs": [
    {
     "data": {
      "text/plain": [
       "'roc auc score = 0.9200550194972394'"
      ]
     },
     "execution_count": 25,
     "metadata": {},
     "output_type": "execute_result"
    }
   ],
   "source": [
    "# Find 'roc auc score' from sklearn metrics\n",
    "roc_auc_score = roc_auc_score(y_test, preds)\n",
    "f'roc auc score = {roc_auc_score}'"
   ]
  },
  {
   "cell_type": "markdown",
   "id": "19ae0fe6-8ad7-4314-ad19-dc028f0aac34",
   "metadata": {},
   "source": [
    "In summary, the scores using the different metrics are as below:\n",
    "|**Metrics**|**CountVectorizer with MultinomialNB() (Baseline)**|**TfidfVectorizer with LinearSVC (with default parameters)**|**TfidfVectorizer with LinearSVC (with GridSearch)**|**TfidfVectorizer with LinearSVC (with GridSearch2)**|**TfidfVectorizer with LinearSVC (with GridSearch3)**|\n",
    "|:---|:---|:---|:---|:---|:---|\n",
    "|cross_val_score|0.840|0.916|0.906|0.910|0.913|\n",
    "|train_score|0.858|0.981|0.943|0.949|0.956|\n",
    "|test_score|0.844|0.923|0.916|0.919|0.921|\n",
    "|sensitivity|0.986|0.926|0.917|0.919|0.922|\n",
    "|precision|0.801|0.946|0.942|0.945|0.945|\n",
    "|f1 score|0.884|0.936|0.929|0.932|0.934|\n",
    "|specificity|0.626|0.918|0.913|0.918|0.918|\n",
    "|roc auc|0.806|0.922|0.915|0.919|0.920|"
   ]
  },
  {
   "cell_type": "code",
   "execution_count": null,
   "id": "915ed5f0-79f2-43dc-bbb6-5b8f3f851a52",
   "metadata": {},
   "outputs": [],
   "source": []
  }
 ],
 "metadata": {
  "kernelspec": {
   "display_name": "Python 3 (ipykernel)",
   "language": "python",
   "name": "python3"
  },
  "language_info": {
   "codemirror_mode": {
    "name": "ipython",
    "version": 3
   },
   "file_extension": ".py",
   "mimetype": "text/x-python",
   "name": "python",
   "nbconvert_exporter": "python",
   "pygments_lexer": "ipython3",
   "version": "3.8.13"
  },
  "papermill": {
   "default_parameters": {},
   "duration": 4539.013972,
   "end_time": "2023-01-24T04:22:35.859587",
   "environment_variables": {},
   "exception": null,
   "input_path": "__notebook__.ipynb",
   "output_path": "__notebook__.ipynb",
   "parameters": {},
   "start_time": "2023-01-24T03:06:56.845615",
   "version": "2.3.4"
  }
 },
 "nbformat": 4,
 "nbformat_minor": 5
}
